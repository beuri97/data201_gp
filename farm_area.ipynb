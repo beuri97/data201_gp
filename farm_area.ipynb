{
 "cells": [
  {
   "cell_type": "code",
   "execution_count": 1,
   "id": "46d3e66b",
   "metadata": {},
   "outputs": [
    {
     "name": "stderr",
     "output_type": "stream",
     "text": [
      "── \u001b[1mAttaching packages\u001b[22m ─────────────────────────────────────────────────────────────────────────────── tidyverse 1.3.1 ──\n",
      "\n",
      "\u001b[32m✔\u001b[39m \u001b[34mggplot2\u001b[39m 3.3.6     \u001b[32m✔\u001b[39m \u001b[34mpurrr  \u001b[39m 0.3.4\n",
      "\u001b[32m✔\u001b[39m \u001b[34mtibble \u001b[39m 3.1.7     \u001b[32m✔\u001b[39m \u001b[34mdplyr  \u001b[39m 1.0.9\n",
      "\u001b[32m✔\u001b[39m \u001b[34mtidyr  \u001b[39m 1.2.0     \u001b[32m✔\u001b[39m \u001b[34mstringr\u001b[39m 1.4.0\n",
      "\u001b[32m✔\u001b[39m \u001b[34mreadr  \u001b[39m 2.1.2     \u001b[32m✔\u001b[39m \u001b[34mforcats\u001b[39m 0.5.1\n",
      "\n",
      "── \u001b[1mConflicts\u001b[22m ────────────────────────────────────────────────────────────────────────────────── tidyverse_conflicts() ──\n",
      "\u001b[31m✖\u001b[39m \u001b[34mdplyr\u001b[39m::\u001b[32mfilter()\u001b[39m masks \u001b[34mstats\u001b[39m::filter()\n",
      "\u001b[31m✖\u001b[39m \u001b[34mdplyr\u001b[39m::\u001b[32mlag()\u001b[39m    masks \u001b[34mstats\u001b[39m::lag()\n",
      "\n"
     ]
    }
   ],
   "source": [
    "library(tidyverse)\n",
    "library(visdat)\n",
    "library(readr)\n",
    "library(skimr)"
   ]
  },
  {
   "cell_type": "code",
   "execution_count": 2,
   "id": "d3e505a1",
   "metadata": {},
   "outputs": [
    {
     "name": "stderr",
     "output_type": "stream",
     "text": [
      "\u001b[1mRows: \u001b[22m\u001b[34m39859\u001b[39m \u001b[1mColumns: \u001b[22m\u001b[34m9\u001b[39m\n",
      "\u001b[36m──\u001b[39m \u001b[1mColumn specification\u001b[22m \u001b[36m────────────────────────────────────────────────────────────────────────────────────────────────\u001b[39m\n",
      "\u001b[1mDelimiter:\u001b[22m \",\"\n",
      "\u001b[31mchr\u001b[39m (6): WKT, type, notes, status, confidence, Region\n",
      "\u001b[32mdbl\u001b[39m (3): area_ha, year_irr, yearmapped\n",
      "\n",
      "\u001b[36mℹ\u001b[39m Use `spec()` to retrieve the full column specification for this data.\n",
      "\u001b[36mℹ\u001b[39m Specify the column types or set `show_col_types = FALSE` to quiet this message.\n"
     ]
    }
   ],
   "source": [
    "irrigation_df <- \"irrigated-land-area-raw-2020-update.csv\" %>% \n",
    "read_csv()"
   ]
  },
  {
   "cell_type": "code",
   "execution_count": 3,
   "id": "c094691d",
   "metadata": {},
   "outputs": [
    {
     "data": {
      "text/html": [
       "<table class=\"dataframe\">\n",
       "<caption>A tibble: 0 × 5</caption>\n",
       "<thead>\n",
       "\t<tr><th scope=col>row</th><th scope=col>col</th><th scope=col>expected</th><th scope=col>actual</th><th scope=col>file</th></tr>\n",
       "\t<tr><th scope=col>&lt;int&gt;</th><th scope=col>&lt;int&gt;</th><th scope=col>&lt;chr&gt;</th><th scope=col>&lt;chr&gt;</th><th scope=col>&lt;chr&gt;</th></tr>\n",
       "</thead>\n",
       "<tbody>\n",
       "</tbody>\n",
       "</table>\n"
      ],
      "text/latex": [
       "A tibble: 0 × 5\n",
       "\\begin{tabular}{lllll}\n",
       " row & col & expected & actual & file\\\\\n",
       " <int> & <int> & <chr> & <chr> & <chr>\\\\\n",
       "\\hline\n",
       "\\end{tabular}\n"
      ],
      "text/markdown": [
       "\n",
       "A tibble: 0 × 5\n",
       "\n",
       "| row &lt;int&gt; | col &lt;int&gt; | expected &lt;chr&gt; | actual &lt;chr&gt; | file &lt;chr&gt; |\n",
       "|---|---|---|---|---|\n",
       "\n"
      ],
      "text/plain": [
       "     row col expected actual file"
      ]
     },
     "metadata": {},
     "output_type": "display_data"
    }
   ],
   "source": [
    "irrigation_df  %>% \n",
    "    problems() %>% \n",
    "    head()"
   ]
  },
  {
   "cell_type": "code",
   "execution_count": 4,
   "id": "89953485",
   "metadata": {},
   "outputs": [
    {
     "name": "stderr",
     "output_type": "stream",
     "text": [
      "Warning message:\n",
      "\"`gather_()` was deprecated in tidyr 1.2.0.\n",
      "Please use `gather()` instead.\"\n"
     ]
    },
    {
     "data": {
      "image/png": "[encoded data removed]",
      "text/plain": [
       "plot without title"
      ]
     },
     "metadata": {
      "image/png": {
       "height": 420,
       "width": 420
      }
     },
     "output_type": "display_data"
    }
   ],
   "source": [
    "irrigation_df %>% \n",
    "vis_miss()"
   ]
  },
  {
   "cell_type": "code",
   "execution_count": 5,
   "id": "1f6aabdd",
   "metadata": {},
   "outputs": [],
   "source": [
    "irrigation_df <- irrigation_df %>%\n",
    "select(-notes) %>% \n",
    "select(-confidence)"
   ]
  },
  {
   "cell_type": "code",
   "execution_count": 6,
   "id": "baa48b37",
   "metadata": {},
   "outputs": [
    {
     "name": "stderr",
     "output_type": "stream",
     "text": [
      "\u001b[1mRows: \u001b[22m\u001b[34m4361\u001b[39m \u001b[1mColumns: \u001b[22m\u001b[34m10\u001b[39m\n",
      "\u001b[36m──\u001b[39m \u001b[1mColumn specification\u001b[22m \u001b[36m────────────────────────────────────────────────────────────────────────────────────────────────\u001b[39m\n",
      "\u001b[1mDelimiter:\u001b[22m \",\"\n",
      "\u001b[31mchr\u001b[39m (5): region, dominant_farm_type, line_code, name, unit\n",
      "\u001b[32mdbl\u001b[39m (4): year, fertiliser, nitrogen, phosphorus\n",
      "\u001b[33mlgl\u001b[39m (1): suppressed\n",
      "\n",
      "\u001b[36mℹ\u001b[39m Use `spec()` to retrieve the full column specification for this data.\n",
      "\u001b[36mℹ\u001b[39m Specify the column types or set `show_col_types = FALSE` to quiet this message.\n"
     ]
    }
   ],
   "source": [
    "fertiliser_application <- \"fertilisers-nitrogen-and-phosphorus-applied-2002-2019.csv\" %>% \n",
    "read_csv()"
   ]
  },
  {
   "cell_type": "code",
   "execution_count": 7,
   "id": "27ba960a",
   "metadata": {},
   "outputs": [
    {
     "data": {
      "image/png": "[encoded data removed]",
      "text/plain": [
       "plot without title"
      ]
     },
     "metadata": {
      "image/png": {
       "height": 420,
       "width": 420
      }
     },
     "output_type": "display_data"
    }
   ],
   "source": [
    "fertiliser_application %>% vis_miss()"
   ]
  },
  {
   "cell_type": "code",
   "execution_count": 8,
   "id": "a0dfb759",
   "metadata": {},
   "outputs": [
    {
     "data": {
      "text/html": [
       "<table class=\"dataframe\">\n",
       "<caption>A tibble: 23 × 8</caption>\n",
       "<thead>\n",
       "\t<tr><th scope=col>region</th><th scope=col>dominant_farm_type</th><th scope=col>year</th><th scope=col>fertiliser</th><th scope=col>name</th><th scope=col>nitrogen</th><th scope=col>phosphorus</th><th scope=col>unit</th></tr>\n",
       "\t<tr><th scope=col>&lt;chr&gt;</th><th scope=col>&lt;chr&gt;</th><th scope=col>&lt;dbl&gt;</th><th scope=col>&lt;dbl&gt;</th><th scope=col>&lt;chr&gt;</th><th scope=col>&lt;dbl&gt;</th><th scope=col>&lt;dbl&gt;</th><th scope=col>&lt;chr&gt;</th></tr>\n",
       "</thead>\n",
       "<tbody>\n",
       "\t<tr><td>Chatham Islands</td><td>Forestry      </td><td>2017</td><td>  0.0</td><td>Urea                </td><td>0.0000</td><td> 0.000</td><td>Tonnes</td></tr>\n",
       "\t<tr><td>Chatham Islands</td><td>Forestry      </td><td>2017</td><td>  0.0</td><td>Diammonium phosphate</td><td>0.0000</td><td> 0.000</td><td>Tonnes</td></tr>\n",
       "\t<tr><td>Chatham Islands</td><td>Forestry      </td><td>2017</td><td>  0.0</td><td>Urea coated         </td><td>0.0000</td><td> 0.000</td><td>Tonnes</td></tr>\n",
       "\t<tr><td>Chatham Islands</td><td>Forestry      </td><td>2017</td><td>  0.0</td><td>Urea non-coated     </td><td>0.0000</td><td> 0.000</td><td>Tonnes</td></tr>\n",
       "\t<tr><td>Chatham Islands</td><td>Forestry      </td><td>2017</td><td>  0.0</td><td>Ammonium sulphate   </td><td>0.0000</td><td> 0.000</td><td>Tonnes</td></tr>\n",
       "\t<tr><td>Chatham Islands</td><td>Forestry      </td><td>2017</td><td>  0.0</td><td>Superphosphate      </td><td>0.0000</td><td> 0.000</td><td>Tonnes</td></tr>\n",
       "\t<tr><td>Chatham Islands</td><td>Other         </td><td>2017</td><td>  0.0</td><td>Urea                </td><td>0.0000</td><td> 0.000</td><td>Tonnes</td></tr>\n",
       "\t<tr><td>Chatham Islands</td><td>Other         </td><td>2017</td><td>  0.0</td><td>Diammonium phosphate</td><td>0.0000</td><td> 0.000</td><td>Tonnes</td></tr>\n",
       "\t<tr><td>Chatham Islands</td><td>Other         </td><td>2017</td><td>  0.0</td><td>Urea coated         </td><td>0.0000</td><td> 0.000</td><td>Tonnes</td></tr>\n",
       "\t<tr><td>Chatham Islands</td><td>Other         </td><td>2017</td><td>  0.0</td><td>Urea non-coated     </td><td>0.0000</td><td> 0.000</td><td>Tonnes</td></tr>\n",
       "\t<tr><td>Chatham Islands</td><td>Other         </td><td>2017</td><td>  0.0</td><td>Ammonium sulphate   </td><td>0.0000</td><td> 0.000</td><td>Tonnes</td></tr>\n",
       "\t<tr><td>Chatham Islands</td><td>Other         </td><td>2017</td><td>  0.0</td><td>Superphosphate      </td><td>0.0000</td><td> 0.000</td><td>Tonnes</td></tr>\n",
       "\t<tr><td>Chatham Islands</td><td>Sheep and beef</td><td>2017</td><td> 11.4</td><td>Urea                </td><td>5.2440</td><td> 0.000</td><td>Tonnes</td></tr>\n",
       "\t<tr><td>Chatham Islands</td><td>Sheep and beef</td><td>2017</td><td> 22.7</td><td>Diammonium phosphate</td><td>3.9952</td><td> 4.540</td><td>Tonnes</td></tr>\n",
       "\t<tr><td>Chatham Islands</td><td>Sheep and beef</td><td>2017</td><td>  0.0</td><td>Urea coated         </td><td>0.0000</td><td> 0.000</td><td>Tonnes</td></tr>\n",
       "\t<tr><td>Chatham Islands</td><td>Sheep and beef</td><td>2017</td><td> 11.4</td><td>Urea non-coated     </td><td>5.2440</td><td> 0.000</td><td>Tonnes</td></tr>\n",
       "\t<tr><td>Chatham Islands</td><td>Sheep and beef</td><td>2017</td><td>  0.0</td><td>Ammonium sulphate   </td><td>0.0000</td><td> 0.000</td><td>Tonnes</td></tr>\n",
       "\t<tr><td>Chatham Islands</td><td>All farm types</td><td>2017</td><td> 11.4</td><td>Urea                </td><td>5.2440</td><td> 0.000</td><td>Tonnes</td></tr>\n",
       "\t<tr><td>Chatham Islands</td><td>All farm types</td><td>2017</td><td> 22.7</td><td>Diammonium phosphate</td><td>3.9952</td><td> 4.540</td><td>Tonnes</td></tr>\n",
       "\t<tr><td>Chatham Islands</td><td>All farm types</td><td>2017</td><td>  0.0</td><td>Urea coated         </td><td>0.0000</td><td> 0.000</td><td>Tonnes</td></tr>\n",
       "\t<tr><td>Chatham Islands</td><td>All farm types</td><td>2017</td><td> 11.4</td><td>Urea non-coated     </td><td>5.2440</td><td> 0.000</td><td>Tonnes</td></tr>\n",
       "\t<tr><td>Chatham Islands</td><td>All farm types</td><td>2017</td><td>  0.0</td><td>Ammonium sulphate   </td><td>0.0000</td><td> 0.000</td><td>Tonnes</td></tr>\n",
       "\t<tr><td>Chatham Islands</td><td>All farm types</td><td>2017</td><td>173.2</td><td>Superphosphate      </td><td>0.0000</td><td>15.588</td><td>Tonnes</td></tr>\n",
       "</tbody>\n",
       "</table>\n"
      ],
      "text/latex": [
       "A tibble: 23 × 8\n",
       "\\begin{tabular}{llllllll}\n",
       " region & dominant\\_farm\\_type & year & fertiliser & name & nitrogen & phosphorus & unit\\\\\n",
       " <chr> & <chr> & <dbl> & <dbl> & <chr> & <dbl> & <dbl> & <chr>\\\\\n",
       "\\hline\n",
       "\t Chatham Islands & Forestry       & 2017 &   0.0 & Urea                 & 0.0000 &  0.000 & Tonnes\\\\\n",
       "\t Chatham Islands & Forestry       & 2017 &   0.0 & Diammonium phosphate & 0.0000 &  0.000 & Tonnes\\\\\n",
       "\t Chatham Islands & Forestry       & 2017 &   0.0 & Urea coated          & 0.0000 &  0.000 & Tonnes\\\\\n",
       "\t Chatham Islands & Forestry       & 2017 &   0.0 & Urea non-coated      & 0.0000 &  0.000 & Tonnes\\\\\n",
       "\t Chatham Islands & Forestry       & 2017 &   0.0 & Ammonium sulphate    & 0.0000 &  0.000 & Tonnes\\\\\n",
       "\t Chatham Islands & Forestry       & 2017 &   0.0 & Superphosphate       & 0.0000 &  0.000 & Tonnes\\\\\n",
       "\t Chatham Islands & Other          & 2017 &   0.0 & Urea                 & 0.0000 &  0.000 & Tonnes\\\\\n",
       "\t Chatham Islands & Other          & 2017 &   0.0 & Diammonium phosphate & 0.0000 &  0.000 & Tonnes\\\\\n",
       "\t Chatham Islands & Other          & 2017 &   0.0 & Urea coated          & 0.0000 &  0.000 & Tonnes\\\\\n",
       "\t Chatham Islands & Other          & 2017 &   0.0 & Urea non-coated      & 0.0000 &  0.000 & Tonnes\\\\\n",
       "\t Chatham Islands & Other          & 2017 &   0.0 & Ammonium sulphate    & 0.0000 &  0.000 & Tonnes\\\\\n",
       "\t Chatham Islands & Other          & 2017 &   0.0 & Superphosphate       & 0.0000 &  0.000 & Tonnes\\\\\n",
       "\t Chatham Islands & Sheep and beef & 2017 &  11.4 & Urea                 & 5.2440 &  0.000 & Tonnes\\\\\n",
       "\t Chatham Islands & Sheep and beef & 2017 &  22.7 & Diammonium phosphate & 3.9952 &  4.540 & Tonnes\\\\\n",
       "\t Chatham Islands & Sheep and beef & 2017 &   0.0 & Urea coated          & 0.0000 &  0.000 & Tonnes\\\\\n",
       "\t Chatham Islands & Sheep and beef & 2017 &  11.4 & Urea non-coated      & 5.2440 &  0.000 & Tonnes\\\\\n",
       "\t Chatham Islands & Sheep and beef & 2017 &   0.0 & Ammonium sulphate    & 0.0000 &  0.000 & Tonnes\\\\\n",
       "\t Chatham Islands & All farm types & 2017 &  11.4 & Urea                 & 5.2440 &  0.000 & Tonnes\\\\\n",
       "\t Chatham Islands & All farm types & 2017 &  22.7 & Diammonium phosphate & 3.9952 &  4.540 & Tonnes\\\\\n",
       "\t Chatham Islands & All farm types & 2017 &   0.0 & Urea coated          & 0.0000 &  0.000 & Tonnes\\\\\n",
       "\t Chatham Islands & All farm types & 2017 &  11.4 & Urea non-coated      & 5.2440 &  0.000 & Tonnes\\\\\n",
       "\t Chatham Islands & All farm types & 2017 &   0.0 & Ammonium sulphate    & 0.0000 &  0.000 & Tonnes\\\\\n",
       "\t Chatham Islands & All farm types & 2017 & 173.2 & Superphosphate       & 0.0000 & 15.588 & Tonnes\\\\\n",
       "\\end{tabular}\n"
      ],
      "text/markdown": [
       "\n",
       "A tibble: 23 × 8\n",
       "\n",
       "| region &lt;chr&gt; | dominant_farm_type &lt;chr&gt; | year &lt;dbl&gt; | fertiliser &lt;dbl&gt; | name &lt;chr&gt; | nitrogen &lt;dbl&gt; | phosphorus &lt;dbl&gt; | unit &lt;chr&gt; |\n",
       "|---|---|---|---|---|---|---|---|\n",
       "| Chatham Islands | Forestry       | 2017 |   0.0 | Urea                 | 0.0000 |  0.000 | Tonnes |\n",
       "| Chatham Islands | Forestry       | 2017 |   0.0 | Diammonium phosphate | 0.0000 |  0.000 | Tonnes |\n",
       "| Chatham Islands | Forestry       | 2017 |   0.0 | Urea coated          | 0.0000 |  0.000 | Tonnes |\n",
       "| Chatham Islands | Forestry       | 2017 |   0.0 | Urea non-coated      | 0.0000 |  0.000 | Tonnes |\n",
       "| Chatham Islands | Forestry       | 2017 |   0.0 | Ammonium sulphate    | 0.0000 |  0.000 | Tonnes |\n",
       "| Chatham Islands | Forestry       | 2017 |   0.0 | Superphosphate       | 0.0000 |  0.000 | Tonnes |\n",
       "| Chatham Islands | Other          | 2017 |   0.0 | Urea                 | 0.0000 |  0.000 | Tonnes |\n",
       "| Chatham Islands | Other          | 2017 |   0.0 | Diammonium phosphate | 0.0000 |  0.000 | Tonnes |\n",
       "| Chatham Islands | Other          | 2017 |   0.0 | Urea coated          | 0.0000 |  0.000 | Tonnes |\n",
       "| Chatham Islands | Other          | 2017 |   0.0 | Urea non-coated      | 0.0000 |  0.000 | Tonnes |\n",
       "| Chatham Islands | Other          | 2017 |   0.0 | Ammonium sulphate    | 0.0000 |  0.000 | Tonnes |\n",
       "| Chatham Islands | Other          | 2017 |   0.0 | Superphosphate       | 0.0000 |  0.000 | Tonnes |\n",
       "| Chatham Islands | Sheep and beef | 2017 |  11.4 | Urea                 | 5.2440 |  0.000 | Tonnes |\n",
       "| Chatham Islands | Sheep and beef | 2017 |  22.7 | Diammonium phosphate | 3.9952 |  4.540 | Tonnes |\n",
       "| Chatham Islands | Sheep and beef | 2017 |   0.0 | Urea coated          | 0.0000 |  0.000 | Tonnes |\n",
       "| Chatham Islands | Sheep and beef | 2017 |  11.4 | Urea non-coated      | 5.2440 |  0.000 | Tonnes |\n",
       "| Chatham Islands | Sheep and beef | 2017 |   0.0 | Ammonium sulphate    | 0.0000 |  0.000 | Tonnes |\n",
       "| Chatham Islands | All farm types | 2017 |  11.4 | Urea                 | 5.2440 |  0.000 | Tonnes |\n",
       "| Chatham Islands | All farm types | 2017 |  22.7 | Diammonium phosphate | 3.9952 |  4.540 | Tonnes |\n",
       "| Chatham Islands | All farm types | 2017 |   0.0 | Urea coated          | 0.0000 |  0.000 | Tonnes |\n",
       "| Chatham Islands | All farm types | 2017 |  11.4 | Urea non-coated      | 5.2440 |  0.000 | Tonnes |\n",
       "| Chatham Islands | All farm types | 2017 |   0.0 | Ammonium sulphate    | 0.0000 |  0.000 | Tonnes |\n",
       "| Chatham Islands | All farm types | 2017 | 173.2 | Superphosphate       | 0.0000 | 15.588 | Tonnes |\n",
       "\n"
      ],
      "text/plain": [
       "   region          dominant_farm_type year fertiliser name                \n",
       "1  Chatham Islands Forestry           2017   0.0      Urea                \n",
       "2  Chatham Islands Forestry           2017   0.0      Diammonium phosphate\n",
       "3  Chatham Islands Forestry           2017   0.0      Urea coated         \n",
       "4  Chatham Islands Forestry           2017   0.0      Urea non-coated     \n",
       "5  Chatham Islands Forestry           2017   0.0      Ammonium sulphate   \n",
       "6  Chatham Islands Forestry           2017   0.0      Superphosphate      \n",
       "7  Chatham Islands Other              2017   0.0      Urea                \n",
       "8  Chatham Islands Other              2017   0.0      Diammonium phosphate\n",
       "9  Chatham Islands Other              2017   0.0      Urea coated         \n",
       "10 Chatham Islands Other              2017   0.0      Urea non-coated     \n",
       "11 Chatham Islands Other              2017   0.0      Ammonium sulphate   \n",
       "12 Chatham Islands Other              2017   0.0      Superphosphate      \n",
       "13 Chatham Islands Sheep and beef     2017  11.4      Urea                \n",
       "14 Chatham Islands Sheep and beef     2017  22.7      Diammonium phosphate\n",
       "15 Chatham Islands Sheep and beef     2017   0.0      Urea coated         \n",
       "16 Chatham Islands Sheep and beef     2017  11.4      Urea non-coated     \n",
       "17 Chatham Islands Sheep and beef     2017   0.0      Ammonium sulphate   \n",
       "18 Chatham Islands All farm types     2017  11.4      Urea                \n",
       "19 Chatham Islands All farm types     2017  22.7      Diammonium phosphate\n",
       "20 Chatham Islands All farm types     2017   0.0      Urea coated         \n",
       "21 Chatham Islands All farm types     2017  11.4      Urea non-coated     \n",
       "22 Chatham Islands All farm types     2017   0.0      Ammonium sulphate   \n",
       "23 Chatham Islands All farm types     2017 173.2      Superphosphate      \n",
       "   nitrogen phosphorus unit  \n",
       "1  0.0000    0.000     Tonnes\n",
       "2  0.0000    0.000     Tonnes\n",
       "3  0.0000    0.000     Tonnes\n",
       "4  0.0000    0.000     Tonnes\n",
       "5  0.0000    0.000     Tonnes\n",
       "6  0.0000    0.000     Tonnes\n",
       "7  0.0000    0.000     Tonnes\n",
       "8  0.0000    0.000     Tonnes\n",
       "9  0.0000    0.000     Tonnes\n",
       "10 0.0000    0.000     Tonnes\n",
       "11 0.0000    0.000     Tonnes\n",
       "12 0.0000    0.000     Tonnes\n",
       "13 5.2440    0.000     Tonnes\n",
       "14 3.9952    4.540     Tonnes\n",
       "15 0.0000    0.000     Tonnes\n",
       "16 5.2440    0.000     Tonnes\n",
       "17 0.0000    0.000     Tonnes\n",
       "18 5.2440    0.000     Tonnes\n",
       "19 3.9952    4.540     Tonnes\n",
       "20 0.0000    0.000     Tonnes\n",
       "21 5.2440    0.000     Tonnes\n",
       "22 0.0000    0.000     Tonnes\n",
       "23 0.0000   15.588     Tonnes"
      ]
     },
     "metadata": {},
     "output_type": "display_data"
    }
   ],
   "source": [
    "fertiliser_application %>%\n",
    "filter(suppressed == FALSE) %>% \n",
    "filter(year >= 2014) %>% \n",
    "filter(year <= 2018) %>% \n",
    "select(-suppressed, -line_code) %>% \n",
    "filter(region == \"Chatham Islands\")"
   ]
  },
  {
   "cell_type": "code",
   "execution_count": 9,
   "id": "7e28ba0d",
   "metadata": {},
   "outputs": [],
   "source": [
    "fertiliser_app_df <- fertiliser_application %>%\n",
    "filter(suppressed == FALSE) %>% \n",
    "select(-suppressed, -line_code)"
   ]
  },
  {
   "cell_type": "code",
   "execution_count": 10,
   "id": "8382c185",
   "metadata": {},
   "outputs": [
    {
     "name": "stderr",
     "output_type": "stream",
     "text": [
      "\u001b[1m\u001b[22m`summarise()` has grouped output by 'region'. You can override using the `.groups` argument.\n"
     ]
    }
   ],
   "source": [
    "fertiliser_app_df <- fertiliser_app_df %>% \n",
    "group_by(region, year) %>%\n",
    "summarise(sum_nitrogen = sum(nitrogen))"
   ]
  },
  {
   "cell_type": "code",
   "execution_count": 11,
   "id": "9e3066a0",
   "metadata": {},
   "outputs": [],
   "source": [
    "fertiliser_app_df <- fertiliser_app_df %>% \n",
    "group_by(region) %>% \n",
    "summarise(mean_nitrogen_per_year = mean(sum_nitrogen))"
   ]
  },
  {
   "cell_type": "code",
   "execution_count": 12,
   "id": "10a7c59f",
   "metadata": {},
   "outputs": [
    {
     "name": "stderr",
     "output_type": "stream",
     "text": [
      "\u001b[1mRows: \u001b[22m\u001b[34m211\u001b[39m \u001b[1mColumns: \u001b[22m\u001b[34m5\u001b[39m\n",
      "\u001b[36m──\u001b[39m \u001b[1mColumn specification\u001b[22m \u001b[36m────────────────────────────────────────────────────────────────────────────────────────────────\u001b[39m\n",
      "\u001b[1mDelimiter:\u001b[22m \",\"\n",
      "\u001b[31mchr\u001b[39m (3): region, variable, unit\n",
      "\u001b[32mdbl\u001b[39m (2): value, year\n",
      "\n",
      "\u001b[36mℹ\u001b[39m Use `spec()` to retrieve the full column specification for this data.\n",
      "\u001b[36mℹ\u001b[39m Specify the column types or set `show_col_types = FALSE` to quiet this message.\n"
     ]
    }
   ],
   "source": [
    "farm_size <- \"farm-numbers-and-size-2002-2019.csv\" %>% \n",
    "read_csv()"
   ]
  },
  {
   "cell_type": "code",
   "execution_count": 23,
   "id": "113f9c98",
   "metadata": {},
   "outputs": [],
   "source": [
    "farm_area <- farm_size %>%\n",
    "filter(unit == 'Hectares') %>% \n",
    "select(-variable) %>% \n",
    "select(-unit)"
   ]
  },
  {
   "cell_type": "code",
   "execution_count": 24,
   "id": "ee56ef08",
   "metadata": {},
   "outputs": [],
   "source": [
    "farm_area$region <- gsub(\" Region\", \"\", as.character(farm_area$region))"
   ]
  },
  {
   "cell_type": "code",
   "execution_count": 26,
   "id": "c97d9373",
   "metadata": {},
   "outputs": [
    {
     "data": {
      "text/html": [
       "<table class=\"dataframe\">\n",
       "<caption>A tibble: 105 × 3</caption>\n",
       "<thead>\n",
       "\t<tr><th scope=col>region</th><th scope=col>value</th><th scope=col>year</th></tr>\n",
       "\t<tr><th scope=col>&lt;chr&gt;</th><th scope=col>&lt;dbl&gt;</th><th scope=col>&lt;dbl&gt;</th></tr>\n",
       "</thead>\n",
       "<tbody>\n",
       "\t<tr><td>Northland         </td><td>  706668.4</td><td>2019</td></tr>\n",
       "\t<tr><td>Auckland          </td><td>  268632.0</td><td>2019</td></tr>\n",
       "\t<tr><td>Waikato           </td><td> 1528315.7</td><td>2019</td></tr>\n",
       "\t<tr><td>Bay of Plenty     </td><td>  581936.8</td><td>2019</td></tr>\n",
       "\t<tr><td>Gisborne          </td><td>  533264.6</td><td>2019</td></tr>\n",
       "\t<tr><td>Hawke's Bay       </td><td>  907310.9</td><td>2019</td></tr>\n",
       "\t<tr><td>Taranaki          </td><td>  452313.0</td><td>2019</td></tr>\n",
       "\t<tr><td>Manawatu-Whanganui</td><td> 1363691.6</td><td>2019</td></tr>\n",
       "\t<tr><td>Wellington        </td><td>  454627.8</td><td>2019</td></tr>\n",
       "\t<tr><td>West Coast        </td><td>  191725.0</td><td>2019</td></tr>\n",
       "\t<tr><td>Canterbury        </td><td> 2575683.8</td><td>2019</td></tr>\n",
       "\t<tr><td>Otago             </td><td> 2139291.0</td><td>2019</td></tr>\n",
       "\t<tr><td>Southland         </td><td> 1054669.9</td><td>2019</td></tr>\n",
       "\t<tr><td>Tasman            </td><td>  213822.0</td><td>2019</td></tr>\n",
       "\t<tr><td>Nelson            </td><td>   23418.4</td><td>2019</td></tr>\n",
       "\t<tr><td>Marlborough       </td><td>  511355.9</td><td>2019</td></tr>\n",
       "\t<tr><td>Chatham Islands   </td><td>   54448.5</td><td>2019</td></tr>\n",
       "\t<tr><td>New Zealand       </td><td>13561175.3</td><td>2019</td></tr>\n",
       "\t<tr><td>Northland         </td><td>  724564.3</td><td>2017</td></tr>\n",
       "\t<tr><td>Auckland          </td><td>  287639.4</td><td>2017</td></tr>\n",
       "\t<tr><td>Waikato           </td><td> 1552321.4</td><td>2017</td></tr>\n",
       "\t<tr><td>Bay of Plenty     </td><td>  610282.0</td><td>2017</td></tr>\n",
       "\t<tr><td>Gisborne          </td><td>  561325.7</td><td>2017</td></tr>\n",
       "\t<tr><td>Hawke's Bay       </td><td>  872612.2</td><td>2017</td></tr>\n",
       "\t<tr><td>Taranaki          </td><td>  451999.7</td><td>2017</td></tr>\n",
       "\t<tr><td>Manawatu-Whanganui</td><td> 1423619.4</td><td>2017</td></tr>\n",
       "\t<tr><td>Wellington        </td><td>  455764.0</td><td>2017</td></tr>\n",
       "\t<tr><td>West Coast        </td><td>  187246.8</td><td>2017</td></tr>\n",
       "\t<tr><td>Canterbury        </td><td> 2740335.7</td><td>2017</td></tr>\n",
       "\t<tr><td>Otago             </td><td> 2075906.4</td><td>2017</td></tr>\n",
       "\t<tr><td>⋮</td><td>⋮</td><td>⋮</td></tr>\n",
       "\t<tr><td>Gisborne          </td><td>  614524</td><td>2007</td></tr>\n",
       "\t<tr><td>Hawke's Bay       </td><td>  951986</td><td>2007</td></tr>\n",
       "\t<tr><td>Taranaki          </td><td>  470218</td><td>2007</td></tr>\n",
       "\t<tr><td>Manawatu-Whanganui</td><td> 1417246</td><td>2007</td></tr>\n",
       "\t<tr><td>Wellington        </td><td>  490634</td><td>2007</td></tr>\n",
       "\t<tr><td>West Coast        </td><td>  200126</td><td>2007</td></tr>\n",
       "\t<tr><td>Canterbury        </td><td> 3080261</td><td>2007</td></tr>\n",
       "\t<tr><td>Otago             </td><td> 2331143</td><td>2007</td></tr>\n",
       "\t<tr><td>Southland         </td><td> 1178136</td><td>2007</td></tr>\n",
       "\t<tr><td>Tasman            </td><td>  253307</td><td>2007</td></tr>\n",
       "\t<tr><td>Nelson            </td><td>   17528</td><td>2007</td></tr>\n",
       "\t<tr><td>Marlborough       </td><td>  507119</td><td>2007</td></tr>\n",
       "\t<tr><td>New Zealand       </td><td>14700897</td><td>2007</td></tr>\n",
       "\t<tr><td>Northland         </td><td>  809897</td><td>2002</td></tr>\n",
       "\t<tr><td>Auckland          </td><td>  301801</td><td>2002</td></tr>\n",
       "\t<tr><td>Waikato           </td><td> 1730266</td><td>2002</td></tr>\n",
       "\t<tr><td>Bay of Plenty     </td><td>  599973</td><td>2002</td></tr>\n",
       "\t<tr><td>Gisborne          </td><td>  643228</td><td>2002</td></tr>\n",
       "\t<tr><td>Hawke's Bay       </td><td>  961804</td><td>2002</td></tr>\n",
       "\t<tr><td>Taranaki          </td><td>  496540</td><td>2002</td></tr>\n",
       "\t<tr><td>Manawatu-Whanganui</td><td> 1545218</td><td>2002</td></tr>\n",
       "\t<tr><td>Wellington        </td><td>  503838</td><td>2002</td></tr>\n",
       "\t<tr><td>West Coast        </td><td>  225454</td><td>2002</td></tr>\n",
       "\t<tr><td>Canterbury        </td><td> 3150891</td><td>2002</td></tr>\n",
       "\t<tr><td>Otago             </td><td> 2378770</td><td>2002</td></tr>\n",
       "\t<tr><td>Southland         </td><td> 1198388</td><td>2002</td></tr>\n",
       "\t<tr><td>Tasman            </td><td>  277019</td><td>2002</td></tr>\n",
       "\t<tr><td>Nelson            </td><td>   21331</td><td>2002</td></tr>\n",
       "\t<tr><td>Marlborough       </td><td>  696049</td><td>2002</td></tr>\n",
       "\t<tr><td>New Zealand       </td><td>15589885</td><td>2002</td></tr>\n",
       "</tbody>\n",
       "</table>\n"
      ],
      "text/latex": [
       "A tibble: 105 × 3\n",
       "\\begin{tabular}{lll}\n",
       " region & value & year\\\\\n",
       " <chr> & <dbl> & <dbl>\\\\\n",
       "\\hline\n",
       "\t Northland          &   706668.4 & 2019\\\\\n",
       "\t Auckland           &   268632.0 & 2019\\\\\n",
       "\t Waikato            &  1528315.7 & 2019\\\\\n",
       "\t Bay of Plenty      &   581936.8 & 2019\\\\\n",
       "\t Gisborne           &   533264.6 & 2019\\\\\n",
       "\t Hawke's Bay        &   907310.9 & 2019\\\\\n",
       "\t Taranaki           &   452313.0 & 2019\\\\\n",
       "\t Manawatu-Whanganui &  1363691.6 & 2019\\\\\n",
       "\t Wellington         &   454627.8 & 2019\\\\\n",
       "\t West Coast         &   191725.0 & 2019\\\\\n",
       "\t Canterbury         &  2575683.8 & 2019\\\\\n",
       "\t Otago              &  2139291.0 & 2019\\\\\n",
       "\t Southland          &  1054669.9 & 2019\\\\\n",
       "\t Tasman             &   213822.0 & 2019\\\\\n",
       "\t Nelson             &    23418.4 & 2019\\\\\n",
       "\t Marlborough        &   511355.9 & 2019\\\\\n",
       "\t Chatham Islands    &    54448.5 & 2019\\\\\n",
       "\t New Zealand        & 13561175.3 & 2019\\\\\n",
       "\t Northland          &   724564.3 & 2017\\\\\n",
       "\t Auckland           &   287639.4 & 2017\\\\\n",
       "\t Waikato            &  1552321.4 & 2017\\\\\n",
       "\t Bay of Plenty      &   610282.0 & 2017\\\\\n",
       "\t Gisborne           &   561325.7 & 2017\\\\\n",
       "\t Hawke's Bay        &   872612.2 & 2017\\\\\n",
       "\t Taranaki           &   451999.7 & 2017\\\\\n",
       "\t Manawatu-Whanganui &  1423619.4 & 2017\\\\\n",
       "\t Wellington         &   455764.0 & 2017\\\\\n",
       "\t West Coast         &   187246.8 & 2017\\\\\n",
       "\t Canterbury         &  2740335.7 & 2017\\\\\n",
       "\t Otago              &  2075906.4 & 2017\\\\\n",
       "\t ⋮ & ⋮ & ⋮\\\\\n",
       "\t Gisborne           &   614524 & 2007\\\\\n",
       "\t Hawke's Bay        &   951986 & 2007\\\\\n",
       "\t Taranaki           &   470218 & 2007\\\\\n",
       "\t Manawatu-Whanganui &  1417246 & 2007\\\\\n",
       "\t Wellington         &   490634 & 2007\\\\\n",
       "\t West Coast         &   200126 & 2007\\\\\n",
       "\t Canterbury         &  3080261 & 2007\\\\\n",
       "\t Otago              &  2331143 & 2007\\\\\n",
       "\t Southland          &  1178136 & 2007\\\\\n",
       "\t Tasman             &   253307 & 2007\\\\\n",
       "\t Nelson             &    17528 & 2007\\\\\n",
       "\t Marlborough        &   507119 & 2007\\\\\n",
       "\t New Zealand        & 14700897 & 2007\\\\\n",
       "\t Northland          &   809897 & 2002\\\\\n",
       "\t Auckland           &   301801 & 2002\\\\\n",
       "\t Waikato            &  1730266 & 2002\\\\\n",
       "\t Bay of Plenty      &   599973 & 2002\\\\\n",
       "\t Gisborne           &   643228 & 2002\\\\\n",
       "\t Hawke's Bay        &   961804 & 2002\\\\\n",
       "\t Taranaki           &   496540 & 2002\\\\\n",
       "\t Manawatu-Whanganui &  1545218 & 2002\\\\\n",
       "\t Wellington         &   503838 & 2002\\\\\n",
       "\t West Coast         &   225454 & 2002\\\\\n",
       "\t Canterbury         &  3150891 & 2002\\\\\n",
       "\t Otago              &  2378770 & 2002\\\\\n",
       "\t Southland          &  1198388 & 2002\\\\\n",
       "\t Tasman             &   277019 & 2002\\\\\n",
       "\t Nelson             &    21331 & 2002\\\\\n",
       "\t Marlborough        &   696049 & 2002\\\\\n",
       "\t New Zealand        & 15589885 & 2002\\\\\n",
       "\\end{tabular}\n"
      ],
      "text/markdown": [
       "\n",
       "A tibble: 105 × 3\n",
       "\n",
       "| region &lt;chr&gt; | value &lt;dbl&gt; | year &lt;dbl&gt; |\n",
       "|---|---|---|\n",
       "| Northland          |   706668.4 | 2019 |\n",
       "| Auckland           |   268632.0 | 2019 |\n",
       "| Waikato            |  1528315.7 | 2019 |\n",
       "| Bay of Plenty      |   581936.8 | 2019 |\n",
       "| Gisborne           |   533264.6 | 2019 |\n",
       "| Hawke's Bay        |   907310.9 | 2019 |\n",
       "| Taranaki           |   452313.0 | 2019 |\n",
       "| Manawatu-Whanganui |  1363691.6 | 2019 |\n",
       "| Wellington         |   454627.8 | 2019 |\n",
       "| West Coast         |   191725.0 | 2019 |\n",
       "| Canterbury         |  2575683.8 | 2019 |\n",
       "| Otago              |  2139291.0 | 2019 |\n",
       "| Southland          |  1054669.9 | 2019 |\n",
       "| Tasman             |   213822.0 | 2019 |\n",
       "| Nelson             |    23418.4 | 2019 |\n",
       "| Marlborough        |   511355.9 | 2019 |\n",
       "| Chatham Islands    |    54448.5 | 2019 |\n",
       "| New Zealand        | 13561175.3 | 2019 |\n",
       "| Northland          |   724564.3 | 2017 |\n",
       "| Auckland           |   287639.4 | 2017 |\n",
       "| Waikato            |  1552321.4 | 2017 |\n",
       "| Bay of Plenty      |   610282.0 | 2017 |\n",
       "| Gisborne           |   561325.7 | 2017 |\n",
       "| Hawke's Bay        |   872612.2 | 2017 |\n",
       "| Taranaki           |   451999.7 | 2017 |\n",
       "| Manawatu-Whanganui |  1423619.4 | 2017 |\n",
       "| Wellington         |   455764.0 | 2017 |\n",
       "| West Coast         |   187246.8 | 2017 |\n",
       "| Canterbury         |  2740335.7 | 2017 |\n",
       "| Otago              |  2075906.4 | 2017 |\n",
       "| ⋮ | ⋮ | ⋮ |\n",
       "| Gisborne           |   614524 | 2007 |\n",
       "| Hawke's Bay        |   951986 | 2007 |\n",
       "| Taranaki           |   470218 | 2007 |\n",
       "| Manawatu-Whanganui |  1417246 | 2007 |\n",
       "| Wellington         |   490634 | 2007 |\n",
       "| West Coast         |   200126 | 2007 |\n",
       "| Canterbury         |  3080261 | 2007 |\n",
       "| Otago              |  2331143 | 2007 |\n",
       "| Southland          |  1178136 | 2007 |\n",
       "| Tasman             |   253307 | 2007 |\n",
       "| Nelson             |    17528 | 2007 |\n",
       "| Marlborough        |   507119 | 2007 |\n",
       "| New Zealand        | 14700897 | 2007 |\n",
       "| Northland          |   809897 | 2002 |\n",
       "| Auckland           |   301801 | 2002 |\n",
       "| Waikato            |  1730266 | 2002 |\n",
       "| Bay of Plenty      |   599973 | 2002 |\n",
       "| Gisborne           |   643228 | 2002 |\n",
       "| Hawke's Bay        |   961804 | 2002 |\n",
       "| Taranaki           |   496540 | 2002 |\n",
       "| Manawatu-Whanganui |  1545218 | 2002 |\n",
       "| Wellington         |   503838 | 2002 |\n",
       "| West Coast         |   225454 | 2002 |\n",
       "| Canterbury         |  3150891 | 2002 |\n",
       "| Otago              |  2378770 | 2002 |\n",
       "| Southland          |  1198388 | 2002 |\n",
       "| Tasman             |   277019 | 2002 |\n",
       "| Nelson             |    21331 | 2002 |\n",
       "| Marlborough        |   696049 | 2002 |\n",
       "| New Zealand        | 15589885 | 2002 |\n",
       "\n"
      ],
      "text/plain": [
       "    region             value      year\n",
       "1   Northland            706668.4 2019\n",
       "2   Auckland             268632.0 2019\n",
       "3   Waikato             1528315.7 2019\n",
       "4   Bay of Plenty        581936.8 2019\n",
       "5   Gisborne             533264.6 2019\n",
       "6   Hawke's Bay          907310.9 2019\n",
       "7   Taranaki             452313.0 2019\n",
       "8   Manawatu-Whanganui  1363691.6 2019\n",
       "9   Wellington           454627.8 2019\n",
       "10  West Coast           191725.0 2019\n",
       "11  Canterbury          2575683.8 2019\n",
       "12  Otago               2139291.0 2019\n",
       "13  Southland           1054669.9 2019\n",
       "14  Tasman               213822.0 2019\n",
       "15  Nelson                23418.4 2019\n",
       "16  Marlborough          511355.9 2019\n",
       "17  Chatham Islands       54448.5 2019\n",
       "18  New Zealand        13561175.3 2019\n",
       "19  Northland            724564.3 2017\n",
       "20  Auckland             287639.4 2017\n",
       "21  Waikato             1552321.4 2017\n",
       "22  Bay of Plenty        610282.0 2017\n",
       "23  Gisborne             561325.7 2017\n",
       "24  Hawke's Bay          872612.2 2017\n",
       "25  Taranaki             451999.7 2017\n",
       "26  Manawatu-Whanganui  1423619.4 2017\n",
       "27  Wellington           455764.0 2017\n",
       "28  West Coast           187246.8 2017\n",
       "29  Canterbury          2740335.7 2017\n",
       "30  Otago               2075906.4 2017\n",
       "⋮   ⋮                  ⋮          ⋮   \n",
       "76  Gisborne             614524   2007\n",
       "77  Hawke's Bay          951986   2007\n",
       "78  Taranaki             470218   2007\n",
       "79  Manawatu-Whanganui  1417246   2007\n",
       "80  Wellington           490634   2007\n",
       "81  West Coast           200126   2007\n",
       "82  Canterbury          3080261   2007\n",
       "83  Otago               2331143   2007\n",
       "84  Southland           1178136   2007\n",
       "85  Tasman               253307   2007\n",
       "86  Nelson                17528   2007\n",
       "87  Marlborough          507119   2007\n",
       "88  New Zealand        14700897   2007\n",
       "89  Northland            809897   2002\n",
       "90  Auckland             301801   2002\n",
       "91  Waikato             1730266   2002\n",
       "92  Bay of Plenty        599973   2002\n",
       "93  Gisborne             643228   2002\n",
       "94  Hawke's Bay          961804   2002\n",
       "95  Taranaki             496540   2002\n",
       "96  Manawatu-Whanganui  1545218   2002\n",
       "97  Wellington           503838   2002\n",
       "98  West Coast           225454   2002\n",
       "99  Canterbury          3150891   2002\n",
       "100 Otago               2378770   2002\n",
       "101 Southland           1198388   2002\n",
       "102 Tasman               277019   2002\n",
       "103 Nelson                21331   2002\n",
       "104 Marlborough          696049   2002\n",
       "105 New Zealand        15589885   2002"
      ]
     },
     "metadata": {},
     "output_type": "display_data"
    }
   ],
   "source": [
    "farm_area %>% arrange(desc(year)) "
   ]
  },
  {
   "cell_type": "code",
   "execution_count": null,
   "id": "9ed98e3b",
   "metadata": {},
   "outputs": [],
   "source": []
  },
  {
   "cell_type": "code",
   "execution_count": 131,
   "id": "85f4a0f7",
   "metadata": {},
   "outputs": [],
   "source": [
    "nitrogen_farm_area <- full_join(farm_area, fertiliser_app_df, by = \"region\")\n",
    "\n",
    "nitrogen_farm_area <- nitrogen_farm_area %>%\n",
    "mutate(t_per_ha = mean_nitrogen_per_year / mean_area)"
   ]
  },
  {
   "cell_type": "code",
   "execution_count": null,
   "id": "5df4306b",
   "metadata": {},
   "outputs": [],
   "source": []
  },
  {
   "cell_type": "code",
   "execution_count": 132,
   "id": "1dc142a9",
   "metadata": {},
   "outputs": [
    {
     "name": "stderr",
     "output_type": "stream",
     "text": [
      "\u001b[1mRows: \u001b[22m\u001b[34m14644\u001b[39m \u001b[1mColumns: \u001b[22m\u001b[34m17\u001b[39m\n",
      "\u001b[36m──\u001b[39m \u001b[1mColumn specification\u001b[22m \u001b[36m────────────────────────────────────────────────────────────────────────────────────────────────\u001b[39m\n",
      "\u001b[1mDelimiter:\u001b[22m \",\"\n",
      "\u001b[31mchr\u001b[39m  (7): site, region, period, measure, percentile, units, n_n_guideline\n",
      "\u001b[32mdbl\u001b[39m (10): period_start, period_end, data_value, measurements_per_site, years...\n",
      "\n",
      "\u001b[36mℹ\u001b[39m Use `spec()` to retrieve the full column specification for this data.\n",
      "\u001b[36mℹ\u001b[39m Specify the column types or set `show_col_types = FALSE` to quiet this message.\n"
     ]
    }
   ],
   "source": [
    "groundwater_state <- \"groundwater-quality-state-2014-18.csv\" %>% \n",
    "read_csv()\n"
   ]
  },
  {
   "cell_type": "code",
   "execution_count": 133,
   "id": "a1768726",
   "metadata": {},
   "outputs": [],
   "source": [
    "groundwater_df <- groundwater_state %>% \n",
    "filter(measure == \"Nitrate nitrogen\") %>% \n",
    "select(region:n_n_guideline)\n"
   ]
  },
  {
   "cell_type": "code",
   "execution_count": 134,
   "id": "85cae668",
   "metadata": {},
   "outputs": [],
   "source": [
    "groundwater_df <- groundwater_df %>% \n",
    "select(region, dwsnz_exceed_percent) %>% \n",
    "na.omit()"
   ]
  },
  {
   "cell_type": "code",
   "execution_count": 135,
   "id": "fd34f2b6",
   "metadata": {},
   "outputs": [],
   "source": [
    "groundwater_df <- groundwater_df %>% \n",
    "group_by(region) %>% \n",
    "summarise(mean_exceed = mean(dwsnz_exceed_percent))"
   ]
  },
  {
   "cell_type": "code",
   "execution_count": 136,
   "id": "76643bb4",
   "metadata": {},
   "outputs": [],
   "source": [
    "farms_and_gw_n <- full_join(groundwater_df, nitrogen_farm_area, by = \"region\")"
   ]
  },
  {
   "cell_type": "code",
   "execution_count": 139,
   "id": "6568aa65",
   "metadata": {},
   "outputs": [
    {
     "data": {
      "text/html": [
       "<table class=\"dataframe\">\n",
       "<caption>A tibble: 19 × 5</caption>\n",
       "<thead>\n",
       "\t<tr><th scope=col>region</th><th scope=col>mean_exceed</th><th scope=col>mean_area</th><th scope=col>mean_nitrogen_per_year</th><th scope=col>t_per_ha</th></tr>\n",
       "\t<tr><th scope=col>&lt;chr&gt;</th><th scope=col>&lt;dbl&gt;</th><th scope=col>&lt;dbl&gt;</th><th scope=col>&lt;dbl&gt;</th><th scope=col>&lt;dbl&gt;</th></tr>\n",
       "</thead>\n",
       "<tbody>\n",
       "\t<tr><td>Auckland          </td><td>44.8888889</td><td>  268673.57</td><td>  8157.80160</td><td>0.0303632460</td></tr>\n",
       "\t<tr><td>Waikato           </td><td>19.8833333</td><td> 1605414.02</td><td>154093.30903</td><td>0.0959835329</td></tr>\n",
       "\t<tr><td>Manawatu-Whanganui</td><td>19.0653846</td><td> 1432059.50</td><td> 51253.90161</td><td>0.0357903436</td></tr>\n",
       "\t<tr><td>Southland         </td><td>14.6433333</td><td> 1164689.22</td><td> 83432.78954</td><td>0.0716352383</td></tr>\n",
       "\t<tr><td>Canterbury        </td><td>10.0039604</td><td> 2824509.58</td><td>202434.63223</td><td>0.0716707188</td></tr>\n",
       "\t<tr><td>Taranaki          </td><td> 9.6238095</td><td>  457458.78</td><td> 52862.21068</td><td>0.1155562263</td></tr>\n",
       "\t<tr><td>Tasman            </td><td> 8.0947368</td><td>  237737.30</td><td>  7311.14933</td><td>0.0307530595</td></tr>\n",
       "\t<tr><td>Otago             </td><td> 5.3000000</td><td> 2236236.90</td><td> 41759.69274</td><td>0.0186740916</td></tr>\n",
       "\t<tr><td>Wellington        </td><td> 1.4736842</td><td>  471751.97</td><td> 15529.86674</td><td>0.0329195591</td></tr>\n",
       "\t<tr><td>Hawkes Bay        </td><td> 0.8333333</td><td>         NA</td><td>          NA</td><td>          NA</td></tr>\n",
       "\t<tr><td>Northland         </td><td> 0.3600000</td><td>  754175.62</td><td> 33734.21591</td><td>0.0447299212</td></tr>\n",
       "\t<tr><td>West Coast        </td><td> 0.2625000</td><td>  198339.80</td><td> 26962.49909</td><td>0.1359409412</td></tr>\n",
       "\t<tr><td>Marlborough       </td><td> 0.2380952</td><td>  542667.92</td><td>  2419.30409</td><td>0.0044581668</td></tr>\n",
       "\t<tr><td>Gisborne          </td><td> 0.0000000</td><td>  592141.55</td><td>  7525.72121</td><td>0.0127093281</td></tr>\n",
       "\t<tr><td>Bay of Plenty     </td><td>        NA</td><td>  578729.13</td><td> 26988.87983</td><td>0.0466347351</td></tr>\n",
       "\t<tr><td>Chatham Islands   </td><td>        NA</td><td>   51679.00</td><td>    11.00280</td><td>0.0002129066</td></tr>\n",
       "\t<tr><td>Hawke's Bay       </td><td>        NA</td><td>  922131.35</td><td> 17934.95500</td><td>0.0194494580</td></tr>\n",
       "\t<tr><td>Nelson            </td><td>        NA</td><td>   18284.38</td><td>    92.56437</td><td>0.0050624826</td></tr>\n",
       "\t<tr><td>New Zealand       </td><td>        NA</td><td>14356343.92</td><td>758818.93936</td><td>0.0528560018</td></tr>\n",
       "</tbody>\n",
       "</table>\n"
      ],
      "text/latex": [
       "A tibble: 19 × 5\n",
       "\\begin{tabular}{lllll}\n",
       " region & mean\\_exceed & mean\\_area & mean\\_nitrogen\\_per\\_year & t\\_per\\_ha\\\\\n",
       " <chr> & <dbl> & <dbl> & <dbl> & <dbl>\\\\\n",
       "\\hline\n",
       "\t Auckland           & 44.8888889 &   268673.57 &   8157.80160 & 0.0303632460\\\\\n",
       "\t Waikato            & 19.8833333 &  1605414.02 & 154093.30903 & 0.0959835329\\\\\n",
       "\t Manawatu-Whanganui & 19.0653846 &  1432059.50 &  51253.90161 & 0.0357903436\\\\\n",
       "\t Southland          & 14.6433333 &  1164689.22 &  83432.78954 & 0.0716352383\\\\\n",
       "\t Canterbury         & 10.0039604 &  2824509.58 & 202434.63223 & 0.0716707188\\\\\n",
       "\t Taranaki           &  9.6238095 &   457458.78 &  52862.21068 & 0.1155562263\\\\\n",
       "\t Tasman             &  8.0947368 &   237737.30 &   7311.14933 & 0.0307530595\\\\\n",
       "\t Otago              &  5.3000000 &  2236236.90 &  41759.69274 & 0.0186740916\\\\\n",
       "\t Wellington         &  1.4736842 &   471751.97 &  15529.86674 & 0.0329195591\\\\\n",
       "\t Hawkes Bay         &  0.8333333 &          NA &           NA &           NA\\\\\n",
       "\t Northland          &  0.3600000 &   754175.62 &  33734.21591 & 0.0447299212\\\\\n",
       "\t West Coast         &  0.2625000 &   198339.80 &  26962.49909 & 0.1359409412\\\\\n",
       "\t Marlborough        &  0.2380952 &   542667.92 &   2419.30409 & 0.0044581668\\\\\n",
       "\t Gisborne           &  0.0000000 &   592141.55 &   7525.72121 & 0.0127093281\\\\\n",
       "\t Bay of Plenty      &         NA &   578729.13 &  26988.87983 & 0.0466347351\\\\\n",
       "\t Chatham Islands    &         NA &    51679.00 &     11.00280 & 0.0002129066\\\\\n",
       "\t Hawke's Bay        &         NA &   922131.35 &  17934.95500 & 0.0194494580\\\\\n",
       "\t Nelson             &         NA &    18284.38 &     92.56437 & 0.0050624826\\\\\n",
       "\t New Zealand        &         NA & 14356343.92 & 758818.93936 & 0.0528560018\\\\\n",
       "\\end{tabular}\n"
      ],
      "text/markdown": [
       "\n",
       "A tibble: 19 × 5\n",
       "\n",
       "| region &lt;chr&gt; | mean_exceed &lt;dbl&gt; | mean_area &lt;dbl&gt; | mean_nitrogen_per_year &lt;dbl&gt; | t_per_ha &lt;dbl&gt; |\n",
       "|---|---|---|---|---|\n",
       "| Auckland           | 44.8888889 |   268673.57 |   8157.80160 | 0.0303632460 |\n",
       "| Waikato            | 19.8833333 |  1605414.02 | 154093.30903 | 0.0959835329 |\n",
       "| Manawatu-Whanganui | 19.0653846 |  1432059.50 |  51253.90161 | 0.0357903436 |\n",
       "| Southland          | 14.6433333 |  1164689.22 |  83432.78954 | 0.0716352383 |\n",
       "| Canterbury         | 10.0039604 |  2824509.58 | 202434.63223 | 0.0716707188 |\n",
       "| Taranaki           |  9.6238095 |   457458.78 |  52862.21068 | 0.1155562263 |\n",
       "| Tasman             |  8.0947368 |   237737.30 |   7311.14933 | 0.0307530595 |\n",
       "| Otago              |  5.3000000 |  2236236.90 |  41759.69274 | 0.0186740916 |\n",
       "| Wellington         |  1.4736842 |   471751.97 |  15529.86674 | 0.0329195591 |\n",
       "| Hawkes Bay         |  0.8333333 |          NA |           NA |           NA |\n",
       "| Northland          |  0.3600000 |   754175.62 |  33734.21591 | 0.0447299212 |\n",
       "| West Coast         |  0.2625000 |   198339.80 |  26962.49909 | 0.1359409412 |\n",
       "| Marlborough        |  0.2380952 |   542667.92 |   2419.30409 | 0.0044581668 |\n",
       "| Gisborne           |  0.0000000 |   592141.55 |   7525.72121 | 0.0127093281 |\n",
       "| Bay of Plenty      |         NA |   578729.13 |  26988.87983 | 0.0466347351 |\n",
       "| Chatham Islands    |         NA |    51679.00 |     11.00280 | 0.0002129066 |\n",
       "| Hawke's Bay        |         NA |   922131.35 |  17934.95500 | 0.0194494580 |\n",
       "| Nelson             |         NA |    18284.38 |     92.56437 | 0.0050624826 |\n",
       "| New Zealand        |         NA | 14356343.92 | 758818.93936 | 0.0528560018 |\n",
       "\n"
      ],
      "text/plain": [
       "   region             mean_exceed mean_area   mean_nitrogen_per_year\n",
       "1  Auckland           44.8888889    268673.57   8157.80160          \n",
       "2  Waikato            19.8833333   1605414.02 154093.30903          \n",
       "3  Manawatu-Whanganui 19.0653846   1432059.50  51253.90161          \n",
       "4  Southland          14.6433333   1164689.22  83432.78954          \n",
       "5  Canterbury         10.0039604   2824509.58 202434.63223          \n",
       "6  Taranaki            9.6238095    457458.78  52862.21068          \n",
       "7  Tasman              8.0947368    237737.30   7311.14933          \n",
       "8  Otago               5.3000000   2236236.90  41759.69274          \n",
       "9  Wellington          1.4736842    471751.97  15529.86674          \n",
       "10 Hawkes Bay          0.8333333           NA           NA          \n",
       "11 Northland           0.3600000    754175.62  33734.21591          \n",
       "12 West Coast          0.2625000    198339.80  26962.49909          \n",
       "13 Marlborough         0.2380952    542667.92   2419.30409          \n",
       "14 Gisborne            0.0000000    592141.55   7525.72121          \n",
       "15 Bay of Plenty              NA    578729.13  26988.87983          \n",
       "16 Chatham Islands            NA     51679.00     11.00280          \n",
       "17 Hawke's Bay                NA    922131.35  17934.95500          \n",
       "18 Nelson                     NA     18284.38     92.56437          \n",
       "19 New Zealand                NA  14356343.92 758818.93936          \n",
       "   t_per_ha    \n",
       "1  0.0303632460\n",
       "2  0.0959835329\n",
       "3  0.0357903436\n",
       "4  0.0716352383\n",
       "5  0.0716707188\n",
       "6  0.1155562263\n",
       "7  0.0307530595\n",
       "8  0.0186740916\n",
       "9  0.0329195591\n",
       "10           NA\n",
       "11 0.0447299212\n",
       "12 0.1359409412\n",
       "13 0.0044581668\n",
       "14 0.0127093281\n",
       "15 0.0466347351\n",
       "16 0.0002129066\n",
       "17 0.0194494580\n",
       "18 0.0050624826\n",
       "19 0.0528560018"
      ]
     },
     "metadata": {},
     "output_type": "display_data"
    }
   ],
   "source": [
    "farms_and_gw_n %>% arrange(desc(mean_exceed)) "
   ]
  },
  {
   "cell_type": "code",
   "execution_count": null,
   "id": "091181d9",
   "metadata": {},
   "outputs": [],
   "source": []
  },
  {
   "cell_type": "code",
   "execution_count": null,
   "id": "07f637ea",
   "metadata": {},
   "outputs": [],
   "source": []
  },
  {
   "cell_type": "code",
   "execution_count": null,
   "id": "dd011780",
   "metadata": {},
   "outputs": [],
   "source": []
  }
 ],
 "metadata": {
  "kernelspec": {
   "display_name": "R",
   "language": "R",
   "name": "ir"
  },
  "language_info": {
   "codemirror_mode": "r",
   "file_extension": ".r",
   "mimetype": "text/x-r-source",
   "name": "R",
   "pygments_lexer": "r",
   "version": "4.2.1"
  }
 },
 "nbformat": 4,
 "nbformat_minor": 5
}
