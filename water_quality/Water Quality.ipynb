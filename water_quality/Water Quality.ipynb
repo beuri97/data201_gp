{
 "cells": [
  {
   "cell_type": "markdown",
   "id": "c06bb010",
   "metadata": {},
   "source": [
    "<h1><center>Water Quality</center></h1>"
   ]
  },
  {
   "cell_type": "markdown",
   "id": "e2294c7f",
   "metadata": {},
   "source": [
    "<h2>Packages</h2>"
   ]
  },
  {
   "cell_type": "code",
   "execution_count": 1,
   "id": "7c1522e4",
   "metadata": {},
   "outputs": [
    {
     "name": "stderr",
     "output_type": "stream",
     "text": [
      "-- \u001b[1mAttaching packages\u001b[22m --------------------------------------------------------------------------------------- tidyverse 1.3.2 --\n",
      "\u001b[32mv\u001b[39m \u001b[34mggplot2\u001b[39m 3.3.6     \u001b[32mv\u001b[39m \u001b[34mpurrr  \u001b[39m 0.3.4\n",
      "\u001b[32mv\u001b[39m \u001b[34mtibble \u001b[39m 3.1.8     \u001b[32mv\u001b[39m \u001b[34mdplyr  \u001b[39m 1.0.9\n",
      "\u001b[32mv\u001b[39m \u001b[34mtidyr  \u001b[39m 1.2.0     \u001b[32mv\u001b[39m \u001b[34mstringr\u001b[39m 1.4.0\n",
      "\u001b[32mv\u001b[39m \u001b[34mreadr  \u001b[39m 2.1.2     \u001b[32mv\u001b[39m \u001b[34mforcats\u001b[39m 0.5.1\n",
      "-- \u001b[1mConflicts\u001b[22m ------------------------------------------------------------------------------------------ tidyverse_conflicts() --\n",
      "\u001b[31mx\u001b[39m \u001b[34mdplyr\u001b[39m::\u001b[32mfilter()\u001b[39m masks \u001b[34mstats\u001b[39m::filter()\n",
      "\u001b[31mx\u001b[39m \u001b[34mdplyr\u001b[39m::\u001b[32mlag()\u001b[39m    masks \u001b[34mstats\u001b[39m::lag()\n"
     ]
    }
   ],
   "source": [
    "# Load packages such as ggplot2, dplyr, tidyr, and readr to be able to use specialised functions for creating\n",
    "# visualisations, reading, writing, and manipulating data.\n",
    "library(tidyverse)"
   ]
  },
  {
   "cell_type": "code",
   "execution_count": 2,
   "id": "75c3d44f",
   "metadata": {},
   "outputs": [],
   "source": [
    "# Load the tidygeocoder package to be able to use a function to convert the given latitude and longitude\n",
    "# to address.\n",
    "library(tidygeocoder)"
   ]
  },
  {
   "cell_type": "code",
   "execution_count": 3,
   "id": "b37af956",
   "metadata": {},
   "outputs": [],
   "source": [
    "# Load the readxl package to be able to use a function to read Excel files.\n",
    "library(readxl)"
   ]
  },
  {
   "cell_type": "code",
   "execution_count": 4,
   "id": "ab114982",
   "metadata": {},
   "outputs": [],
   "source": [
    "# Load skimr package to be able to use a function to understand the structure of the dataframe we will analyse\n",
    "library(skimr)"
   ]
  },
  {
   "cell_type": "code",
   "execution_count": 5,
   "id": "f97f4dc9",
   "metadata": {},
   "outputs": [],
   "source": [
    "# Load the knitr package to be able to use a function for presenting information in a tidy format.\n",
    "library(knitr)"
   ]
  },
  {
   "cell_type": "code",
   "execution_count": 6,
   "id": "ece21a17",
   "metadata": {},
   "outputs": [],
   "source": [
    "# Load the visdat package to be able to use a function for visualisation of the data. \n",
    "library(visdat)"
   ]
  },
  {
   "cell_type": "code",
   "execution_count": 7,
   "id": "7cf37fc4",
   "metadata": {
    "scrolled": true
   },
   "outputs": [
    {
     "name": "stderr",
     "output_type": "stream",
     "text": [
      "\n",
      "Attaching package: 'lubridate'\n",
      "\n",
      "\n",
      "The following objects are masked from 'package:base':\n",
      "\n",
      "    date, intersect, setdiff, union\n",
      "\n",
      "\n"
     ]
    }
   ],
   "source": [
    "# Load the lubridate package to be able to use function(s) for manipulating datetime data type.\n",
    "library(lubridate)"
   ]
  },
  {
   "cell_type": "code",
   "execution_count": 8,
   "id": "b7ff9b03",
   "metadata": {
    "scrolled": true
   },
   "outputs": [
    {
     "name": "stderr",
     "output_type": "stream",
     "text": [
      "Registered S3 method overwritten by 'quantmod':\n",
      "  method            from\n",
      "  as.zoo.data.frame zoo \n",
      "\n"
     ]
    }
   ],
   "source": [
    "# Load the highcharter package to be able to use interactive charting/graphing functions.\n",
    "library(highcharter)"
   ]
  },
  {
   "cell_type": "code",
   "execution_count": 9,
   "id": "81e1942d",
   "metadata": {},
   "outputs": [
    {
     "name": "stderr",
     "output_type": "stream",
     "text": [
      "\n",
      "Attaching package: 'jsonlite'\n",
      "\n",
      "\n",
      "The following object is masked from 'package:purrr':\n",
      "\n",
      "    flatten\n",
      "\n",
      "\n"
     ]
    }
   ],
   "source": [
    "library(jsonlite)\n",
    "library(XML)\n",
    "library(xml2)\n",
    "library(glue)\n",
    "library(httr)"
   ]
  },
  {
   "cell_type": "markdown",
   "id": "cecc6af3",
   "metadata": {},
   "source": [
    "<h2>Accessing and Importing Datasets</h2>"
   ]
  },
  {
   "cell_type": "code",
   "execution_count": 10,
   "id": "3a2bef34",
   "metadata": {},
   "outputs": [],
   "source": [
    "# A function to get data from the Ministry for the Environment database API\n",
    "\n",
    "get_data_from_mfe <- function(api_key, data_id){\n",
    "    \n",
    "    query <- glue('https://data.mfe.govt.nz/services;key={api_key}/wfs?service=WFS&version=2.0.0&request=GetFeature&typeNames={data_id}') # creates a query url using inputs of api key and data-id number available on MfE website\n",
    "    \n",
    "    api_response <- GET(query) #gets the API response from the query\n",
    "    \n",
    "    data_xml <- read_xml(api_response) #reads the xml data from the api response\n",
    "    \n",
    "    data_parsed <- xmlParse(data_xml) #parses the data into an xml format that is readable in R\n",
    "    \n",
    "    data_df <- glue('//data.mfe.govt.nz:{data_id}') %>%  # creating a node name to look for\n",
    "    getNodeSet(data_parsed, .)  %>%  # looking at nodes with the name\n",
    "    xmlToDataFrame(nodes = .) #turns the data within the given node into a data frame\n",
    "    \n",
    "    return(data_df) #returns the data frame\n",
    "}"
   ]
  },
  {
   "cell_type": "code",
   "execution_count": 11,
   "id": "726439f9",
   "metadata": {
    "scrolled": true
   },
   "outputs": [
    {
     "data": {
      "text/html": [
       "<table class=\"dataframe\">\n",
       "<caption>A data.frame: 6 × 33</caption>\n",
       "<thead>\n",
       "\t<tr><th></th><th scope=col>field_1</th><th scope=col>measure_ab</th><th scope=col>measure</th><th scope=col>units</th><th scope=col>sof</th><th scope=col>nzsegment</th><th scope=col>lat</th><th scope=col>long</th><th scope=col>s_id</th><th scope=col>n_obs</th><th scope=col>...</th><th scope=col>sen_lci</th><th scope=col>sen_uci</th><th scope=col>analysis_note</th><th scope=col>percent_annual_change</th><th scope=col>trend_direction</th><th scope=col>seasonal</th><th scope=col>freq</th><th scope=col>period</th><th scope=col>end_year</th><th scope=col>trend_confidence</th></tr>\n",
       "\t<tr><th></th><th scope=col>&lt;chr&gt;</th><th scope=col>&lt;chr&gt;</th><th scope=col>&lt;chr&gt;</th><th scope=col>&lt;chr&gt;</th><th scope=col>&lt;chr&gt;</th><th scope=col>&lt;chr&gt;</th><th scope=col>&lt;chr&gt;</th><th scope=col>&lt;chr&gt;</th><th scope=col>&lt;chr&gt;</th><th scope=col>&lt;chr&gt;</th><th scope=col>...</th><th scope=col>&lt;chr&gt;</th><th scope=col>&lt;chr&gt;</th><th scope=col>&lt;chr&gt;</th><th scope=col>&lt;chr&gt;</th><th scope=col>&lt;chr&gt;</th><th scope=col>&lt;chr&gt;</th><th scope=col>&lt;chr&gt;</th><th scope=col>&lt;chr&gt;</th><th scope=col>&lt;chr&gt;</th><th scope=col>&lt;chr&gt;</th></tr>\n",
       "</thead>\n",
       "<tbody>\n",
       "\t<tr><th scope=row>1</th><td>1</td><td>ECOLI</td><td>E. coli</td><td>cfu/100ml</td><td>WWL </td><td>5122005</td><td>-38.4616</td><td>177.8767</td><td>GDC-00027 </td><td>54</td><td>...</td><td>-70.66574688</td><td>4.753992744</td><td>ok                                                  </td><td>-5.500677702</td><td>Improving    </td><td>FALSE</td><td>BiMonth</td><td>NA</td><td>2000</td><td>Very likely improving</td></tr>\n",
       "\t<tr><th scope=row>2</th><td>2</td><td>ECOLI</td><td>E. coli</td><td>cfu/100ml</td><td>CWH </td><td>4084132</td><td>-38.0824</td><td>176.2122</td><td>EBOP-00010</td><td>38</td><td>...</td><td>6.241040718 </td><td>38.83610442</td><td>ok                                                  </td><td>9.98312095  </td><td>Worsening    </td><td>FALSE</td><td>Qtr    </td><td>NA</td><td>2000</td><td>Very likely worsening</td></tr>\n",
       "\t<tr><th scope=row>3</th><td>3</td><td>ECOLI</td><td>E. coli</td><td>cfu/100ml</td><td>WWL </td><td>4085815</td><td>-38.0795</td><td>177.1362</td><td>EBOP-00011</td><td>38</td><td>...</td><td>-23.56314936</td><td>90.18457384</td><td>ok                                                  </td><td>2.746276512 </td><td>Worsening    </td><td>TRUE </td><td>Qtr    </td><td>NA</td><td>2000</td><td>Likely worsening     </td></tr>\n",
       "\t<tr><th scope=row>4</th><td>4</td><td>ECOLI</td><td>E. coli</td><td>cfu/100ml</td><td>CWLk</td><td>4081484</td><td>-38.044 </td><td>176.3308</td><td>EBOP-00012</td><td>38</td><td>...</td><td>0           </td><td>0.809965979</td><td>ok                                                  </td><td>6.646951774 </td><td>Worsening    </td><td>TRUE </td><td>Qtr    </td><td>NA</td><td>2000</td><td>Very likely worsening</td></tr>\n",
       "\t<tr><th scope=row>5</th><td>5</td><td>ECOLI</td><td>E. coli</td><td>cfu/100ml</td><td>CWH </td><td>4083343</td><td>-38.0465</td><td>176.988 </td><td>EBOP-00042</td><td>38</td><td>...</td><td>0.587990625 </td><td>10.7212543 </td><td>ok                                                  </td><td>10.00919766 </td><td>Worsening    </td><td>TRUE </td><td>Qtr    </td><td>NA</td><td>2000</td><td>Very likely worsening</td></tr>\n",
       "\t<tr><th scope=row>6</th><td>6</td><td>ECOLI</td><td>E. coli</td><td>cfu/100ml</td><td>WXL </td><td>5063036</td><td>-37.6746</td><td>178.3481</td><td>GDC-00002 </td><td>36</td><td>...</td><td>-7.598926487</td><td>6.825007124</td><td>WARNING: Sen slope based on tied non-censored values</td><td>0           </td><td>Indeterminate</td><td>FALSE</td><td>Qtr    </td><td>NA</td><td>2000</td><td>Indeterminate        </td></tr>\n",
       "</tbody>\n",
       "</table>\n"
      ],
      "text/latex": [
       "A data.frame: 6 × 33\n",
       "\\begin{tabular}{r|lllllllllllllllllllll}\n",
       "  & field\\_1 & measure\\_ab & measure & units & sof & nzsegment & lat & long & s\\_id & n\\_obs & ... & sen\\_lci & sen\\_uci & analysis\\_note & percent\\_annual\\_change & trend\\_direction & seasonal & freq & period & end\\_year & trend\\_confidence\\\\\n",
       "  & <chr> & <chr> & <chr> & <chr> & <chr> & <chr> & <chr> & <chr> & <chr> & <chr> & ... & <chr> & <chr> & <chr> & <chr> & <chr> & <chr> & <chr> & <chr> & <chr> & <chr>\\\\\n",
       "\\hline\n",
       "\t1 & 1 & ECOLI & E. coli & cfu/100ml & WWL  & 5122005 & -38.4616 & 177.8767 & GDC-00027  & 54 & ... & -70.66574688 & 4.753992744 & ok                                                   & -5.500677702 & Improving     & FALSE & BiMonth & NA & 2000 & Very likely improving\\\\\n",
       "\t2 & 2 & ECOLI & E. coli & cfu/100ml & CWH  & 4084132 & -38.0824 & 176.2122 & EBOP-00010 & 38 & ... & 6.241040718  & 38.83610442 & ok                                                   & 9.98312095   & Worsening     & FALSE & Qtr     & NA & 2000 & Very likely worsening\\\\\n",
       "\t3 & 3 & ECOLI & E. coli & cfu/100ml & WWL  & 4085815 & -38.0795 & 177.1362 & EBOP-00011 & 38 & ... & -23.56314936 & 90.18457384 & ok                                                   & 2.746276512  & Worsening     & TRUE  & Qtr     & NA & 2000 & Likely worsening     \\\\\n",
       "\t4 & 4 & ECOLI & E. coli & cfu/100ml & CWLk & 4081484 & -38.044  & 176.3308 & EBOP-00012 & 38 & ... & 0            & 0.809965979 & ok                                                   & 6.646951774  & Worsening     & TRUE  & Qtr     & NA & 2000 & Very likely worsening\\\\\n",
       "\t5 & 5 & ECOLI & E. coli & cfu/100ml & CWH  & 4083343 & -38.0465 & 176.988  & EBOP-00042 & 38 & ... & 0.587990625  & 10.7212543  & ok                                                   & 10.00919766  & Worsening     & TRUE  & Qtr     & NA & 2000 & Very likely worsening\\\\\n",
       "\t6 & 6 & ECOLI & E. coli & cfu/100ml & WXL  & 5063036 & -37.6746 & 178.3481 & GDC-00002  & 36 & ... & -7.598926487 & 6.825007124 & WARNING: Sen slope based on tied non-censored values & 0            & Indeterminate & FALSE & Qtr     & NA & 2000 & Indeterminate        \\\\\n",
       "\\end{tabular}\n"
      ],
      "text/markdown": [
       "\n",
       "A data.frame: 6 × 33\n",
       "\n",
       "| <!--/--> | field_1 &lt;chr&gt; | measure_ab &lt;chr&gt; | measure &lt;chr&gt; | units &lt;chr&gt; | sof &lt;chr&gt; | nzsegment &lt;chr&gt; | lat &lt;chr&gt; | long &lt;chr&gt; | s_id &lt;chr&gt; | n_obs &lt;chr&gt; | ... ... | sen_lci &lt;chr&gt; | sen_uci &lt;chr&gt; | analysis_note &lt;chr&gt; | percent_annual_change &lt;chr&gt; | trend_direction &lt;chr&gt; | seasonal &lt;chr&gt; | freq &lt;chr&gt; | period &lt;chr&gt; | end_year &lt;chr&gt; | trend_confidence &lt;chr&gt; |\n",
       "|---|---|---|---|---|---|---|---|---|---|---|---|---|---|---|---|---|---|---|---|---|---|\n",
       "| 1 | 1 | ECOLI | E. coli | cfu/100ml | WWL  | 5122005 | -38.4616 | 177.8767 | GDC-00027  | 54 | ... | -70.66574688 | 4.753992744 | ok                                                   | -5.500677702 | Improving     | FALSE | BiMonth | NA | 2000 | Very likely improving |\n",
       "| 2 | 2 | ECOLI | E. coli | cfu/100ml | CWH  | 4084132 | -38.0824 | 176.2122 | EBOP-00010 | 38 | ... | 6.241040718  | 38.83610442 | ok                                                   | 9.98312095   | Worsening     | FALSE | Qtr     | NA | 2000 | Very likely worsening |\n",
       "| 3 | 3 | ECOLI | E. coli | cfu/100ml | WWL  | 4085815 | -38.0795 | 177.1362 | EBOP-00011 | 38 | ... | -23.56314936 | 90.18457384 | ok                                                   | 2.746276512  | Worsening     | TRUE  | Qtr     | NA | 2000 | Likely worsening      |\n",
       "| 4 | 4 | ECOLI | E. coli | cfu/100ml | CWLk | 4081484 | -38.044  | 176.3308 | EBOP-00012 | 38 | ... | 0            | 0.809965979 | ok                                                   | 6.646951774  | Worsening     | TRUE  | Qtr     | NA | 2000 | Very likely worsening |\n",
       "| 5 | 5 | ECOLI | E. coli | cfu/100ml | CWH  | 4083343 | -38.0465 | 176.988  | EBOP-00042 | 38 | ... | 0.587990625  | 10.7212543  | ok                                                   | 10.00919766  | Worsening     | TRUE  | Qtr     | NA | 2000 | Very likely worsening |\n",
       "| 6 | 6 | ECOLI | E. coli | cfu/100ml | WXL  | 5063036 | -37.6746 | 178.3481 | GDC-00002  | 36 | ... | -7.598926487 | 6.825007124 | WARNING: Sen slope based on tied non-censored values | 0            | Indeterminate | FALSE | Qtr     | NA | 2000 | Indeterminate         |\n",
       "\n"
      ],
      "text/plain": [
       "  field_1 measure_ab measure units     sof  nzsegment lat      long    \n",
       "1 1       ECOLI      E. coli cfu/100ml WWL  5122005   -38.4616 177.8767\n",
       "2 2       ECOLI      E. coli cfu/100ml CWH  4084132   -38.0824 176.2122\n",
       "3 3       ECOLI      E. coli cfu/100ml WWL  4085815   -38.0795 177.1362\n",
       "4 4       ECOLI      E. coli cfu/100ml CWLk 4081484   -38.044  176.3308\n",
       "5 5       ECOLI      E. coli cfu/100ml CWH  4083343   -38.0465 176.988 \n",
       "6 6       ECOLI      E. coli cfu/100ml WXL  5063036   -37.6746 178.3481\n",
       "  s_id       n_obs ... sen_lci      sen_uci    \n",
       "1 GDC-00027  54    ... -70.66574688 4.753992744\n",
       "2 EBOP-00010 38    ... 6.241040718  38.83610442\n",
       "3 EBOP-00011 38    ... -23.56314936 90.18457384\n",
       "4 EBOP-00012 38    ... 0            0.809965979\n",
       "5 EBOP-00042 38    ... 0.587990625  10.7212543 \n",
       "6 GDC-00002  36    ... -7.598926487 6.825007124\n",
       "  analysis_note                                        percent_annual_change\n",
       "1 ok                                                   -5.500677702         \n",
       "2 ok                                                   9.98312095           \n",
       "3 ok                                                   2.746276512          \n",
       "4 ok                                                   6.646951774          \n",
       "5 ok                                                   10.00919766          \n",
       "6 WARNING: Sen slope based on tied non-censored values 0                    \n",
       "  trend_direction seasonal freq    period end_year trend_confidence     \n",
       "1 Improving       FALSE    BiMonth NA     2000     Very likely improving\n",
       "2 Worsening       FALSE    Qtr     NA     2000     Very likely worsening\n",
       "3 Worsening       TRUE     Qtr     NA     2000     Likely worsening     \n",
       "4 Worsening       TRUE     Qtr     NA     2000     Very likely worsening\n",
       "5 Worsening       TRUE     Qtr     NA     2000     Very likely worsening\n",
       "6 Indeterminate   FALSE    Qtr     NA     2000     Indeterminate        "
      ]
     },
     "metadata": {},
     "output_type": "display_data"
    }
   ],
   "source": [
    "# Get the river quality E. coli dataset from MfE using their API service.\n",
    "# Then display the first six rows.\n",
    "river_ecoli <- get_data_from_mfe(\"e046a540d83e49248cbda9cce3f23c2e\", \"table-109662\")\n",
    "river_ecoli %>% \n",
    "    head()"
   ]
  },
  {
   "cell_type": "code",
   "execution_count": 12,
   "id": "4568382e",
   "metadata": {
    "scrolled": true
   },
   "outputs": [
    {
     "data": {
      "text/html": [
       "<table class=\"dataframe\">\n",
       "<caption>A data.frame: 6 × 33</caption>\n",
       "<thead>\n",
       "\t<tr><th></th><th scope=col>field_1</th><th scope=col>measure_ab</th><th scope=col>measure</th><th scope=col>units</th><th scope=col>sof</th><th scope=col>nzsegment</th><th scope=col>lat</th><th scope=col>long</th><th scope=col>s_id</th><th scope=col>n_obs</th><th scope=col>...</th><th scope=col>sen_lci</th><th scope=col>sen_uci</th><th scope=col>analysis_note</th><th scope=col>percent_annual_change</th><th scope=col>trend_direction</th><th scope=col>seasonal</th><th scope=col>freq</th><th scope=col>period</th><th scope=col>end_year</th><th scope=col>trend_confidence</th></tr>\n",
       "\t<tr><th></th><th scope=col>&lt;chr&gt;</th><th scope=col>&lt;chr&gt;</th><th scope=col>&lt;chr&gt;</th><th scope=col>&lt;chr&gt;</th><th scope=col>&lt;chr&gt;</th><th scope=col>&lt;chr&gt;</th><th scope=col>&lt;chr&gt;</th><th scope=col>&lt;chr&gt;</th><th scope=col>&lt;chr&gt;</th><th scope=col>&lt;chr&gt;</th><th scope=col>...</th><th scope=col>&lt;chr&gt;</th><th scope=col>&lt;chr&gt;</th><th scope=col>&lt;chr&gt;</th><th scope=col>&lt;chr&gt;</th><th scope=col>&lt;chr&gt;</th><th scope=col>&lt;chr&gt;</th><th scope=col>&lt;chr&gt;</th><th scope=col>&lt;chr&gt;</th><th scope=col>&lt;chr&gt;</th><th scope=col>&lt;chr&gt;</th></tr>\n",
       "</thead>\n",
       "<tbody>\n",
       "\t<tr><th scope=row>1</th><td>1</td><td>NH4N</td><td>Ammoniacal nitrogen</td><td>g/m3</td><td>WWL</td><td>2038450</td><td>-36.8889</td><td>174.5221</td><td>ARC-00001</td><td>116</td><td>...</td><td>-0.000364871</td><td>0           </td><td>WARNING: Sen slope influenced by censored values    </td><td>0           </td><td>Improving    </td><td>FALSE</td><td>Month</td><td>NA</td><td>2000</td><td>Very likely improving</td></tr>\n",
       "\t<tr><th scope=row>2</th><td>2</td><td>NH4N</td><td>Ammoniacal nitrogen</td><td>g/m3</td><td>WWL</td><td>2031444</td><td>-36.345 </td><td>174.7118</td><td>ARC-00008</td><td>115</td><td>...</td><td>0           </td><td>0.00079865  </td><td>WARNING: Sen slope influenced by censored values    </td><td>0           </td><td>Worsening    </td><td>FALSE</td><td>Month</td><td>NA</td><td>2000</td><td>Likely worsening     </td></tr>\n",
       "\t<tr><th scope=row>3</th><td>3</td><td>NH4N</td><td>Ammoniacal nitrogen</td><td>g/m3</td><td>WWL</td><td>2038644</td><td>-36.8949</td><td>174.5947</td><td>ARC-00013</td><td>118</td><td>...</td><td>0           </td><td>0.001269986 </td><td>ok                                                  </td><td>2.325248281 </td><td>Worsening    </td><td>FALSE</td><td>Month</td><td>NA</td><td>2000</td><td>Very likely worsening</td></tr>\n",
       "\t<tr><th scope=row>4</th><td>4</td><td>NH4N</td><td>Ammoniacal nitrogen</td><td>g/m3</td><td>WDL</td><td>2040105</td><td>-36.9623</td><td>174.88  </td><td>ARC-00015</td><td>108</td><td>...</td><td>-0.002164356</td><td>0.00166666  </td><td>WARNING: Sen slope based on tied non-censored values</td><td>0           </td><td>Indeterminate</td><td>FALSE</td><td>Month</td><td>NA</td><td>2000</td><td>Indeterminate        </td></tr>\n",
       "\t<tr><th scope=row>5</th><td>5</td><td>NH4N</td><td>Ammoniacal nitrogen</td><td>g/m3</td><td>WDL</td><td>2035880</td><td>-36.732 </td><td>174.6947</td><td>ARC-00017</td><td>118</td><td>...</td><td>-0.009313005</td><td>-0.002790694</td><td>ok                                                  </td><td>-9.604112969</td><td>Improving    </td><td>FALSE</td><td>Month</td><td>NA</td><td>2000</td><td>Very likely improving</td></tr>\n",
       "\t<tr><th scope=row>6</th><td>6</td><td>NH4N</td><td>Ammoniacal nitrogen</td><td>g/m3</td><td>WWL</td><td>2033563</td><td>-36.551 </td><td>174.6605</td><td>ARC-00026</td><td>117</td><td>...</td><td>-0.000242512</td><td>0.00157275  </td><td>ok                                                  </td><td>1.727222315 </td><td>Worsening    </td><td>FALSE</td><td>Month</td><td>NA</td><td>2000</td><td>Likely worsening     </td></tr>\n",
       "</tbody>\n",
       "</table>\n"
      ],
      "text/latex": [
       "A data.frame: 6 × 33\n",
       "\\begin{tabular}{r|lllllllllllllllllllll}\n",
       "  & field\\_1 & measure\\_ab & measure & units & sof & nzsegment & lat & long & s\\_id & n\\_obs & ... & sen\\_lci & sen\\_uci & analysis\\_note & percent\\_annual\\_change & trend\\_direction & seasonal & freq & period & end\\_year & trend\\_confidence\\\\\n",
       "  & <chr> & <chr> & <chr> & <chr> & <chr> & <chr> & <chr> & <chr> & <chr> & <chr> & ... & <chr> & <chr> & <chr> & <chr> & <chr> & <chr> & <chr> & <chr> & <chr> & <chr>\\\\\n",
       "\\hline\n",
       "\t1 & 1 & NH4N & Ammoniacal nitrogen & g/m3 & WWL & 2038450 & -36.8889 & 174.5221 & ARC-00001 & 116 & ... & -0.000364871 & 0            & WARNING: Sen slope influenced by censored values     & 0            & Improving     & FALSE & Month & NA & 2000 & Very likely improving\\\\\n",
       "\t2 & 2 & NH4N & Ammoniacal nitrogen & g/m3 & WWL & 2031444 & -36.345  & 174.7118 & ARC-00008 & 115 & ... & 0            & 0.00079865   & WARNING: Sen slope influenced by censored values     & 0            & Worsening     & FALSE & Month & NA & 2000 & Likely worsening     \\\\\n",
       "\t3 & 3 & NH4N & Ammoniacal nitrogen & g/m3 & WWL & 2038644 & -36.8949 & 174.5947 & ARC-00013 & 118 & ... & 0            & 0.001269986  & ok                                                   & 2.325248281  & Worsening     & FALSE & Month & NA & 2000 & Very likely worsening\\\\\n",
       "\t4 & 4 & NH4N & Ammoniacal nitrogen & g/m3 & WDL & 2040105 & -36.9623 & 174.88   & ARC-00015 & 108 & ... & -0.002164356 & 0.00166666   & WARNING: Sen slope based on tied non-censored values & 0            & Indeterminate & FALSE & Month & NA & 2000 & Indeterminate        \\\\\n",
       "\t5 & 5 & NH4N & Ammoniacal nitrogen & g/m3 & WDL & 2035880 & -36.732  & 174.6947 & ARC-00017 & 118 & ... & -0.009313005 & -0.002790694 & ok                                                   & -9.604112969 & Improving     & FALSE & Month & NA & 2000 & Very likely improving\\\\\n",
       "\t6 & 6 & NH4N & Ammoniacal nitrogen & g/m3 & WWL & 2033563 & -36.551  & 174.6605 & ARC-00026 & 117 & ... & -0.000242512 & 0.00157275   & ok                                                   & 1.727222315  & Worsening     & FALSE & Month & NA & 2000 & Likely worsening     \\\\\n",
       "\\end{tabular}\n"
      ],
      "text/markdown": [
       "\n",
       "A data.frame: 6 × 33\n",
       "\n",
       "| <!--/--> | field_1 &lt;chr&gt; | measure_ab &lt;chr&gt; | measure &lt;chr&gt; | units &lt;chr&gt; | sof &lt;chr&gt; | nzsegment &lt;chr&gt; | lat &lt;chr&gt; | long &lt;chr&gt; | s_id &lt;chr&gt; | n_obs &lt;chr&gt; | ... ... | sen_lci &lt;chr&gt; | sen_uci &lt;chr&gt; | analysis_note &lt;chr&gt; | percent_annual_change &lt;chr&gt; | trend_direction &lt;chr&gt; | seasonal &lt;chr&gt; | freq &lt;chr&gt; | period &lt;chr&gt; | end_year &lt;chr&gt; | trend_confidence &lt;chr&gt; |\n",
       "|---|---|---|---|---|---|---|---|---|---|---|---|---|---|---|---|---|---|---|---|---|---|\n",
       "| 1 | 1 | NH4N | Ammoniacal nitrogen | g/m3 | WWL | 2038450 | -36.8889 | 174.5221 | ARC-00001 | 116 | ... | -0.000364871 | 0            | WARNING: Sen slope influenced by censored values     | 0            | Improving     | FALSE | Month | NA | 2000 | Very likely improving |\n",
       "| 2 | 2 | NH4N | Ammoniacal nitrogen | g/m3 | WWL | 2031444 | -36.345  | 174.7118 | ARC-00008 | 115 | ... | 0            | 0.00079865   | WARNING: Sen slope influenced by censored values     | 0            | Worsening     | FALSE | Month | NA | 2000 | Likely worsening      |\n",
       "| 3 | 3 | NH4N | Ammoniacal nitrogen | g/m3 | WWL | 2038644 | -36.8949 | 174.5947 | ARC-00013 | 118 | ... | 0            | 0.001269986  | ok                                                   | 2.325248281  | Worsening     | FALSE | Month | NA | 2000 | Very likely worsening |\n",
       "| 4 | 4 | NH4N | Ammoniacal nitrogen | g/m3 | WDL | 2040105 | -36.9623 | 174.88   | ARC-00015 | 108 | ... | -0.002164356 | 0.00166666   | WARNING: Sen slope based on tied non-censored values | 0            | Indeterminate | FALSE | Month | NA | 2000 | Indeterminate         |\n",
       "| 5 | 5 | NH4N | Ammoniacal nitrogen | g/m3 | WDL | 2035880 | -36.732  | 174.6947 | ARC-00017 | 118 | ... | -0.009313005 | -0.002790694 | ok                                                   | -9.604112969 | Improving     | FALSE | Month | NA | 2000 | Very likely improving |\n",
       "| 6 | 6 | NH4N | Ammoniacal nitrogen | g/m3 | WWL | 2033563 | -36.551  | 174.6605 | ARC-00026 | 117 | ... | -0.000242512 | 0.00157275   | ok                                                   | 1.727222315  | Worsening     | FALSE | Month | NA | 2000 | Likely worsening      |\n",
       "\n"
      ],
      "text/plain": [
       "  field_1 measure_ab measure             units sof nzsegment lat      long    \n",
       "1 1       NH4N       Ammoniacal nitrogen g/m3  WWL 2038450   -36.8889 174.5221\n",
       "2 2       NH4N       Ammoniacal nitrogen g/m3  WWL 2031444   -36.345  174.7118\n",
       "3 3       NH4N       Ammoniacal nitrogen g/m3  WWL 2038644   -36.8949 174.5947\n",
       "4 4       NH4N       Ammoniacal nitrogen g/m3  WDL 2040105   -36.9623 174.88  \n",
       "5 5       NH4N       Ammoniacal nitrogen g/m3  WDL 2035880   -36.732  174.6947\n",
       "6 6       NH4N       Ammoniacal nitrogen g/m3  WWL 2033563   -36.551  174.6605\n",
       "  s_id      n_obs ... sen_lci      sen_uci     \n",
       "1 ARC-00001 116   ... -0.000364871 0           \n",
       "2 ARC-00008 115   ... 0            0.00079865  \n",
       "3 ARC-00013 118   ... 0            0.001269986 \n",
       "4 ARC-00015 108   ... -0.002164356 0.00166666  \n",
       "5 ARC-00017 118   ... -0.009313005 -0.002790694\n",
       "6 ARC-00026 117   ... -0.000242512 0.00157275  \n",
       "  analysis_note                                        percent_annual_change\n",
       "1 WARNING: Sen slope influenced by censored values     0                    \n",
       "2 WARNING: Sen slope influenced by censored values     0                    \n",
       "3 ok                                                   2.325248281          \n",
       "4 WARNING: Sen slope based on tied non-censored values 0                    \n",
       "5 ok                                                   -9.604112969         \n",
       "6 ok                                                   1.727222315          \n",
       "  trend_direction seasonal freq  period end_year trend_confidence     \n",
       "1 Improving       FALSE    Month NA     2000     Very likely improving\n",
       "2 Worsening       FALSE    Month NA     2000     Likely worsening     \n",
       "3 Worsening       FALSE    Month NA     2000     Very likely worsening\n",
       "4 Indeterminate   FALSE    Month NA     2000     Indeterminate        \n",
       "5 Improving       FALSE    Month NA     2000     Very likely improving\n",
       "6 Worsening       FALSE    Month NA     2000     Likely worsening     "
      ]
     },
     "metadata": {},
     "output_type": "display_data"
    }
   ],
   "source": [
    "# Get the river quality nitrogen dataset from MfE using their API service.\n",
    "# Then display the first six rows.\n",
    "river_nitrogen <- get_data_from_mfe(\"e046a540d83e49248cbda9cce3f23c2e\", \"table-109659\")\n",
    "river_nitrogen %>% \n",
    "    head()"
   ]
  },
  {
   "cell_type": "code",
   "execution_count": 27,
   "id": "8f74558f",
   "metadata": {},
   "outputs": [
    {
     "ename": "ERROR",
     "evalue": "Error: `path` does not exist: 'https://raw.githubusercontent.com/beuri97/data201_gp/water_quality/data/groundwq_2004-2020.xlsx'\n",
     "output_type": "error",
     "traceback": [
      "Error: `path` does not exist: 'https://raw.githubusercontent.com/beuri97/data201_gp/water_quality/data/groundwq_2004-2020.xlsx'\nTraceback:\n",
      "1. \"https://raw.githubusercontent.com/beuri97/data201_gp/water_quality/data/groundwq_2004-2020.xlsx\" %>% \n .     read_excel()",
      "2. read_excel(.)",
      "3. check_file(path)",
      "4. stop(\"`path` does not exist: \", sQuote(path), call. = FALSE)"
     ]
    }
   ],
   "source": [
    "# Read the groundwq_2004-2020.xlsx hosted in GitHub and store it as groundwq for analysis.\n",
    "groundwq <- \"https://raw.githubusercontent.com/beuri97/data201_gp/water_quality/data/groundwq_2004-2020.xlsx\" %>% \n",
    "  read_excel()\n",
    "groundwq %>% \n",
    "    head()"
   ]
  },
  {
   "cell_type": "markdown",
   "id": "32879a23",
   "metadata": {},
   "source": [
    "<p style=\"text-align: justify\"> We used the web and API services of the Ministry for the Environment to get the river quality datasets available in their database. However, the groundwater dataset in their database is incomplete. So instead, we downloaded the dataset available on the LAWA website and uploaded it on GitHub, then copied the link and used it to read the dataset in R. </p>"
   ]
  },
  {
   "cell_type": "markdown",
   "id": "632e8d4c",
   "metadata": {},
   "source": [
    "<h2>Conversion and Saving Data to CSV File</h2>"
   ]
  },
  {
   "cell_type": "code",
   "execution_count": 13,
   "id": "2fef08d9",
   "metadata": {},
   "outputs": [],
   "source": [
    "# Takes the available latitude and longitude information from the dataset then convert it to full address.\n",
    "convert_lat_long <- function(df, lat, long){\n",
    "    converted_df <- df %>%\n",
    "    reverse_geocode(lat = lat, long = long, \n",
    "                    method = \"osm\", full_results = TRUE)\n",
    "    return(converted_df)\n",
    "}"
   ]
  },
  {
   "cell_type": "code",
   "execution_count": 14,
   "id": "e185547e",
   "metadata": {},
   "outputs": [
    {
     "name": "stderr",
     "output_type": "stream",
     "text": [
      "Passing 931 coordinates to the Nominatim single coordinate geocoder\n",
      "\n",
      "Query completed in: 932.9 seconds\n",
      "\n"
     ]
    },
    {
     "data": {
      "text/html": [
       "<table class=\"dataframe\">\n",
       "<caption>A tibble: 6 × 69</caption>\n",
       "<thead>\n",
       "\t<tr><th scope=col>field_1</th><th scope=col>measure_ab</th><th scope=col>measure</th><th scope=col>units</th><th scope=col>sof</th><th scope=col>nzsegment</th><th scope=col>lat</th><th scope=col>long</th><th scope=col>s_id</th><th scope=col>n_obs</th><th scope=col>...</th><th scope=col>amenity</th><th scope=col>railway</th><th scope=col>neighbourhood</th><th scope=col>leisure</th><th scope=col>city_district</th><th scope=col>craft</th><th scope=col>historic</th><th scope=col>quarter</th><th scope=col>farm</th><th scope=col>shop</th></tr>\n",
       "\t<tr><th scope=col>&lt;chr&gt;</th><th scope=col>&lt;chr&gt;</th><th scope=col>&lt;chr&gt;</th><th scope=col>&lt;chr&gt;</th><th scope=col>&lt;chr&gt;</th><th scope=col>&lt;chr&gt;</th><th scope=col>&lt;chr&gt;</th><th scope=col>&lt;chr&gt;</th><th scope=col>&lt;chr&gt;</th><th scope=col>&lt;chr&gt;</th><th scope=col>...</th><th scope=col>&lt;chr&gt;</th><th scope=col>&lt;chr&gt;</th><th scope=col>&lt;chr&gt;</th><th scope=col>&lt;chr&gt;</th><th scope=col>&lt;chr&gt;</th><th scope=col>&lt;chr&gt;</th><th scope=col>&lt;chr&gt;</th><th scope=col>&lt;chr&gt;</th><th scope=col>&lt;chr&gt;</th><th scope=col>&lt;chr&gt;</th></tr>\n",
       "</thead>\n",
       "<tbody>\n",
       "\t<tr><td>1</td><td>ECOLI</td><td>E. coli</td><td>cfu/100ml</td><td>WWL </td><td>5122005</td><td>-38.4616</td><td>177.8767</td><td>GDC-00027 </td><td>54</td><td>...</td><td>NA</td><td>NA</td><td>NA</td><td>NA</td><td>NA</td><td>NA</td><td>NA</td><td>NA</td><td>NA</td><td>NA</td></tr>\n",
       "\t<tr><td>2</td><td>ECOLI</td><td>E. coli</td><td>cfu/100ml</td><td>CWH </td><td>4084132</td><td>-38.0824</td><td>176.2122</td><td>EBOP-00010</td><td>38</td><td>...</td><td>NA</td><td>NA</td><td>NA</td><td>NA</td><td>NA</td><td>NA</td><td>NA</td><td>NA</td><td>NA</td><td>NA</td></tr>\n",
       "\t<tr><td>3</td><td>ECOLI</td><td>E. coli</td><td>cfu/100ml</td><td>WWL </td><td>4085815</td><td>-38.0795</td><td>177.1362</td><td>EBOP-00011</td><td>38</td><td>...</td><td>NA</td><td>NA</td><td>NA</td><td>NA</td><td>NA</td><td>NA</td><td>NA</td><td>NA</td><td>NA</td><td>NA</td></tr>\n",
       "\t<tr><td>4</td><td>ECOLI</td><td>E. coli</td><td>cfu/100ml</td><td>CWLk</td><td>4081484</td><td>-38.044 </td><td>176.3308</td><td>EBOP-00012</td><td>38</td><td>...</td><td>NA</td><td>NA</td><td>NA</td><td>NA</td><td>NA</td><td>NA</td><td>NA</td><td>NA</td><td>NA</td><td>NA</td></tr>\n",
       "\t<tr><td>5</td><td>ECOLI</td><td>E. coli</td><td>cfu/100ml</td><td>CWH </td><td>4083343</td><td>-38.0465</td><td>176.988 </td><td>EBOP-00042</td><td>38</td><td>...</td><td>NA</td><td>NA</td><td>NA</td><td>NA</td><td>NA</td><td>NA</td><td>NA</td><td>NA</td><td>NA</td><td>NA</td></tr>\n",
       "\t<tr><td>6</td><td>ECOLI</td><td>E. coli</td><td>cfu/100ml</td><td>WXL </td><td>5063036</td><td>-37.6746</td><td>178.3481</td><td>GDC-00002 </td><td>36</td><td>...</td><td>NA</td><td>NA</td><td>NA</td><td>NA</td><td>NA</td><td>NA</td><td>NA</td><td>NA</td><td>NA</td><td>NA</td></tr>\n",
       "</tbody>\n",
       "</table>\n"
      ],
      "text/latex": [
       "A tibble: 6 × 69\n",
       "\\begin{tabular}{lllllllllllllllllllll}\n",
       " field\\_1 & measure\\_ab & measure & units & sof & nzsegment & lat & long & s\\_id & n\\_obs & ... & amenity & railway & neighbourhood & leisure & city\\_district & craft & historic & quarter & farm & shop\\\\\n",
       " <chr> & <chr> & <chr> & <chr> & <chr> & <chr> & <chr> & <chr> & <chr> & <chr> & ... & <chr> & <chr> & <chr> & <chr> & <chr> & <chr> & <chr> & <chr> & <chr> & <chr>\\\\\n",
       "\\hline\n",
       "\t 1 & ECOLI & E. coli & cfu/100ml & WWL  & 5122005 & -38.4616 & 177.8767 & GDC-00027  & 54 & ... & NA & NA & NA & NA & NA & NA & NA & NA & NA & NA\\\\\n",
       "\t 2 & ECOLI & E. coli & cfu/100ml & CWH  & 4084132 & -38.0824 & 176.2122 & EBOP-00010 & 38 & ... & NA & NA & NA & NA & NA & NA & NA & NA & NA & NA\\\\\n",
       "\t 3 & ECOLI & E. coli & cfu/100ml & WWL  & 4085815 & -38.0795 & 177.1362 & EBOP-00011 & 38 & ... & NA & NA & NA & NA & NA & NA & NA & NA & NA & NA\\\\\n",
       "\t 4 & ECOLI & E. coli & cfu/100ml & CWLk & 4081484 & -38.044  & 176.3308 & EBOP-00012 & 38 & ... & NA & NA & NA & NA & NA & NA & NA & NA & NA & NA\\\\\n",
       "\t 5 & ECOLI & E. coli & cfu/100ml & CWH  & 4083343 & -38.0465 & 176.988  & EBOP-00042 & 38 & ... & NA & NA & NA & NA & NA & NA & NA & NA & NA & NA\\\\\n",
       "\t 6 & ECOLI & E. coli & cfu/100ml & WXL  & 5063036 & -37.6746 & 178.3481 & GDC-00002  & 36 & ... & NA & NA & NA & NA & NA & NA & NA & NA & NA & NA\\\\\n",
       "\\end{tabular}\n"
      ],
      "text/markdown": [
       "\n",
       "A tibble: 6 × 69\n",
       "\n",
       "| field_1 &lt;chr&gt; | measure_ab &lt;chr&gt; | measure &lt;chr&gt; | units &lt;chr&gt; | sof &lt;chr&gt; | nzsegment &lt;chr&gt; | lat &lt;chr&gt; | long &lt;chr&gt; | s_id &lt;chr&gt; | n_obs &lt;chr&gt; | ... ... | amenity &lt;chr&gt; | railway &lt;chr&gt; | neighbourhood &lt;chr&gt; | leisure &lt;chr&gt; | city_district &lt;chr&gt; | craft &lt;chr&gt; | historic &lt;chr&gt; | quarter &lt;chr&gt; | farm &lt;chr&gt; | shop &lt;chr&gt; |\n",
       "|---|---|---|---|---|---|---|---|---|---|---|---|---|---|---|---|---|---|---|---|---|\n",
       "| 1 | ECOLI | E. coli | cfu/100ml | WWL  | 5122005 | -38.4616 | 177.8767 | GDC-00027  | 54 | ... | NA | NA | NA | NA | NA | NA | NA | NA | NA | NA |\n",
       "| 2 | ECOLI | E. coli | cfu/100ml | CWH  | 4084132 | -38.0824 | 176.2122 | EBOP-00010 | 38 | ... | NA | NA | NA | NA | NA | NA | NA | NA | NA | NA |\n",
       "| 3 | ECOLI | E. coli | cfu/100ml | WWL  | 4085815 | -38.0795 | 177.1362 | EBOP-00011 | 38 | ... | NA | NA | NA | NA | NA | NA | NA | NA | NA | NA |\n",
       "| 4 | ECOLI | E. coli | cfu/100ml | CWLk | 4081484 | -38.044  | 176.3308 | EBOP-00012 | 38 | ... | NA | NA | NA | NA | NA | NA | NA | NA | NA | NA |\n",
       "| 5 | ECOLI | E. coli | cfu/100ml | CWH  | 4083343 | -38.0465 | 176.988  | EBOP-00042 | 38 | ... | NA | NA | NA | NA | NA | NA | NA | NA | NA | NA |\n",
       "| 6 | ECOLI | E. coli | cfu/100ml | WXL  | 5063036 | -37.6746 | 178.3481 | GDC-00002  | 36 | ... | NA | NA | NA | NA | NA | NA | NA | NA | NA | NA |\n",
       "\n"
      ],
      "text/plain": [
       "  field_1 measure_ab measure units     sof  nzsegment lat      long    \n",
       "1 1       ECOLI      E. coli cfu/100ml WWL  5122005   -38.4616 177.8767\n",
       "2 2       ECOLI      E. coli cfu/100ml CWH  4084132   -38.0824 176.2122\n",
       "3 3       ECOLI      E. coli cfu/100ml WWL  4085815   -38.0795 177.1362\n",
       "4 4       ECOLI      E. coli cfu/100ml CWLk 4081484   -38.044  176.3308\n",
       "5 5       ECOLI      E. coli cfu/100ml CWH  4083343   -38.0465 176.988 \n",
       "6 6       ECOLI      E. coli cfu/100ml WXL  5063036   -37.6746 178.3481\n",
       "  s_id       n_obs ... amenity railway neighbourhood leisure city_district\n",
       "1 GDC-00027  54    ... NA      NA      NA            NA      NA           \n",
       "2 EBOP-00010 38    ... NA      NA      NA            NA      NA           \n",
       "3 EBOP-00011 38    ... NA      NA      NA            NA      NA           \n",
       "4 EBOP-00012 38    ... NA      NA      NA            NA      NA           \n",
       "5 EBOP-00042 38    ... NA      NA      NA            NA      NA           \n",
       "6 GDC-00002  36    ... NA      NA      NA            NA      NA           \n",
       "  craft historic quarter farm shop\n",
       "1 NA    NA       NA      NA   NA  \n",
       "2 NA    NA       NA      NA   NA  \n",
       "3 NA    NA       NA      NA   NA  \n",
       "4 NA    NA       NA      NA   NA  \n",
       "5 NA    NA       NA      NA   NA  \n",
       "6 NA    NA       NA      NA   NA  "
      ]
     },
     "metadata": {},
     "output_type": "display_data"
    }
   ],
   "source": [
    "## Takes the river_ecoli, and converts the provided latitudes and longitudes to add new columns containing the \n",
    "## address of the river sites. Then displays the first six rows.\n",
    "# new_riverecoli <- convert_lat_long(river_ecoli, river_ecoli$lat, river_ecoli$long)\n",
    "# new_riverecoli %>% head()"
   ]
  },
  {
   "cell_type": "code",
   "execution_count": 15,
   "id": "dd302b0f",
   "metadata": {},
   "outputs": [
    {
     "name": "stderr",
     "output_type": "stream",
     "text": [
      "Warning message in (function (lat, long, method = \"osm\", address = \"address\", limit = 1, :\n",
      "\"NAs introduced by coercion\"\n",
      "Warning message in (function (lat, long, method = \"osm\", address = \"address\", limit = 1, :\n",
      "\"NAs introduced by coercion\"\n",
      "Passing 944 coordinates to the Nominatim single coordinate geocoder\n",
      "\n",
      "Query completed in: 946.1 seconds\n",
      "\n"
     ]
    },
    {
     "data": {
      "text/html": [
       "<table class=\"dataframe\">\n",
       "<caption>A tibble: 6 × 69</caption>\n",
       "<thead>\n",
       "\t<tr><th scope=col>field_1</th><th scope=col>measure_ab</th><th scope=col>measure</th><th scope=col>units</th><th scope=col>sof</th><th scope=col>nzsegment</th><th scope=col>lat</th><th scope=col>long</th><th scope=col>s_id</th><th scope=col>n_obs</th><th scope=col>...</th><th scope=col>neighbourhood</th><th scope=col>shop</th><th scope=col>building</th><th scope=col>farm</th><th scope=col>highway</th><th scope=col>railway</th><th scope=col>city_district</th><th scope=col>craft</th><th scope=col>quarter</th><th scope=col>historic</th></tr>\n",
       "\t<tr><th scope=col>&lt;chr&gt;</th><th scope=col>&lt;chr&gt;</th><th scope=col>&lt;chr&gt;</th><th scope=col>&lt;chr&gt;</th><th scope=col>&lt;chr&gt;</th><th scope=col>&lt;chr&gt;</th><th scope=col>&lt;chr&gt;</th><th scope=col>&lt;chr&gt;</th><th scope=col>&lt;chr&gt;</th><th scope=col>&lt;chr&gt;</th><th scope=col>...</th><th scope=col>&lt;chr&gt;</th><th scope=col>&lt;chr&gt;</th><th scope=col>&lt;chr&gt;</th><th scope=col>&lt;chr&gt;</th><th scope=col>&lt;chr&gt;</th><th scope=col>&lt;chr&gt;</th><th scope=col>&lt;chr&gt;</th><th scope=col>&lt;chr&gt;</th><th scope=col>&lt;chr&gt;</th><th scope=col>&lt;chr&gt;</th></tr>\n",
       "</thead>\n",
       "<tbody>\n",
       "\t<tr><td>1</td><td>NH4N</td><td>Ammoniacal nitrogen</td><td>g/m3</td><td>WWL</td><td>2038450</td><td>-36.8889</td><td>174.5221</td><td>ARC-00001</td><td>116</td><td>...</td><td>NA</td><td>NA</td><td>NA</td><td>NA</td><td>NA</td><td>NA</td><td>NA</td><td>NA</td><td>NA</td><td>NA</td></tr>\n",
       "\t<tr><td>2</td><td>NH4N</td><td>Ammoniacal nitrogen</td><td>g/m3</td><td>WWL</td><td>2031444</td><td>-36.345 </td><td>174.7118</td><td>ARC-00008</td><td>115</td><td>...</td><td>NA</td><td>NA</td><td>NA</td><td>NA</td><td>NA</td><td>NA</td><td>NA</td><td>NA</td><td>NA</td><td>NA</td></tr>\n",
       "\t<tr><td>3</td><td>NH4N</td><td>Ammoniacal nitrogen</td><td>g/m3</td><td>WWL</td><td>2038644</td><td>-36.8949</td><td>174.5947</td><td>ARC-00013</td><td>118</td><td>...</td><td>NA</td><td>NA</td><td>NA</td><td>NA</td><td>NA</td><td>NA</td><td>NA</td><td>NA</td><td>NA</td><td>NA</td></tr>\n",
       "\t<tr><td>4</td><td>NH4N</td><td>Ammoniacal nitrogen</td><td>g/m3</td><td>WDL</td><td>2040105</td><td>-36.9623</td><td>174.88  </td><td>ARC-00015</td><td>108</td><td>...</td><td>NA</td><td>NA</td><td>NA</td><td>NA</td><td>NA</td><td>NA</td><td>NA</td><td>NA</td><td>NA</td><td>NA</td></tr>\n",
       "\t<tr><td>5</td><td>NH4N</td><td>Ammoniacal nitrogen</td><td>g/m3</td><td>WDL</td><td>2035880</td><td>-36.732 </td><td>174.6947</td><td>ARC-00017</td><td>118</td><td>...</td><td>NA</td><td>NA</td><td>NA</td><td>NA</td><td>NA</td><td>NA</td><td>NA</td><td>NA</td><td>NA</td><td>NA</td></tr>\n",
       "\t<tr><td>6</td><td>NH4N</td><td>Ammoniacal nitrogen</td><td>g/m3</td><td>WWL</td><td>2033563</td><td>-36.551 </td><td>174.6605</td><td>ARC-00026</td><td>117</td><td>...</td><td>NA</td><td>NA</td><td>NA</td><td>NA</td><td>NA</td><td>NA</td><td>NA</td><td>NA</td><td>NA</td><td>NA</td></tr>\n",
       "</tbody>\n",
       "</table>\n"
      ],
      "text/latex": [
       "A tibble: 6 × 69\n",
       "\\begin{tabular}{lllllllllllllllllllll}\n",
       " field\\_1 & measure\\_ab & measure & units & sof & nzsegment & lat & long & s\\_id & n\\_obs & ... & neighbourhood & shop & building & farm & highway & railway & city\\_district & craft & quarter & historic\\\\\n",
       " <chr> & <chr> & <chr> & <chr> & <chr> & <chr> & <chr> & <chr> & <chr> & <chr> & ... & <chr> & <chr> & <chr> & <chr> & <chr> & <chr> & <chr> & <chr> & <chr> & <chr>\\\\\n",
       "\\hline\n",
       "\t 1 & NH4N & Ammoniacal nitrogen & g/m3 & WWL & 2038450 & -36.8889 & 174.5221 & ARC-00001 & 116 & ... & NA & NA & NA & NA & NA & NA & NA & NA & NA & NA\\\\\n",
       "\t 2 & NH4N & Ammoniacal nitrogen & g/m3 & WWL & 2031444 & -36.345  & 174.7118 & ARC-00008 & 115 & ... & NA & NA & NA & NA & NA & NA & NA & NA & NA & NA\\\\\n",
       "\t 3 & NH4N & Ammoniacal nitrogen & g/m3 & WWL & 2038644 & -36.8949 & 174.5947 & ARC-00013 & 118 & ... & NA & NA & NA & NA & NA & NA & NA & NA & NA & NA\\\\\n",
       "\t 4 & NH4N & Ammoniacal nitrogen & g/m3 & WDL & 2040105 & -36.9623 & 174.88   & ARC-00015 & 108 & ... & NA & NA & NA & NA & NA & NA & NA & NA & NA & NA\\\\\n",
       "\t 5 & NH4N & Ammoniacal nitrogen & g/m3 & WDL & 2035880 & -36.732  & 174.6947 & ARC-00017 & 118 & ... & NA & NA & NA & NA & NA & NA & NA & NA & NA & NA\\\\\n",
       "\t 6 & NH4N & Ammoniacal nitrogen & g/m3 & WWL & 2033563 & -36.551  & 174.6605 & ARC-00026 & 117 & ... & NA & NA & NA & NA & NA & NA & NA & NA & NA & NA\\\\\n",
       "\\end{tabular}\n"
      ],
      "text/markdown": [
       "\n",
       "A tibble: 6 × 69\n",
       "\n",
       "| field_1 &lt;chr&gt; | measure_ab &lt;chr&gt; | measure &lt;chr&gt; | units &lt;chr&gt; | sof &lt;chr&gt; | nzsegment &lt;chr&gt; | lat &lt;chr&gt; | long &lt;chr&gt; | s_id &lt;chr&gt; | n_obs &lt;chr&gt; | ... ... | neighbourhood &lt;chr&gt; | shop &lt;chr&gt; | building &lt;chr&gt; | farm &lt;chr&gt; | highway &lt;chr&gt; | railway &lt;chr&gt; | city_district &lt;chr&gt; | craft &lt;chr&gt; | quarter &lt;chr&gt; | historic &lt;chr&gt; |\n",
       "|---|---|---|---|---|---|---|---|---|---|---|---|---|---|---|---|---|---|---|---|---|\n",
       "| 1 | NH4N | Ammoniacal nitrogen | g/m3 | WWL | 2038450 | -36.8889 | 174.5221 | ARC-00001 | 116 | ... | NA | NA | NA | NA | NA | NA | NA | NA | NA | NA |\n",
       "| 2 | NH4N | Ammoniacal nitrogen | g/m3 | WWL | 2031444 | -36.345  | 174.7118 | ARC-00008 | 115 | ... | NA | NA | NA | NA | NA | NA | NA | NA | NA | NA |\n",
       "| 3 | NH4N | Ammoniacal nitrogen | g/m3 | WWL | 2038644 | -36.8949 | 174.5947 | ARC-00013 | 118 | ... | NA | NA | NA | NA | NA | NA | NA | NA | NA | NA |\n",
       "| 4 | NH4N | Ammoniacal nitrogen | g/m3 | WDL | 2040105 | -36.9623 | 174.88   | ARC-00015 | 108 | ... | NA | NA | NA | NA | NA | NA | NA | NA | NA | NA |\n",
       "| 5 | NH4N | Ammoniacal nitrogen | g/m3 | WDL | 2035880 | -36.732  | 174.6947 | ARC-00017 | 118 | ... | NA | NA | NA | NA | NA | NA | NA | NA | NA | NA |\n",
       "| 6 | NH4N | Ammoniacal nitrogen | g/m3 | WWL | 2033563 | -36.551  | 174.6605 | ARC-00026 | 117 | ... | NA | NA | NA | NA | NA | NA | NA | NA | NA | NA |\n",
       "\n"
      ],
      "text/plain": [
       "  field_1 measure_ab measure             units sof nzsegment lat      long    \n",
       "1 1       NH4N       Ammoniacal nitrogen g/m3  WWL 2038450   -36.8889 174.5221\n",
       "2 2       NH4N       Ammoniacal nitrogen g/m3  WWL 2031444   -36.345  174.7118\n",
       "3 3       NH4N       Ammoniacal nitrogen g/m3  WWL 2038644   -36.8949 174.5947\n",
       "4 4       NH4N       Ammoniacal nitrogen g/m3  WDL 2040105   -36.9623 174.88  \n",
       "5 5       NH4N       Ammoniacal nitrogen g/m3  WDL 2035880   -36.732  174.6947\n",
       "6 6       NH4N       Ammoniacal nitrogen g/m3  WWL 2033563   -36.551  174.6605\n",
       "  s_id      n_obs ... neighbourhood shop building farm highway railway\n",
       "1 ARC-00001 116   ... NA            NA   NA       NA   NA      NA     \n",
       "2 ARC-00008 115   ... NA            NA   NA       NA   NA      NA     \n",
       "3 ARC-00013 118   ... NA            NA   NA       NA   NA      NA     \n",
       "4 ARC-00015 108   ... NA            NA   NA       NA   NA      NA     \n",
       "5 ARC-00017 118   ... NA            NA   NA       NA   NA      NA     \n",
       "6 ARC-00026 117   ... NA            NA   NA       NA   NA      NA     \n",
       "  city_district craft quarter historic\n",
       "1 NA            NA    NA      NA      \n",
       "2 NA            NA    NA      NA      \n",
       "3 NA            NA    NA      NA      \n",
       "4 NA            NA    NA      NA      \n",
       "5 NA            NA    NA      NA      \n",
       "6 NA            NA    NA      NA      "
      ]
     },
     "metadata": {},
     "output_type": "display_data"
    }
   ],
   "source": [
    "## Takes the river_nitrogen, and converts the provided latitudes and longitudes to add new columns containing the \n",
    "## address of the river sites. Then displays the first six rows.\n",
    "# new_rivernitrogen <- convert_lat_long(river_nitrogen, river_nitrogen$lat, river_nitrogen$long)\n",
    "# new_rivernitrogen %>% head()"
   ]
  },
  {
   "cell_type": "code",
   "execution_count": 18,
   "id": "d73154e6",
   "metadata": {},
   "outputs": [],
   "source": [
    "## Write the new dataset as CSVs for use.\n",
    "# write_csv(new_riverecoli, \"new_river_ecoli.csv\")\n",
    "# write_csv(new_rivernitrogen, \"new_river_nitrogen.csv\")"
   ]
  },
  {
   "cell_type": "markdown",
   "id": "aec6be42",
   "metadata": {},
   "source": [
    "<p style=\"text-align: justify\"> Region is one of the crucial variables in our dataset for relating datasets. Unfortunately, the river quality datasets we obtained from MfE only have the coordinates for the sites, so we decided to create a helper function using the `reverse_geocode` from `tidygeocoder` that takes latitude and longitude to find locations using geocoding methods. We then created new datasets containing the areas acquired from the conversion. We commented out the conversion and writing of new datasets, as the conversion process takes a lot of time, and we decided to use the links of the datasets we uploaded on GitHub. </p>"
   ]
  },
  {
   "cell_type": "markdown",
   "id": "fe294346",
   "metadata": {},
   "source": [
    "<h2>Groundwater Quality</h2>"
   ]
  },
  {
   "cell_type": "code",
   "execution_count": null,
   "id": "30b09d76",
   "metadata": {},
   "outputs": [],
   "source": [
    "# Gives an overview of groundwq such as columns, data types, the possible values, number of rows and columns.\n",
    "groundwq %>% \n",
    "  glimpse()"
   ]
  },
  {
   "cell_type": "code",
   "execution_count": null,
   "id": "22bb94cc",
   "metadata": {},
   "outputs": [],
   "source": [
    "# Reads the entirety of groundwq and creates a plot to check if it contains missing data (NA).\n",
    "groundwq %>% \n",
    "  vis_miss(warn_large_data = FALSE)"
   ]
  },
  {
   "cell_type": "code",
   "execution_count": null,
   "id": "112e65f0",
   "metadata": {},
   "outputs": [],
   "source": [
    "# Takes the groundwq modify and rename CensoredValue, Date, and Units, select the relevant columns \n",
    "# and rows, group the rows by Region, Indicator, and Year then create an new data frame containing the sum of\n",
    "# the CensoredValue rounded off to 2.\n",
    "new_groundwq <- groundwq %>% \n",
    "  mutate(CensoredValue = ifelse(is.na(CensoredValue), NA_integer_, CensoredValue),\n",
    "         Year = year(Date),\n",
    "         Units = case_when(Indicator == \"E.coli\" ~ \"cfu/100ml\", TRUE ~ \"g/m3\"),\n",
    "         Region = case_when(Region == \"Hawkes Bay\" ~ \"Hawke's Bay\", TRUE ~ Region)) %>% \n",
    "  select(Region, Indicator, Units, Year, CensoredValue) %>% \n",
    "  filter(Indicator %in% c(\"E.coli\", \"Nitrate nitrogen\"), Year >= 2002, Year <= 2019) %>% \n",
    "  group_by(Region, Indicator, Year) %>% \n",
    "  na.omit() %>% \n",
    "  summarise(Total_MedVal = round(sum(CensoredValue), 2)) %>% \n",
    "  distinct()"
   ]
  },
  {
   "cell_type": "code",
   "execution_count": null,
   "id": "6375bb1c",
   "metadata": {},
   "outputs": [],
   "source": [
    "# Takes the new_groundwq then convert it to wide format.\n",
    "groundwq_wide <- new_groundwq %>% \n",
    "  spread(key = Indicator,\n",
    "         value = Total_MedVal) %>% \n",
    "  mutate(`E.coli (cfu/100ml)` = E.coli, `Nitrate nitrogen (g/m3)` = `Nitrate nitrogen`) %>% \n",
    "  select(-c(\"E.coli\", \"Nitrate nitrogen\"))\n",
    "groundwq_wide"
   ]
  },
  {
   "cell_type": "markdown",
   "id": "a148f0db",
   "metadata": {},
   "source": [
    "<h2>River Quality (E.coli)</h2>"
   ]
  },
  {
   "cell_type": "code",
   "execution_count": null,
   "id": "5cd9a40f",
   "metadata": {},
   "outputs": [],
   "source": [
    "# Load 'new_river_ecoli.csv' data\n",
    "river_ecoli <- \"new_river_ecoli.csv\" %>% \n",
    "  read_csv()"
   ]
  },
  {
   "cell_type": "code",
   "execution_count": null,
   "id": "dc2ee6c0",
   "metadata": {},
   "outputs": [],
   "source": [
    "# Gives an overview of river_ecoli such as columns, data types, the possible values, number of rows and columns.\n",
    "river_ecoli %>% \n",
    "    glimpse()"
   ]
  },
  {
   "cell_type": "code",
   "execution_count": null,
   "id": "5eaa556f",
   "metadata": {},
   "outputs": [],
   "source": [
    "# Reads the entirety of river_ecoli and creates a plot to check if it contains missing data (NA).\n",
    "river_ecoli %>% \n",
    "  vis_miss()"
   ]
  },
  {
   "cell_type": "code",
   "execution_count": null,
   "id": "a65c129c",
   "metadata": {},
   "outputs": [],
   "source": [
    "# Select and rename the columns we need.\n",
    "river_ecoli <- river_ecoli %>% \n",
    "  rename(Region = state, Year = end_year, Indicator = measure, Median = median, \n",
    "         Units = units) %>% \n",
    "  select(Region, Year, Indicator, Median, Units)"
   ]
  },
  {
   "cell_type": "code",
   "execution_count": null,
   "id": "0faaadc2",
   "metadata": {},
   "outputs": [],
   "source": [
    "# Check for missing data again (NA)\n",
    "river_ecoli %>% \n",
    "  vis_miss()"
   ]
  },
  {
   "cell_type": "code",
   "execution_count": null,
   "id": "c2f5b6e4",
   "metadata": {},
   "outputs": [],
   "source": [
    "# Takes the river_ecoli group the rows by Region, Indicator, and Year then create an new data frame containing the \n",
    "# sum of the Median rounded off to 2.\n",
    "new_riverecoli <- river_ecoli %>%\n",
    "  filter(Year >= 2002, Year <= 2019) %>% \n",
    "  group_by(Region, Year, Indicator) %>% \n",
    "  summarise(Total_MedVal = round(sum(Median), 2)) %>% \n",
    "  unique()\n"
   ]
  },
  {
   "cell_type": "code",
   "execution_count": null,
   "id": "78c02d68",
   "metadata": {},
   "outputs": [],
   "source": [
    "# Wide format data set spread by Indicator\n",
    "riverecoli_wide <- new_riverecoli %>% \n",
    "  spread(key = Indicator,\n",
    "         value = Total_MedVal) %>% \n",
    "  mutate(`E.coli (cfu/100ml)` = `E. coli`) %>% \n",
    "  select(-\"E. coli\")"
   ]
  },
  {
   "cell_type": "markdown",
   "id": "25d8d434",
   "metadata": {},
   "source": [
    "<h2>River Quality (Nitrogen)</h2>"
   ]
  },
  {
   "cell_type": "code",
   "execution_count": null,
   "id": "1c4d7ab7",
   "metadata": {},
   "outputs": [],
   "source": [
    "# Read the new_river_nitrogen.csv and store it as river_nitrogen for analysis.\n",
    "river_nitrogen <- \"new_river_nitrogen.csv\" %>% \n",
    "  read_csv()"
   ]
  },
  {
   "cell_type": "code",
   "execution_count": null,
   "id": "a14aa149",
   "metadata": {},
   "outputs": [],
   "source": [
    "# Gives an overview of river_nitrogen such as columns, data types, the possible values, number of rows and columns.\n",
    "# This allow us to select which relevant columns to select.\n",
    "river_nitrogen %>% \n",
    "  glimpse()"
   ]
  },
  {
   "cell_type": "code",
   "execution_count": null,
   "id": "f01c5b8f",
   "metadata": {},
   "outputs": [],
   "source": [
    "# Select the relevant columns for analysis.\n",
    "river_nitrogen <- river_nitrogen %>% \n",
    "  select(measure, units, median, end_year, state)"
   ]
  },
  {
   "cell_type": "code",
   "execution_count": null,
   "id": "3d879890",
   "metadata": {},
   "outputs": [],
   "source": [
    "# Reads the entirety of river_nitrogen and creates a plot to check if it contains missing data (NA). \n",
    "river_nitrogen %>% \n",
    "  vis_miss()"
   ]
  },
  {
   "cell_type": "code",
   "execution_count": null,
   "id": "3ad5bab0",
   "metadata": {},
   "outputs": [],
   "source": [
    "# Takes the river_nitrogen data frame then rename the columns, select the necessary rows, group them\n",
    "# by Region, Indicator, and Year. Lastly, summarise them by getting the sum of the median values rounded\n",
    "# off by 2 s.f.\n",
    "new_rivernitrogen <- river_nitrogen %>% \n",
    "  rename(Region = state, Indicator = measure, Units = units, Med_Value = median,\n",
    "         Year = end_year) %>% \n",
    "  filter(Indicator %in% c(\"Ammoniacal nitrogen\", \"Nitrate-nitrite nitrogen\"),\n",
    "         Year >= 2002, Year <= 2019) %>% \n",
    "  group_by(Region, Indicator, Year) %>% \n",
    "  summarise(Total_MedVal = round(sum(Med_Value), 2)) %>% \n",
    "  distinct()"
   ]
  },
  {
   "cell_type": "code",
   "execution_count": null,
   "id": "1a2a1933",
   "metadata": {},
   "outputs": [],
   "source": [
    "# Takes the new_rivernitrogen then convert it to wide format.\n",
    "rivernitrogen_wide <- new_rivernitrogen %>% \n",
    "  spread(key = Indicator,\n",
    "         value = Total_MedVal) %>% \n",
    "  mutate(`Ammoniacal nitrogen (g/m3)` = `Ammoniacal nitrogen`,\n",
    "         `Nitrate-nitrite nitrogen (g/m3)` = `Nitrate-nitrite nitrogen`) %>% \n",
    "  select(-c(`Ammoniacal nitrogen`, `Nitrate-nitrite nitrogen`))\n",
    "rivernitrogen_wide"
   ]
  },
  {
   "cell_type": "markdown",
   "id": "9c6c1044",
   "metadata": {},
   "source": [
    "<h2>Adding New Columns and Joining Dataframes</h2>"
   ]
  },
  {
   "cell_type": "code",
   "execution_count": null,
   "id": "39709327",
   "metadata": {},
   "outputs": [],
   "source": [
    "# Join rivernitrogen_wide and riverecoli_wide to create river_quality dataframe.\n",
    "river_quality <- rivernitrogen_wide %>% \n",
    "  full_join(riverecoli_wide)"
   ]
  },
  {
   "cell_type": "code",
   "execution_count": null,
   "id": "5d1bf9fa",
   "metadata": {},
   "outputs": [],
   "source": [
    "# Merge the tibble of categories with the existing groundwq and river_quality dataframes.\n",
    "groundwq_categ <- tibble(Water_Categ = rep(c(\"Groundwater Quality\"), each = nrow(new_groundwq)))\n",
    "river_categ <- tibble(Water_Categ = rep(c(\"River Quality\"), each = nrow(river_quality)))\n",
    "\n",
    "groundwq <- cbind(new_groundwq, groundwq_categ)\n",
    "river_quality <- cbind(river_quality, river_categ)"
   ]
  },
  {
   "cell_type": "code",
   "execution_count": null,
   "id": "fe59934e",
   "metadata": {},
   "outputs": [],
   "source": [
    "# Join the groundwq and river_quality to create water quality dataframe.\n",
    "# Normalise the indicator for all E.coli observation.\n",
    "water_quality <- groundwq %>% \n",
    "  full_join(river_quality) %>% \n",
    "  mutate(Indicator = case_when(Indicator == \"E. coli\" ~ \"E.coli\", TRUE ~ Indicator))"
   ]
  }
 ],
 "metadata": {
  "kernelspec": {
   "display_name": "R",
   "language": "R",
   "name": "ir"
  },
  "language_info": {
   "codemirror_mode": "r",
   "file_extension": ".r",
   "mimetype": "text/x-r-source",
   "name": "R",
   "pygments_lexer": "r",
   "version": "4.2.1"
  }
 },
 "nbformat": 4,
 "nbformat_minor": 5
}
