{
 "cells": [
  {
   "cell_type": "markdown",
   "id": "c06bb010",
   "metadata": {},
   "source": [
    "<h1><center>Water Quality</center></h1>"
   ]
  },
  {
   "cell_type": "markdown",
   "id": "e2294c7f",
   "metadata": {},
   "source": [
    "<h2>Packages</h2>"
   ]
  },
  {
   "cell_type": "code",
   "execution_count": null,
   "id": "7c1522e4",
   "metadata": {},
   "outputs": [],
   "source": [
    "# Load packages such as ggplot2, dplyr, tidyr, and readr to be able to use specialised functions for creating\n",
    "# visualisations, reading, writing, and manipulating data.\n",
    "library(tidyverse)"
   ]
  },
  {
   "cell_type": "code",
   "execution_count": null,
   "id": "75c3d44f",
   "metadata": {},
   "outputs": [],
   "source": [
    "# Load the tidygeocoder package to be able to use a function to convert the given latitude and longitude\n",
    "# to address.\n",
    "library(tidygeocoder)"
   ]
  },
  {
   "cell_type": "code",
   "execution_count": null,
   "id": "b37af956",
   "metadata": {},
   "outputs": [],
   "source": [
    "# Load the readxl package to be able to use a function to read Excel files.\n",
    "library(readxl)"
   ]
  },
  {
   "cell_type": "code",
   "execution_count": null,
   "id": "ab114982",
   "metadata": {},
   "outputs": [],
   "source": [
    "# Load skimr package to be able to use a function to understand the structure of the dataframe we will analyse\n",
    "library(skimr)"
   ]
  },
  {
   "cell_type": "code",
   "execution_count": null,
   "id": "f97f4dc9",
   "metadata": {},
   "outputs": [],
   "source": [
    "# Load the knitr package to be able to use a function for presenting information in a tidy format.\n",
    "library(knitr)"
   ]
  },
  {
   "cell_type": "code",
   "execution_count": null,
   "id": "ece21a17",
   "metadata": {},
   "outputs": [],
   "source": [
    "# Load the visdat package to be able to use a function for visualisation of the data. \n",
    "library(visdat)"
   ]
  },
  {
   "cell_type": "code",
   "execution_count": null,
   "id": "7cf37fc4",
   "metadata": {},
   "outputs": [],
   "source": [
    "# Load the lubridate package to be able to use function(s) for manipulating datetime data type.\n",
    "library(lubridate)"
   ]
  },
  {
   "cell_type": "markdown",
   "id": "632e8d4c",
   "metadata": {},
   "source": [
    "<h2>Conversion and Saving Data to CSV File</h2>"
   ]
  },
  {
   "cell_type": "code",
   "execution_count": null,
   "id": "73bfc0b1",
   "metadata": {},
   "outputs": [],
   "source": [
    "# Takes the river_ecoli dataset then take the lat and long variables\n",
    "# to get the full address. Then save it as new_riverecoli.\n",
    "new_riverecoli <- river_ecoli %>%\n",
    "  reverse_geocode(lat = lat, long = long,\n",
    "                  method = \"osm\", full_results = TRUE)"
   ]
  },
  {
   "cell_type": "code",
   "execution_count": null,
   "id": "dcffacd5",
   "metadata": {},
   "outputs": [],
   "source": [
    "# Takes the river_ecoli dataset then take the lat and long variables\n",
    "# to get the full address. Then save it as new_rivernitrogen.\n",
    "new_rivernitrogen <- river_nitrogen %>%\n",
    "  reverse_geocode(lat = lat, long = long,\n",
    "                  method = \"osm\", full_results = TRUE)"
   ]
  },
  {
   "cell_type": "code",
   "execution_count": null,
   "id": "d73154e6",
   "metadata": {},
   "outputs": [],
   "source": [
    "# Write the new dataset as CSVs for use.\n",
    "write_csv(new_riverecoli, \"new_river_ecoli.csv\")\n",
    "write_csv(new_rivernitrogen, \"new_river_nitrogen.csv\")"
   ]
  },
  {
   "cell_type": "markdown",
   "id": "fe294346",
   "metadata": {},
   "source": [
    "<h2>Groundwater Quality</h2>"
   ]
  },
  {
   "cell_type": "code",
   "execution_count": null,
   "id": "f3fe4051",
   "metadata": {},
   "outputs": [],
   "source": [
    "# Read the groundwq_2004-2020.xlsx and store it as groundwq for analysis.\n",
    "groundwq <- \"groundwq_2004-2020.xlsx\" %>% \n",
    "  read_excel()"
   ]
  },
  {
   "cell_type": "code",
   "execution_count": null,
   "id": "30b09d76",
   "metadata": {},
   "outputs": [],
   "source": [
    "# Gives an overview of groundwq such as columns, data types, the possible values, number of rows and columns.\n",
    "groundwq %>% \n",
    "  glimpse()"
   ]
  },
  {
   "cell_type": "code",
   "execution_count": null,
   "id": "22bb94cc",
   "metadata": {},
   "outputs": [],
   "source": [
    "# Reads the entirety of groundwq and creates a plot to check if it contains missing data (NA).\n",
    "groundwq %>% \n",
    "  vis_miss(warn_large_data = FALSE)"
   ]
  },
  {
   "cell_type": "code",
   "execution_count": null,
   "id": "112e65f0",
   "metadata": {},
   "outputs": [],
   "source": [
    "# Takes the groundwq modify and rename CensoredValue, Date, and Units, select the relevant columns \n",
    "# and rows, group the rows by Region, Indicator, and Year then create an new data frame containing the sum of\n",
    "# the CensoredValue rounded off to 2.\n",
    "new_groundwq <- groundwq %>% \n",
    "  mutate(CensoredValue = ifelse(is.na(CensoredValue), NA_integer_, CensoredValue),\n",
    "         Year = year(Date),\n",
    "         Units = case_when(Indicator == \"E.coli\" ~ \"cfu/100ml\", TRUE ~ \"g/m3\")) %>% \n",
    "  select(Region, Indicator, Units, Year, CensoredValue) %>% \n",
    "  filter(Indicator %in% c(\"E.coli\", \"Nitrate nitrogen\"), Year >= 2002, Year <= 2019) %>% \n",
    "  group_by(Region, Indicator, Year) %>% \n",
    "  na.omit() %>% \n",
    "  summarise(Total_MedVal = round(sum(CensoredValue), 2), Units) %>% \n",
    "  distinct()"
   ]
  },
  {
   "cell_type": "code",
   "execution_count": null,
   "id": "6375bb1c",
   "metadata": {},
   "outputs": [],
   "source": [
    "# Takes the new_groundwq then convert it to wide format.\n",
    "groundwq_wide <- new_groundwq %>% \n",
    "  spread(key = Region,\n",
    "         value = Total_MedVal)\n",
    "groundwq_wide"
   ]
  },
  {
   "cell_type": "markdown",
   "id": "a148f0db",
   "metadata": {},
   "source": [
    "<h2>River Quality (E.coli)</h2>"
   ]
  },
  {
   "cell_type": "code",
   "execution_count": null,
   "id": "5cd9a40f",
   "metadata": {},
   "outputs": [],
   "source": [
    "# Load 'new_river_ecoli.csv' data\n",
    "river_ecoli <- \"new_river_ecoli.csv\" %>% \n",
    "  read_csv()"
   ]
  },
  {
   "cell_type": "code",
   "execution_count": null,
   "id": "dc2ee6c0",
   "metadata": {},
   "outputs": [],
   "source": [
    "# Gives an overview of river_ecoli such as columns, data types, the possible values, number of rows and columns.\n",
    "river_ecoli %>% \n",
    "    glimpse()"
   ]
  },
  {
   "cell_type": "code",
   "execution_count": null,
   "id": "5eaa556f",
   "metadata": {},
   "outputs": [],
   "source": [
    "# Reads the entirety of river_ecoli and creates a plot to check if it contains missing data (NA).\n",
    "river_ecoli %>% \n",
    "  vis_miss()"
   ]
  },
  {
   "cell_type": "code",
   "execution_count": null,
   "id": "a65c129c",
   "metadata": {},
   "outputs": [],
   "source": [
    "# Select and rename the columns we need.\n",
    "river_ecoli <- river_ecoli %>% \n",
    "  rename(Region = state, Year = end_year, Measure = measure, Median = median, \n",
    "         Units = units) %>% \n",
    "  select(Region, Year, Measure, Median, Units)"
   ]
  },
  {
   "cell_type": "code",
   "execution_count": null,
   "id": "0faaadc2",
   "metadata": {},
   "outputs": [],
   "source": [
    "# Check for missing data again (NA)\n",
    "river_ecoli %>% \n",
    "  vis_miss()"
   ]
  },
  {
   "cell_type": "code",
   "execution_count": null,
   "id": "c2f5b6e4",
   "metadata": {},
   "outputs": [],
   "source": [
    "# Takes the river_ecoli group the rows by Region, Indicator, and Year then create an new data frame containing the \n",
    "# sum of the Median rounded off to 2.\n",
    "new_riverecoli <- river_ecoli %>% \n",
    "  group_by(Region, Year, Indicator) %>% \n",
    "  summarise(Total_MedVal = round(sum(Median), 2), Units) %>% \n",
    "  unique()"
   ]
  },
  {
   "cell_type": "code",
   "execution_count": null,
   "id": "78c02d68",
   "metadata": {},
   "outputs": [],
   "source": [
    "# Wide format data set spread by Region as key\n",
    "new_riverecoli %>% \n",
    "  spread(key = Region,\n",
    "         value = Total_MedVal)"
   ]
  },
  {
   "cell_type": "markdown",
   "id": "25d8d434",
   "metadata": {},
   "source": [
    "<h2>River Quality (Nitrogen)</h2>"
   ]
  },
  {
   "cell_type": "code",
   "execution_count": null,
   "id": "1c4d7ab7",
   "metadata": {},
   "outputs": [],
   "source": [
    "# Read the new_river_nitrogen.csv and store it as river_nitrogen for analysis.\n",
    "river_nitrogen <- \"new_river_nitrogen.csv\" %>% \n",
    "  read_csv()"
   ]
  },
  {
   "cell_type": "code",
   "execution_count": null,
   "id": "a14aa149",
   "metadata": {},
   "outputs": [],
   "source": [
    "# Gives an overview of river_nitrogen such as columns, data types, the possible values, number of rows and columns.\n",
    "# This allow us to select which relevant columns to select.\n",
    "river_nitrogen %>% \n",
    "  glimpse()"
   ]
  },
  {
   "cell_type": "code",
   "execution_count": null,
   "id": "f01c5b8f",
   "metadata": {},
   "outputs": [],
   "source": [
    "# Select the relevant columns for analysis.\n",
    "river_nitrogen <- river_nitrogen %>% \n",
    "  select(measure, units, median, end_year, state)"
   ]
  },
  {
   "cell_type": "code",
   "execution_count": null,
   "id": "3d879890",
   "metadata": {},
   "outputs": [],
   "source": [
    "# Reads the entirety of river_nitrogen and creates a plot to check if it contains missing data (NA). \n",
    "river_nitrogen %>% \n",
    "  vis_miss()"
   ]
  },
  {
   "cell_type": "code",
   "execution_count": null,
   "id": "3ad5bab0",
   "metadata": {},
   "outputs": [],
   "source": [
    "# Takes the river_nitrogen data frame then rename the columns, select the necessary rows, group them\n",
    "# by Region, Indicator, and Year. Lastly, summarise them by getting the sum of the median values rounded\n",
    "# off by 2 s.f.\n",
    "new_rivernitrogen <- river_nitrogen %>% \n",
    "  rename(Region = state, Indicator = measure, Units = units, Med_Value = median,\n",
    "         Year = end_year) %>% \n",
    "  filter(Indicator %in% c(\"Ammoniacal nitrogen\", \"Nitrate-nitrite nitrogen\"),\n",
    "         Year >= 2002, Year <= 2019) %>% \n",
    "  group_by(Region, Indicator, Year) %>% \n",
    "  summarise(Total_MedVal = round(sum(Med_Value), 2), Units) %>% \n",
    "  distinct()"
   ]
  },
  {
   "cell_type": "code",
   "execution_count": null,
   "id": "1a2a1933",
   "metadata": {},
   "outputs": [],
   "source": [
    "# Takes the new_rivernitrogen then convert it to wide format.\n",
    "rivernitrogen_wide <- new_rivernitrogen %>% \n",
    "  spread(key = Indicator,\n",
    "         value = Total_MedVal)\n",
    "rivernitrogen_wide"
   ]
  },
  {
   "cell_type": "markdown",
   "id": "9c6c1044",
   "metadata": {},
   "source": [
    "<h2>Adding New Columns and Joining Dataframes</h2>"
   ]
  },
  {
   "cell_type": "code",
   "execution_count": null,
   "id": "39709327",
   "metadata": {},
   "outputs": [],
   "source": [
    "# Join new_rivernitrogen and new_riverecoli to create river_quality dataframe.\n",
    "river_quality <- new_rivernitrogen %>% \n",
    "  full_join(new_riverecoli)"
   ]
  },
  {
   "cell_type": "code",
   "execution_count": null,
   "id": "5d1bf9fa",
   "metadata": {},
   "outputs": [],
   "source": [
    "# Merge the tibble of categories with the existing groundwq and river_quality dataframes.\n",
    "groundwq_categ <- tibble(Water_Categ = rep(c(\"Groundwater Quality\"), each = nrow(new_groundwq)))\n",
    "river_categ <- tibble(Water_Categ = rep(c(\"River Quality\"), each = nrow(river_quality)))\n",
    "\n",
    "groundwq <- cbind(new_groundwq, groundwq_categ)\n",
    "river_quality <- cbind(river_quality, river_categ)"
   ]
  },
  {
   "cell_type": "code",
   "execution_count": null,
   "id": "fe59934e",
   "metadata": {},
   "outputs": [],
   "source": [
    "# Join the groundwq and river_quality to create water quality dataframe.\n",
    "# Normalise the indicator for all E.coli observation.\n",
    "water_quality <- groundwq %>% \n",
    "  full_join(river_quality) %>% \n",
    "  mutate(Indicator = case_when(Indicator == \"E. coli\" ~ \"E.coli\", TRUE ~ Indicator))"
   ]
  }
 ],
 "metadata": {
  "kernelspec": {
   "display_name": "R",
   "language": "R",
   "name": "ir"
  },
  "language_info": {
   "codemirror_mode": "r",
   "file_extension": ".r",
   "mimetype": "text/x-r-source",
   "name": "R",
   "pygments_lexer": "r",
   "version": "4.2.1"
  }
 },
 "nbformat": 4,
 "nbformat_minor": 5
}
