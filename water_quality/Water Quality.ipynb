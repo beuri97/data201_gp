{
 "cells": [
  {
   "cell_type": "markdown",
   "id": "c06bb010",
   "metadata": {},
   "source": [
    "<h1><center>Water Quality</center></h1>"
   ]
  },
  {
   "cell_type": "markdown",
   "id": "e2294c7f",
   "metadata": {},
   "source": [
    "<h2>Packages</h2>"
   ]
  },
  {
   "cell_type": "code",
   "execution_count": 1,
   "id": "7c1522e4",
   "metadata": {},
   "outputs": [
    {
     "name": "stderr",
     "output_type": "stream",
     "text": [
      "Warning message in system(\"timedatectl\", intern = TRUE):\n",
      "“running command 'timedatectl' had status 1”\n",
      "── \u001b[1mAttaching packages\u001b[22m ────────────────────────────────────────────────────────────────────────── tidyverse 1.3.2 ──\n",
      "\u001b[32m✔\u001b[39m \u001b[34mggplot2\u001b[39m 3.3.6     \u001b[32m✔\u001b[39m \u001b[34mpurrr  \u001b[39m 0.3.4\n",
      "\u001b[32m✔\u001b[39m \u001b[34mtibble \u001b[39m 3.1.8     \u001b[32m✔\u001b[39m \u001b[34mdplyr  \u001b[39m 1.0.9\n",
      "\u001b[32m✔\u001b[39m \u001b[34mtidyr  \u001b[39m 1.2.0     \u001b[32m✔\u001b[39m \u001b[34mstringr\u001b[39m 1.4.1\n",
      "\u001b[32m✔\u001b[39m \u001b[34mreadr  \u001b[39m 2.1.2     \u001b[32m✔\u001b[39m \u001b[34mforcats\u001b[39m 0.5.2\n",
      "── \u001b[1mConflicts\u001b[22m ───────────────────────────────────────────────────────────────────────────── tidyverse_conflicts() ──\n",
      "\u001b[31m✖\u001b[39m \u001b[34mdplyr\u001b[39m::\u001b[32mfilter()\u001b[39m masks \u001b[34mstats\u001b[39m::filter()\n",
      "\u001b[31m✖\u001b[39m \u001b[34mdplyr\u001b[39m::\u001b[32mlag()\u001b[39m    masks \u001b[34mstats\u001b[39m::lag()\n"
     ]
    }
   ],
   "source": [
    "# Load packages such as ggplot2, dplyr, tidyr, and readr to be able to use specialised functions for creating\n",
    "# visualisations, reading, writing, and manipulating data.\n",
    "library(tidyverse)"
   ]
  },
  {
   "cell_type": "code",
   "execution_count": 2,
   "id": "75c3d44f",
   "metadata": {},
   "outputs": [],
   "source": [
    "# Load the tidygeocoder package to be able to use a function to convert the given latitude and longitude\n",
    "# to address.\n",
    "library(tidygeocoder)"
   ]
  },
  {
   "cell_type": "code",
   "execution_count": 3,
   "id": "ab114982",
   "metadata": {},
   "outputs": [],
   "source": [
    "# Load skimr package to be able to use a function to understand the structure of the dataframe we will analyse\n",
    "library(skimr)"
   ]
  },
  {
   "cell_type": "code",
   "execution_count": 4,
   "id": "f97f4dc9",
   "metadata": {},
   "outputs": [],
   "source": [
    "# Load the knitr package to be able to use a function for presenting information in a tidy format.\n",
    "library(knitr)"
   ]
  },
  {
   "cell_type": "code",
   "execution_count": 5,
   "id": "ece21a17",
   "metadata": {},
   "outputs": [],
   "source": [
    "# Load the visdat package to be able to use a function for visualisation of the data. \n",
    "library(visdat)"
   ]
  },
  {
   "cell_type": "code",
   "execution_count": 6,
   "id": "7cf37fc4",
   "metadata": {
    "scrolled": true
   },
   "outputs": [
    {
     "name": "stderr",
     "output_type": "stream",
     "text": [
      "\n",
      "Attaching package: ‘lubridate’\n",
      "\n",
      "\n",
      "The following objects are masked from ‘package:base’:\n",
      "\n",
      "    date, intersect, setdiff, union\n",
      "\n",
      "\n"
     ]
    }
   ],
   "source": [
    "# Load the lubridate package to be able to use function(s) for manipulating datetime data type.\n",
    "library(lubridate)"
   ]
  },
  {
   "cell_type": "code",
   "execution_count": 7,
   "id": "b7ff9b03",
   "metadata": {
    "scrolled": true
   },
   "outputs": [
    {
     "ename": "ERROR",
     "evalue": "Error in library(highcharter): there is no package called ‘highcharter’\n",
     "output_type": "error",
     "traceback": [
      "Error in library(highcharter): there is no package called ‘highcharter’\nTraceback:\n",
      "1. library(highcharter)"
     ]
    }
   ],
   "source": [
    "# Load the highcharter package to be able to use interactive charting/graphing functions.\n",
    "library(highcharter)"
   ]
  },
  {
   "cell_type": "code",
   "execution_count": 9,
   "id": "81e1942d",
   "metadata": {},
   "outputs": [
    {
     "name": "stderr",
     "output_type": "stream",
     "text": [
      "\n",
      "Attaching package: ‘jsonlite’\n",
      "\n",
      "\n",
      "The following object is masked from ‘package:purrr’:\n",
      "\n",
      "    flatten\n",
      "\n",
      "\n"
     ]
    }
   ],
   "source": [
    "library(jsonlite)\n",
    "library(XML)\n",
    "library(xml2)\n",
    "library(glue)\n",
    "library(httr)"
   ]
  },
  {
   "cell_type": "code",
   "execution_count": 25,
   "id": "eacbf533",
   "metadata": {},
   "outputs": [],
   "source": [
    "library(repr)"
   ]
  },
  {
   "cell_type": "markdown",
   "id": "43cf3cd7",
   "metadata": {},
   "source": [
    "<h2>Accessing and Importing Datasets</h2>"
   ]
  },
  {
   "cell_type": "code",
   "execution_count": 10,
   "id": "3a2bef34",
   "metadata": {},
   "outputs": [],
   "source": [
    "# A function to get data from the Ministry for the Environment database API\n",
    "\n",
    "get_data_from_mfe <- function(api_key, data_id){\n",
    "    \n",
    "    query <- glue('https://data.mfe.govt.nz/services;key={api_key}/wfs?service=WFS&version=2.0.0&request=GetFeature&typeNames={data_id}') # creates a query url using inputs of api key and data-id number available on MfE website\n",
    "    \n",
    "    api_response <- GET(query) #gets the API response from the query\n",
    "    \n",
    "    data_xml <- read_xml(api_response) #reads the xml data from the api response\n",
    "    \n",
    "    data_parsed <- xmlParse(data_xml) #parses the data into an xml format that is readable in R\n",
    "    \n",
    "    data_df <- glue('//data.mfe.govt.nz:{data_id}') %>%  # creating a node name to look for\n",
    "    getNodeSet(data_parsed, .)  %>%  # looking at nodes with the name\n",
    "    xmlToDataFrame(nodes = .) #turns the data within the given node into a data frame\n",
    "    \n",
    "    return(data_df) #returns the data frame\n",
    "}"
   ]
  },
  {
   "cell_type": "code",
   "execution_count": 11,
   "id": "726439f9",
   "metadata": {
    "scrolled": true
   },
   "outputs": [
    {
     "data": {
      "text/html": [
       "<table class=\"dataframe\">\n",
       "<caption>A data.frame: 6 × 33</caption>\n",
       "<thead>\n",
       "\t<tr><th></th><th scope=col>field_1</th><th scope=col>measure_ab</th><th scope=col>measure</th><th scope=col>units</th><th scope=col>sof</th><th scope=col>nzsegment</th><th scope=col>lat</th><th scope=col>long</th><th scope=col>s_id</th><th scope=col>n_obs</th><th scope=col>⋯</th><th scope=col>sen_lci</th><th scope=col>sen_uci</th><th scope=col>analysis_note</th><th scope=col>percent_annual_change</th><th scope=col>trend_direction</th><th scope=col>seasonal</th><th scope=col>freq</th><th scope=col>period</th><th scope=col>end_year</th><th scope=col>trend_confidence</th></tr>\n",
       "\t<tr><th></th><th scope=col>&lt;chr&gt;</th><th scope=col>&lt;chr&gt;</th><th scope=col>&lt;chr&gt;</th><th scope=col>&lt;chr&gt;</th><th scope=col>&lt;chr&gt;</th><th scope=col>&lt;chr&gt;</th><th scope=col>&lt;chr&gt;</th><th scope=col>&lt;chr&gt;</th><th scope=col>&lt;chr&gt;</th><th scope=col>&lt;chr&gt;</th><th scope=col>⋯</th><th scope=col>&lt;chr&gt;</th><th scope=col>&lt;chr&gt;</th><th scope=col>&lt;chr&gt;</th><th scope=col>&lt;chr&gt;</th><th scope=col>&lt;chr&gt;</th><th scope=col>&lt;chr&gt;</th><th scope=col>&lt;chr&gt;</th><th scope=col>&lt;chr&gt;</th><th scope=col>&lt;chr&gt;</th><th scope=col>&lt;chr&gt;</th></tr>\n",
       "</thead>\n",
       "<tbody>\n",
       "\t<tr><th scope=row>1</th><td>1</td><td>ECOLI</td><td>E. coli</td><td>cfu/100ml</td><td>WWL </td><td>5122005</td><td>-38.4616</td><td>177.8767</td><td>GDC-00027 </td><td>54</td><td>⋯</td><td>-70.66574688</td><td>4.753992744</td><td>ok                                                  </td><td>-5.500677702</td><td>Improving    </td><td>FALSE</td><td>BiMonth</td><td>NA</td><td>2000</td><td>Very likely improving</td></tr>\n",
       "\t<tr><th scope=row>2</th><td>2</td><td>ECOLI</td><td>E. coli</td><td>cfu/100ml</td><td>CWH </td><td>4084132</td><td>-38.0824</td><td>176.2122</td><td>EBOP-00010</td><td>38</td><td>⋯</td><td>6.241040718 </td><td>38.83610442</td><td>ok                                                  </td><td>9.98312095  </td><td>Worsening    </td><td>FALSE</td><td>Qtr    </td><td>NA</td><td>2000</td><td>Very likely worsening</td></tr>\n",
       "\t<tr><th scope=row>3</th><td>3</td><td>ECOLI</td><td>E. coli</td><td>cfu/100ml</td><td>WWL </td><td>4085815</td><td>-38.0795</td><td>177.1362</td><td>EBOP-00011</td><td>38</td><td>⋯</td><td>-23.56314936</td><td>90.18457384</td><td>ok                                                  </td><td>2.746276512 </td><td>Worsening    </td><td>TRUE </td><td>Qtr    </td><td>NA</td><td>2000</td><td>Likely worsening     </td></tr>\n",
       "\t<tr><th scope=row>4</th><td>4</td><td>ECOLI</td><td>E. coli</td><td>cfu/100ml</td><td>CWLk</td><td>4081484</td><td>-38.044 </td><td>176.3308</td><td>EBOP-00012</td><td>38</td><td>⋯</td><td>0           </td><td>0.809965979</td><td>ok                                                  </td><td>6.646951774 </td><td>Worsening    </td><td>TRUE </td><td>Qtr    </td><td>NA</td><td>2000</td><td>Very likely worsening</td></tr>\n",
       "\t<tr><th scope=row>5</th><td>5</td><td>ECOLI</td><td>E. coli</td><td>cfu/100ml</td><td>CWH </td><td>4083343</td><td>-38.0465</td><td>176.988 </td><td>EBOP-00042</td><td>38</td><td>⋯</td><td>0.587990625 </td><td>10.7212543 </td><td>ok                                                  </td><td>10.00919766 </td><td>Worsening    </td><td>TRUE </td><td>Qtr    </td><td>NA</td><td>2000</td><td>Very likely worsening</td></tr>\n",
       "\t<tr><th scope=row>6</th><td>6</td><td>ECOLI</td><td>E. coli</td><td>cfu/100ml</td><td>WXL </td><td>5063036</td><td>-37.6746</td><td>178.3481</td><td>GDC-00002 </td><td>36</td><td>⋯</td><td>-7.598926487</td><td>6.825007124</td><td>WARNING: Sen slope based on tied non-censored values</td><td>0           </td><td>Indeterminate</td><td>FALSE</td><td>Qtr    </td><td>NA</td><td>2000</td><td>Indeterminate        </td></tr>\n",
       "</tbody>\n",
       "</table>\n"
      ],
      "text/latex": [
       "A data.frame: 6 × 33\n",
       "\\begin{tabular}{r|lllllllllllllllllllll}\n",
       "  & field\\_1 & measure\\_ab & measure & units & sof & nzsegment & lat & long & s\\_id & n\\_obs & ⋯ & sen\\_lci & sen\\_uci & analysis\\_note & percent\\_annual\\_change & trend\\_direction & seasonal & freq & period & end\\_year & trend\\_confidence\\\\\n",
       "  & <chr> & <chr> & <chr> & <chr> & <chr> & <chr> & <chr> & <chr> & <chr> & <chr> & ⋯ & <chr> & <chr> & <chr> & <chr> & <chr> & <chr> & <chr> & <chr> & <chr> & <chr>\\\\\n",
       "\\hline\n",
       "\t1 & 1 & ECOLI & E. coli & cfu/100ml & WWL  & 5122005 & -38.4616 & 177.8767 & GDC-00027  & 54 & ⋯ & -70.66574688 & 4.753992744 & ok                                                   & -5.500677702 & Improving     & FALSE & BiMonth & NA & 2000 & Very likely improving\\\\\n",
       "\t2 & 2 & ECOLI & E. coli & cfu/100ml & CWH  & 4084132 & -38.0824 & 176.2122 & EBOP-00010 & 38 & ⋯ & 6.241040718  & 38.83610442 & ok                                                   & 9.98312095   & Worsening     & FALSE & Qtr     & NA & 2000 & Very likely worsening\\\\\n",
       "\t3 & 3 & ECOLI & E. coli & cfu/100ml & WWL  & 4085815 & -38.0795 & 177.1362 & EBOP-00011 & 38 & ⋯ & -23.56314936 & 90.18457384 & ok                                                   & 2.746276512  & Worsening     & TRUE  & Qtr     & NA & 2000 & Likely worsening     \\\\\n",
       "\t4 & 4 & ECOLI & E. coli & cfu/100ml & CWLk & 4081484 & -38.044  & 176.3308 & EBOP-00012 & 38 & ⋯ & 0            & 0.809965979 & ok                                                   & 6.646951774  & Worsening     & TRUE  & Qtr     & NA & 2000 & Very likely worsening\\\\\n",
       "\t5 & 5 & ECOLI & E. coli & cfu/100ml & CWH  & 4083343 & -38.0465 & 176.988  & EBOP-00042 & 38 & ⋯ & 0.587990625  & 10.7212543  & ok                                                   & 10.00919766  & Worsening     & TRUE  & Qtr     & NA & 2000 & Very likely worsening\\\\\n",
       "\t6 & 6 & ECOLI & E. coli & cfu/100ml & WXL  & 5063036 & -37.6746 & 178.3481 & GDC-00002  & 36 & ⋯ & -7.598926487 & 6.825007124 & WARNING: Sen slope based on tied non-censored values & 0            & Indeterminate & FALSE & Qtr     & NA & 2000 & Indeterminate        \\\\\n",
       "\\end{tabular}\n"
      ],
      "text/markdown": [
       "\n",
       "A data.frame: 6 × 33\n",
       "\n",
       "| <!--/--> | field_1 &lt;chr&gt; | measure_ab &lt;chr&gt; | measure &lt;chr&gt; | units &lt;chr&gt; | sof &lt;chr&gt; | nzsegment &lt;chr&gt; | lat &lt;chr&gt; | long &lt;chr&gt; | s_id &lt;chr&gt; | n_obs &lt;chr&gt; | ⋯ ⋯ | sen_lci &lt;chr&gt; | sen_uci &lt;chr&gt; | analysis_note &lt;chr&gt; | percent_annual_change &lt;chr&gt; | trend_direction &lt;chr&gt; | seasonal &lt;chr&gt; | freq &lt;chr&gt; | period &lt;chr&gt; | end_year &lt;chr&gt; | trend_confidence &lt;chr&gt; |\n",
       "|---|---|---|---|---|---|---|---|---|---|---|---|---|---|---|---|---|---|---|---|---|---|\n",
       "| 1 | 1 | ECOLI | E. coli | cfu/100ml | WWL  | 5122005 | -38.4616 | 177.8767 | GDC-00027  | 54 | ⋯ | -70.66574688 | 4.753992744 | ok                                                   | -5.500677702 | Improving     | FALSE | BiMonth | NA | 2000 | Very likely improving |\n",
       "| 2 | 2 | ECOLI | E. coli | cfu/100ml | CWH  | 4084132 | -38.0824 | 176.2122 | EBOP-00010 | 38 | ⋯ | 6.241040718  | 38.83610442 | ok                                                   | 9.98312095   | Worsening     | FALSE | Qtr     | NA | 2000 | Very likely worsening |\n",
       "| 3 | 3 | ECOLI | E. coli | cfu/100ml | WWL  | 4085815 | -38.0795 | 177.1362 | EBOP-00011 | 38 | ⋯ | -23.56314936 | 90.18457384 | ok                                                   | 2.746276512  | Worsening     | TRUE  | Qtr     | NA | 2000 | Likely worsening      |\n",
       "| 4 | 4 | ECOLI | E. coli | cfu/100ml | CWLk | 4081484 | -38.044  | 176.3308 | EBOP-00012 | 38 | ⋯ | 0            | 0.809965979 | ok                                                   | 6.646951774  | Worsening     | TRUE  | Qtr     | NA | 2000 | Very likely worsening |\n",
       "| 5 | 5 | ECOLI | E. coli | cfu/100ml | CWH  | 4083343 | -38.0465 | 176.988  | EBOP-00042 | 38 | ⋯ | 0.587990625  | 10.7212543  | ok                                                   | 10.00919766  | Worsening     | TRUE  | Qtr     | NA | 2000 | Very likely worsening |\n",
       "| 6 | 6 | ECOLI | E. coli | cfu/100ml | WXL  | 5063036 | -37.6746 | 178.3481 | GDC-00002  | 36 | ⋯ | -7.598926487 | 6.825007124 | WARNING: Sen slope based on tied non-censored values | 0            | Indeterminate | FALSE | Qtr     | NA | 2000 | Indeterminate         |\n",
       "\n"
      ],
      "text/plain": [
       "  field_1 measure_ab measure units     sof  nzsegment lat      long    \n",
       "1 1       ECOLI      E. coli cfu/100ml WWL  5122005   -38.4616 177.8767\n",
       "2 2       ECOLI      E. coli cfu/100ml CWH  4084132   -38.0824 176.2122\n",
       "3 3       ECOLI      E. coli cfu/100ml WWL  4085815   -38.0795 177.1362\n",
       "4 4       ECOLI      E. coli cfu/100ml CWLk 4081484   -38.044  176.3308\n",
       "5 5       ECOLI      E. coli cfu/100ml CWH  4083343   -38.0465 176.988 \n",
       "6 6       ECOLI      E. coli cfu/100ml WXL  5063036   -37.6746 178.3481\n",
       "  s_id       n_obs ⋯ sen_lci      sen_uci    \n",
       "1 GDC-00027  54    ⋯ -70.66574688 4.753992744\n",
       "2 EBOP-00010 38    ⋯ 6.241040718  38.83610442\n",
       "3 EBOP-00011 38    ⋯ -23.56314936 90.18457384\n",
       "4 EBOP-00012 38    ⋯ 0            0.809965979\n",
       "5 EBOP-00042 38    ⋯ 0.587990625  10.7212543 \n",
       "6 GDC-00002  36    ⋯ -7.598926487 6.825007124\n",
       "  analysis_note                                        percent_annual_change\n",
       "1 ok                                                   -5.500677702         \n",
       "2 ok                                                   9.98312095           \n",
       "3 ok                                                   2.746276512          \n",
       "4 ok                                                   6.646951774          \n",
       "5 ok                                                   10.00919766          \n",
       "6 WARNING: Sen slope based on tied non-censored values 0                    \n",
       "  trend_direction seasonal freq    period end_year trend_confidence     \n",
       "1 Improving       FALSE    BiMonth NA     2000     Very likely improving\n",
       "2 Worsening       FALSE    Qtr     NA     2000     Very likely worsening\n",
       "3 Worsening       TRUE     Qtr     NA     2000     Likely worsening     \n",
       "4 Worsening       TRUE     Qtr     NA     2000     Very likely worsening\n",
       "5 Worsening       TRUE     Qtr     NA     2000     Very likely worsening\n",
       "6 Indeterminate   FALSE    Qtr     NA     2000     Indeterminate        "
      ]
     },
     "metadata": {},
     "output_type": "display_data"
    }
   ],
   "source": [
    "# Get the river quality E. coli dataset from MfE using their API service.\n",
    "# Then display the first six rows.\n",
    "river_ecoli <- get_data_from_mfe(\"e046a540d83e49248cbda9cce3f23c2e\", \"table-109662\")\n",
    "river_ecoli %>% \n",
    "    head()"
   ]
  },
  {
   "cell_type": "code",
   "execution_count": 12,
   "id": "4568382e",
   "metadata": {
    "scrolled": true
   },
   "outputs": [
    {
     "data": {
      "text/html": [
       "<table class=\"dataframe\">\n",
       "<caption>A data.frame: 6 × 33</caption>\n",
       "<thead>\n",
       "\t<tr><th></th><th scope=col>field_1</th><th scope=col>measure_ab</th><th scope=col>measure</th><th scope=col>units</th><th scope=col>sof</th><th scope=col>nzsegment</th><th scope=col>lat</th><th scope=col>long</th><th scope=col>s_id</th><th scope=col>n_obs</th><th scope=col>⋯</th><th scope=col>sen_lci</th><th scope=col>sen_uci</th><th scope=col>analysis_note</th><th scope=col>percent_annual_change</th><th scope=col>trend_direction</th><th scope=col>seasonal</th><th scope=col>freq</th><th scope=col>period</th><th scope=col>end_year</th><th scope=col>trend_confidence</th></tr>\n",
       "\t<tr><th></th><th scope=col>&lt;chr&gt;</th><th scope=col>&lt;chr&gt;</th><th scope=col>&lt;chr&gt;</th><th scope=col>&lt;chr&gt;</th><th scope=col>&lt;chr&gt;</th><th scope=col>&lt;chr&gt;</th><th scope=col>&lt;chr&gt;</th><th scope=col>&lt;chr&gt;</th><th scope=col>&lt;chr&gt;</th><th scope=col>&lt;chr&gt;</th><th scope=col>⋯</th><th scope=col>&lt;chr&gt;</th><th scope=col>&lt;chr&gt;</th><th scope=col>&lt;chr&gt;</th><th scope=col>&lt;chr&gt;</th><th scope=col>&lt;chr&gt;</th><th scope=col>&lt;chr&gt;</th><th scope=col>&lt;chr&gt;</th><th scope=col>&lt;chr&gt;</th><th scope=col>&lt;chr&gt;</th><th scope=col>&lt;chr&gt;</th></tr>\n",
       "</thead>\n",
       "<tbody>\n",
       "\t<tr><th scope=row>1</th><td>1</td><td>NH4N</td><td>Ammoniacal nitrogen</td><td>g/m3</td><td>WWL</td><td>2038450</td><td>-36.8889</td><td>174.5221</td><td>ARC-00001</td><td>116</td><td>⋯</td><td>-0.000364871</td><td>0           </td><td>WARNING: Sen slope influenced by censored values    </td><td>0           </td><td>Improving    </td><td>FALSE</td><td>Month</td><td>NA</td><td>2000</td><td>Very likely improving</td></tr>\n",
       "\t<tr><th scope=row>2</th><td>2</td><td>NH4N</td><td>Ammoniacal nitrogen</td><td>g/m3</td><td>WWL</td><td>2031444</td><td>-36.345 </td><td>174.7118</td><td>ARC-00008</td><td>115</td><td>⋯</td><td>0           </td><td>0.00079865  </td><td>WARNING: Sen slope influenced by censored values    </td><td>0           </td><td>Worsening    </td><td>FALSE</td><td>Month</td><td>NA</td><td>2000</td><td>Likely worsening     </td></tr>\n",
       "\t<tr><th scope=row>3</th><td>3</td><td>NH4N</td><td>Ammoniacal nitrogen</td><td>g/m3</td><td>WWL</td><td>2038644</td><td>-36.8949</td><td>174.5947</td><td>ARC-00013</td><td>118</td><td>⋯</td><td>0           </td><td>0.001269986 </td><td>ok                                                  </td><td>2.325248281 </td><td>Worsening    </td><td>FALSE</td><td>Month</td><td>NA</td><td>2000</td><td>Very likely worsening</td></tr>\n",
       "\t<tr><th scope=row>4</th><td>4</td><td>NH4N</td><td>Ammoniacal nitrogen</td><td>g/m3</td><td>WDL</td><td>2040105</td><td>-36.9623</td><td>174.88  </td><td>ARC-00015</td><td>108</td><td>⋯</td><td>-0.002164356</td><td>0.00166666  </td><td>WARNING: Sen slope based on tied non-censored values</td><td>0           </td><td>Indeterminate</td><td>FALSE</td><td>Month</td><td>NA</td><td>2000</td><td>Indeterminate        </td></tr>\n",
       "\t<tr><th scope=row>5</th><td>5</td><td>NH4N</td><td>Ammoniacal nitrogen</td><td>g/m3</td><td>WDL</td><td>2035880</td><td>-36.732 </td><td>174.6947</td><td>ARC-00017</td><td>118</td><td>⋯</td><td>-0.009313005</td><td>-0.002790694</td><td>ok                                                  </td><td>-9.604112969</td><td>Improving    </td><td>FALSE</td><td>Month</td><td>NA</td><td>2000</td><td>Very likely improving</td></tr>\n",
       "\t<tr><th scope=row>6</th><td>6</td><td>NH4N</td><td>Ammoniacal nitrogen</td><td>g/m3</td><td>WWL</td><td>2033563</td><td>-36.551 </td><td>174.6605</td><td>ARC-00026</td><td>117</td><td>⋯</td><td>-0.000242512</td><td>0.00157275  </td><td>ok                                                  </td><td>1.727222315 </td><td>Worsening    </td><td>FALSE</td><td>Month</td><td>NA</td><td>2000</td><td>Likely worsening     </td></tr>\n",
       "</tbody>\n",
       "</table>\n"
      ],
      "text/latex": [
       "A data.frame: 6 × 33\n",
       "\\begin{tabular}{r|lllllllllllllllllllll}\n",
       "  & field\\_1 & measure\\_ab & measure & units & sof & nzsegment & lat & long & s\\_id & n\\_obs & ⋯ & sen\\_lci & sen\\_uci & analysis\\_note & percent\\_annual\\_change & trend\\_direction & seasonal & freq & period & end\\_year & trend\\_confidence\\\\\n",
       "  & <chr> & <chr> & <chr> & <chr> & <chr> & <chr> & <chr> & <chr> & <chr> & <chr> & ⋯ & <chr> & <chr> & <chr> & <chr> & <chr> & <chr> & <chr> & <chr> & <chr> & <chr>\\\\\n",
       "\\hline\n",
       "\t1 & 1 & NH4N & Ammoniacal nitrogen & g/m3 & WWL & 2038450 & -36.8889 & 174.5221 & ARC-00001 & 116 & ⋯ & -0.000364871 & 0            & WARNING: Sen slope influenced by censored values     & 0            & Improving     & FALSE & Month & NA & 2000 & Very likely improving\\\\\n",
       "\t2 & 2 & NH4N & Ammoniacal nitrogen & g/m3 & WWL & 2031444 & -36.345  & 174.7118 & ARC-00008 & 115 & ⋯ & 0            & 0.00079865   & WARNING: Sen slope influenced by censored values     & 0            & Worsening     & FALSE & Month & NA & 2000 & Likely worsening     \\\\\n",
       "\t3 & 3 & NH4N & Ammoniacal nitrogen & g/m3 & WWL & 2038644 & -36.8949 & 174.5947 & ARC-00013 & 118 & ⋯ & 0            & 0.001269986  & ok                                                   & 2.325248281  & Worsening     & FALSE & Month & NA & 2000 & Very likely worsening\\\\\n",
       "\t4 & 4 & NH4N & Ammoniacal nitrogen & g/m3 & WDL & 2040105 & -36.9623 & 174.88   & ARC-00015 & 108 & ⋯ & -0.002164356 & 0.00166666   & WARNING: Sen slope based on tied non-censored values & 0            & Indeterminate & FALSE & Month & NA & 2000 & Indeterminate        \\\\\n",
       "\t5 & 5 & NH4N & Ammoniacal nitrogen & g/m3 & WDL & 2035880 & -36.732  & 174.6947 & ARC-00017 & 118 & ⋯ & -0.009313005 & -0.002790694 & ok                                                   & -9.604112969 & Improving     & FALSE & Month & NA & 2000 & Very likely improving\\\\\n",
       "\t6 & 6 & NH4N & Ammoniacal nitrogen & g/m3 & WWL & 2033563 & -36.551  & 174.6605 & ARC-00026 & 117 & ⋯ & -0.000242512 & 0.00157275   & ok                                                   & 1.727222315  & Worsening     & FALSE & Month & NA & 2000 & Likely worsening     \\\\\n",
       "\\end{tabular}\n"
      ],
      "text/markdown": [
       "\n",
       "A data.frame: 6 × 33\n",
       "\n",
       "| <!--/--> | field_1 &lt;chr&gt; | measure_ab &lt;chr&gt; | measure &lt;chr&gt; | units &lt;chr&gt; | sof &lt;chr&gt; | nzsegment &lt;chr&gt; | lat &lt;chr&gt; | long &lt;chr&gt; | s_id &lt;chr&gt; | n_obs &lt;chr&gt; | ⋯ ⋯ | sen_lci &lt;chr&gt; | sen_uci &lt;chr&gt; | analysis_note &lt;chr&gt; | percent_annual_change &lt;chr&gt; | trend_direction &lt;chr&gt; | seasonal &lt;chr&gt; | freq &lt;chr&gt; | period &lt;chr&gt; | end_year &lt;chr&gt; | trend_confidence &lt;chr&gt; |\n",
       "|---|---|---|---|---|---|---|---|---|---|---|---|---|---|---|---|---|---|---|---|---|---|\n",
       "| 1 | 1 | NH4N | Ammoniacal nitrogen | g/m3 | WWL | 2038450 | -36.8889 | 174.5221 | ARC-00001 | 116 | ⋯ | -0.000364871 | 0            | WARNING: Sen slope influenced by censored values     | 0            | Improving     | FALSE | Month | NA | 2000 | Very likely improving |\n",
       "| 2 | 2 | NH4N | Ammoniacal nitrogen | g/m3 | WWL | 2031444 | -36.345  | 174.7118 | ARC-00008 | 115 | ⋯ | 0            | 0.00079865   | WARNING: Sen slope influenced by censored values     | 0            | Worsening     | FALSE | Month | NA | 2000 | Likely worsening      |\n",
       "| 3 | 3 | NH4N | Ammoniacal nitrogen | g/m3 | WWL | 2038644 | -36.8949 | 174.5947 | ARC-00013 | 118 | ⋯ | 0            | 0.001269986  | ok                                                   | 2.325248281  | Worsening     | FALSE | Month | NA | 2000 | Very likely worsening |\n",
       "| 4 | 4 | NH4N | Ammoniacal nitrogen | g/m3 | WDL | 2040105 | -36.9623 | 174.88   | ARC-00015 | 108 | ⋯ | -0.002164356 | 0.00166666   | WARNING: Sen slope based on tied non-censored values | 0            | Indeterminate | FALSE | Month | NA | 2000 | Indeterminate         |\n",
       "| 5 | 5 | NH4N | Ammoniacal nitrogen | g/m3 | WDL | 2035880 | -36.732  | 174.6947 | ARC-00017 | 118 | ⋯ | -0.009313005 | -0.002790694 | ok                                                   | -9.604112969 | Improving     | FALSE | Month | NA | 2000 | Very likely improving |\n",
       "| 6 | 6 | NH4N | Ammoniacal nitrogen | g/m3 | WWL | 2033563 | -36.551  | 174.6605 | ARC-00026 | 117 | ⋯ | -0.000242512 | 0.00157275   | ok                                                   | 1.727222315  | Worsening     | FALSE | Month | NA | 2000 | Likely worsening      |\n",
       "\n"
      ],
      "text/plain": [
       "  field_1 measure_ab measure             units sof nzsegment lat      long    \n",
       "1 1       NH4N       Ammoniacal nitrogen g/m3  WWL 2038450   -36.8889 174.5221\n",
       "2 2       NH4N       Ammoniacal nitrogen g/m3  WWL 2031444   -36.345  174.7118\n",
       "3 3       NH4N       Ammoniacal nitrogen g/m3  WWL 2038644   -36.8949 174.5947\n",
       "4 4       NH4N       Ammoniacal nitrogen g/m3  WDL 2040105   -36.9623 174.88  \n",
       "5 5       NH4N       Ammoniacal nitrogen g/m3  WDL 2035880   -36.732  174.6947\n",
       "6 6       NH4N       Ammoniacal nitrogen g/m3  WWL 2033563   -36.551  174.6605\n",
       "  s_id      n_obs ⋯ sen_lci      sen_uci     \n",
       "1 ARC-00001 116   ⋯ -0.000364871 0           \n",
       "2 ARC-00008 115   ⋯ 0            0.00079865  \n",
       "3 ARC-00013 118   ⋯ 0            0.001269986 \n",
       "4 ARC-00015 108   ⋯ -0.002164356 0.00166666  \n",
       "5 ARC-00017 118   ⋯ -0.009313005 -0.002790694\n",
       "6 ARC-00026 117   ⋯ -0.000242512 0.00157275  \n",
       "  analysis_note                                        percent_annual_change\n",
       "1 WARNING: Sen slope influenced by censored values     0                    \n",
       "2 WARNING: Sen slope influenced by censored values     0                    \n",
       "3 ok                                                   2.325248281          \n",
       "4 WARNING: Sen slope based on tied non-censored values 0                    \n",
       "5 ok                                                   -9.604112969         \n",
       "6 ok                                                   1.727222315          \n",
       "  trend_direction seasonal freq  period end_year trend_confidence     \n",
       "1 Improving       FALSE    Month NA     2000     Very likely improving\n",
       "2 Worsening       FALSE    Month NA     2000     Likely worsening     \n",
       "3 Worsening       FALSE    Month NA     2000     Very likely worsening\n",
       "4 Indeterminate   FALSE    Month NA     2000     Indeterminate        \n",
       "5 Improving       FALSE    Month NA     2000     Very likely improving\n",
       "6 Worsening       FALSE    Month NA     2000     Likely worsening     "
      ]
     },
     "metadata": {},
     "output_type": "display_data"
    }
   ],
   "source": [
    "# Get the river quality nitrogen dataset from MfE using their API service.\n",
    "# Then display the first six rows.\n",
    "river_nitrogen <- get_data_from_mfe(\"e046a540d83e49248cbda9cce3f23c2e\", \"table-109659\")\n",
    "river_nitrogen %>% \n",
    "    head()"
   ]
  },
  {
   "cell_type": "code",
   "execution_count": 13,
   "id": "ad55973c",
   "metadata": {},
   "outputs": [
    {
     "name": "stderr",
     "output_type": "stream",
     "text": [
      "\u001b[1mRows: \u001b[22m\u001b[34m148645\u001b[39m \u001b[1mColumns: \u001b[22m\u001b[34m12\u001b[39m\n",
      "\u001b[36m──\u001b[39m \u001b[1mColumn specification\u001b[22m \u001b[36m───────────────────────────────────────────────────────────────────────────────────────────\u001b[39m\n",
      "\u001b[1mDelimiter:\u001b[22m \",\"\n",
      "\u001b[31mchr\u001b[39m  (8): Region, Agency, LAWASiteID, LAWAWellName, Indicator, Units, RawVal...\n",
      "\u001b[32mdbl\u001b[39m  (3): Latitude, Longitude, CensoredValue\n",
      "\u001b[34mdttm\u001b[39m (1): Date\n",
      "\n",
      "\u001b[36mℹ\u001b[39m Use `spec()` to retrieve the full column specification for this data.\n",
      "\u001b[36mℹ\u001b[39m Specify the column types or set `show_col_types = FALSE` to quiet this message.\n"
     ]
    },
    {
     "data": {
      "text/html": [
       "<table class=\"dataframe\">\n",
       "<caption>A tibble: 6 × 12</caption>\n",
       "<thead>\n",
       "\t<tr><th scope=col>Region</th><th scope=col>Agency</th><th scope=col>LAWASiteID</th><th scope=col>LAWAWellName</th><th scope=col>Latitude</th><th scope=col>Longitude</th><th scope=col>Indicator</th><th scope=col>Units</th><th scope=col>Date</th><th scope=col>RawValue</th><th scope=col>CenType</th><th scope=col>CensoredValue</th></tr>\n",
       "\t<tr><th scope=col>&lt;chr&gt;</th><th scope=col>&lt;chr&gt;</th><th scope=col>&lt;chr&gt;</th><th scope=col>&lt;chr&gt;</th><th scope=col>&lt;dbl&gt;</th><th scope=col>&lt;dbl&gt;</th><th scope=col>&lt;chr&gt;</th><th scope=col>&lt;chr&gt;</th><th scope=col>&lt;dttm&gt;</th><th scope=col>&lt;chr&gt;</th><th scope=col>&lt;chr&gt;</th><th scope=col>&lt;dbl&gt;</th></tr>\n",
       "</thead>\n",
       "<tbody>\n",
       "\t<tr><td>Auckland</td><td>Auckland Council</td><td>LAWA-101648</td><td>Patumahoe Springs</td><td>-37.20052</td><td>174.8477</td><td>Chloride</td><td>g/m&lt;U+00B3&gt;</td><td>2012-05-01 08:48:00</td><td>28</td><td>not</td><td>28</td></tr>\n",
       "\t<tr><td>Auckland</td><td>Auckland Council</td><td>LAWA-101648</td><td>Patumahoe Springs</td><td>-37.20052</td><td>174.8477</td><td>Chloride</td><td>g/m&lt;U+00B3&gt;</td><td>2012-07-20 11:07:00</td><td>27</td><td>not</td><td>27</td></tr>\n",
       "\t<tr><td>Auckland</td><td>Auckland Council</td><td>LAWA-101648</td><td>Patumahoe Springs</td><td>-37.20052</td><td>174.8477</td><td>Chloride</td><td>g/m&lt;U+00B3&gt;</td><td>2012-10-09 11:56:00</td><td>27</td><td>not</td><td>27</td></tr>\n",
       "\t<tr><td>Auckland</td><td>Auckland Council</td><td>LAWA-101648</td><td>Patumahoe Springs</td><td>-37.20052</td><td>174.8477</td><td>Chloride</td><td>g/m&lt;U+00B3&gt;</td><td>2013-01-09 10:55:00</td><td>27</td><td>not</td><td>27</td></tr>\n",
       "\t<tr><td>Auckland</td><td>Auckland Council</td><td>LAWA-101648</td><td>Patumahoe Springs</td><td>-37.20052</td><td>174.8477</td><td>Chloride</td><td>g/m&lt;U+00B3&gt;</td><td>2013-04-16 12:02:00</td><td>29</td><td>not</td><td>29</td></tr>\n",
       "\t<tr><td>Auckland</td><td>Auckland Council</td><td>LAWA-101648</td><td>Patumahoe Springs</td><td>-37.20052</td><td>174.8477</td><td>Chloride</td><td>g/m&lt;U+00B3&gt;</td><td>2014-04-24 11:35:00</td><td>27</td><td>not</td><td>27</td></tr>\n",
       "</tbody>\n",
       "</table>\n"
      ],
      "text/latex": [
       "A tibble: 6 × 12\n",
       "\\begin{tabular}{llllllllllll}\n",
       " Region & Agency & LAWASiteID & LAWAWellName & Latitude & Longitude & Indicator & Units & Date & RawValue & CenType & CensoredValue\\\\\n",
       " <chr> & <chr> & <chr> & <chr> & <dbl> & <dbl> & <chr> & <chr> & <dttm> & <chr> & <chr> & <dbl>\\\\\n",
       "\\hline\n",
       "\t Auckland & Auckland Council & LAWA-101648 & Patumahoe Springs & -37.20052 & 174.8477 & Chloride & g/m<U+00B3> & 2012-05-01 08:48:00 & 28 & not & 28\\\\\n",
       "\t Auckland & Auckland Council & LAWA-101648 & Patumahoe Springs & -37.20052 & 174.8477 & Chloride & g/m<U+00B3> & 2012-07-20 11:07:00 & 27 & not & 27\\\\\n",
       "\t Auckland & Auckland Council & LAWA-101648 & Patumahoe Springs & -37.20052 & 174.8477 & Chloride & g/m<U+00B3> & 2012-10-09 11:56:00 & 27 & not & 27\\\\\n",
       "\t Auckland & Auckland Council & LAWA-101648 & Patumahoe Springs & -37.20052 & 174.8477 & Chloride & g/m<U+00B3> & 2013-01-09 10:55:00 & 27 & not & 27\\\\\n",
       "\t Auckland & Auckland Council & LAWA-101648 & Patumahoe Springs & -37.20052 & 174.8477 & Chloride & g/m<U+00B3> & 2013-04-16 12:02:00 & 29 & not & 29\\\\\n",
       "\t Auckland & Auckland Council & LAWA-101648 & Patumahoe Springs & -37.20052 & 174.8477 & Chloride & g/m<U+00B3> & 2014-04-24 11:35:00 & 27 & not & 27\\\\\n",
       "\\end{tabular}\n"
      ],
      "text/markdown": [
       "\n",
       "A tibble: 6 × 12\n",
       "\n",
       "| Region &lt;chr&gt; | Agency &lt;chr&gt; | LAWASiteID &lt;chr&gt; | LAWAWellName &lt;chr&gt; | Latitude &lt;dbl&gt; | Longitude &lt;dbl&gt; | Indicator &lt;chr&gt; | Units &lt;chr&gt; | Date &lt;dttm&gt; | RawValue &lt;chr&gt; | CenType &lt;chr&gt; | CensoredValue &lt;dbl&gt; |\n",
       "|---|---|---|---|---|---|---|---|---|---|---|---|\n",
       "| Auckland | Auckland Council | LAWA-101648 | Patumahoe Springs | -37.20052 | 174.8477 | Chloride | g/m&lt;U+00B3&gt; | 2012-05-01 08:48:00 | 28 | not | 28 |\n",
       "| Auckland | Auckland Council | LAWA-101648 | Patumahoe Springs | -37.20052 | 174.8477 | Chloride | g/m&lt;U+00B3&gt; | 2012-07-20 11:07:00 | 27 | not | 27 |\n",
       "| Auckland | Auckland Council | LAWA-101648 | Patumahoe Springs | -37.20052 | 174.8477 | Chloride | g/m&lt;U+00B3&gt; | 2012-10-09 11:56:00 | 27 | not | 27 |\n",
       "| Auckland | Auckland Council | LAWA-101648 | Patumahoe Springs | -37.20052 | 174.8477 | Chloride | g/m&lt;U+00B3&gt; | 2013-01-09 10:55:00 | 27 | not | 27 |\n",
       "| Auckland | Auckland Council | LAWA-101648 | Patumahoe Springs | -37.20052 | 174.8477 | Chloride | g/m&lt;U+00B3&gt; | 2013-04-16 12:02:00 | 29 | not | 29 |\n",
       "| Auckland | Auckland Council | LAWA-101648 | Patumahoe Springs | -37.20052 | 174.8477 | Chloride | g/m&lt;U+00B3&gt; | 2014-04-24 11:35:00 | 27 | not | 27 |\n",
       "\n"
      ],
      "text/plain": [
       "  Region   Agency           LAWASiteID  LAWAWellName      Latitude  Longitude\n",
       "1 Auckland Auckland Council LAWA-101648 Patumahoe Springs -37.20052 174.8477 \n",
       "2 Auckland Auckland Council LAWA-101648 Patumahoe Springs -37.20052 174.8477 \n",
       "3 Auckland Auckland Council LAWA-101648 Patumahoe Springs -37.20052 174.8477 \n",
       "4 Auckland Auckland Council LAWA-101648 Patumahoe Springs -37.20052 174.8477 \n",
       "5 Auckland Auckland Council LAWA-101648 Patumahoe Springs -37.20052 174.8477 \n",
       "6 Auckland Auckland Council LAWA-101648 Patumahoe Springs -37.20052 174.8477 \n",
       "  Indicator Units       Date                RawValue CenType CensoredValue\n",
       "1 Chloride  g/m<U+00B3> 2012-05-01 08:48:00 28       not     28           \n",
       "2 Chloride  g/m<U+00B3> 2012-07-20 11:07:00 27       not     27           \n",
       "3 Chloride  g/m<U+00B3> 2012-10-09 11:56:00 27       not     27           \n",
       "4 Chloride  g/m<U+00B3> 2013-01-09 10:55:00 27       not     27           \n",
       "5 Chloride  g/m<U+00B3> 2013-04-16 12:02:00 29       not     29           \n",
       "6 Chloride  g/m<U+00B3> 2014-04-24 11:35:00 27       not     27           "
      ]
     },
     "metadata": {},
     "output_type": "display_data"
    }
   ],
   "source": [
    "# Read the groundwq.csv uploaded in GitHub and store it as groundwq for analysis.\n",
    "groundwq <- \"https://raw.githubusercontent.com/beuri97/data201_gp/waterq/water_quality/data/groundwq.csv\" %>% \n",
    "  read_csv()\n",
    "groundwq %>% \n",
    "    head()"
   ]
  },
  {
   "cell_type": "code",
   "execution_count": 14,
   "id": "c62600b1",
   "metadata": {},
   "outputs": [
    {
     "name": "stderr",
     "output_type": "stream",
     "text": [
      "Warning message:\n",
      "“One or more parsing issues, see `problems()` for details”\n",
      "\u001b[1mRows: \u001b[22m\u001b[34m7550\u001b[39m \u001b[1mColumns: \u001b[22m\u001b[34m69\u001b[39m\n",
      "\u001b[36m──\u001b[39m \u001b[1mColumn specification\u001b[22m \u001b[36m───────────────────────────────────────────────────────────────────────────────────────────\u001b[39m\n",
      "\u001b[1mDelimiter:\u001b[22m \",\"\n",
      "\u001b[31mchr\u001b[39m (40): measure_ab, measure, units, sof, s_id, analysis_note, trend_direct...\n",
      "\u001b[32mdbl\u001b[39m (26): field_1, nzsegment, lat, long, n_obs, s, var_s, d, tau, z, p, c, c...\n",
      "\u001b[33mlgl\u001b[39m  (3): seasonal, boundingbox, historic\n",
      "\n",
      "\u001b[36mℹ\u001b[39m Use `spec()` to retrieve the full column specification for this data.\n",
      "\u001b[36mℹ\u001b[39m Specify the column types or set `show_col_types = FALSE` to quiet this message.\n"
     ]
    },
    {
     "data": {
      "text/html": [
       "<table class=\"dataframe\">\n",
       "<caption>A tibble: 6 × 69</caption>\n",
       "<thead>\n",
       "\t<tr><th scope=col>field_1</th><th scope=col>measure_ab</th><th scope=col>measure</th><th scope=col>units</th><th scope=col>sof</th><th scope=col>nzsegment</th><th scope=col>lat</th><th scope=col>long</th><th scope=col>s_id</th><th scope=col>n_obs</th><th scope=col>⋯</th><th scope=col>amenity</th><th scope=col>railway</th><th scope=col>neighbourhood</th><th scope=col>leisure</th><th scope=col>city_district</th><th scope=col>craft</th><th scope=col>historic</th><th scope=col>quarter</th><th scope=col>farm</th><th scope=col>shop</th></tr>\n",
       "\t<tr><th scope=col>&lt;dbl&gt;</th><th scope=col>&lt;chr&gt;</th><th scope=col>&lt;chr&gt;</th><th scope=col>&lt;chr&gt;</th><th scope=col>&lt;chr&gt;</th><th scope=col>&lt;dbl&gt;</th><th scope=col>&lt;dbl&gt;</th><th scope=col>&lt;dbl&gt;</th><th scope=col>&lt;chr&gt;</th><th scope=col>&lt;dbl&gt;</th><th scope=col>⋯</th><th scope=col>&lt;chr&gt;</th><th scope=col>&lt;chr&gt;</th><th scope=col>&lt;chr&gt;</th><th scope=col>&lt;chr&gt;</th><th scope=col>&lt;chr&gt;</th><th scope=col>&lt;chr&gt;</th><th scope=col>&lt;lgl&gt;</th><th scope=col>&lt;chr&gt;</th><th scope=col>&lt;chr&gt;</th><th scope=col>&lt;chr&gt;</th></tr>\n",
       "</thead>\n",
       "<tbody>\n",
       "\t<tr><td>1</td><td>ECOLI</td><td>E. coli</td><td>cfu/100ml</td><td>WWL </td><td>5122005</td><td>-38.4616</td><td>177.8767</td><td>GDC-00027 </td><td>54</td><td>⋯</td><td>NA</td><td>NA</td><td>NA</td><td>NA</td><td>NA</td><td>NA</td><td>NA</td><td>NA</td><td>NA</td><td>NA</td></tr>\n",
       "\t<tr><td>2</td><td>ECOLI</td><td>E. coli</td><td>cfu/100ml</td><td>CWH </td><td>4084132</td><td>-38.0824</td><td>176.2122</td><td>EBOP-00010</td><td>38</td><td>⋯</td><td>NA</td><td>NA</td><td>NA</td><td>NA</td><td>NA</td><td>NA</td><td>NA</td><td>NA</td><td>NA</td><td>NA</td></tr>\n",
       "\t<tr><td>3</td><td>ECOLI</td><td>E. coli</td><td>cfu/100ml</td><td>WWL </td><td>4085815</td><td>-38.0795</td><td>177.1362</td><td>EBOP-00011</td><td>38</td><td>⋯</td><td>NA</td><td>NA</td><td>NA</td><td>NA</td><td>NA</td><td>NA</td><td>NA</td><td>NA</td><td>NA</td><td>NA</td></tr>\n",
       "\t<tr><td>4</td><td>ECOLI</td><td>E. coli</td><td>cfu/100ml</td><td>CWLk</td><td>4081484</td><td>-38.0440</td><td>176.3308</td><td>EBOP-00012</td><td>38</td><td>⋯</td><td>NA</td><td>NA</td><td>NA</td><td>NA</td><td>NA</td><td>NA</td><td>NA</td><td>NA</td><td>NA</td><td>NA</td></tr>\n",
       "\t<tr><td>5</td><td>ECOLI</td><td>E. coli</td><td>cfu/100ml</td><td>CWH </td><td>4083343</td><td>-38.0465</td><td>176.9880</td><td>EBOP-00042</td><td>38</td><td>⋯</td><td>NA</td><td>NA</td><td>NA</td><td>NA</td><td>NA</td><td>NA</td><td>NA</td><td>NA</td><td>NA</td><td>NA</td></tr>\n",
       "\t<tr><td>6</td><td>ECOLI</td><td>E. coli</td><td>cfu/100ml</td><td>WXL </td><td>5063036</td><td>-37.6746</td><td>178.3481</td><td>GDC-00002 </td><td>36</td><td>⋯</td><td>NA</td><td>NA</td><td>NA</td><td>NA</td><td>NA</td><td>NA</td><td>NA</td><td>NA</td><td>NA</td><td>NA</td></tr>\n",
       "</tbody>\n",
       "</table>\n"
      ],
      "text/latex": [
       "A tibble: 6 × 69\n",
       "\\begin{tabular}{lllllllllllllllllllll}\n",
       " field\\_1 & measure\\_ab & measure & units & sof & nzsegment & lat & long & s\\_id & n\\_obs & ⋯ & amenity & railway & neighbourhood & leisure & city\\_district & craft & historic & quarter & farm & shop\\\\\n",
       " <dbl> & <chr> & <chr> & <chr> & <chr> & <dbl> & <dbl> & <dbl> & <chr> & <dbl> & ⋯ & <chr> & <chr> & <chr> & <chr> & <chr> & <chr> & <lgl> & <chr> & <chr> & <chr>\\\\\n",
       "\\hline\n",
       "\t 1 & ECOLI & E. coli & cfu/100ml & WWL  & 5122005 & -38.4616 & 177.8767 & GDC-00027  & 54 & ⋯ & NA & NA & NA & NA & NA & NA & NA & NA & NA & NA\\\\\n",
       "\t 2 & ECOLI & E. coli & cfu/100ml & CWH  & 4084132 & -38.0824 & 176.2122 & EBOP-00010 & 38 & ⋯ & NA & NA & NA & NA & NA & NA & NA & NA & NA & NA\\\\\n",
       "\t 3 & ECOLI & E. coli & cfu/100ml & WWL  & 4085815 & -38.0795 & 177.1362 & EBOP-00011 & 38 & ⋯ & NA & NA & NA & NA & NA & NA & NA & NA & NA & NA\\\\\n",
       "\t 4 & ECOLI & E. coli & cfu/100ml & CWLk & 4081484 & -38.0440 & 176.3308 & EBOP-00012 & 38 & ⋯ & NA & NA & NA & NA & NA & NA & NA & NA & NA & NA\\\\\n",
       "\t 5 & ECOLI & E. coli & cfu/100ml & CWH  & 4083343 & -38.0465 & 176.9880 & EBOP-00042 & 38 & ⋯ & NA & NA & NA & NA & NA & NA & NA & NA & NA & NA\\\\\n",
       "\t 6 & ECOLI & E. coli & cfu/100ml & WXL  & 5063036 & -37.6746 & 178.3481 & GDC-00002  & 36 & ⋯ & NA & NA & NA & NA & NA & NA & NA & NA & NA & NA\\\\\n",
       "\\end{tabular}\n"
      ],
      "text/markdown": [
       "\n",
       "A tibble: 6 × 69\n",
       "\n",
       "| field_1 &lt;dbl&gt; | measure_ab &lt;chr&gt; | measure &lt;chr&gt; | units &lt;chr&gt; | sof &lt;chr&gt; | nzsegment &lt;dbl&gt; | lat &lt;dbl&gt; | long &lt;dbl&gt; | s_id &lt;chr&gt; | n_obs &lt;dbl&gt; | ⋯ ⋯ | amenity &lt;chr&gt; | railway &lt;chr&gt; | neighbourhood &lt;chr&gt; | leisure &lt;chr&gt; | city_district &lt;chr&gt; | craft &lt;chr&gt; | historic &lt;lgl&gt; | quarter &lt;chr&gt; | farm &lt;chr&gt; | shop &lt;chr&gt; |\n",
       "|---|---|---|---|---|---|---|---|---|---|---|---|---|---|---|---|---|---|---|---|---|\n",
       "| 1 | ECOLI | E. coli | cfu/100ml | WWL  | 5122005 | -38.4616 | 177.8767 | GDC-00027  | 54 | ⋯ | NA | NA | NA | NA | NA | NA | NA | NA | NA | NA |\n",
       "| 2 | ECOLI | E. coli | cfu/100ml | CWH  | 4084132 | -38.0824 | 176.2122 | EBOP-00010 | 38 | ⋯ | NA | NA | NA | NA | NA | NA | NA | NA | NA | NA |\n",
       "| 3 | ECOLI | E. coli | cfu/100ml | WWL  | 4085815 | -38.0795 | 177.1362 | EBOP-00011 | 38 | ⋯ | NA | NA | NA | NA | NA | NA | NA | NA | NA | NA |\n",
       "| 4 | ECOLI | E. coli | cfu/100ml | CWLk | 4081484 | -38.0440 | 176.3308 | EBOP-00012 | 38 | ⋯ | NA | NA | NA | NA | NA | NA | NA | NA | NA | NA |\n",
       "| 5 | ECOLI | E. coli | cfu/100ml | CWH  | 4083343 | -38.0465 | 176.9880 | EBOP-00042 | 38 | ⋯ | NA | NA | NA | NA | NA | NA | NA | NA | NA | NA |\n",
       "| 6 | ECOLI | E. coli | cfu/100ml | WXL  | 5063036 | -37.6746 | 178.3481 | GDC-00002  | 36 | ⋯ | NA | NA | NA | NA | NA | NA | NA | NA | NA | NA |\n",
       "\n"
      ],
      "text/plain": [
       "  field_1 measure_ab measure units     sof  nzsegment lat      long    \n",
       "1 1       ECOLI      E. coli cfu/100ml WWL  5122005   -38.4616 177.8767\n",
       "2 2       ECOLI      E. coli cfu/100ml CWH  4084132   -38.0824 176.2122\n",
       "3 3       ECOLI      E. coli cfu/100ml WWL  4085815   -38.0795 177.1362\n",
       "4 4       ECOLI      E. coli cfu/100ml CWLk 4081484   -38.0440 176.3308\n",
       "5 5       ECOLI      E. coli cfu/100ml CWH  4083343   -38.0465 176.9880\n",
       "6 6       ECOLI      E. coli cfu/100ml WXL  5063036   -37.6746 178.3481\n",
       "  s_id       n_obs ⋯ amenity railway neighbourhood leisure city_district craft\n",
       "1 GDC-00027  54    ⋯ NA      NA      NA            NA      NA            NA   \n",
       "2 EBOP-00010 38    ⋯ NA      NA      NA            NA      NA            NA   \n",
       "3 EBOP-00011 38    ⋯ NA      NA      NA            NA      NA            NA   \n",
       "4 EBOP-00012 38    ⋯ NA      NA      NA            NA      NA            NA   \n",
       "5 EBOP-00042 38    ⋯ NA      NA      NA            NA      NA            NA   \n",
       "6 GDC-00002  36    ⋯ NA      NA      NA            NA      NA            NA   \n",
       "  historic quarter farm shop\n",
       "1 NA       NA      NA   NA  \n",
       "2 NA       NA      NA   NA  \n",
       "3 NA       NA      NA   NA  \n",
       "4 NA       NA      NA   NA  \n",
       "5 NA       NA      NA   NA  \n",
       "6 NA       NA      NA   NA  "
      ]
     },
     "metadata": {},
     "output_type": "display_data"
    }
   ],
   "source": [
    "# Read the new_river_ecoli uploaded in GitHub and store it as river_ecoli for analysis.\n",
    "river_ecoli <- \"https://raw.githubusercontent.com/beuri97/data201_gp/waterq/water_quality/data/new_river_ecoli.csv\" %>% \n",
    "  read_csv()\n",
    "river_ecoli %>% \n",
    "    head()"
   ]
  },
  {
   "cell_type": "code",
   "execution_count": 15,
   "id": "20d26702",
   "metadata": {},
   "outputs": [
    {
     "name": "stderr",
     "output_type": "stream",
     "text": [
      "\u001b[1mRows: \u001b[22m\u001b[34m25930\u001b[39m \u001b[1mColumns: \u001b[22m\u001b[34m69\u001b[39m\n",
      "\u001b[36m──\u001b[39m \u001b[1mColumn specification\u001b[22m \u001b[36m───────────────────────────────────────────────────────────────────────────────────────────\u001b[39m\n",
      "\u001b[1mDelimiter:\u001b[22m \",\"\n",
      "\u001b[31mchr\u001b[39m (41): measure_ab, measure, units, sof, s_id, analysis_note, trend_direct...\n",
      "\u001b[32mdbl\u001b[39m (26): field_1, nzsegment, lat, long, n_obs, s, var_s, d, tau, z, p, c, c...\n",
      "\u001b[33mlgl\u001b[39m  (2): seasonal, boundingbox\n",
      "\n",
      "\u001b[36mℹ\u001b[39m Use `spec()` to retrieve the full column specification for this data.\n",
      "\u001b[36mℹ\u001b[39m Specify the column types or set `show_col_types = FALSE` to quiet this message.\n"
     ]
    },
    {
     "data": {
      "text/html": [
       "<table class=\"dataframe\">\n",
       "<caption>A tibble: 6 × 69</caption>\n",
       "<thead>\n",
       "\t<tr><th scope=col>field_1</th><th scope=col>measure_ab</th><th scope=col>measure</th><th scope=col>units</th><th scope=col>sof</th><th scope=col>nzsegment</th><th scope=col>lat</th><th scope=col>long</th><th scope=col>s_id</th><th scope=col>n_obs</th><th scope=col>⋯</th><th scope=col>neighbourhood</th><th scope=col>shop</th><th scope=col>building</th><th scope=col>farm</th><th scope=col>highway</th><th scope=col>railway</th><th scope=col>city_district</th><th scope=col>craft</th><th scope=col>quarter</th><th scope=col>historic</th></tr>\n",
       "\t<tr><th scope=col>&lt;dbl&gt;</th><th scope=col>&lt;chr&gt;</th><th scope=col>&lt;chr&gt;</th><th scope=col>&lt;chr&gt;</th><th scope=col>&lt;chr&gt;</th><th scope=col>&lt;dbl&gt;</th><th scope=col>&lt;dbl&gt;</th><th scope=col>&lt;dbl&gt;</th><th scope=col>&lt;chr&gt;</th><th scope=col>&lt;dbl&gt;</th><th scope=col>⋯</th><th scope=col>&lt;chr&gt;</th><th scope=col>&lt;chr&gt;</th><th scope=col>&lt;chr&gt;</th><th scope=col>&lt;chr&gt;</th><th scope=col>&lt;chr&gt;</th><th scope=col>&lt;chr&gt;</th><th scope=col>&lt;chr&gt;</th><th scope=col>&lt;chr&gt;</th><th scope=col>&lt;chr&gt;</th><th scope=col>&lt;chr&gt;</th></tr>\n",
       "</thead>\n",
       "<tbody>\n",
       "\t<tr><td>1</td><td>NH4N</td><td>Ammoniacal nitrogen</td><td>g/m3</td><td>WWL</td><td>2038450</td><td>-36.8889</td><td>174.5221</td><td>ARC-00001</td><td>116</td><td>⋯</td><td>NA</td><td>NA</td><td>NA</td><td>NA</td><td>NA</td><td>NA</td><td>NA</td><td>NA</td><td>NA</td><td>NA</td></tr>\n",
       "\t<tr><td>2</td><td>NH4N</td><td>Ammoniacal nitrogen</td><td>g/m3</td><td>WWL</td><td>2031444</td><td>-36.3450</td><td>174.7118</td><td>ARC-00008</td><td>115</td><td>⋯</td><td>NA</td><td>NA</td><td>NA</td><td>NA</td><td>NA</td><td>NA</td><td>NA</td><td>NA</td><td>NA</td><td>NA</td></tr>\n",
       "\t<tr><td>3</td><td>NH4N</td><td>Ammoniacal nitrogen</td><td>g/m3</td><td>WWL</td><td>2038644</td><td>-36.8949</td><td>174.5947</td><td>ARC-00013</td><td>118</td><td>⋯</td><td>NA</td><td>NA</td><td>NA</td><td>NA</td><td>NA</td><td>NA</td><td>NA</td><td>NA</td><td>NA</td><td>NA</td></tr>\n",
       "\t<tr><td>4</td><td>NH4N</td><td>Ammoniacal nitrogen</td><td>g/m3</td><td>WDL</td><td>2040105</td><td>-36.9623</td><td>174.8800</td><td>ARC-00015</td><td>108</td><td>⋯</td><td>NA</td><td>NA</td><td>NA</td><td>NA</td><td>NA</td><td>NA</td><td>NA</td><td>NA</td><td>NA</td><td>NA</td></tr>\n",
       "\t<tr><td>5</td><td>NH4N</td><td>Ammoniacal nitrogen</td><td>g/m3</td><td>WDL</td><td>2035880</td><td>-36.7320</td><td>174.6947</td><td>ARC-00017</td><td>118</td><td>⋯</td><td>NA</td><td>NA</td><td>NA</td><td>NA</td><td>NA</td><td>NA</td><td>NA</td><td>NA</td><td>NA</td><td>NA</td></tr>\n",
       "\t<tr><td>6</td><td>NH4N</td><td>Ammoniacal nitrogen</td><td>g/m3</td><td>WWL</td><td>2033563</td><td>-36.5510</td><td>174.6605</td><td>ARC-00026</td><td>117</td><td>⋯</td><td>NA</td><td>NA</td><td>NA</td><td>NA</td><td>NA</td><td>NA</td><td>NA</td><td>NA</td><td>NA</td><td>NA</td></tr>\n",
       "</tbody>\n",
       "</table>\n"
      ],
      "text/latex": [
       "A tibble: 6 × 69\n",
       "\\begin{tabular}{lllllllllllllllllllll}\n",
       " field\\_1 & measure\\_ab & measure & units & sof & nzsegment & lat & long & s\\_id & n\\_obs & ⋯ & neighbourhood & shop & building & farm & highway & railway & city\\_district & craft & quarter & historic\\\\\n",
       " <dbl> & <chr> & <chr> & <chr> & <chr> & <dbl> & <dbl> & <dbl> & <chr> & <dbl> & ⋯ & <chr> & <chr> & <chr> & <chr> & <chr> & <chr> & <chr> & <chr> & <chr> & <chr>\\\\\n",
       "\\hline\n",
       "\t 1 & NH4N & Ammoniacal nitrogen & g/m3 & WWL & 2038450 & -36.8889 & 174.5221 & ARC-00001 & 116 & ⋯ & NA & NA & NA & NA & NA & NA & NA & NA & NA & NA\\\\\n",
       "\t 2 & NH4N & Ammoniacal nitrogen & g/m3 & WWL & 2031444 & -36.3450 & 174.7118 & ARC-00008 & 115 & ⋯ & NA & NA & NA & NA & NA & NA & NA & NA & NA & NA\\\\\n",
       "\t 3 & NH4N & Ammoniacal nitrogen & g/m3 & WWL & 2038644 & -36.8949 & 174.5947 & ARC-00013 & 118 & ⋯ & NA & NA & NA & NA & NA & NA & NA & NA & NA & NA\\\\\n",
       "\t 4 & NH4N & Ammoniacal nitrogen & g/m3 & WDL & 2040105 & -36.9623 & 174.8800 & ARC-00015 & 108 & ⋯ & NA & NA & NA & NA & NA & NA & NA & NA & NA & NA\\\\\n",
       "\t 5 & NH4N & Ammoniacal nitrogen & g/m3 & WDL & 2035880 & -36.7320 & 174.6947 & ARC-00017 & 118 & ⋯ & NA & NA & NA & NA & NA & NA & NA & NA & NA & NA\\\\\n",
       "\t 6 & NH4N & Ammoniacal nitrogen & g/m3 & WWL & 2033563 & -36.5510 & 174.6605 & ARC-00026 & 117 & ⋯ & NA & NA & NA & NA & NA & NA & NA & NA & NA & NA\\\\\n",
       "\\end{tabular}\n"
      ],
      "text/markdown": [
       "\n",
       "A tibble: 6 × 69\n",
       "\n",
       "| field_1 &lt;dbl&gt; | measure_ab &lt;chr&gt; | measure &lt;chr&gt; | units &lt;chr&gt; | sof &lt;chr&gt; | nzsegment &lt;dbl&gt; | lat &lt;dbl&gt; | long &lt;dbl&gt; | s_id &lt;chr&gt; | n_obs &lt;dbl&gt; | ⋯ ⋯ | neighbourhood &lt;chr&gt; | shop &lt;chr&gt; | building &lt;chr&gt; | farm &lt;chr&gt; | highway &lt;chr&gt; | railway &lt;chr&gt; | city_district &lt;chr&gt; | craft &lt;chr&gt; | quarter &lt;chr&gt; | historic &lt;chr&gt; |\n",
       "|---|---|---|---|---|---|---|---|---|---|---|---|---|---|---|---|---|---|---|---|---|\n",
       "| 1 | NH4N | Ammoniacal nitrogen | g/m3 | WWL | 2038450 | -36.8889 | 174.5221 | ARC-00001 | 116 | ⋯ | NA | NA | NA | NA | NA | NA | NA | NA | NA | NA |\n",
       "| 2 | NH4N | Ammoniacal nitrogen | g/m3 | WWL | 2031444 | -36.3450 | 174.7118 | ARC-00008 | 115 | ⋯ | NA | NA | NA | NA | NA | NA | NA | NA | NA | NA |\n",
       "| 3 | NH4N | Ammoniacal nitrogen | g/m3 | WWL | 2038644 | -36.8949 | 174.5947 | ARC-00013 | 118 | ⋯ | NA | NA | NA | NA | NA | NA | NA | NA | NA | NA |\n",
       "| 4 | NH4N | Ammoniacal nitrogen | g/m3 | WDL | 2040105 | -36.9623 | 174.8800 | ARC-00015 | 108 | ⋯ | NA | NA | NA | NA | NA | NA | NA | NA | NA | NA |\n",
       "| 5 | NH4N | Ammoniacal nitrogen | g/m3 | WDL | 2035880 | -36.7320 | 174.6947 | ARC-00017 | 118 | ⋯ | NA | NA | NA | NA | NA | NA | NA | NA | NA | NA |\n",
       "| 6 | NH4N | Ammoniacal nitrogen | g/m3 | WWL | 2033563 | -36.5510 | 174.6605 | ARC-00026 | 117 | ⋯ | NA | NA | NA | NA | NA | NA | NA | NA | NA | NA |\n",
       "\n"
      ],
      "text/plain": [
       "  field_1 measure_ab measure             units sof nzsegment lat      long    \n",
       "1 1       NH4N       Ammoniacal nitrogen g/m3  WWL 2038450   -36.8889 174.5221\n",
       "2 2       NH4N       Ammoniacal nitrogen g/m3  WWL 2031444   -36.3450 174.7118\n",
       "3 3       NH4N       Ammoniacal nitrogen g/m3  WWL 2038644   -36.8949 174.5947\n",
       "4 4       NH4N       Ammoniacal nitrogen g/m3  WDL 2040105   -36.9623 174.8800\n",
       "5 5       NH4N       Ammoniacal nitrogen g/m3  WDL 2035880   -36.7320 174.6947\n",
       "6 6       NH4N       Ammoniacal nitrogen g/m3  WWL 2033563   -36.5510 174.6605\n",
       "  s_id      n_obs ⋯ neighbourhood shop building farm highway railway\n",
       "1 ARC-00001 116   ⋯ NA            NA   NA       NA   NA      NA     \n",
       "2 ARC-00008 115   ⋯ NA            NA   NA       NA   NA      NA     \n",
       "3 ARC-00013 118   ⋯ NA            NA   NA       NA   NA      NA     \n",
       "4 ARC-00015 108   ⋯ NA            NA   NA       NA   NA      NA     \n",
       "5 ARC-00017 118   ⋯ NA            NA   NA       NA   NA      NA     \n",
       "6 ARC-00026 117   ⋯ NA            NA   NA       NA   NA      NA     \n",
       "  city_district craft quarter historic\n",
       "1 NA            NA    NA      NA      \n",
       "2 NA            NA    NA      NA      \n",
       "3 NA            NA    NA      NA      \n",
       "4 NA            NA    NA      NA      \n",
       "5 NA            NA    NA      NA      \n",
       "6 NA            NA    NA      NA      "
      ]
     },
     "metadata": {},
     "output_type": "display_data"
    }
   ],
   "source": [
    "# Read the new_river_nitrogen.csv and store it as river_nitrogen for analysis.\n",
    "river_nitrogen <- \"https://raw.githubusercontent.com/beuri97/data201_gp/waterq/water_quality/data/new_river_nitrogen.csv\" %>% \n",
    "  read_csv()\n",
    "river_nitrogen %>% \n",
    "    head()"
   ]
  },
  {
   "cell_type": "markdown",
   "id": "a15c9cca",
   "metadata": {},
   "source": [
    "<p style=\"text-align: justify\"> We used the web and API services of the Ministry for the Environment to get the river quality datasets available in their database. However, the groundwater dataset in their database is incomplete. So instead, we downloaded the dataset available on the LAWA website and uploaded it on GitHub, then copied the link and used it to read the dataset in R. </p>"
   ]
  },
  {
   "cell_type": "markdown",
   "id": "632e8d4c",
   "metadata": {},
   "source": [
    "<h2>Conversion and Saving Data to CSV File</h2>"
   ]
  },
  {
   "cell_type": "code",
   "execution_count": 16,
   "id": "00a6ba6e",
   "metadata": {},
   "outputs": [],
   "source": [
    "# Takes the available latitude and longitude information from the dataset then convert it to full address.\n",
    "convert_lat_long <- function(df, lat, long){\n",
    "    converted_df <- df %>%\n",
    "    reverse_geocode(lat = lat, long = long, \n",
    "                    method = \"osm\", full_results = TRUE)\n",
    "    return(converted_df)\n",
    "}"
   ]
  },
  {
   "cell_type": "code",
   "execution_count": null,
   "id": "6edcf533",
   "metadata": {},
   "outputs": [],
   "source": [
    "## Takes the river_ecoli, and converts the provided latitudes and longitudes to add new columns containing the \n",
    "## address of the river sites. Then displays the first six rows.\n",
    "# new_riverecoli <- convert_lat_long(river_ecoli, river_ecoli$lat, river_ecoli$long)\n",
    "# new_riverecoli %>% head()"
   ]
  },
  {
   "cell_type": "code",
   "execution_count": null,
   "id": "10c88886",
   "metadata": {},
   "outputs": [],
   "source": [
    "## Takes the river_nitrogen, and converts the provided latitudes and longitudes to add new columns containing the \n",
    "## address of the river sites. Then displays the first six rows.\n",
    "# new_rivernitrogen <- convert_lat_long(river_nitrogen, river_nitrogen$lat, river_nitrogen$long)\n",
    "# new_rivernitrogen %>% head()"
   ]
  },
  {
   "cell_type": "code",
   "execution_count": null,
   "id": "d73154e6",
   "metadata": {},
   "outputs": [],
   "source": [
    "## Write the new dataset as CSVs for use.\n",
    "# write_csv(new_riverecoli, \"new_river_ecoli.csv\")\n",
    "# write_csv(new_rivernitrogen, \"new_river_nitrogen.csv\")"
   ]
  },
  {
   "cell_type": "markdown",
   "id": "760e7249",
   "metadata": {},
   "source": [
    "<p style=\"text-align: justify\"> Region is one of the crucial variables in our dataset for relating datasets. Unfortunately, the river quality datasets we obtained from MfE only have the coordinates for the sites, so we decided to create a helper function using the `reverse_geocode` from `tidygeocoder` that takes latitude and longitude to find locations using geocoding methods. We then created new datasets containing the areas acquired from the conversion. We commented out the conversion and writing of new datasets, as the conversion process takes a lot of time, and we decided to use the links of the datasets we uploaded on GitHub. </p>"
   ]
  },
  {
   "cell_type": "markdown",
   "id": "fe294346",
   "metadata": {},
   "source": [
    "<h2>Groundwater Quality</h2>"
   ]
  },
  {
   "cell_type": "code",
   "execution_count": 17,
   "id": "30b09d76",
   "metadata": {
    "scrolled": true
   },
   "outputs": [
    {
     "name": "stdout",
     "output_type": "stream",
     "text": [
      "Rows: 148,645\n",
      "Columns: 12\n",
      "$ Region        \u001b[3m\u001b[90m<chr>\u001b[39m\u001b[23m \"Auckland\", \"Auckland\", \"Auckland\", \"Auckland\", \"Aucklan…\n",
      "$ Agency        \u001b[3m\u001b[90m<chr>\u001b[39m\u001b[23m \"Auckland Council\", \"Auckland Council\", \"Auckland Counci…\n",
      "$ LAWASiteID    \u001b[3m\u001b[90m<chr>\u001b[39m\u001b[23m \"LAWA-101648\", \"LAWA-101648\", \"LAWA-101648\", \"LAWA-10164…\n",
      "$ LAWAWellName  \u001b[3m\u001b[90m<chr>\u001b[39m\u001b[23m \"Patumahoe Springs\", \"Patumahoe Springs\", \"Patumahoe Spr…\n",
      "$ Latitude      \u001b[3m\u001b[90m<dbl>\u001b[39m\u001b[23m -37.20052, -37.20052, -37.20052, -37.20052, -37.20052, -…\n",
      "$ Longitude     \u001b[3m\u001b[90m<dbl>\u001b[39m\u001b[23m 174.8477, 174.8477, 174.8477, 174.8477, 174.8477, 174.84…\n",
      "$ Indicator     \u001b[3m\u001b[90m<chr>\u001b[39m\u001b[23m \"Chloride\", \"Chloride\", \"Chloride\", \"Chloride\", \"Chlorid…\n",
      "$ Units         \u001b[3m\u001b[90m<chr>\u001b[39m\u001b[23m \"g/m<U+00B3>\", \"g/m<U+00B3>\", \"g/m<U+00B3>\", \"g/m<U+00B3…\n",
      "$ Date          \u001b[3m\u001b[90m<dttm>\u001b[39m\u001b[23m 2012-05-01 08:48:00, 2012-07-20 11:07:00, 2012-10-09 11…\n",
      "$ RawValue      \u001b[3m\u001b[90m<chr>\u001b[39m\u001b[23m \"28\", \"27\", \"27\", \"27\", \"29\", \"27\", \"28\", \"28\", \"28\", \"2…\n",
      "$ CenType       \u001b[3m\u001b[90m<chr>\u001b[39m\u001b[23m \"not\", \"not\", \"not\", \"not\", \"not\", \"not\", \"not\", \"not\", …\n",
      "$ CensoredValue \u001b[3m\u001b[90m<dbl>\u001b[39m\u001b[23m 28, 27, 27, 27, 29, 27, 28, 28, 28, 28, 28, 27, 29, 28, …\n"
     ]
    }
   ],
   "source": [
    "# Gives an overview of groundwq such as columns, data types, the possible values, number of rows and columns.\n",
    "groundwq %>% \n",
    "  glimpse()"
   ]
  },
  {
   "cell_type": "markdown",
   "id": "13f79cba",
   "metadata": {},
   "source": [
    "<p style=\"text-align: justify\"> The glimpse function displays the total number of repeated measurements of different sites across New Zealand from 2004 to 2019 and the information (variables) for each entry. </p>"
   ]
  },
  {
   "cell_type": "code",
   "execution_count": 18,
   "id": "112e65f0",
   "metadata": {},
   "outputs": [],
   "source": [
    "# Takes the groundwq modify the values and rename some columns, select the relevant columns \n",
    "# and rows to create a clean version of groundwq.\n",
    "new_groundwq <- groundwq %>% \n",
    "  mutate(CensoredValue = ifelse(is.na(CensoredValue), NA_integer_, CensoredValue),\n",
    "         Year = year(Date),\n",
    "         Indicator = case_when(Indicator == \"E.coli\" ~ \"E.coli cfu/100ml\", TRUE ~ \"Nitrate nitrogen g/m3\"),\n",
    "         Region = case_when(Region == \"Hawkes Bay\" ~ \"Hawke's Bay\",\n",
    "                            Region == \"Manawatu-Whanganui\" ~ \"Manawatū-Whanganui\", TRUE ~ Region),\n",
    "         WellName = LAWAWellName) %>% \n",
    "  select(Region, WellName, Latitude, Longitude, Indicator, Year, CensoredValue) %>% \n",
    "  filter(Indicator %in% c(\"E.coli cfu/100ml\", \"Nitrate nitrogen g/m3\"), Year >= 2004, Year <= 2019)"
   ]
  },
  {
   "cell_type": "markdown",
   "id": "ca693694",
   "metadata": {},
   "source": [
    "<p style=\"text-align: justify\"> We fix the region names that are recorded unconventionally. We also decided to standardise the units by making all the units for E. coli and nitrogen as cfu/100ml and g/m3, then concatenate the indicators with the units. </p>"
   ]
  },
  {
   "cell_type": "code",
   "execution_count": 19,
   "id": "90c4b171",
   "metadata": {
    "scrolled": true
   },
   "outputs": [
    {
     "name": "stderr",
     "output_type": "stream",
     "text": [
      "\u001b[1m\u001b[22m`summarise()` has grouped output by 'Region', 'Year', 'WellName'. You can override using the `.groups` argument.\n"
     ]
    },
    {
     "data": {
      "text/html": [
       "<table class=\"dataframe\">\n",
       "<caption>A grouped_df: 6 × 5</caption>\n",
       "<thead>\n",
       "\t<tr><th scope=col>Region</th><th scope=col>Year</th><th scope=col>WellName</th><th scope=col>Indicator</th><th scope=col>MeanVal</th></tr>\n",
       "\t<tr><th scope=col>&lt;chr&gt;</th><th scope=col>&lt;dbl&gt;</th><th scope=col>&lt;chr&gt;</th><th scope=col>&lt;chr&gt;</th><th scope=col>&lt;dbl&gt;</th></tr>\n",
       "</thead>\n",
       "<tbody>\n",
       "\t<tr><td>Auckland</td><td>2004</td><td>BP Bombay           </td><td>Nitrate nitrogen g/m3</td><td>74.93306</td></tr>\n",
       "\t<tr><td>Auckland</td><td>2004</td><td>Fielding Rd Sand    </td><td>Nitrate nitrogen g/m3</td><td>74.06706</td></tr>\n",
       "\t<tr><td>Auckland</td><td>2004</td><td>Fielding Rd Volc    </td><td>Nitrate nitrogen g/m3</td><td>86.49944</td></tr>\n",
       "\t<tr><td>Auckland</td><td>2004</td><td>Ostrich Farm Obs NO2</td><td>Nitrate nitrogen g/m3</td><td>61.77862</td></tr>\n",
       "\t<tr><td>Auckland</td><td>2004</td><td>Watson Ave          </td><td>Nitrate nitrogen g/m3</td><td>46.00222</td></tr>\n",
       "\t<tr><td>Auckland</td><td>2005</td><td>BP Bombay           </td><td>E.coli cfu/100ml     </td><td> 1.00000</td></tr>\n",
       "</tbody>\n",
       "</table>\n"
      ],
      "text/latex": [
       "A grouped\\_df: 6 × 5\n",
       "\\begin{tabular}{lllll}\n",
       " Region & Year & WellName & Indicator & MeanVal\\\\\n",
       " <chr> & <dbl> & <chr> & <chr> & <dbl>\\\\\n",
       "\\hline\n",
       "\t Auckland & 2004 & BP Bombay            & Nitrate nitrogen g/m3 & 74.93306\\\\\n",
       "\t Auckland & 2004 & Fielding Rd Sand     & Nitrate nitrogen g/m3 & 74.06706\\\\\n",
       "\t Auckland & 2004 & Fielding Rd Volc     & Nitrate nitrogen g/m3 & 86.49944\\\\\n",
       "\t Auckland & 2004 & Ostrich Farm Obs NO2 & Nitrate nitrogen g/m3 & 61.77862\\\\\n",
       "\t Auckland & 2004 & Watson Ave           & Nitrate nitrogen g/m3 & 46.00222\\\\\n",
       "\t Auckland & 2005 & BP Bombay            & E.coli cfu/100ml      &  1.00000\\\\\n",
       "\\end{tabular}\n"
      ],
      "text/markdown": [
       "\n",
       "A grouped_df: 6 × 5\n",
       "\n",
       "| Region &lt;chr&gt; | Year &lt;dbl&gt; | WellName &lt;chr&gt; | Indicator &lt;chr&gt; | MeanVal &lt;dbl&gt; |\n",
       "|---|---|---|---|---|\n",
       "| Auckland | 2004 | BP Bombay            | Nitrate nitrogen g/m3 | 74.93306 |\n",
       "| Auckland | 2004 | Fielding Rd Sand     | Nitrate nitrogen g/m3 | 74.06706 |\n",
       "| Auckland | 2004 | Fielding Rd Volc     | Nitrate nitrogen g/m3 | 86.49944 |\n",
       "| Auckland | 2004 | Ostrich Farm Obs NO2 | Nitrate nitrogen g/m3 | 61.77862 |\n",
       "| Auckland | 2004 | Watson Ave           | Nitrate nitrogen g/m3 | 46.00222 |\n",
       "| Auckland | 2005 | BP Bombay            | E.coli cfu/100ml      |  1.00000 |\n",
       "\n"
      ],
      "text/plain": [
       "  Region   Year WellName             Indicator             MeanVal \n",
       "1 Auckland 2004 BP Bombay            Nitrate nitrogen g/m3 74.93306\n",
       "2 Auckland 2004 Fielding Rd Sand     Nitrate nitrogen g/m3 74.06706\n",
       "3 Auckland 2004 Fielding Rd Volc     Nitrate nitrogen g/m3 86.49944\n",
       "4 Auckland 2004 Ostrich Farm Obs NO2 Nitrate nitrogen g/m3 61.77862\n",
       "5 Auckland 2004 Watson Ave           Nitrate nitrogen g/m3 46.00222\n",
       "6 Auckland 2005 BP Bombay            E.coli cfu/100ml       1.00000"
      ]
     },
     "metadata": {},
     "output_type": "display_data"
    }
   ],
   "source": [
    "# Takes the new_groundwq, select the relevant columns about the quality if the sites, and then group by Region, Year,\n",
    "# WellName, and Indicator to get the mean value of the measurements for both indicator of each well from \n",
    "# 2002 to 2019 across NZ. Then display the first 6 rows of the grouped data frame.\n",
    "sites_quality <- new_groundwq %>% \n",
    "  select(Region, Year, WellName, CensoredValue, Indicator) %>% \n",
    "  group_by(Region, Year, WellName, Indicator) %>% \n",
    "  summarise(MeanVal = mean(CensoredValue))\n",
    "sites_quality %>% \n",
    "    head()"
   ]
  },
  {
   "cell_type": "markdown",
   "id": "57083423",
   "metadata": {},
   "source": [
    "<p style=\"text-align: justify\"> The data frame shows the mean E. coli counts and nitrogen concentration of each recorded well across New Zealand annually (from 2004 to 2019). </p>"
   ]
  },
  {
   "cell_type": "code",
   "execution_count": 20,
   "id": "fd2fa919",
   "metadata": {
    "scrolled": true
   },
   "outputs": [
    {
     "data": {
      "text/html": [
       "<table class=\"dataframe\">\n",
       "<caption>A grouped_df: 6 × 5</caption>\n",
       "<thead>\n",
       "\t<tr><th scope=col>Region</th><th scope=col>Year</th><th scope=col>WellName</th><th scope=col>E.coli cfu/100ml</th><th scope=col>Nitrate nitrogen g/m3</th></tr>\n",
       "\t<tr><th scope=col>&lt;chr&gt;</th><th scope=col>&lt;dbl&gt;</th><th scope=col>&lt;chr&gt;</th><th scope=col>&lt;dbl&gt;</th><th scope=col>&lt;dbl&gt;</th></tr>\n",
       "</thead>\n",
       "<tbody>\n",
       "\t<tr><td>Auckland</td><td>2004</td><td>BP Bombay           </td><td>NA</td><td>74.93306</td></tr>\n",
       "\t<tr><td>Auckland</td><td>2004</td><td>Fielding Rd Sand    </td><td>NA</td><td>74.06706</td></tr>\n",
       "\t<tr><td>Auckland</td><td>2004</td><td>Fielding Rd Volc    </td><td>NA</td><td>86.49944</td></tr>\n",
       "\t<tr><td>Auckland</td><td>2004</td><td>Ostrich Farm Obs NO2</td><td>NA</td><td>61.77862</td></tr>\n",
       "\t<tr><td>Auckland</td><td>2004</td><td>Watson Ave          </td><td>NA</td><td>46.00222</td></tr>\n",
       "\t<tr><td>Auckland</td><td>2005</td><td>BP Bombay           </td><td> 1</td><td>70.85694</td></tr>\n",
       "</tbody>\n",
       "</table>\n"
      ],
      "text/latex": [
       "A grouped\\_df: 6 × 5\n",
       "\\begin{tabular}{lllll}\n",
       " Region & Year & WellName & E.coli cfu/100ml & Nitrate nitrogen g/m3\\\\\n",
       " <chr> & <dbl> & <chr> & <dbl> & <dbl>\\\\\n",
       "\\hline\n",
       "\t Auckland & 2004 & BP Bombay            & NA & 74.93306\\\\\n",
       "\t Auckland & 2004 & Fielding Rd Sand     & NA & 74.06706\\\\\n",
       "\t Auckland & 2004 & Fielding Rd Volc     & NA & 86.49944\\\\\n",
       "\t Auckland & 2004 & Ostrich Farm Obs NO2 & NA & 61.77862\\\\\n",
       "\t Auckland & 2004 & Watson Ave           & NA & 46.00222\\\\\n",
       "\t Auckland & 2005 & BP Bombay            &  1 & 70.85694\\\\\n",
       "\\end{tabular}\n"
      ],
      "text/markdown": [
       "\n",
       "A grouped_df: 6 × 5\n",
       "\n",
       "| Region &lt;chr&gt; | Year &lt;dbl&gt; | WellName &lt;chr&gt; | E.coli cfu/100ml &lt;dbl&gt; | Nitrate nitrogen g/m3 &lt;dbl&gt; |\n",
       "|---|---|---|---|---|\n",
       "| Auckland | 2004 | BP Bombay            | NA | 74.93306 |\n",
       "| Auckland | 2004 | Fielding Rd Sand     | NA | 74.06706 |\n",
       "| Auckland | 2004 | Fielding Rd Volc     | NA | 86.49944 |\n",
       "| Auckland | 2004 | Ostrich Farm Obs NO2 | NA | 61.77862 |\n",
       "| Auckland | 2004 | Watson Ave           | NA | 46.00222 |\n",
       "| Auckland | 2005 | BP Bombay            |  1 | 70.85694 |\n",
       "\n"
      ],
      "text/plain": [
       "  Region   Year WellName             E.coli cfu/100ml Nitrate nitrogen g/m3\n",
       "1 Auckland 2004 BP Bombay            NA               74.93306             \n",
       "2 Auckland 2004 Fielding Rd Sand     NA               74.06706             \n",
       "3 Auckland 2004 Fielding Rd Volc     NA               86.49944             \n",
       "4 Auckland 2004 Ostrich Farm Obs NO2 NA               61.77862             \n",
       "5 Auckland 2004 Watson Ave           NA               46.00222             \n",
       "6 Auckland 2005 BP Bombay             1               70.85694             "
      ]
     },
     "metadata": {},
     "output_type": "display_data"
    }
   ],
   "source": [
    "# Converts the sites_quality to wide format to identify wells in specific years that are not assessed.\n",
    "sites_quality_wide <- sites_quality %>% \n",
    "  spread(key = Indicator,\n",
    "         value = MeanVal)\n",
    "sites_quality_wide %>% \n",
    "    head()"
   ]
  },
  {
   "cell_type": "code",
   "execution_count": 21,
   "id": "6375bb1c",
   "metadata": {
    "scrolled": true
   },
   "outputs": [
    {
     "data": {
      "text/html": [
       "<table class=\"dataframe\">\n",
       "<caption>A tibble: 6 × 4</caption>\n",
       "<thead>\n",
       "\t<tr><th scope=col>Region</th><th scope=col>WellName</th><th scope=col>Latitude</th><th scope=col>Longitude</th></tr>\n",
       "\t<tr><th scope=col>&lt;chr&gt;</th><th scope=col>&lt;chr&gt;</th><th scope=col>&lt;dbl&gt;</th><th scope=col>&lt;dbl&gt;</th></tr>\n",
       "</thead>\n",
       "<tbody>\n",
       "\t<tr><td>Auckland</td><td>Patumahoe Springs   </td><td>-37.20052</td><td>174.8477</td></tr>\n",
       "\t<tr><td>Auckland</td><td>Ostrich Farm Obs NO2</td><td>-37.16739</td><td>174.8698</td></tr>\n",
       "\t<tr><td>Auckland</td><td>Fielding Rd Sand    </td><td>-37.11617</td><td>174.9630</td></tr>\n",
       "\t<tr><td>Auckland</td><td>Fielding Rd Volc    </td><td>-37.11617</td><td>174.9630</td></tr>\n",
       "\t<tr><td>Auckland</td><td>Hillview Springs    </td><td>-37.16915</td><td>174.9866</td></tr>\n",
       "\t<tr><td>Auckland</td><td>Hickey Springs      </td><td>-37.19287</td><td>174.9009</td></tr>\n",
       "</tbody>\n",
       "</table>\n"
      ],
      "text/latex": [
       "A tibble: 6 × 4\n",
       "\\begin{tabular}{llll}\n",
       " Region & WellName & Latitude & Longitude\\\\\n",
       " <chr> & <chr> & <dbl> & <dbl>\\\\\n",
       "\\hline\n",
       "\t Auckland & Patumahoe Springs    & -37.20052 & 174.8477\\\\\n",
       "\t Auckland & Ostrich Farm Obs NO2 & -37.16739 & 174.8698\\\\\n",
       "\t Auckland & Fielding Rd Sand     & -37.11617 & 174.9630\\\\\n",
       "\t Auckland & Fielding Rd Volc     & -37.11617 & 174.9630\\\\\n",
       "\t Auckland & Hillview Springs     & -37.16915 & 174.9866\\\\\n",
       "\t Auckland & Hickey Springs       & -37.19287 & 174.9009\\\\\n",
       "\\end{tabular}\n"
      ],
      "text/markdown": [
       "\n",
       "A tibble: 6 × 4\n",
       "\n",
       "| Region &lt;chr&gt; | WellName &lt;chr&gt; | Latitude &lt;dbl&gt; | Longitude &lt;dbl&gt; |\n",
       "|---|---|---|---|\n",
       "| Auckland | Patumahoe Springs    | -37.20052 | 174.8477 |\n",
       "| Auckland | Ostrich Farm Obs NO2 | -37.16739 | 174.8698 |\n",
       "| Auckland | Fielding Rd Sand     | -37.11617 | 174.9630 |\n",
       "| Auckland | Fielding Rd Volc     | -37.11617 | 174.9630 |\n",
       "| Auckland | Hillview Springs     | -37.16915 | 174.9866 |\n",
       "| Auckland | Hickey Springs       | -37.19287 | 174.9009 |\n",
       "\n"
      ],
      "text/plain": [
       "  Region   WellName             Latitude  Longitude\n",
       "1 Auckland Patumahoe Springs    -37.20052 174.8477 \n",
       "2 Auckland Ostrich Farm Obs NO2 -37.16739 174.8698 \n",
       "3 Auckland Fielding Rd Sand     -37.11617 174.9630 \n",
       "4 Auckland Fielding Rd Volc     -37.11617 174.9630 \n",
       "5 Auckland Hillview Springs     -37.16915 174.9866 \n",
       "6 Auckland Hickey Springs       -37.19287 174.9009 "
      ]
     },
     "metadata": {},
     "output_type": "display_data"
    }
   ],
   "source": [
    "# Takes the new_groundwq, select the relevant columns for about sites coordinates, and then get the unique \n",
    "# entries of the wells across NZ.\n",
    "sites <- new_groundwq %>% \n",
    "  select(Region, WellName, Latitude, Longitude) %>% \n",
    "  distinct()\n",
    "sites %>% \n",
    "    head()"
   ]
  },
  {
   "cell_type": "markdown",
   "id": "bfddb956",
   "metadata": {},
   "source": [
    "<p style=\"text-align: justify\"> The data frame contains the well name, the region where it is in, and its coordinates. </p>"
   ]
  },
  {
   "cell_type": "code",
   "execution_count": 22,
   "id": "694cbe9f",
   "metadata": {},
   "outputs": [
    {
     "data": {
      "text/html": [
       "<table class=\"dataframe\">\n",
       "<caption>A tibble: 16 × 3</caption>\n",
       "<thead>\n",
       "\t<tr><th scope=col>Year</th><th scope=col>MeanEcoli</th><th scope=col>MeanNitrogen</th></tr>\n",
       "\t<tr><th scope=col>&lt;dbl&gt;</th><th scope=col>&lt;dbl&gt;</th><th scope=col>&lt;dbl&gt;</th></tr>\n",
       "</thead>\n",
       "<tbody>\n",
       "\t<tr><td>2004</td><td> 5.141063</td><td>53.50485</td></tr>\n",
       "\t<tr><td>2005</td><td> 7.251084</td><td>46.92155</td></tr>\n",
       "\t<tr><td>2006</td><td> 6.050847</td><td>51.74909</td></tr>\n",
       "\t<tr><td>2007</td><td>21.210100</td><td>46.04549</td></tr>\n",
       "\t<tr><td>2008</td><td>17.641715</td><td>48.92705</td></tr>\n",
       "\t<tr><td>2009</td><td>11.397722</td><td>48.28558</td></tr>\n",
       "\t<tr><td>2010</td><td> 4.597216</td><td>47.69756</td></tr>\n",
       "\t<tr><td>2011</td><td>20.707551</td><td>53.53137</td></tr>\n",
       "\t<tr><td>2012</td><td> 6.360327</td><td>51.38529</td></tr>\n",
       "\t<tr><td>2013</td><td> 7.464444</td><td>49.45038</td></tr>\n",
       "\t<tr><td>2014</td><td> 7.208801</td><td>49.48737</td></tr>\n",
       "\t<tr><td>2015</td><td> 5.462885</td><td>47.07559</td></tr>\n",
       "\t<tr><td>2016</td><td> 7.972556</td><td>65.06526</td></tr>\n",
       "\t<tr><td>2017</td><td>10.397201</td><td>75.34922</td></tr>\n",
       "\t<tr><td>2018</td><td>12.379324</td><td>79.07063</td></tr>\n",
       "\t<tr><td>2019</td><td>17.374594</td><td>71.99180</td></tr>\n",
       "</tbody>\n",
       "</table>\n"
      ],
      "text/latex": [
       "A tibble: 16 × 3\n",
       "\\begin{tabular}{lll}\n",
       " Year & MeanEcoli & MeanNitrogen\\\\\n",
       " <dbl> & <dbl> & <dbl>\\\\\n",
       "\\hline\n",
       "\t 2004 &  5.141063 & 53.50485\\\\\n",
       "\t 2005 &  7.251084 & 46.92155\\\\\n",
       "\t 2006 &  6.050847 & 51.74909\\\\\n",
       "\t 2007 & 21.210100 & 46.04549\\\\\n",
       "\t 2008 & 17.641715 & 48.92705\\\\\n",
       "\t 2009 & 11.397722 & 48.28558\\\\\n",
       "\t 2010 &  4.597216 & 47.69756\\\\\n",
       "\t 2011 & 20.707551 & 53.53137\\\\\n",
       "\t 2012 &  6.360327 & 51.38529\\\\\n",
       "\t 2013 &  7.464444 & 49.45038\\\\\n",
       "\t 2014 &  7.208801 & 49.48737\\\\\n",
       "\t 2015 &  5.462885 & 47.07559\\\\\n",
       "\t 2016 &  7.972556 & 65.06526\\\\\n",
       "\t 2017 & 10.397201 & 75.34922\\\\\n",
       "\t 2018 & 12.379324 & 79.07063\\\\\n",
       "\t 2019 & 17.374594 & 71.99180\\\\\n",
       "\\end{tabular}\n"
      ],
      "text/markdown": [
       "\n",
       "A tibble: 16 × 3\n",
       "\n",
       "| Year &lt;dbl&gt; | MeanEcoli &lt;dbl&gt; | MeanNitrogen &lt;dbl&gt; |\n",
       "|---|---|---|\n",
       "| 2004 |  5.141063 | 53.50485 |\n",
       "| 2005 |  7.251084 | 46.92155 |\n",
       "| 2006 |  6.050847 | 51.74909 |\n",
       "| 2007 | 21.210100 | 46.04549 |\n",
       "| 2008 | 17.641715 | 48.92705 |\n",
       "| 2009 | 11.397722 | 48.28558 |\n",
       "| 2010 |  4.597216 | 47.69756 |\n",
       "| 2011 | 20.707551 | 53.53137 |\n",
       "| 2012 |  6.360327 | 51.38529 |\n",
       "| 2013 |  7.464444 | 49.45038 |\n",
       "| 2014 |  7.208801 | 49.48737 |\n",
       "| 2015 |  5.462885 | 47.07559 |\n",
       "| 2016 |  7.972556 | 65.06526 |\n",
       "| 2017 | 10.397201 | 75.34922 |\n",
       "| 2018 | 12.379324 | 79.07063 |\n",
       "| 2019 | 17.374594 | 71.99180 |\n",
       "\n"
      ],
      "text/plain": [
       "   Year MeanEcoli MeanNitrogen\n",
       "1  2004  5.141063 53.50485    \n",
       "2  2005  7.251084 46.92155    \n",
       "3  2006  6.050847 51.74909    \n",
       "4  2007 21.210100 46.04549    \n",
       "5  2008 17.641715 48.92705    \n",
       "6  2009 11.397722 48.28558    \n",
       "7  2010  4.597216 47.69756    \n",
       "8  2011 20.707551 53.53137    \n",
       "9  2012  6.360327 51.38529    \n",
       "10 2013  7.464444 49.45038    \n",
       "11 2014  7.208801 49.48737    \n",
       "12 2015  5.462885 47.07559    \n",
       "13 2016  7.972556 65.06526    \n",
       "14 2017 10.397201 75.34922    \n",
       "15 2018 12.379324 79.07063    \n",
       "16 2019 17.374594 71.99180    "
      ]
     },
     "metadata": {},
     "output_type": "display_data"
    }
   ],
   "source": [
    "# Takes the wide format of sites_quality, removes the missing values, group rows by Year, and summarise the mean for \n",
    "# each indicator from 2004 to 2019.\n",
    "gwq_overall_change <- sites_quality_wide %>%\n",
    "  na.omit() %>% \n",
    "  group_by(Year) %>% \n",
    "  summarise(MeanEcoli = mean(`E.coli cfu/100ml`), MeanNitrogen = mean(`Nitrate nitrogen g/m3`))\n",
    "gwq_overall_change"
   ]
  },
  {
   "cell_type": "code",
   "execution_count": null,
   "id": "e7fe2171",
   "metadata": {},
   "outputs": [],
   "source": [
    "## Creates a graph that displays the overall change in E. coli counts and nitrogen concentration in NZ from 2004-2019\n",
    "# overall_gwq <- highchart() %>% \n",
    "#   hc_yAxis_multiples(\n",
    "#     list(lineWidth = 3, lineColor='blue', title=list(text=\"E.coli cfu/100ml\")),\n",
    "#     list(lineWidth = 3, lineColor=\"green\", title=list(text=\"Nitrate nitrogen g/m3\"))\n",
    "#   ) %>% \n",
    "#   hc_add_series(data = gwq_overall_change$MeanEcoli, color='blue', name = \"E.coli\") %>% \n",
    "#   hc_add_series(data = gwq_overall_change$MeanNitrogen, color='green', name = \"Nitrate nitrogen\", yAxis = 1) %>%\n",
    "#   hc_xAxis(categories = gwq_overall_change$Year, title = list(text = \"Year\")) %>% \n",
    "#   hc_title(text = \"Average E. coli Count and Nitrate Nitrogen Amount in NZ (2004 - 2019)\")\n",
    "# overall_gwq"
   ]
  },
  {
   "cell_type": "markdown",
   "id": "1f056ffd",
   "metadata": {},
   "source": [
    "![overall_change](https://raw.githubusercontent.com/beuri97/data201_gp/waterq/water_quality/img/gq_overall.png)"
   ]
  },
  {
   "cell_type": "markdown",
   "id": "837f880c",
   "metadata": {},
   "source": [
    "<p style=\"text-align: justify\"> We created a times series plot using `highcharter` package using the `gwq_overall_change` data frame. The plot shows the average change in E. coli counts and nitrogen concentration from 2004 to 2019. </p>"
   ]
  },
  {
   "cell_type": "markdown",
   "id": "f18fca21",
   "metadata": {},
   "source": [
    "<p style=\"text-align: justify\"> We commented out the chunk of code as the plot does not appear after running it. We uploaded the plot to GitHub and used the link to display it using markdown to resolve this issue. </p>"
   ]
  },
  {
   "cell_type": "code",
   "execution_count": 36,
   "id": "fa56d063",
   "metadata": {},
   "outputs": [
    {
     "data": {
      "image/png": "[encoded data removed]",
      "text/plain": [
       "plot without title"
      ]
     },
     "metadata": {
      "image/png": {
       "height": 720,
       "width": 1200
      }
     },
     "output_type": "display_data"
    }
   ],
   "source": [
    "# Resize the size of the displayed visualisation\n",
    "options(repr.plot.width = 20, repr.plot.height = 12)\n",
    "\n",
    "# Create a data frame that contains the condition band, the count of sites per condition band, the proportion of sites under\n",
    "# condition bands, and the indicator.\n",
    "groundwater_ecoli_condition <- sites_quality %>% \n",
    "  filter(Indicator == \"E.coli cfu/100ml\") %>% \n",
    "  group_by(WellName) %>% \n",
    "  summarise(m = mean(MeanVal)) %>% \n",
    "  mutate(Condition = case_when(m == 0 ~ \"No risk\", \n",
    "                            m > 0 & m <= 1 ~ \"Within limits\",\n",
    "                            m > 1 & m <= 1.6 ~ \"Medium risk\",\n",
    "                            m > 1.6 & m <= 2 ~ \"High risk\",\n",
    "                            TRUE ~ \"Extreme\")) %>% \n",
    "  group_by(Condition) %>% \n",
    "  summarize(Count = n()) %>% \n",
    "  mutate(prop=Count/sum(Count), Indicator=\"E.coli (cfu/100ml)\")\n",
    "\n",
    "# Change the order of the categorical variable instead in alphabetical order (condition band).\n",
    "groundwater_ecoli_condition$Condition <- groundwater_ecoli_condition$Condition %>% \n",
    "    factor(levels = c(\"No risk\", \"Within limits\", \"Medium risk\", \"High risk\", \"Extreme\"))\n",
    "\n",
    "# Creates a visualisation that shows the proportion of sites under certain condition bands.\n",
    "groundwater_ecoli_condition_plot <- groundwater_ecoli_condition %>% \n",
    "  ggplot(aes(x =  Condition, y = prop*100, fill = Condition))+\n",
    "  geom_bar(stat=\"identity\")+\n",
    "  scale_fill_manual(values = c(\"#00ABFD\", \"#00B81F\",\n",
    "                               \"#85AD00\", \"#CF9400\")) +\n",
    "  xlab(\"Condition\") +\n",
    "  ylab(\"Percentage of sites\") +\n",
    "  ggtitle(\"New Zealand Groundwater Quality in terms of E.coli (2004 - 2019)\") +\n",
    "  labs(fill = \"Condition\") +\n",
    "  ylim(0, 100) + \n",
    "  theme_bw()\n",
    "groundwater_ecoli_condition_plot"
   ]
  },
  {
   "cell_type": "code",
   "execution_count": 35,
   "id": "03b29e2f",
   "metadata": {
    "scrolled": true
   },
   "outputs": [
    {
     "data": {
      "image/png": "[encoded data removed]",
      "text/plain": [
       "plot without title"
      ]
     },
     "metadata": {
      "image/png": {
       "height": 720,
       "width": 1200
      }
     },
     "output_type": "display_data"
    }
   ],
   "source": [
    "# Resize the size of the displayed visualisation\n",
    "options(repr.plot.width = 20, repr.plot.height = 12)\n",
    "\n",
    "# Create a data frame that contains the condition band, the count of sites per condition band, the proportion of sites under\n",
    "# condition bands, and the indicator.\n",
    "groundwater_nitro_condition <- sites_quality %>% \n",
    "  filter(Indicator == \"Nitrate nitrogen g/m3\") %>% \n",
    "  group_by(WellName) %>% \n",
    "  summarise(m = mean(MeanVal)) %>% \n",
    "  mutate(Condition = case_when(m >= 0 & m <= 6 ~ \"Low risk\", \n",
    "                            m > 6 & m <= 11.3 ~ \"Within limits\",\n",
    "                            m > 11.3 & m <= 50 ~ \"Dangerous\",\n",
    "                            TRUE ~ \"Extreme\")) %>% \n",
    "  group_by(Condition) %>% \n",
    "  summarize(Count = n()) %>% \n",
    "  mutate(prop=Count/sum(Count), Indicator = \"Nitrate nitrogen (g/m3)\")\n",
    "\n",
    "# Change the order of the categorical variable instead in alphabetical order (condition band).\n",
    "groundwater_nitro_condition$Condition <- groundwater_nitro_condition$Condition %>% \n",
    "    factor(levels = c(\"Low risk\", \"Within limits\", \"Dangerous\", \"Extreme\"))\n",
    "\n",
    "# Creates a visualisation that shows the proportion of sites under certain condition bands.\n",
    "groundwater_nitro_condition_plot <- groundwater_nitro_condition %>%\n",
    "  ggplot(aes(x =  Condition, y = prop*100, fill = Condition))+\n",
    "  geom_bar(stat=\"identity\") +\n",
    "  scale_fill_manual(values = c(\"#00ABFD\", \"#00B81F\",\n",
    "                               \"#85AD00\", \"#CF9400\")) +\n",
    "  xlab(\"Condition\") +\n",
    "  ylab(\"Percentage of sites\") +\n",
    "  ggtitle(\"Groundwater Quality in terms of Nitrate Nitrogen (2004 - 2019)\") +\n",
    "  labs(fill = \"Condition\") +\n",
    "  ylim(0, 100) +\n",
    "  theme_bw()\n",
    "groundwater_nitro_condition_plot"
   ]
  },
  {
   "cell_type": "markdown",
   "id": "13d1b3c3",
   "metadata": {},
   "source": [
    "<p style=\"text-align: justify\"> The bar plots we created represent the proportion of sites allocated to different condition bands based on whether their average E. coli counts and nitrogen concentration (from 2004 to 2019) exceeded the threshold values. The threshold used for condition allocation is based on the values from different government agencies that we unified. </p>"
   ]
  },
  {
   "cell_type": "markdown",
   "id": "4fda3d48",
   "metadata": {},
   "source": [
    "<h2>River Quality (E. coli & Nitrogen)</h2>"
   ]
  },
  {
   "cell_type": "code",
   "execution_count": 42,
   "id": "dc2ee6c0",
   "metadata": {},
   "outputs": [
    {
     "name": "stdout",
     "output_type": "stream",
     "text": [
      "Rows: 7,550\n",
      "Columns: 69\n",
      "$ field_1               \u001b[3m\u001b[90m<dbl>\u001b[39m\u001b[23m 1, 2, 3, 4, 5, 6, 7, 8, 9, 10, 11, 12, 13, 14, 1…\n",
      "$ measure_ab            \u001b[3m\u001b[90m<chr>\u001b[39m\u001b[23m \"ECOLI\", \"ECOLI\", \"ECOLI\", \"ECOLI\", \"ECOLI\", \"EC…\n",
      "$ measure               \u001b[3m\u001b[90m<chr>\u001b[39m\u001b[23m \"E. coli\", \"E. coli\", \"E. coli\", \"E. coli\", \"E. …\n",
      "$ units                 \u001b[3m\u001b[90m<chr>\u001b[39m\u001b[23m \"cfu/100ml\", \"cfu/100ml\", \"cfu/100ml\", \"cfu/100m…\n",
      "$ sof                   \u001b[3m\u001b[90m<chr>\u001b[39m\u001b[23m \"WWL\", \"CWH\", \"WWL\", \"CWLk\", \"CWH\", \"WXL\", \"WWL\"…\n",
      "$ nzsegment             \u001b[3m\u001b[90m<dbl>\u001b[39m\u001b[23m 5122005, 4084132, 4085815, 4081484, 4083343, 506…\n",
      "$ lat                   \u001b[3m\u001b[90m<dbl>\u001b[39m\u001b[23m -38.4616, -38.0824, -38.0795, -38.0440, -38.0465…\n",
      "$ long                  \u001b[3m\u001b[90m<dbl>\u001b[39m\u001b[23m 177.8767, 176.2122, 177.1362, 176.3308, 176.9880…\n",
      "$ s_id                  \u001b[3m\u001b[90m<chr>\u001b[39m\u001b[23m \"GDC-00027\", \"EBOP-00010\", \"EBOP-00011\", \"EBOP-0…\n",
      "$ n_obs                 \u001b[3m\u001b[90m<dbl>\u001b[39m\u001b[23m 54, 38, 38, 38, 38, 36, 36, 36, 37, 54, 55, 55, …\n",
      "$ s                     \u001b[3m\u001b[90m<dbl>\u001b[39m\u001b[23m -177, 172, 16, 45, 46, 0, 7, 7, -20, 369, 16, -1…\n",
      "$ var_s                 \u001b[3m\u001b[90m<dbl>\u001b[39m\u001b[23m 17951.6667, 6324.0000, 434.0000, 420.3333, 432.0…\n",
      "$ d                     \u001b[3m\u001b[90m<dbl>\u001b[39m\u001b[23m 1431, 703, 162, 163, 162, 630, 145, 145, 153, 14…\n",
      "$ tau                   \u001b[3m\u001b[90m<dbl>\u001b[39m\u001b[23m -0.123689727, 0.244665718, 0.098765432, 0.276073…\n",
      "$ z                     \u001b[3m\u001b[90m<dbl>\u001b[39m\u001b[23m -1.31359135, 2.15030557, 0.72002304, 2.14612869,…\n",
      "$ p                     \u001b[3m\u001b[90m<dbl>\u001b[39m\u001b[23m 0.188983761, 0.031531052, 0.471510809, 0.0318627…\n",
      "$ c                     \u001b[3m\u001b[90m<dbl>\u001b[39m\u001b[23m 0.9055081, 0.9842345, 0.7642446, 0.9840686, 0.98…\n",
      "$ cd                    \u001b[3m\u001b[90m<dbl>\u001b[39m\u001b[23m 0.905508119, 0.015765526, 0.235755405, 0.0159313…\n",
      "$ prop_censored         \u001b[3m\u001b[90m<dbl>\u001b[39m\u001b[23m 0, 0, 0, 0, 0, 0, 0, 0, 0, 0, 0, 0, 0, 0, 0, 0, …\n",
      "$ prop_unique           \u001b[3m\u001b[90m<dbl>\u001b[39m\u001b[23m 0.6262626, 0.7386364, 0.7439024, 0.3461538, 0.74…\n",
      "$ no_censorlevels       \u001b[3m\u001b[90m<dbl>\u001b[39m\u001b[23m 0, 0, 0, 0, 0, 0, 0, 0, 0, 0, 0, 0, 0, 0, 0, 0, …\n",
      "$ median                \u001b[3m\u001b[90m<dbl>\u001b[39m\u001b[23m 485.0, 230.0, 670.0, 5.0, 65.0, 77.0, 231.0, 297…\n",
      "$ annual_sen_slope      \u001b[3m\u001b[90m<dbl>\u001b[39m\u001b[23m -26.6782868, 22.9611782, 18.4000526, 0.3323476, …\n",
      "$ sen_lci               \u001b[3m\u001b[90m<dbl>\u001b[39m\u001b[23m -70.6657469, 6.2410407, -23.5631494, 0.0000000, …\n",
      "$ sen_uci               \u001b[3m\u001b[90m<dbl>\u001b[39m\u001b[23m 4.753993, 38.836104, 90.184574, 0.809966, 10.721…\n",
      "$ analysis_note         \u001b[3m\u001b[90m<chr>\u001b[39m\u001b[23m \"ok\", \"ok\", \"ok\", \"ok\", \"ok\", \"WARNING: Sen slop…\n",
      "$ percent_annual_change \u001b[3m\u001b[90m<dbl>\u001b[39m\u001b[23m -5.5006777, 9.9831209, 2.7462765, 6.6469518, 10.…\n",
      "$ trend_direction       \u001b[3m\u001b[90m<chr>\u001b[39m\u001b[23m \"Improving\", \"Worsening\", \"Worsening\", \"Worsenin…\n",
      "$ seasonal              \u001b[3m\u001b[90m<lgl>\u001b[39m\u001b[23m FALSE, FALSE, TRUE, TRUE, TRUE, FALSE, TRUE, TRU…\n",
      "$ freq                  \u001b[3m\u001b[90m<chr>\u001b[39m\u001b[23m \"BiMonth\", \"Qtr\", \"Qtr\", \"Qtr\", \"Qtr\", \"Qtr\", \"Q…\n",
      "$ period                \u001b[3m\u001b[90m<chr>\u001b[39m\u001b[23m NA, NA, NA, NA, NA, NA, NA, NA, NA, NA, NA, NA, …\n",
      "$ end_year              \u001b[3m\u001b[90m<dbl>\u001b[39m\u001b[23m 2000, 2000, 2000, 2000, 2000, 2000, 2000, 2000, …\n",
      "$ trend_confidence      \u001b[3m\u001b[90m<chr>\u001b[39m\u001b[23m \"Very likely improving\", \"Very likely worsening\"…\n",
      "$ address               \u001b[3m\u001b[90m<chr>\u001b[39m\u001b[23m \"Kanakanaia Road, Te Karaka, Gisborne, New Zeala…\n",
      "$ place_id              \u001b[3m\u001b[90m<dbl>\u001b[39m\u001b[23m 264287166, 61693872, 61595231, 274747517, 614218…\n",
      "$ licence               \u001b[3m\u001b[90m<chr>\u001b[39m\u001b[23m \"Data © OpenStreetMap contributors, ODbL 1.0. ht…\n",
      "$ osm_type              \u001b[3m\u001b[90m<chr>\u001b[39m\u001b[23m \"way\", \"node\", \"node\", \"way\", \"node\", \"way\", \"wa…\n",
      "$ osm_id                \u001b[3m\u001b[90m<dbl>\u001b[39m\u001b[23m 818159012, 5618788944, 5655958798, 894453953, 56…\n",
      "$ osm_lat               \u001b[3m\u001b[90m<dbl>\u001b[39m\u001b[23m -38.46149, -38.08231, -38.07915, -38.04419, -38.…\n",
      "$ osm_lon               \u001b[3m\u001b[90m<dbl>\u001b[39m\u001b[23m 177.8767, 176.2126, 177.1358, 176.3314, 176.9878…\n",
      "$ road                  \u001b[3m\u001b[90m<chr>\u001b[39m\u001b[23m \"Kanakanaia Road\", \"Ngongotahā Road\", \"State Hig…\n",
      "$ village               \u001b[3m\u001b[90m<chr>\u001b[39m\u001b[23m \"Te Karaka\", NA, NA, \"Mourea\", NA, NA, NA, NA, N…\n",
      "$ state                 \u001b[3m\u001b[90m<chr>\u001b[39m\u001b[23m \"Gisborne\", \"Bay of Plenty\", \"Bay of Plenty\", \"B…\n",
      "$ `ISO3166-2-lvl4`      \u001b[3m\u001b[90m<chr>\u001b[39m\u001b[23m \"NZ-GIS\", \"NZ-BOP\", \"NZ-BOP\", \"NZ-BOP\", \"NZ-BOP\"…\n",
      "$ country               \u001b[3m\u001b[90m<chr>\u001b[39m\u001b[23m \"New Zealand / Aotearoa\", \"New Zealand / Aotearo…\n",
      "$ country_code          \u001b[3m\u001b[90m<chr>\u001b[39m\u001b[23m \"nz\", \"nz\", \"nz\", \"nz\", \"nz\", \"nz\", \"nz\", \"nz\", …\n",
      "$ boundingbox           \u001b[3m\u001b[90m<lgl>\u001b[39m\u001b[23m NA, NA, NA, NA, NA, NA, NA, NA, NA, NA, NA, NA, …\n",
      "$ house_number          \u001b[3m\u001b[90m<chr>\u001b[39m\u001b[23m NA, \"266\", \"2234A\", NA, \"1085A\", NA, NA, NA, NA,…\n",
      "$ town                  \u001b[3m\u001b[90m<chr>\u001b[39m\u001b[23m NA, \"Ngongotahā\", NA, NA, NA, NA, NA, NA, NA, \"N…\n",
      "$ county                \u001b[3m\u001b[90m<chr>\u001b[39m\u001b[23m NA, \"Rotorua Lakes District\", \"Whakatāne Distric…\n",
      "$ postcode              \u001b[3m\u001b[90m<chr>\u001b[39m\u001b[23m NA, \"3015\", NA, NA, \"3123\", \"4087\", NA, NA, NA, …\n",
      "$ man_made              \u001b[3m\u001b[90m<chr>\u001b[39m\u001b[23m NA, NA, NA, \"Mourea Bridge\", NA, NA, NA, NA, NA,…\n",
      "$ hamlet                \u001b[3m\u001b[90m<chr>\u001b[39m\u001b[23m NA, NA, NA, NA, NA, \"Awatere\", NA, NA, NA, NA, \"…\n",
      "$ city                  \u001b[3m\u001b[90m<chr>\u001b[39m\u001b[23m NA, NA, NA, NA, NA, NA, NA, NA, NA, NA, NA, NA, …\n",
      "$ suburb                \u001b[3m\u001b[90m<chr>\u001b[39m\u001b[23m NA, NA, NA, NA, NA, NA, NA, NA, NA, NA, NA, NA, …\n",
      "$ tourism               \u001b[3m\u001b[90m<chr>\u001b[39m\u001b[23m NA, NA, NA, NA, NA, NA, NA, NA, NA, NA, NA, NA, …\n",
      "$ highway               \u001b[3m\u001b[90m<chr>\u001b[39m\u001b[23m NA, NA, NA, NA, NA, NA, NA, NA, NA, NA, NA, NA, …\n",
      "$ locality              \u001b[3m\u001b[90m<chr>\u001b[39m\u001b[23m NA, NA, NA, NA, NA, NA, NA, NA, NA, NA, NA, NA, …\n",
      "$ building              \u001b[3m\u001b[90m<chr>\u001b[39m\u001b[23m NA, NA, NA, NA, NA, NA, NA, NA, NA, NA, NA, NA, …\n",
      "$ amenity               \u001b[3m\u001b[90m<chr>\u001b[39m\u001b[23m NA, NA, NA, NA, NA, NA, NA, NA, NA, NA, NA, NA, …\n",
      "$ railway               \u001b[3m\u001b[90m<chr>\u001b[39m\u001b[23m NA, NA, NA, NA, NA, NA, NA, NA, NA, NA, NA, NA, …\n",
      "$ neighbourhood         \u001b[3m\u001b[90m<chr>\u001b[39m\u001b[23m NA, NA, NA, NA, NA, NA, NA, NA, NA, NA, NA, NA, …\n",
      "$ leisure               \u001b[3m\u001b[90m<chr>\u001b[39m\u001b[23m NA, NA, NA, NA, NA, NA, NA, NA, NA, NA, NA, NA, …\n",
      "$ city_district         \u001b[3m\u001b[90m<chr>\u001b[39m\u001b[23m NA, NA, NA, NA, NA, NA, NA, NA, NA, NA, NA, NA, …\n",
      "$ craft                 \u001b[3m\u001b[90m<chr>\u001b[39m\u001b[23m NA, NA, NA, NA, NA, NA, NA, NA, NA, NA, NA, NA, …\n",
      "$ historic              \u001b[3m\u001b[90m<lgl>\u001b[39m\u001b[23m NA, NA, NA, NA, NA, NA, NA, NA, NA, NA, NA, NA, …\n",
      "$ quarter               \u001b[3m\u001b[90m<chr>\u001b[39m\u001b[23m NA, NA, NA, NA, NA, NA, NA, NA, NA, NA, NA, NA, …\n",
      "$ farm                  \u001b[3m\u001b[90m<chr>\u001b[39m\u001b[23m NA, NA, NA, NA, NA, NA, NA, NA, NA, NA, NA, NA, …\n",
      "$ shop                  \u001b[3m\u001b[90m<chr>\u001b[39m\u001b[23m NA, NA, NA, NA, NA, NA, NA, NA, NA, NA, NA, NA, …\n"
     ]
    }
   ],
   "source": [
    "# Gives an overview of river_ecoli such as columns, data types, the possible values, number of rows and columns.\n",
    "river_ecoli %>% \n",
    "    glimpse()"
   ]
  },
  {
   "cell_type": "code",
   "execution_count": 51,
   "id": "a14aa149",
   "metadata": {},
   "outputs": [
    {
     "name": "stdout",
     "output_type": "stream",
     "text": [
      "Rows: 25,930\n",
      "Columns: 69\n",
      "$ field_1               \u001b[3m\u001b[90m<dbl>\u001b[39m\u001b[23m 1, 2, 3, 4, 5, 6, 7, 8, 9, 10, 11, 12, 13, 14, 1…\n",
      "$ measure_ab            \u001b[3m\u001b[90m<chr>\u001b[39m\u001b[23m \"NH4N\", \"NH4N\", \"NH4N\", \"NH4N\", \"NH4N\", \"NH4N\", …\n",
      "$ measure               \u001b[3m\u001b[90m<chr>\u001b[39m\u001b[23m \"Ammoniacal nitrogen\", \"Ammoniacal nitrogen\", \"A…\n",
      "$ units                 \u001b[3m\u001b[90m<chr>\u001b[39m\u001b[23m \"g/m3\", \"g/m3\", \"g/m3\", \"g/m3\", \"g/m3\", \"g/m3\", …\n",
      "$ sof                   \u001b[3m\u001b[90m<chr>\u001b[39m\u001b[23m \"WWL\", \"WWL\", \"WWL\", \"WDL\", \"WDL\", \"WWL\", \"WDL\",…\n",
      "$ nzsegment             \u001b[3m\u001b[90m<dbl>\u001b[39m\u001b[23m 2038450, 2031444, 2038644, 2040105, 2035880, 203…\n",
      "$ lat                   \u001b[3m\u001b[90m<dbl>\u001b[39m\u001b[23m -36.8889, -36.3450, -36.8949, -36.9623, -36.7320…\n",
      "$ long                  \u001b[3m\u001b[90m<dbl>\u001b[39m\u001b[23m 174.5221, 174.7118, 174.5947, 174.8800, 174.6947…\n",
      "$ s_id                  \u001b[3m\u001b[90m<chr>\u001b[39m\u001b[23m \"ARC-00001\", \"ARC-00008\", \"ARC-00013\", \"ARC-0001…\n",
      "$ n_obs                 \u001b[3m\u001b[90m<dbl>\u001b[39m\u001b[23m 116, 115, 118, 108, 118, 117, 120, 119, 118, 120…\n",
      "$ s                     \u001b[3m\u001b[90m<dbl>\u001b[39m\u001b[23m -1496, 338, 821, -67, -1443, 424, -19, -581, -10…\n",
      "$ var_s                 \u001b[3m\u001b[90m<dbl>\u001b[39m\u001b[23m 130591.6667, 168395.3333, 181606.3333, 141435.66…\n",
      "$ d                     \u001b[3m\u001b[90m<dbl>\u001b[39m\u001b[23m 6670, 6555, 6903, 5778, 6903, 6786, 540, 7021, 5…\n",
      "$ tau                   \u001b[3m\u001b[90m<dbl>\u001b[39m\u001b[23m -0.22428786, 0.05156369, 0.11893380, -0.01159571…\n",
      "$ z                     \u001b[3m\u001b[90m<dbl>\u001b[39m\u001b[23m -4.1369804, 0.8212301, 1.9241918, -0.1754949, -3…\n",
      "$ p                     \u001b[3m\u001b[90m<dbl>\u001b[39m\u001b[23m 0.000035200, 0.411515197, 0.054330548, 0.8606907…\n",
      "$ c                     \u001b[3m\u001b[90m<dbl>\u001b[39m\u001b[23m 0.9999824, 0.7942424, 0.9728347, 0.5696546, 0.99…\n",
      "$ cd                    \u001b[3m\u001b[90m<dbl>\u001b[39m\u001b[23m 0.999982405, 0.205757599, 0.027165274, 0.5696546…\n",
      "$ prop_censored         \u001b[3m\u001b[90m<dbl>\u001b[39m\u001b[23m 0.161016949, 0.016806723, 0.050420168, 0.0089285…\n",
      "$ prop_unique           \u001b[3m\u001b[90m<dbl>\u001b[39m\u001b[23m 0.21186441, 0.38655462, 0.37815126, 0.50892857, …\n",
      "$ no_censorlevels       \u001b[3m\u001b[90m<dbl>\u001b[39m\u001b[23m 1, 1, 1, 1, 0, 1, 1, 1, 1, 1, 1, 1, 1, 0, 0, 0, …\n",
      "$ median                \u001b[3m\u001b[90m<dbl>\u001b[39m\u001b[23m 0.0050, 0.0300, 0.0240, 0.0480, 0.0605, 0.0300, …\n",
      "$ annual_sen_slope      \u001b[3m\u001b[90m<dbl>\u001b[39m\u001b[23m 0.000000000, 0.000000000, 0.000558060, 0.0000000…\n",
      "$ sen_lci               \u001b[3m\u001b[90m<dbl>\u001b[39m\u001b[23m -0.000364871, 0.000000000, 0.000000000, -0.00216…\n",
      "$ sen_uci               \u001b[3m\u001b[90m<dbl>\u001b[39m\u001b[23m 0.000000000, 0.000798650, 0.001269986, 0.0016666…\n",
      "$ analysis_note         \u001b[3m\u001b[90m<chr>\u001b[39m\u001b[23m \"WARNING: Sen slope influenced by censored value…\n",
      "$ percent_annual_change \u001b[3m\u001b[90m<dbl>\u001b[39m\u001b[23m 0.0000000, 0.0000000, 2.3252483, 0.0000000, -9.6…\n",
      "$ trend_direction       \u001b[3m\u001b[90m<chr>\u001b[39m\u001b[23m \"Improving\", \"Worsening\", \"Worsening\", \"Indeterm…\n",
      "$ seasonal              \u001b[3m\u001b[90m<lgl>\u001b[39m\u001b[23m FALSE, FALSE, FALSE, FALSE, FALSE, FALSE, TRUE, …\n",
      "$ freq                  \u001b[3m\u001b[90m<chr>\u001b[39m\u001b[23m \"Month\", \"Month\", \"Month\", \"Month\", \"Month\", \"Mo…\n",
      "$ period                \u001b[3m\u001b[90m<chr>\u001b[39m\u001b[23m NA, NA, NA, NA, NA, NA, NA, NA, NA, NA, NA, NA, …\n",
      "$ end_year              \u001b[3m\u001b[90m<dbl>\u001b[39m\u001b[23m 2000, 2000, 2000, 2000, 2000, 2000, 2000, 2000, …\n",
      "$ trend_confidence      \u001b[3m\u001b[90m<chr>\u001b[39m\u001b[23m \"Very likely improving\", \"Likely worsening\", \"Ve…\n",
      "$ address               \u001b[3m\u001b[90m<chr>\u001b[39m\u001b[23m \"Auckland City Walk, Waitākere Ranges, Auckland,…\n",
      "$ place_id              \u001b[3m\u001b[90m<dbl>\u001b[39m\u001b[23m 165823907, 58956921, 87535711, 231262579, 287850…\n",
      "$ licence               \u001b[3m\u001b[90m<chr>\u001b[39m\u001b[23m \"Data © OpenStreetMap contributors, ODbL 1.0. ht…\n",
      "$ osm_type              \u001b[3m\u001b[90m<chr>\u001b[39m\u001b[23m \"way\", \"node\", \"node\", \"way\", \"way\", \"node\", \"no…\n",
      "$ osm_id                \u001b[3m\u001b[90m<dbl>\u001b[39m\u001b[23m 242760716, 5434384649, 8660785368, 616794756, 99…\n",
      "$ osm_lat               \u001b[3m\u001b[90m<dbl>\u001b[39m\u001b[23m -36.88878, -36.34623, -36.89434, -36.96241, -36.…\n",
      "$ osm_lon               \u001b[3m\u001b[90m<dbl>\u001b[39m\u001b[23m 174.5221, 174.7119, 174.5947, 174.8800, 174.6947…\n",
      "$ road                  \u001b[3m\u001b[90m<chr>\u001b[39m\u001b[23m \"Auckland City Walk\", \"Awanui Crescent\", \"Candia…\n",
      "$ city                  \u001b[3m\u001b[90m<chr>\u001b[39m\u001b[23m \"Waitākere Ranges\", \"Rodney\", \"Waitākere Ranges\"…\n",
      "$ state                 \u001b[3m\u001b[90m<chr>\u001b[39m\u001b[23m \"Auckland\", \"Auckland\", \"Auckland\", \"Auckland\", …\n",
      "$ `ISO3166-2-lvl4`      \u001b[3m\u001b[90m<chr>\u001b[39m\u001b[23m \"NZ-AUK\", \"NZ-AUK\", \"NZ-AUK\", \"NZ-AUK\", \"NZ-AUK\"…\n",
      "$ postcode              \u001b[3m\u001b[90m<chr>\u001b[39m\u001b[23m \"0816\", \"0985\", \"0612\", \"2023\", \"0632\", \"0994\", …\n",
      "$ country               \u001b[3m\u001b[90m<chr>\u001b[39m\u001b[23m \"New Zealand / Aotearoa\", \"New Zealand / Aotearo…\n",
      "$ country_code          \u001b[3m\u001b[90m<chr>\u001b[39m\u001b[23m \"nz\", \"nz\", \"nz\", \"nz\", \"nz\", \"nz\", \"nz\", \"nz\", …\n",
      "$ boundingbox           \u001b[3m\u001b[90m<lgl>\u001b[39m\u001b[23m NA, NA, NA, NA, NA, NA, NA, NA, NA, NA, NA, NA, …\n",
      "$ house_number          \u001b[3m\u001b[90m<chr>\u001b[39m\u001b[23m NA, \"34\", \"177\", NA, NA, \"544\", NA, NA, NA, NA, …\n",
      "$ village               \u001b[3m\u001b[90m<chr>\u001b[39m\u001b[23m NA, \"Matakana\", NA, NA, NA, NA, NA, \"Horotiu\", N…\n",
      "$ suburb                \u001b[3m\u001b[90m<chr>\u001b[39m\u001b[23m NA, NA, \"Henderson Valley\", \"Ōtara\", \"Albany\", N…\n",
      "$ man_made              \u001b[3m\u001b[90m<chr>\u001b[39m\u001b[23m NA, NA, NA, NA, \"Days Bridge\", NA, \"Wairoa River…\n",
      "$ county                \u001b[3m\u001b[90m<chr>\u001b[39m\u001b[23m NA, NA, NA, NA, NA, NA, NA, \"Waikato District\", …\n",
      "$ town                  \u001b[3m\u001b[90m<chr>\u001b[39m\u001b[23m NA, NA, NA, NA, NA, NA, NA, NA, \"Huntly\", NA, NA…\n",
      "$ tourism               \u001b[3m\u001b[90m<chr>\u001b[39m\u001b[23m NA, NA, NA, NA, NA, NA, NA, NA, NA, NA, NA, \"Acc…\n",
      "$ hamlet                \u001b[3m\u001b[90m<chr>\u001b[39m\u001b[23m NA, NA, NA, NA, NA, NA, NA, NA, NA, NA, NA, NA, …\n",
      "$ locality              \u001b[3m\u001b[90m<chr>\u001b[39m\u001b[23m NA, NA, NA, NA, NA, NA, NA, NA, NA, NA, NA, NA, …\n",
      "$ amenity               \u001b[3m\u001b[90m<chr>\u001b[39m\u001b[23m NA, NA, NA, NA, NA, NA, NA, NA, NA, NA, NA, NA, …\n",
      "$ leisure               \u001b[3m\u001b[90m<chr>\u001b[39m\u001b[23m NA, NA, NA, NA, NA, NA, NA, NA, NA, NA, NA, NA, …\n",
      "$ neighbourhood         \u001b[3m\u001b[90m<chr>\u001b[39m\u001b[23m NA, NA, NA, NA, NA, NA, NA, NA, NA, NA, NA, NA, …\n",
      "$ shop                  \u001b[3m\u001b[90m<chr>\u001b[39m\u001b[23m NA, NA, NA, NA, NA, NA, NA, NA, NA, NA, NA, NA, …\n",
      "$ building              \u001b[3m\u001b[90m<chr>\u001b[39m\u001b[23m NA, NA, NA, NA, NA, NA, NA, NA, NA, NA, NA, NA, …\n",
      "$ farm                  \u001b[3m\u001b[90m<chr>\u001b[39m\u001b[23m NA, NA, NA, NA, NA, NA, NA, NA, NA, NA, NA, NA, …\n",
      "$ highway               \u001b[3m\u001b[90m<chr>\u001b[39m\u001b[23m NA, NA, NA, NA, NA, NA, NA, NA, NA, NA, NA, NA, …\n",
      "$ railway               \u001b[3m\u001b[90m<chr>\u001b[39m\u001b[23m NA, NA, NA, NA, NA, NA, NA, NA, NA, NA, NA, NA, …\n",
      "$ city_district         \u001b[3m\u001b[90m<chr>\u001b[39m\u001b[23m NA, NA, NA, NA, NA, NA, NA, NA, NA, NA, NA, NA, …\n",
      "$ craft                 \u001b[3m\u001b[90m<chr>\u001b[39m\u001b[23m NA, NA, NA, NA, NA, NA, NA, NA, NA, NA, NA, NA, …\n",
      "$ quarter               \u001b[3m\u001b[90m<chr>\u001b[39m\u001b[23m NA, NA, NA, NA, NA, NA, NA, NA, NA, NA, NA, NA, …\n",
      "$ historic              \u001b[3m\u001b[90m<chr>\u001b[39m\u001b[23m NA, NA, NA, NA, NA, NA, NA, NA, NA, NA, NA, NA, …\n"
     ]
    }
   ],
   "source": [
    "# Gives an overview of river_nitrogen such as columns, data types, the possible values, number of rows and columns.\n",
    "# This allow us to select which relevant columns to select.\n",
    "river_nitrogen %>% \n",
    "  glimpse()"
   ]
  },
  {
   "cell_type": "markdown",
   "id": "552b786b",
   "metadata": {},
   "source": [
    "<p style=\"text-align: justify\"> Glimpse displays information about river quality in terms of E. coli and nitrogen, with additional information about its physical location based on the columns appended to the original dataset when the latitude and longitude are converted. </p>"
   ]
  },
  {
   "cell_type": "code",
   "execution_count": 43,
   "id": "5eaa556f",
   "metadata": {},
   "outputs": [
    {
     "data": {
      "image/png": "[encoded data removed]",
      "text/plain": [
       "plot without title"
      ]
     },
     "metadata": {
      "image/png": {
       "height": 720,
       "width": 1200
      }
     },
     "output_type": "display_data"
    }
   ],
   "source": [
    "# Reads the entirety of river_ecoli and creates a plot to check if it contains missing data (NA).\n",
    "river_ecoli %>% \n",
    "  vis_miss()"
   ]
  },
  {
   "cell_type": "code",
   "execution_count": 53,
   "id": "3d879890",
   "metadata": {},
   "outputs": [
    {
     "data": {
      "image/png": "[encoded data removed]",
      "text/plain": [
       "plot without title"
      ]
     },
     "metadata": {
      "image/png": {
       "height": 720,
       "width": 1200
      }
     },
     "output_type": "display_data"
    }
   ],
   "source": [
    "# Reads the entirety of river_nitrogen and creates a plot to check if it contains missing data (NA). \n",
    "river_nitrogen %>% \n",
    "  vis_miss(warn_large_data = FALSE)"
   ]
  },
  {
   "cell_type": "markdown",
   "id": "88fd424b",
   "metadata": {},
   "source": [
    "<p style=\"text-align: justify\"> Most of the missing values are attributed to the additional column about the river sites' location. The missing values for the period column are due to some of the records being the measurements observed in n-periods. </p>"
   ]
  },
  {
   "cell_type": "code",
   "execution_count": 48,
   "id": "c2f5b6e4",
   "metadata": {},
   "outputs": [
    {
     "data": {
      "text/html": [
       "<table class=\"dataframe\">\n",
       "<caption>A tibble: 6 × 7</caption>\n",
       "<thead>\n",
       "\t<tr><th scope=col>Region</th><th scope=col>Year</th><th scope=col>S_ID</th><th scope=col>Median</th><th scope=col>Indicator</th><th scope=col>Latitude</th><th scope=col>Longitude</th></tr>\n",
       "\t<tr><th scope=col>&lt;chr&gt;</th><th scope=col>&lt;dbl&gt;</th><th scope=col>&lt;chr&gt;</th><th scope=col>&lt;dbl&gt;</th><th scope=col>&lt;chr&gt;</th><th scope=col>&lt;dbl&gt;</th><th scope=col>&lt;dbl&gt;</th></tr>\n",
       "</thead>\n",
       "<tbody>\n",
       "\t<tr><td>Gisborne</td><td>2002</td><td>GDC-00002</td><td> 80.5</td><td>E.coli cfu/100ml</td><td>-37.6746</td><td>178.3481</td></tr>\n",
       "\t<tr><td>Gisborne</td><td>2002</td><td>GDC-00003</td><td>231.0</td><td>E.coli cfu/100ml</td><td>-38.2039</td><td>178.2558</td></tr>\n",
       "\t<tr><td>Gisborne</td><td>2002</td><td>GDC-00004</td><td>297.0</td><td>E.coli cfu/100ml</td><td>-38.2923</td><td>178.2692</td></tr>\n",
       "\t<tr><td>Gisborne</td><td>2002</td><td>GDC-00016</td><td>434.0</td><td>E.coli cfu/100ml</td><td>-38.6342</td><td>177.9682</td></tr>\n",
       "\t<tr><td>Gisborne</td><td>2002</td><td>GDC-00020</td><td>219.0</td><td>E.coli cfu/100ml</td><td>-38.6683</td><td>178.0199</td></tr>\n",
       "\t<tr><td>Gisborne</td><td>2002</td><td>GDC-00021</td><td>209.0</td><td>E.coli cfu/100ml</td><td>-38.4268</td><td>177.7224</td></tr>\n",
       "</tbody>\n",
       "</table>\n"
      ],
      "text/latex": [
       "A tibble: 6 × 7\n",
       "\\begin{tabular}{lllllll}\n",
       " Region & Year & S\\_ID & Median & Indicator & Latitude & Longitude\\\\\n",
       " <chr> & <dbl> & <chr> & <dbl> & <chr> & <dbl> & <dbl>\\\\\n",
       "\\hline\n",
       "\t Gisborne & 2002 & GDC-00002 &  80.5 & E.coli cfu/100ml & -37.6746 & 178.3481\\\\\n",
       "\t Gisborne & 2002 & GDC-00003 & 231.0 & E.coli cfu/100ml & -38.2039 & 178.2558\\\\\n",
       "\t Gisborne & 2002 & GDC-00004 & 297.0 & E.coli cfu/100ml & -38.2923 & 178.2692\\\\\n",
       "\t Gisborne & 2002 & GDC-00016 & 434.0 & E.coli cfu/100ml & -38.6342 & 177.9682\\\\\n",
       "\t Gisborne & 2002 & GDC-00020 & 219.0 & E.coli cfu/100ml & -38.6683 & 178.0199\\\\\n",
       "\t Gisborne & 2002 & GDC-00021 & 209.0 & E.coli cfu/100ml & -38.4268 & 177.7224\\\\\n",
       "\\end{tabular}\n"
      ],
      "text/markdown": [
       "\n",
       "A tibble: 6 × 7\n",
       "\n",
       "| Region &lt;chr&gt; | Year &lt;dbl&gt; | S_ID &lt;chr&gt; | Median &lt;dbl&gt; | Indicator &lt;chr&gt; | Latitude &lt;dbl&gt; | Longitude &lt;dbl&gt; |\n",
       "|---|---|---|---|---|---|---|\n",
       "| Gisborne | 2002 | GDC-00002 |  80.5 | E.coli cfu/100ml | -37.6746 | 178.3481 |\n",
       "| Gisborne | 2002 | GDC-00003 | 231.0 | E.coli cfu/100ml | -38.2039 | 178.2558 |\n",
       "| Gisborne | 2002 | GDC-00004 | 297.0 | E.coli cfu/100ml | -38.2923 | 178.2692 |\n",
       "| Gisborne | 2002 | GDC-00016 | 434.0 | E.coli cfu/100ml | -38.6342 | 177.9682 |\n",
       "| Gisborne | 2002 | GDC-00020 | 219.0 | E.coli cfu/100ml | -38.6683 | 178.0199 |\n",
       "| Gisborne | 2002 | GDC-00021 | 209.0 | E.coli cfu/100ml | -38.4268 | 177.7224 |\n",
       "\n"
      ],
      "text/plain": [
       "  Region   Year S_ID      Median Indicator        Latitude Longitude\n",
       "1 Gisborne 2002 GDC-00002  80.5  E.coli cfu/100ml -37.6746 178.3481 \n",
       "2 Gisborne 2002 GDC-00003 231.0  E.coli cfu/100ml -38.2039 178.2558 \n",
       "3 Gisborne 2002 GDC-00004 297.0  E.coli cfu/100ml -38.2923 178.2692 \n",
       "4 Gisborne 2002 GDC-00016 434.0  E.coli cfu/100ml -38.6342 177.9682 \n",
       "5 Gisborne 2002 GDC-00020 219.0  E.coli cfu/100ml -38.6683 178.0199 \n",
       "6 Gisborne 2002 GDC-00021 209.0  E.coli cfu/100ml -38.4268 177.7224 "
      ]
     },
     "metadata": {},
     "output_type": "display_data"
    }
   ],
   "source": [
    "# Takes the river_ecoli rename the columns, standardise the indicators, select the relevant columns and rows. \n",
    "new_river_ecoli <- river_ecoli %>% \n",
    "  rename(Region = state, Year = end_year, Indicator = measure, Median = median, Units = units, S_ID = s_id,\n",
    "         Latitude = lat, Longitude = long) %>% \n",
    "  mutate(Indicator = \"E.coli cfu/100ml\") %>% \n",
    "  select(Region, Year, S_ID, Median, Indicator, Latitude, Longitude) %>% \n",
    "  filter(Year >= 2002, Year <= 2019)\n",
    "new_river_ecoli %>% \n",
    "    head()"
   ]
  },
  {
   "cell_type": "code",
   "execution_count": 56,
   "id": "f01c5b8f",
   "metadata": {},
   "outputs": [
    {
     "data": {
      "text/html": [
       "<table class=\"dataframe\">\n",
       "<caption>A tibble: 6 × 7</caption>\n",
       "<thead>\n",
       "\t<tr><th scope=col>Region</th><th scope=col>Year</th><th scope=col>S_ID</th><th scope=col>Median</th><th scope=col>Indicator</th><th scope=col>Latitude</th><th scope=col>Longitude</th></tr>\n",
       "\t<tr><th scope=col>&lt;chr&gt;</th><th scope=col>&lt;dbl&gt;</th><th scope=col>&lt;chr&gt;</th><th scope=col>&lt;dbl&gt;</th><th scope=col>&lt;chr&gt;</th><th scope=col>&lt;dbl&gt;</th><th scope=col>&lt;dbl&gt;</th></tr>\n",
       "</thead>\n",
       "<tbody>\n",
       "\t<tr><td>Auckland</td><td>2002</td><td>ARC-00001</td><td>0.0080</td><td>Ammoniacal nitrogen g/m3</td><td>-36.8889</td><td>174.5221</td></tr>\n",
       "\t<tr><td>Auckland</td><td>2002</td><td>ARC-00008</td><td>0.0300</td><td>Ammoniacal nitrogen g/m3</td><td>-36.3450</td><td>174.7118</td></tr>\n",
       "\t<tr><td>Waikato </td><td>2002</td><td>ARC-00009</td><td>0.0100</td><td>Ammoniacal nitrogen g/m3</td><td>-37.1955</td><td>174.9735</td></tr>\n",
       "\t<tr><td>Auckland</td><td>2002</td><td>ARC-00013</td><td>0.0285</td><td>Ammoniacal nitrogen g/m3</td><td>-36.8949</td><td>174.5947</td></tr>\n",
       "\t<tr><td>Auckland</td><td>2002</td><td>ARC-00015</td><td>0.0450</td><td>Ammoniacal nitrogen g/m3</td><td>-36.9623</td><td>174.8800</td></tr>\n",
       "\t<tr><td>Auckland</td><td>2002</td><td>ARC-00016</td><td>0.0610</td><td>Ammoniacal nitrogen g/m3</td><td>-36.9557</td><td>174.8906</td></tr>\n",
       "</tbody>\n",
       "</table>\n"
      ],
      "text/latex": [
       "A tibble: 6 × 7\n",
       "\\begin{tabular}{lllllll}\n",
       " Region & Year & S\\_ID & Median & Indicator & Latitude & Longitude\\\\\n",
       " <chr> & <dbl> & <chr> & <dbl> & <chr> & <dbl> & <dbl>\\\\\n",
       "\\hline\n",
       "\t Auckland & 2002 & ARC-00001 & 0.0080 & Ammoniacal nitrogen g/m3 & -36.8889 & 174.5221\\\\\n",
       "\t Auckland & 2002 & ARC-00008 & 0.0300 & Ammoniacal nitrogen g/m3 & -36.3450 & 174.7118\\\\\n",
       "\t Waikato  & 2002 & ARC-00009 & 0.0100 & Ammoniacal nitrogen g/m3 & -37.1955 & 174.9735\\\\\n",
       "\t Auckland & 2002 & ARC-00013 & 0.0285 & Ammoniacal nitrogen g/m3 & -36.8949 & 174.5947\\\\\n",
       "\t Auckland & 2002 & ARC-00015 & 0.0450 & Ammoniacal nitrogen g/m3 & -36.9623 & 174.8800\\\\\n",
       "\t Auckland & 2002 & ARC-00016 & 0.0610 & Ammoniacal nitrogen g/m3 & -36.9557 & 174.8906\\\\\n",
       "\\end{tabular}\n"
      ],
      "text/markdown": [
       "\n",
       "A tibble: 6 × 7\n",
       "\n",
       "| Region &lt;chr&gt; | Year &lt;dbl&gt; | S_ID &lt;chr&gt; | Median &lt;dbl&gt; | Indicator &lt;chr&gt; | Latitude &lt;dbl&gt; | Longitude &lt;dbl&gt; |\n",
       "|---|---|---|---|---|---|---|\n",
       "| Auckland | 2002 | ARC-00001 | 0.0080 | Ammoniacal nitrogen g/m3 | -36.8889 | 174.5221 |\n",
       "| Auckland | 2002 | ARC-00008 | 0.0300 | Ammoniacal nitrogen g/m3 | -36.3450 | 174.7118 |\n",
       "| Waikato  | 2002 | ARC-00009 | 0.0100 | Ammoniacal nitrogen g/m3 | -37.1955 | 174.9735 |\n",
       "| Auckland | 2002 | ARC-00013 | 0.0285 | Ammoniacal nitrogen g/m3 | -36.8949 | 174.5947 |\n",
       "| Auckland | 2002 | ARC-00015 | 0.0450 | Ammoniacal nitrogen g/m3 | -36.9623 | 174.8800 |\n",
       "| Auckland | 2002 | ARC-00016 | 0.0610 | Ammoniacal nitrogen g/m3 | -36.9557 | 174.8906 |\n",
       "\n"
      ],
      "text/plain": [
       "  Region   Year S_ID      Median Indicator                Latitude Longitude\n",
       "1 Auckland 2002 ARC-00001 0.0080 Ammoniacal nitrogen g/m3 -36.8889 174.5221 \n",
       "2 Auckland 2002 ARC-00008 0.0300 Ammoniacal nitrogen g/m3 -36.3450 174.7118 \n",
       "3 Waikato  2002 ARC-00009 0.0100 Ammoniacal nitrogen g/m3 -37.1955 174.9735 \n",
       "4 Auckland 2002 ARC-00013 0.0285 Ammoniacal nitrogen g/m3 -36.8949 174.5947 \n",
       "5 Auckland 2002 ARC-00015 0.0450 Ammoniacal nitrogen g/m3 -36.9623 174.8800 \n",
       "6 Auckland 2002 ARC-00016 0.0610 Ammoniacal nitrogen g/m3 -36.9557 174.8906 "
      ]
     },
     "metadata": {},
     "output_type": "display_data"
    }
   ],
   "source": [
    "# Takes river_nitrogen rename the columns, get the rows from 2002 to 2009 with ammoniacal nitrogen and nitrate(-nitrite) nitrogen\n",
    "# as indicators, standardise the indicators, and select the necessary columns.\n",
    "new_river_nitrogen <- river_nitrogen %>% \n",
    "  rename(Region = state, Year = end_year, Indicator = measure, Median = median, Units = units, S_ID = s_id,\n",
    "         Latitude = lat, Longitude = long) %>% \n",
    "  filter(Year >= 2002, Year <= 2019, Indicator %in% c(\"Ammoniacal nitrogen\", \"Nitrate-nitrite nitrogen\")) %>%\n",
    "  mutate(Indicator = case_when(Indicator == \"Ammoniacal nitrogen\" ~ \"Ammoniacal nitrogen g/m3\",\n",
    "                               TRUE ~ \"Nitrate-nitrite nitrogen g/m3\")) %>%\n",
    "  select(Region, Year, S_ID, Median, Indicator, Latitude, Longitude)\n",
    "new_river_nitrogen %>% \n",
    "    head()"
   ]
  },
  {
   "cell_type": "markdown",
   "id": "7759cdae",
   "metadata": {},
   "source": [
    "<p style=\"text-align: justify\"> Similar to groundwater quality data, there are two measures of E. coli count and nitrogen concentration, which are equivalent so we proceed to use cfu/100ml and g/m3. Moreover, we concatenated the indicator and units. </p>"
   ]
  },
  {
   "cell_type": "code",
   "execution_count": 57,
   "id": "ebf20e21",
   "metadata": {
    "scrolled": true
   },
   "outputs": [
    {
     "data": {
      "image/png": "[encoded data removed]",
      "text/plain": [
       "plot without title"
      ]
     },
     "metadata": {
      "image/png": {
       "height": 720,
       "width": 1200
      }
     },
     "output_type": "display_data"
    },
    {
     "data": {
      "image/png": "[encoded data removed]",
      "text/plain": [
       "plot without title"
      ]
     },
     "metadata": {
      "image/png": {
       "height": 720,
       "width": 1200
      }
     },
     "output_type": "display_data"
    }
   ],
   "source": [
    "# Check for missing data again (NA)\n",
    "new_river_ecoli %>% \n",
    "  vis_miss()\n",
    "\n",
    "new_river_nitrogen %>% \n",
    "    vis_miss()"
   ]
  },
  {
   "cell_type": "code",
   "execution_count": 49,
   "id": "78c02d68",
   "metadata": {
    "scrolled": false
   },
   "outputs": [
    {
     "name": "stderr",
     "output_type": "stream",
     "text": [
      "\u001b[1m\u001b[22m`summarise()` has grouped output by 'Region', 'Year', 'S_ID'. You can override using the `.groups` argument.\n"
     ]
    },
    {
     "data": {
      "text/html": [
       "<table class=\"dataframe\">\n",
       "<caption>A grouped_df: 6 × 5</caption>\n",
       "<thead>\n",
       "\t<tr><th scope=col>Region</th><th scope=col>Year</th><th scope=col>S_ID</th><th scope=col>Indicator</th><th scope=col>MeanVal</th></tr>\n",
       "\t<tr><th scope=col>&lt;chr&gt;</th><th scope=col>&lt;dbl&gt;</th><th scope=col>&lt;chr&gt;</th><th scope=col>&lt;chr&gt;</th><th scope=col>&lt;dbl&gt;</th></tr>\n",
       "</thead>\n",
       "<tbody>\n",
       "\t<tr><td>Auckland</td><td>2009</td><td>ARC-00014</td><td>E.coli cfu/100ml</td><td>2200</td></tr>\n",
       "\t<tr><td>Auckland</td><td>2009</td><td>ARC-00015</td><td>E.coli cfu/100ml</td><td>1900</td></tr>\n",
       "\t<tr><td>Auckland</td><td>2009</td><td>ARC-00018</td><td>E.coli cfu/100ml</td><td>2400</td></tr>\n",
       "\t<tr><td>Auckland</td><td>2009</td><td>ARC-00019</td><td>E.coli cfu/100ml</td><td> 385</td></tr>\n",
       "\t<tr><td>Auckland</td><td>2010</td><td>ARC-00014</td><td>E.coli cfu/100ml</td><td>2100</td></tr>\n",
       "\t<tr><td>Auckland</td><td>2010</td><td>ARC-00015</td><td>E.coli cfu/100ml</td><td>1600</td></tr>\n",
       "</tbody>\n",
       "</table>\n"
      ],
      "text/latex": [
       "A grouped\\_df: 6 × 5\n",
       "\\begin{tabular}{lllll}\n",
       " Region & Year & S\\_ID & Indicator & MeanVal\\\\\n",
       " <chr> & <dbl> & <chr> & <chr> & <dbl>\\\\\n",
       "\\hline\n",
       "\t Auckland & 2009 & ARC-00014 & E.coli cfu/100ml & 2200\\\\\n",
       "\t Auckland & 2009 & ARC-00015 & E.coli cfu/100ml & 1900\\\\\n",
       "\t Auckland & 2009 & ARC-00018 & E.coli cfu/100ml & 2400\\\\\n",
       "\t Auckland & 2009 & ARC-00019 & E.coli cfu/100ml &  385\\\\\n",
       "\t Auckland & 2010 & ARC-00014 & E.coli cfu/100ml & 2100\\\\\n",
       "\t Auckland & 2010 & ARC-00015 & E.coli cfu/100ml & 1600\\\\\n",
       "\\end{tabular}\n"
      ],
      "text/markdown": [
       "\n",
       "A grouped_df: 6 × 5\n",
       "\n",
       "| Region &lt;chr&gt; | Year &lt;dbl&gt; | S_ID &lt;chr&gt; | Indicator &lt;chr&gt; | MeanVal &lt;dbl&gt; |\n",
       "|---|---|---|---|---|\n",
       "| Auckland | 2009 | ARC-00014 | E.coli cfu/100ml | 2200 |\n",
       "| Auckland | 2009 | ARC-00015 | E.coli cfu/100ml | 1900 |\n",
       "| Auckland | 2009 | ARC-00018 | E.coli cfu/100ml | 2400 |\n",
       "| Auckland | 2009 | ARC-00019 | E.coli cfu/100ml |  385 |\n",
       "| Auckland | 2010 | ARC-00014 | E.coli cfu/100ml | 2100 |\n",
       "| Auckland | 2010 | ARC-00015 | E.coli cfu/100ml | 1600 |\n",
       "\n"
      ],
      "text/plain": [
       "  Region   Year S_ID      Indicator        MeanVal\n",
       "1 Auckland 2009 ARC-00014 E.coli cfu/100ml 2200   \n",
       "2 Auckland 2009 ARC-00015 E.coli cfu/100ml 1900   \n",
       "3 Auckland 2009 ARC-00018 E.coli cfu/100ml 2400   \n",
       "4 Auckland 2009 ARC-00019 E.coli cfu/100ml  385   \n",
       "5 Auckland 2010 ARC-00014 E.coli cfu/100ml 2100   \n",
       "6 Auckland 2010 ARC-00015 E.coli cfu/100ml 1600   "
      ]
     },
     "metadata": {},
     "output_type": "display_data"
    }
   ],
   "source": [
    "# Takes the new_river_ecoli select the relevant columns, group the rows by Region, Year, Site ID, and Indicator,\n",
    "# summarise the mean for each site across NZ in specific year.\n",
    "river_src_quality_ecoli <- new_river_ecoli %>% \n",
    "  select(Region, Year, S_ID, Median, Indicator) %>% \n",
    "  group_by(Region, Year, S_ID, Indicator) %>% \n",
    "  summarise(MeanVal = mean(Median))\n",
    "river_src_quality_ecoli %>% \n",
    "    head()"
   ]
  },
  {
   "cell_type": "code",
   "execution_count": 58,
   "id": "63798a4c",
   "metadata": {},
   "outputs": [
    {
     "name": "stderr",
     "output_type": "stream",
     "text": [
      "\u001b[1m\u001b[22m`summarise()` has grouped output by 'Region', 'Year', 'S_ID'. You can override using the `.groups` argument.\n"
     ]
    },
    {
     "data": {
      "text/html": [
       "<table class=\"dataframe\">\n",
       "<caption>A grouped_df: 6 × 5</caption>\n",
       "<thead>\n",
       "\t<tr><th scope=col>Region</th><th scope=col>Year</th><th scope=col>S_ID</th><th scope=col>Indicator</th><th scope=col>MeanVal</th></tr>\n",
       "\t<tr><th scope=col>&lt;chr&gt;</th><th scope=col>&lt;dbl&gt;</th><th scope=col>&lt;chr&gt;</th><th scope=col>&lt;chr&gt;</th><th scope=col>&lt;dbl&gt;</th></tr>\n",
       "</thead>\n",
       "<tbody>\n",
       "\t<tr><td>Auckland</td><td>2002</td><td>ARC-00001</td><td>Ammoniacal nitrogen g/m3     </td><td>0.0080</td></tr>\n",
       "\t<tr><td>Auckland</td><td>2002</td><td>ARC-00001</td><td>Nitrate-nitrite nitrogen g/m3</td><td>0.0170</td></tr>\n",
       "\t<tr><td>Auckland</td><td>2002</td><td>ARC-00003</td><td>Ammoniacal nitrogen g/m3     </td><td>0.0440</td></tr>\n",
       "\t<tr><td>Auckland</td><td>2002</td><td>ARC-00003</td><td>Nitrate-nitrite nitrogen g/m3</td><td>0.4630</td></tr>\n",
       "\t<tr><td>Auckland</td><td>2002</td><td>ARC-00004</td><td>Ammoniacal nitrogen g/m3     </td><td>0.0500</td></tr>\n",
       "\t<tr><td>Auckland</td><td>2002</td><td>ARC-00004</td><td>Nitrate-nitrite nitrogen g/m3</td><td>0.2765</td></tr>\n",
       "</tbody>\n",
       "</table>\n"
      ],
      "text/latex": [
       "A grouped\\_df: 6 × 5\n",
       "\\begin{tabular}{lllll}\n",
       " Region & Year & S\\_ID & Indicator & MeanVal\\\\\n",
       " <chr> & <dbl> & <chr> & <chr> & <dbl>\\\\\n",
       "\\hline\n",
       "\t Auckland & 2002 & ARC-00001 & Ammoniacal nitrogen g/m3      & 0.0080\\\\\n",
       "\t Auckland & 2002 & ARC-00001 & Nitrate-nitrite nitrogen g/m3 & 0.0170\\\\\n",
       "\t Auckland & 2002 & ARC-00003 & Ammoniacal nitrogen g/m3      & 0.0440\\\\\n",
       "\t Auckland & 2002 & ARC-00003 & Nitrate-nitrite nitrogen g/m3 & 0.4630\\\\\n",
       "\t Auckland & 2002 & ARC-00004 & Ammoniacal nitrogen g/m3      & 0.0500\\\\\n",
       "\t Auckland & 2002 & ARC-00004 & Nitrate-nitrite nitrogen g/m3 & 0.2765\\\\\n",
       "\\end{tabular}\n"
      ],
      "text/markdown": [
       "\n",
       "A grouped_df: 6 × 5\n",
       "\n",
       "| Region &lt;chr&gt; | Year &lt;dbl&gt; | S_ID &lt;chr&gt; | Indicator &lt;chr&gt; | MeanVal &lt;dbl&gt; |\n",
       "|---|---|---|---|---|\n",
       "| Auckland | 2002 | ARC-00001 | Ammoniacal nitrogen g/m3      | 0.0080 |\n",
       "| Auckland | 2002 | ARC-00001 | Nitrate-nitrite nitrogen g/m3 | 0.0170 |\n",
       "| Auckland | 2002 | ARC-00003 | Ammoniacal nitrogen g/m3      | 0.0440 |\n",
       "| Auckland | 2002 | ARC-00003 | Nitrate-nitrite nitrogen g/m3 | 0.4630 |\n",
       "| Auckland | 2002 | ARC-00004 | Ammoniacal nitrogen g/m3      | 0.0500 |\n",
       "| Auckland | 2002 | ARC-00004 | Nitrate-nitrite nitrogen g/m3 | 0.2765 |\n",
       "\n"
      ],
      "text/plain": [
       "  Region   Year S_ID      Indicator                     MeanVal\n",
       "1 Auckland 2002 ARC-00001 Ammoniacal nitrogen g/m3      0.0080 \n",
       "2 Auckland 2002 ARC-00001 Nitrate-nitrite nitrogen g/m3 0.0170 \n",
       "3 Auckland 2002 ARC-00003 Ammoniacal nitrogen g/m3      0.0440 \n",
       "4 Auckland 2002 ARC-00003 Nitrate-nitrite nitrogen g/m3 0.4630 \n",
       "5 Auckland 2002 ARC-00004 Ammoniacal nitrogen g/m3      0.0500 \n",
       "6 Auckland 2002 ARC-00004 Nitrate-nitrite nitrogen g/m3 0.2765 "
      ]
     },
     "metadata": {},
     "output_type": "display_data"
    }
   ],
   "source": [
    "# Takes the new_river_nitrogen select the relevant columns, group the rows by Region, Year, Site ID, and Indicator,\n",
    "# summarise the mean for each site across NZ in specific year.\n",
    "river_src_quality_nitrogen <- new_river_nitrogen %>% \n",
    "  select(Region, Year, S_ID, Median, Indicator) %>% \n",
    "  group_by(Region, Year, S_ID, Indicator) %>% \n",
    "  summarise(MeanVal = mean(Median))\n",
    "river_src_quality_nitrogen %>% \n",
    "    head()"
   ]
  },
  {
   "cell_type": "markdown",
   "id": "ac69d795",
   "metadata": {},
   "source": [
    "<p style=\"text-align: justify\"> The data frame shows the mean E. coli counts and nitrogen concentration of each recorded river sites across New Zealand annually (from 2002 to 2019). </p>"
   ]
  },
  {
   "cell_type": "code",
   "execution_count": 50,
   "id": "5255c56c",
   "metadata": {
    "scrolled": true
   },
   "outputs": [
    {
     "data": {
      "text/html": [
       "<table class=\"dataframe\">\n",
       "<caption>A tibble: 6 × 4</caption>\n",
       "<thead>\n",
       "\t<tr><th scope=col>Region</th><th scope=col>S_ID</th><th scope=col>Latitude</th><th scope=col>Longitude</th></tr>\n",
       "\t<tr><th scope=col>&lt;chr&gt;</th><th scope=col>&lt;chr&gt;</th><th scope=col>&lt;dbl&gt;</th><th scope=col>&lt;dbl&gt;</th></tr>\n",
       "</thead>\n",
       "<tbody>\n",
       "\t<tr><td>Gisborne</td><td>GDC-00002</td><td>-37.6746</td><td>178.3481</td></tr>\n",
       "\t<tr><td>Gisborne</td><td>GDC-00003</td><td>-38.2039</td><td>178.2558</td></tr>\n",
       "\t<tr><td>Gisborne</td><td>GDC-00004</td><td>-38.2923</td><td>178.2692</td></tr>\n",
       "\t<tr><td>Gisborne</td><td>GDC-00016</td><td>-38.6342</td><td>177.9682</td></tr>\n",
       "\t<tr><td>Gisborne</td><td>GDC-00020</td><td>-38.6683</td><td>178.0199</td></tr>\n",
       "\t<tr><td>Gisborne</td><td>GDC-00021</td><td>-38.4268</td><td>177.7224</td></tr>\n",
       "</tbody>\n",
       "</table>\n"
      ],
      "text/latex": [
       "A tibble: 6 × 4\n",
       "\\begin{tabular}{llll}\n",
       " Region & S\\_ID & Latitude & Longitude\\\\\n",
       " <chr> & <chr> & <dbl> & <dbl>\\\\\n",
       "\\hline\n",
       "\t Gisborne & GDC-00002 & -37.6746 & 178.3481\\\\\n",
       "\t Gisborne & GDC-00003 & -38.2039 & 178.2558\\\\\n",
       "\t Gisborne & GDC-00004 & -38.2923 & 178.2692\\\\\n",
       "\t Gisborne & GDC-00016 & -38.6342 & 177.9682\\\\\n",
       "\t Gisborne & GDC-00020 & -38.6683 & 178.0199\\\\\n",
       "\t Gisborne & GDC-00021 & -38.4268 & 177.7224\\\\\n",
       "\\end{tabular}\n"
      ],
      "text/markdown": [
       "\n",
       "A tibble: 6 × 4\n",
       "\n",
       "| Region &lt;chr&gt; | S_ID &lt;chr&gt; | Latitude &lt;dbl&gt; | Longitude &lt;dbl&gt; |\n",
       "|---|---|---|---|\n",
       "| Gisborne | GDC-00002 | -37.6746 | 178.3481 |\n",
       "| Gisborne | GDC-00003 | -38.2039 | 178.2558 |\n",
       "| Gisborne | GDC-00004 | -38.2923 | 178.2692 |\n",
       "| Gisborne | GDC-00016 | -38.6342 | 177.9682 |\n",
       "| Gisborne | GDC-00020 | -38.6683 | 178.0199 |\n",
       "| Gisborne | GDC-00021 | -38.4268 | 177.7224 |\n",
       "\n"
      ],
      "text/plain": [
       "  Region   S_ID      Latitude Longitude\n",
       "1 Gisborne GDC-00002 -37.6746 178.3481 \n",
       "2 Gisborne GDC-00003 -38.2039 178.2558 \n",
       "3 Gisborne GDC-00004 -38.2923 178.2692 \n",
       "4 Gisborne GDC-00016 -38.6342 177.9682 \n",
       "5 Gisborne GDC-00020 -38.6683 178.0199 \n",
       "6 Gisborne GDC-00021 -38.4268 177.7224 "
      ]
     },
     "metadata": {},
     "output_type": "display_data"
    }
   ],
   "source": [
    "# Takes the new_river_ecoli select the relevant columns about sites' coordinates, and then get the unique \n",
    "# entries of the river sites across NZ.\n",
    "river_src_ecoli <- new_river_ecoli %>% \n",
    "  select(Region, S_ID, Latitude, Longitude) %>% \n",
    "  distinct()\n",
    "river_src_ecoli %>% \n",
    "    head()"
   ]
  },
  {
   "cell_type": "code",
   "execution_count": 60,
   "id": "dadf35d2",
   "metadata": {},
   "outputs": [
    {
     "data": {
      "text/html": [
       "<table class=\"dataframe\">\n",
       "<caption>A tibble: 6 × 4</caption>\n",
       "<thead>\n",
       "\t<tr><th scope=col>Region</th><th scope=col>S_ID</th><th scope=col>Latitude</th><th scope=col>Longitude</th></tr>\n",
       "\t<tr><th scope=col>&lt;chr&gt;</th><th scope=col>&lt;chr&gt;</th><th scope=col>&lt;dbl&gt;</th><th scope=col>&lt;dbl&gt;</th></tr>\n",
       "</thead>\n",
       "<tbody>\n",
       "\t<tr><td>Auckland</td><td>ARC-00001</td><td>-36.8889</td><td>174.5221</td></tr>\n",
       "\t<tr><td>Auckland</td><td>ARC-00008</td><td>-36.3450</td><td>174.7118</td></tr>\n",
       "\t<tr><td>Waikato </td><td>ARC-00009</td><td>-37.1955</td><td>174.9735</td></tr>\n",
       "\t<tr><td>Auckland</td><td>ARC-00013</td><td>-36.8949</td><td>174.5947</td></tr>\n",
       "\t<tr><td>Auckland</td><td>ARC-00015</td><td>-36.9623</td><td>174.8800</td></tr>\n",
       "\t<tr><td>Auckland</td><td>ARC-00016</td><td>-36.9557</td><td>174.8906</td></tr>\n",
       "</tbody>\n",
       "</table>\n"
      ],
      "text/latex": [
       "A tibble: 6 × 4\n",
       "\\begin{tabular}{llll}\n",
       " Region & S\\_ID & Latitude & Longitude\\\\\n",
       " <chr> & <chr> & <dbl> & <dbl>\\\\\n",
       "\\hline\n",
       "\t Auckland & ARC-00001 & -36.8889 & 174.5221\\\\\n",
       "\t Auckland & ARC-00008 & -36.3450 & 174.7118\\\\\n",
       "\t Waikato  & ARC-00009 & -37.1955 & 174.9735\\\\\n",
       "\t Auckland & ARC-00013 & -36.8949 & 174.5947\\\\\n",
       "\t Auckland & ARC-00015 & -36.9623 & 174.8800\\\\\n",
       "\t Auckland & ARC-00016 & -36.9557 & 174.8906\\\\\n",
       "\\end{tabular}\n"
      ],
      "text/markdown": [
       "\n",
       "A tibble: 6 × 4\n",
       "\n",
       "| Region &lt;chr&gt; | S_ID &lt;chr&gt; | Latitude &lt;dbl&gt; | Longitude &lt;dbl&gt; |\n",
       "|---|---|---|---|\n",
       "| Auckland | ARC-00001 | -36.8889 | 174.5221 |\n",
       "| Auckland | ARC-00008 | -36.3450 | 174.7118 |\n",
       "| Waikato  | ARC-00009 | -37.1955 | 174.9735 |\n",
       "| Auckland | ARC-00013 | -36.8949 | 174.5947 |\n",
       "| Auckland | ARC-00015 | -36.9623 | 174.8800 |\n",
       "| Auckland | ARC-00016 | -36.9557 | 174.8906 |\n",
       "\n"
      ],
      "text/plain": [
       "  Region   S_ID      Latitude Longitude\n",
       "1 Auckland ARC-00001 -36.8889 174.5221 \n",
       "2 Auckland ARC-00008 -36.3450 174.7118 \n",
       "3 Waikato  ARC-00009 -37.1955 174.9735 \n",
       "4 Auckland ARC-00013 -36.8949 174.5947 \n",
       "5 Auckland ARC-00015 -36.9623 174.8800 \n",
       "6 Auckland ARC-00016 -36.9557 174.8906 "
      ]
     },
     "metadata": {},
     "output_type": "display_data"
    }
   ],
   "source": [
    "# Takes the new_river_nitrogen select the relevant columns about sites' coordinates, and then get the unique \n",
    "# entries of the river sites across NZ.\n",
    "river_src_nitrogen <- new_river_nitrogen %>%\n",
    "  select(Region, S_ID, Latitude, Longitude) %>%\n",
    "  distinct()\n",
    "river_src_nitrogen %>% \n",
    "    head()"
   ]
  },
  {
   "cell_type": "markdown",
   "id": "4d885e04",
   "metadata": {},
   "source": [
    "<p style=\"text-align: justify\"> The data frame contains the river site ID, the region where it is in, and its coordinates. </p>"
   ]
  },
  {
   "cell_type": "code",
   "execution_count": 64,
   "id": "30e65b15",
   "metadata": {},
   "outputs": [
    {
     "name": "stderr",
     "output_type": "stream",
     "text": [
      "\u001b[1m\u001b[22mJoining, by = c(\"Region\", \"Year\", \"S_ID\", \"Indicator\", \"MeanVal\")\n"
     ]
    },
    {
     "data": {
      "text/html": [
       "<table class=\"dataframe\">\n",
       "<caption>A grouped_df: 6 × 5</caption>\n",
       "<thead>\n",
       "\t<tr><th scope=col>Region</th><th scope=col>Year</th><th scope=col>S_ID</th><th scope=col>Indicator</th><th scope=col>MeanVal</th></tr>\n",
       "\t<tr><th scope=col>&lt;chr&gt;</th><th scope=col>&lt;dbl&gt;</th><th scope=col>&lt;chr&gt;</th><th scope=col>&lt;chr&gt;</th><th scope=col>&lt;dbl&gt;</th></tr>\n",
       "</thead>\n",
       "<tbody>\n",
       "\t<tr><td>Auckland</td><td>2009</td><td>ARC-00014</td><td>E.coli cfu/100ml</td><td>2200</td></tr>\n",
       "\t<tr><td>Auckland</td><td>2009</td><td>ARC-00015</td><td>E.coli cfu/100ml</td><td>1900</td></tr>\n",
       "\t<tr><td>Auckland</td><td>2009</td><td>ARC-00018</td><td>E.coli cfu/100ml</td><td>2400</td></tr>\n",
       "\t<tr><td>Auckland</td><td>2009</td><td>ARC-00019</td><td>E.coli cfu/100ml</td><td> 385</td></tr>\n",
       "\t<tr><td>Auckland</td><td>2010</td><td>ARC-00014</td><td>E.coli cfu/100ml</td><td>2100</td></tr>\n",
       "\t<tr><td>Auckland</td><td>2010</td><td>ARC-00015</td><td>E.coli cfu/100ml</td><td>1600</td></tr>\n",
       "</tbody>\n",
       "</table>\n"
      ],
      "text/latex": [
       "A grouped\\_df: 6 × 5\n",
       "\\begin{tabular}{lllll}\n",
       " Region & Year & S\\_ID & Indicator & MeanVal\\\\\n",
       " <chr> & <dbl> & <chr> & <chr> & <dbl>\\\\\n",
       "\\hline\n",
       "\t Auckland & 2009 & ARC-00014 & E.coli cfu/100ml & 2200\\\\\n",
       "\t Auckland & 2009 & ARC-00015 & E.coli cfu/100ml & 1900\\\\\n",
       "\t Auckland & 2009 & ARC-00018 & E.coli cfu/100ml & 2400\\\\\n",
       "\t Auckland & 2009 & ARC-00019 & E.coli cfu/100ml &  385\\\\\n",
       "\t Auckland & 2010 & ARC-00014 & E.coli cfu/100ml & 2100\\\\\n",
       "\t Auckland & 2010 & ARC-00015 & E.coli cfu/100ml & 1600\\\\\n",
       "\\end{tabular}\n"
      ],
      "text/markdown": [
       "\n",
       "A grouped_df: 6 × 5\n",
       "\n",
       "| Region &lt;chr&gt; | Year &lt;dbl&gt; | S_ID &lt;chr&gt; | Indicator &lt;chr&gt; | MeanVal &lt;dbl&gt; |\n",
       "|---|---|---|---|---|\n",
       "| Auckland | 2009 | ARC-00014 | E.coli cfu/100ml | 2200 |\n",
       "| Auckland | 2009 | ARC-00015 | E.coli cfu/100ml | 1900 |\n",
       "| Auckland | 2009 | ARC-00018 | E.coli cfu/100ml | 2400 |\n",
       "| Auckland | 2009 | ARC-00019 | E.coli cfu/100ml |  385 |\n",
       "| Auckland | 2010 | ARC-00014 | E.coli cfu/100ml | 2100 |\n",
       "| Auckland | 2010 | ARC-00015 | E.coli cfu/100ml | 1600 |\n",
       "\n"
      ],
      "text/plain": [
       "  Region   Year S_ID      Indicator        MeanVal\n",
       "1 Auckland 2009 ARC-00014 E.coli cfu/100ml 2200   \n",
       "2 Auckland 2009 ARC-00015 E.coli cfu/100ml 1900   \n",
       "3 Auckland 2009 ARC-00018 E.coli cfu/100ml 2400   \n",
       "4 Auckland 2009 ARC-00019 E.coli cfu/100ml  385   \n",
       "5 Auckland 2010 ARC-00014 E.coli cfu/100ml 2100   \n",
       "6 Auckland 2010 ARC-00015 E.coli cfu/100ml 1600   "
      ]
     },
     "metadata": {},
     "output_type": "display_data"
    },
    {
     "name": "stderr",
     "output_type": "stream",
     "text": [
      "\u001b[1m\u001b[22mJoining, by = c(\"Region\", \"S_ID\", \"Latitude\", \"Longitude\")\n"
     ]
    },
    {
     "data": {
      "text/html": [
       "<table class=\"dataframe\">\n",
       "<caption>A tibble: 6 × 4</caption>\n",
       "<thead>\n",
       "\t<tr><th scope=col>Region</th><th scope=col>S_ID</th><th scope=col>Latitude</th><th scope=col>Longitude</th></tr>\n",
       "\t<tr><th scope=col>&lt;chr&gt;</th><th scope=col>&lt;chr&gt;</th><th scope=col>&lt;dbl&gt;</th><th scope=col>&lt;dbl&gt;</th></tr>\n",
       "</thead>\n",
       "<tbody>\n",
       "\t<tr><td>Gisborne</td><td>GDC-00002</td><td>-37.6746</td><td>178.3481</td></tr>\n",
       "\t<tr><td>Gisborne</td><td>GDC-00003</td><td>-38.2039</td><td>178.2558</td></tr>\n",
       "\t<tr><td>Gisborne</td><td>GDC-00004</td><td>-38.2923</td><td>178.2692</td></tr>\n",
       "\t<tr><td>Gisborne</td><td>GDC-00016</td><td>-38.6342</td><td>177.9682</td></tr>\n",
       "\t<tr><td>Gisborne</td><td>GDC-00020</td><td>-38.6683</td><td>178.0199</td></tr>\n",
       "\t<tr><td>Gisborne</td><td>GDC-00021</td><td>-38.4268</td><td>177.7224</td></tr>\n",
       "</tbody>\n",
       "</table>\n"
      ],
      "text/latex": [
       "A tibble: 6 × 4\n",
       "\\begin{tabular}{llll}\n",
       " Region & S\\_ID & Latitude & Longitude\\\\\n",
       " <chr> & <chr> & <dbl> & <dbl>\\\\\n",
       "\\hline\n",
       "\t Gisborne & GDC-00002 & -37.6746 & 178.3481\\\\\n",
       "\t Gisborne & GDC-00003 & -38.2039 & 178.2558\\\\\n",
       "\t Gisborne & GDC-00004 & -38.2923 & 178.2692\\\\\n",
       "\t Gisborne & GDC-00016 & -38.6342 & 177.9682\\\\\n",
       "\t Gisborne & GDC-00020 & -38.6683 & 178.0199\\\\\n",
       "\t Gisborne & GDC-00021 & -38.4268 & 177.7224\\\\\n",
       "\\end{tabular}\n"
      ],
      "text/markdown": [
       "\n",
       "A tibble: 6 × 4\n",
       "\n",
       "| Region &lt;chr&gt; | S_ID &lt;chr&gt; | Latitude &lt;dbl&gt; | Longitude &lt;dbl&gt; |\n",
       "|---|---|---|---|\n",
       "| Gisborne | GDC-00002 | -37.6746 | 178.3481 |\n",
       "| Gisborne | GDC-00003 | -38.2039 | 178.2558 |\n",
       "| Gisborne | GDC-00004 | -38.2923 | 178.2692 |\n",
       "| Gisborne | GDC-00016 | -38.6342 | 177.9682 |\n",
       "| Gisborne | GDC-00020 | -38.6683 | 178.0199 |\n",
       "| Gisborne | GDC-00021 | -38.4268 | 177.7224 |\n",
       "\n"
      ],
      "text/plain": [
       "  Region   S_ID      Latitude Longitude\n",
       "1 Gisborne GDC-00002 -37.6746 178.3481 \n",
       "2 Gisborne GDC-00003 -38.2039 178.2558 \n",
       "3 Gisborne GDC-00004 -38.2923 178.2692 \n",
       "4 Gisborne GDC-00016 -38.6342 177.9682 \n",
       "5 Gisborne GDC-00020 -38.6683 178.0199 \n",
       "6 Gisborne GDC-00021 -38.4268 177.7224 "
      ]
     },
     "metadata": {},
     "output_type": "display_data"
    }
   ],
   "source": [
    "# Join river_src_quality_ecoli and river_src_nitrogen to create river_quality dataframe.\n",
    "river_quality <- river_src_quality_ecoli %>% \n",
    "  full_join(river_src_quality_nitrogen)\n",
    "river_quality %>% \n",
    "    head()\n",
    "\n",
    "# Join river_src_ecoli and river_src_nitrogen to create a data frame containing \n",
    "# all of the river sites and its coordinates across NZ.\n",
    "river_src <- river_src_ecoli %>% \n",
    "  full_join(river_src_nitrogen) %>% \n",
    "  distinct()\n",
    "river_src %>% \n",
    "    head()"
   ]
  },
  {
   "cell_type": "code",
   "execution_count": 67,
   "id": "e4fdf07f",
   "metadata": {},
   "outputs": [
    {
     "data": {
      "text/html": [
       "<table class=\"dataframe\">\n",
       "<caption>A tibble: 18 × 4</caption>\n",
       "<thead>\n",
       "\t<tr><th scope=col>Year</th><th scope=col>MeanEcoli</th><th scope=col>MeanNitrogen</th><th scope=col>MeanAmmoniacal</th></tr>\n",
       "\t<tr><th scope=col>&lt;dbl&gt;</th><th scope=col>&lt;dbl&gt;</th><th scope=col>&lt;dbl&gt;</th><th scope=col>&lt;dbl&gt;</th></tr>\n",
       "</thead>\n",
       "<tbody>\n",
       "\t<tr><td>2002</td><td>112.8000</td><td>0.3884000</td><td>0.02360000</td></tr>\n",
       "\t<tr><td>2003</td><td>121.5000</td><td>0.4067000</td><td>0.02420000</td></tr>\n",
       "\t<tr><td>2004</td><td>104.4167</td><td>0.3485833</td><td>0.02058333</td></tr>\n",
       "\t<tr><td>2005</td><td>104.0000</td><td>0.3531667</td><td>0.02025000</td></tr>\n",
       "\t<tr><td>2006</td><td>112.8571</td><td>0.3500000</td><td>0.02000000</td></tr>\n",
       "\t<tr><td>2007</td><td>288.8265</td><td>0.5387350</td><td>0.05185513</td></tr>\n",
       "\t<tr><td>2008</td><td>302.7379</td><td>0.5712725</td><td>0.04402823</td></tr>\n",
       "\t<tr><td>2009</td><td>332.4908</td><td>0.5602879</td><td>0.04144737</td></tr>\n",
       "\t<tr><td>2010</td><td>317.7669</td><td>0.5832005</td><td>0.03767951</td></tr>\n",
       "\t<tr><td>2011</td><td>299.6074</td><td>0.6610941</td><td>0.03188043</td></tr>\n",
       "\t<tr><td>2012</td><td>269.0527</td><td>0.6703205</td><td>0.02708428</td></tr>\n",
       "\t<tr><td>2013</td><td>240.8634</td><td>0.7173360</td><td>0.02324710</td></tr>\n",
       "\t<tr><td>2014</td><td>205.7921</td><td>0.6271243</td><td>0.01894186</td></tr>\n",
       "\t<tr><td>2015</td><td>211.6846</td><td>0.6002633</td><td>0.01909066</td></tr>\n",
       "\t<tr><td>2016</td><td>216.8501</td><td>0.6204126</td><td>0.02066258</td></tr>\n",
       "\t<tr><td>2017</td><td>230.8679</td><td>0.6521913</td><td>0.02246338</td></tr>\n",
       "\t<tr><td>2018</td><td>242.5818</td><td>0.6755545</td><td>0.02248177</td></tr>\n",
       "\t<tr><td>2019</td><td>254.9484</td><td>0.6882831</td><td>0.02269248</td></tr>\n",
       "</tbody>\n",
       "</table>\n"
      ],
      "text/latex": [
       "A tibble: 18 × 4\n",
       "\\begin{tabular}{llll}\n",
       " Year & MeanEcoli & MeanNitrogen & MeanAmmoniacal\\\\\n",
       " <dbl> & <dbl> & <dbl> & <dbl>\\\\\n",
       "\\hline\n",
       "\t 2002 & 112.8000 & 0.3884000 & 0.02360000\\\\\n",
       "\t 2003 & 121.5000 & 0.4067000 & 0.02420000\\\\\n",
       "\t 2004 & 104.4167 & 0.3485833 & 0.02058333\\\\\n",
       "\t 2005 & 104.0000 & 0.3531667 & 0.02025000\\\\\n",
       "\t 2006 & 112.8571 & 0.3500000 & 0.02000000\\\\\n",
       "\t 2007 & 288.8265 & 0.5387350 & 0.05185513\\\\\n",
       "\t 2008 & 302.7379 & 0.5712725 & 0.04402823\\\\\n",
       "\t 2009 & 332.4908 & 0.5602879 & 0.04144737\\\\\n",
       "\t 2010 & 317.7669 & 0.5832005 & 0.03767951\\\\\n",
       "\t 2011 & 299.6074 & 0.6610941 & 0.03188043\\\\\n",
       "\t 2012 & 269.0527 & 0.6703205 & 0.02708428\\\\\n",
       "\t 2013 & 240.8634 & 0.7173360 & 0.02324710\\\\\n",
       "\t 2014 & 205.7921 & 0.6271243 & 0.01894186\\\\\n",
       "\t 2015 & 211.6846 & 0.6002633 & 0.01909066\\\\\n",
       "\t 2016 & 216.8501 & 0.6204126 & 0.02066258\\\\\n",
       "\t 2017 & 230.8679 & 0.6521913 & 0.02246338\\\\\n",
       "\t 2018 & 242.5818 & 0.6755545 & 0.02248177\\\\\n",
       "\t 2019 & 254.9484 & 0.6882831 & 0.02269248\\\\\n",
       "\\end{tabular}\n"
      ],
      "text/markdown": [
       "\n",
       "A tibble: 18 × 4\n",
       "\n",
       "| Year &lt;dbl&gt; | MeanEcoli &lt;dbl&gt; | MeanNitrogen &lt;dbl&gt; | MeanAmmoniacal &lt;dbl&gt; |\n",
       "|---|---|---|---|\n",
       "| 2002 | 112.8000 | 0.3884000 | 0.02360000 |\n",
       "| 2003 | 121.5000 | 0.4067000 | 0.02420000 |\n",
       "| 2004 | 104.4167 | 0.3485833 | 0.02058333 |\n",
       "| 2005 | 104.0000 | 0.3531667 | 0.02025000 |\n",
       "| 2006 | 112.8571 | 0.3500000 | 0.02000000 |\n",
       "| 2007 | 288.8265 | 0.5387350 | 0.05185513 |\n",
       "| 2008 | 302.7379 | 0.5712725 | 0.04402823 |\n",
       "| 2009 | 332.4908 | 0.5602879 | 0.04144737 |\n",
       "| 2010 | 317.7669 | 0.5832005 | 0.03767951 |\n",
       "| 2011 | 299.6074 | 0.6610941 | 0.03188043 |\n",
       "| 2012 | 269.0527 | 0.6703205 | 0.02708428 |\n",
       "| 2013 | 240.8634 | 0.7173360 | 0.02324710 |\n",
       "| 2014 | 205.7921 | 0.6271243 | 0.01894186 |\n",
       "| 2015 | 211.6846 | 0.6002633 | 0.01909066 |\n",
       "| 2016 | 216.8501 | 0.6204126 | 0.02066258 |\n",
       "| 2017 | 230.8679 | 0.6521913 | 0.02246338 |\n",
       "| 2018 | 242.5818 | 0.6755545 | 0.02248177 |\n",
       "| 2019 | 254.9484 | 0.6882831 | 0.02269248 |\n",
       "\n"
      ],
      "text/plain": [
       "   Year MeanEcoli MeanNitrogen MeanAmmoniacal\n",
       "1  2002 112.8000  0.3884000    0.02360000    \n",
       "2  2003 121.5000  0.4067000    0.02420000    \n",
       "3  2004 104.4167  0.3485833    0.02058333    \n",
       "4  2005 104.0000  0.3531667    0.02025000    \n",
       "5  2006 112.8571  0.3500000    0.02000000    \n",
       "6  2007 288.8265  0.5387350    0.05185513    \n",
       "7  2008 302.7379  0.5712725    0.04402823    \n",
       "8  2009 332.4908  0.5602879    0.04144737    \n",
       "9  2010 317.7669  0.5832005    0.03767951    \n",
       "10 2011 299.6074  0.6610941    0.03188043    \n",
       "11 2012 269.0527  0.6703205    0.02708428    \n",
       "12 2013 240.8634  0.7173360    0.02324710    \n",
       "13 2014 205.7921  0.6271243    0.01894186    \n",
       "14 2015 211.6846  0.6002633    0.01909066    \n",
       "15 2016 216.8501  0.6204126    0.02066258    \n",
       "16 2017 230.8679  0.6521913    0.02246338    \n",
       "17 2018 242.5818  0.6755545    0.02248177    \n",
       "18 2019 254.9484  0.6882831    0.02269248    "
      ]
     },
     "metadata": {},
     "output_type": "display_data"
    }
   ],
   "source": [
    "rq_overall_change <- river_quality %>% \n",
    "  spread(key = Indicator,\n",
    "         value = MeanVal) %>% \n",
    "  na.omit() %>% \n",
    "  group_by(Year) %>% \n",
    "  summarise(MeanEcoli = mean(`E.coli cfu/100ml`),\n",
    "            MeanNitrogen = mean(`Nitrate-nitrite nitrogen g/m3`),\n",
    "            MeanAmmoniacal = mean(`Ammoniacal nitrogen g/m3`))\n",
    "rq_overall_change"
   ]
  },
  {
   "cell_type": "code",
   "execution_count": 69,
   "id": "8140f200",
   "metadata": {},
   "outputs": [],
   "source": [
    "## Creates a graph that displays the overall change in E. coli counts and nitrogen concentration in NZ from 2002-2019\n",
    "# overall_rq <- highchart() %>% \n",
    "#   hc_yAxis_multiples(\n",
    "#     list(lineWidth = 3, lineColor='blue', title=list(text=\"E.coli cfu/100ml\")),\n",
    "#     list(lineWidth = 3, lineColor=\"green\", title=list(text=\"Nitrogen g/m3\"))\n",
    "#   ) %>% \n",
    "#   hc_add_series(data = rq_overall_change$MeanEcoli, color='blue', name = \"E.coli\") %>% \n",
    "#   hc_add_series(data = rq_overall_change$MeanNitrogen, color='green', name = \"Nitrate-nitrite nitrogen\", yAxis = 1) %>%\n",
    "#   hc_add_series(data = rq_overall_change$MeanAmmoniacal, color='yellow', name = \"Ammoniacal nitrogen\", yAxis = 1) %>% \n",
    "#   hc_xAxis(categories = rq_overall_change$Year, title = list(text = \"Year\"))%>% \n",
    "#   hc_title(text = \"Average E. coli Count, Nitrate-Nitrite and Ammonical Nitrogen Amount in NZ (2002 - 2019)\")\n",
    "# overall_rq"
   ]
  },
  {
   "cell_type": "markdown",
   "id": "6cd0677f",
   "metadata": {},
   "source": [
    "![overall_change](https://raw.githubusercontent.com/beuri97/data201_gp/waterq/water_quality/img/rq_overall.png)"
   ]
  },
  {
   "cell_type": "markdown",
   "id": "d77580ac",
   "metadata": {},
   "source": [
    "<p style=\"text-align: justify\"> Similar to groundwater quality, we created a times series plot that shows the average change in E. coli counts and nitrogen concentration, but from 2002 to 2019. Moreover, same approach is done here to display the image as this plot is also created using `highcharter`. </p>"
   ]
  },
  {
   "cell_type": "code",
   "execution_count": 72,
   "id": "ec383036",
   "metadata": {
    "scrolled": true
   },
   "outputs": [
    {
     "name": "stderr",
     "output_type": "stream",
     "text": [
      "\u001b[1m\u001b[22mJoining, by = c(\"Condition\", \"counts\", \"prop\", \"Indicator\")\n",
      "\u001b[1m\u001b[22mJoining, by = c(\"Condition\", \"counts\", \"prop\", \"Indicator\")\n"
     ]
    },
    {
     "data": {
      "image/png": "[encoded data removed]",
      "text/plain": [
       "plot without title"
      ]
     },
     "metadata": {
      "image/png": {
       "height": 720,
       "width": 1200
      }
     },
     "output_type": "display_data"
    }
   ],
   "source": [
    "# Resize the size of the displayed visualisation\n",
    "options(repr.plot.width = 20, repr.plot.height = 12)\n",
    "\n",
    "# Create a data frame that contains the condition band, the count of sites per condition band, the proportion of sites \n",
    "# under condition bands, and the indicator (E. coli and nitrogen).\n",
    "sitepropecoli <- river_quality %>% \n",
    "  filter(Indicator == \"E.coli cfu/100ml\") %>% \n",
    "  group_by(S_ID) %>% \n",
    "  summarise(m = mean(MeanVal)) %>% \n",
    "  mutate(Condition = case_when(m <= 130 ~ \"Excellent\",\n",
    "                            m > 130 & m <= 260 ~ \"Good\",\n",
    "                            m > 260 & m <= 540 ~ \"Fair\",\n",
    "                            TRUE ~ \"Poor\")) %>% \n",
    "  group_by(Condition) %>% \n",
    "  summarise(counts = n()) %>% \n",
    "  mutate(prop = counts/sum(counts),\n",
    "         Indicator = rep(c(\"E.coli (cfu/100ml)\"), 4))\n",
    "\n",
    "sitepropnitrate <- river_quality %>% \n",
    "  filter(Indicator == \"Nitrate-nitrite nitrogen g/m3\") %>% \n",
    "  group_by(S_ID) %>% \n",
    "  summarise(m = mean(MeanVal)) %>% \n",
    "  mutate(Condition = case_when(m >= 0 & m <= 1 ~ \"Excellent\", \n",
    "                            m > 1 & m <= 5.65 ~ \"Good\",\n",
    "                            m > 5.65 & m <= 11.3 ~ \"Fair\",\n",
    "                            TRUE ~ \"Poor\")) %>% \n",
    "  group_by(Condition) %>% \n",
    "  summarise(counts = n()) %>% \n",
    "  mutate(prop = counts/sum(counts),\n",
    "         Indicator = rep(c(\"Nitrate-nitrite nitrogen (g/m3)\"), 4))\n",
    "\n",
    "siteammoniacal <- river_quality %>% \n",
    "  filter(Indicator == \"Ammoniacal nitrogen g/m3\") %>% \n",
    "  group_by(S_ID) %>% \n",
    "  summarise(m = mean(MeanVal)) %>% \n",
    "  mutate(Condition = case_when(m >= 0 & m <= 1 ~ \"Excellent\", \n",
    "                            m > 1 & m <= 5.65 ~ \"Good\",\n",
    "                            m > 5.65 & m <= 11.3 ~ \"Fair\",\n",
    "                            TRUE ~ \"Poor\")) %>% \n",
    "  group_by(Condition) %>% \n",
    "  summarise(counts = n()) %>% \n",
    "  mutate(prop = counts/sum(counts),\n",
    "         Indicator = rep(c(\"Ammoniacal nitrogen (g/m3)\"), 1))\n",
    "\n",
    "# Join all of the resulting data frame to create another data frame that contains all of the information about the proportions\n",
    "# and counts of river sites under certain condition bands.\n",
    "sitepropnitrogen <- sitepropnitrate %>% \n",
    "  full_join(siteammoniacal)\n",
    "\n",
    "full_river <- sitepropecoli %>% \n",
    "  full_join(sitepropnitrogen)\n",
    "\n",
    "# Change the order of the categorical variable instead in alphabetical order (condition band).\n",
    "full_river$Condition <- factor(full_river$Condition, levels = c(\"Excellent\", \"Good\", \"Fair\", \"Poor\"))\n",
    "\n",
    "# Creates a visualisation that shows the proportion of sites under certain condition bands.\n",
    "river_condition_plot <- full_river %>%\n",
    "  ggplot(aes(x = Indicator, y = prop*100, fill = Condition)) +\n",
    "  geom_bar(position = \"stack\", stat = \"identity\") +\n",
    "  scale_fill_manual(values = c(\"#00ABFD\", \"#00B81F\",\n",
    "                            \"#85AD00\", \"#CF9400\")) + \n",
    "  ylab(\"Percentage of sites\") +\n",
    "  ggtitle(\"River Quality (2002 - 2019)\") +\n",
    "  ylim(0, 100)\n",
    "river_condition_plot"
   ]
  },
  {
   "cell_type": "markdown",
   "id": "e819c3f3",
   "metadata": {},
   "source": [
    "<p style=\"text-align: justify\"> The idea for the bar plot is the same as the one created for groundwater quality where the plot represents the proportion of sites allocated to different condition bands based on whether their average E. coli counts and nitrogen concentration exceeded certain threshold values. </p>"
   ]
  }
 ],
 "metadata": {
  "kernelspec": {
   "display_name": "R",
   "language": "R",
   "name": "ir"
  },
  "language_info": {
   "codemirror_mode": "r",
   "file_extension": ".r",
   "mimetype": "text/x-r-source",
   "name": "R",
   "pygments_lexer": "r",
   "version": "4.2.1"
  }
 },
 "nbformat": 4,
 "nbformat_minor": 5
}
