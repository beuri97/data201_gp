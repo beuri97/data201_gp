{
 "cells": [
  {
   "cell_type": "markdown",
   "id": "c06bb010",
   "metadata": {},
   "source": [
    "<h1><center>Water Quality</center></h1>"
   ]
  },
  {
   "cell_type": "markdown",
   "id": "e2294c7f",
   "metadata": {},
   "source": [
    "<h2>Packages</h2>"
   ]
  },
  {
   "cell_type": "code",
   "execution_count": 5,
   "id": "7c1522e4",
   "metadata": {},
   "outputs": [],
   "source": [
    "# Load packages such as ggplot2, dplyr, tidyr, and readr to be able to use specialised functions for creating\n",
    "# visualisations, reading, writing, and manipulating data.\n",
    "library(tidyverse)"
   ]
  },
  {
   "cell_type": "code",
   "execution_count": 3,
   "id": "75c3d44f",
   "metadata": {},
   "outputs": [
    {
     "ename": "ERROR",
     "evalue": "Error in library(tidygeocoder): there is no package called ‘tidygeocoder’\n",
     "output_type": "error",
     "traceback": [
      "Error in library(tidygeocoder): there is no package called ‘tidygeocoder’\nTraceback:\n",
      "1. library(tidygeocoder)"
     ]
    }
   ],
   "source": [
    "# Load the tidygeocoder package to be able to use a function to convert the given latitude and longitude\n",
    "# to address.\n",
    "library(tidygeocoder)"
   ]
  },
  {
   "cell_type": "code",
   "execution_count": null,
   "id": "ab114982",
   "metadata": {},
   "outputs": [],
   "source": [
    "# Load skimr package to be able to use a function to understand the structure of the dataframe we will analyse\n",
    "library(skimr)"
   ]
  },
  {
   "cell_type": "code",
   "execution_count": null,
   "id": "f97f4dc9",
   "metadata": {},
   "outputs": [],
   "source": [
    "# Load the knitr package to be able to use a function for presenting information in a tidy format.\n",
    "library(knitr)"
   ]
  },
  {
   "cell_type": "code",
   "execution_count": null,
   "id": "ece21a17",
   "metadata": {},
   "outputs": [],
   "source": [
    "# Load the visdat package to be able to use a function for visualisation of the data. \n",
    "library(visdat)"
   ]
  },
  {
   "cell_type": "code",
   "execution_count": null,
   "id": "7cf37fc4",
   "metadata": {
    "scrolled": true
   },
   "outputs": [],
   "source": [
    "# Load the lubridate package to be able to use function(s) for manipulating datetime data type.\n",
    "library(lubridate)"
   ]
  },
  {
   "cell_type": "code",
   "execution_count": 4,
   "id": "b7ff9b03",
   "metadata": {
    "scrolled": true
   },
   "outputs": [
    {
     "ename": "ERROR",
     "evalue": "Error in library(highcharter): there is no package called ‘highcharter’\n",
     "output_type": "error",
     "traceback": [
      "Error in library(highcharter): there is no package called ‘highcharter’\nTraceback:\n",
      "1. library(highcharter)"
     ]
    }
   ],
   "source": [
    "# Load the highcharter package to be able to use interactive charting/graphing functions.\n",
    "library(highcharter)"
   ]
  },
  {
   "cell_type": "code",
   "execution_count": null,
   "id": "81e1942d",
   "metadata": {},
   "outputs": [],
   "source": [
    "library(jsonlite)\n",
    "library(XML)\n",
    "library(xml2)\n",
    "library(glue)\n",
    "library(httr)"
   ]
  },
  {
   "cell_type": "markdown",
   "id": "43cf3cd7",
   "metadata": {},
   "source": [
    "<h2>Accessing and Importing Datasets</h2>"
   ]
  },
  {
   "cell_type": "code",
   "execution_count": null,
   "id": "3a2bef34",
   "metadata": {},
   "outputs": [],
   "source": [
    "# A function to get data from the Ministry for the Environment database API\n",
    "\n",
    "get_data_from_mfe <- function(api_key, data_id){\n",
    "    \n",
    "    query <- glue('https://data.mfe.govt.nz/services;key={api_key}/wfs?service=WFS&version=2.0.0&request=GetFeature&typeNames={data_id}') # creates a query url using inputs of api key and data-id number available on MfE website\n",
    "    \n",
    "    api_response <- GET(query) #gets the API response from the query\n",
    "    \n",
    "    data_xml <- read_xml(api_response) #reads the xml data from the api response\n",
    "    \n",
    "    data_parsed <- xmlParse(data_xml) #parses the data into an xml format that is readable in R\n",
    "    \n",
    "    data_df <- glue('//data.mfe.govt.nz:{data_id}') %>%  # creating a node name to look for\n",
    "    getNodeSet(data_parsed, .)  %>%  # looking at nodes with the name\n",
    "    xmlToDataFrame(nodes = .) #turns the data within the given node into a data frame\n",
    "    \n",
    "    return(data_df) #returns the data frame\n",
    "}"
   ]
  },
  {
   "cell_type": "code",
   "execution_count": null,
   "id": "726439f9",
   "metadata": {
    "scrolled": true
   },
   "outputs": [],
   "source": [
    "# Get the river quality E. coli dataset from MfE using their API service.\n",
    "# Then display the first six rows.\n",
    "river_ecoli <- get_data_from_mfe(\"e046a540d83e49248cbda9cce3f23c2e\", \"table-109662\")\n",
    "river_ecoli %>% \n",
    "    head()"
   ]
  },
  {
   "cell_type": "code",
   "execution_count": null,
   "id": "4568382e",
   "metadata": {
    "scrolled": true
   },
   "outputs": [],
   "source": [
    "# Get the river quality nitrogen dataset from MfE using their API service.\n",
    "# Then display the first six rows.\n",
    "river_nitrogen <- get_data_from_mfe(\"e046a540d83e49248cbda9cce3f23c2e\", \"table-109659\")\n",
    "river_nitrogen %>% \n",
    "    head()"
   ]
  },
  {
   "cell_type": "code",
   "execution_count": null,
   "id": "ad55973c",
   "metadata": {},
   "outputs": [],
   "source": [
    "# Read the groundwq.csv uploaded in GitHub and store it as groundwq for analysis.\n",
    "groundwq <- \"https://raw.githubusercontent.com/beuri97/data201_gp/waterq/water_quality/data/groundwq.csv\" %>% \n",
    "  read_csv()\n",
    "groundwq %>% \n",
    "    head()"
   ]
  },
  {
   "cell_type": "code",
   "execution_count": null,
   "id": "c62600b1",
   "metadata": {},
   "outputs": [],
   "source": [
    "# Read the new_river_ecoli uploaded in GitHub and store it as river_ecoli for analysis.\n",
    "river_ecoli <- \"https://raw.githubusercontent.com/beuri97/data201_gp/waterq/water_quality/data/new_river_ecoli.csv\" %>% \n",
    "  read_csv()\n",
    "river_ecoli %>% \n",
    "    head()"
   ]
  },
  {
   "cell_type": "code",
   "execution_count": null,
   "id": "20d26702",
   "metadata": {},
   "outputs": [],
   "source": [
    "# Read the new_river_nitrogen.csv and store it as river_nitrogen for analysis.\n",
    "river_nitrogen <- \"https://raw.githubusercontent.com/beuri97/data201_gp/waterq/water_quality/data/new_river_nitrogen.csv\" %>% \n",
    "  read_csv()\n",
    "river_nitrogen %>% \n",
    "    head()"
   ]
  },
  {
   "cell_type": "markdown",
   "id": "a15c9cca",
   "metadata": {},
   "source": [
    "<p style=\"text-align: justify\"> We used the web and API services of the Ministry for the Environment to get the river quality datasets available in their database. However, the groundwater dataset in their database is incomplete. So instead, we downloaded the dataset available on the LAWA website and uploaded it on GitHub, then copied the link and used it to read the dataset in R. </p>"
   ]
  },
  {
   "cell_type": "markdown",
   "id": "632e8d4c",
   "metadata": {},
   "source": [
    "<h2>Conversion and Saving Data to CSV File</h2>"
   ]
  },
  {
   "cell_type": "code",
   "execution_count": null,
   "id": "00a6ba6e",
   "metadata": {},
   "outputs": [],
   "source": [
    "# Takes the available latitude and longitude information from the dataset then convert it to full address.\n",
    "convert_lat_long <- function(df, lat, long){\n",
    "    converted_df <- df %>%\n",
    "    reverse_geocode(lat = lat, long = long, \n",
    "                    method = \"osm\", full_results = TRUE)\n",
    "    return(converted_df)\n",
    "}"
   ]
  },
  {
   "cell_type": "code",
   "execution_count": null,
   "id": "6edcf533",
   "metadata": {},
   "outputs": [],
   "source": [
    "## Takes the river_ecoli, and converts the provided latitudes and longitudes to add new columns containing the \n",
    "## address of the river sites. Then displays the first six rows.\n",
    "# new_riverecoli <- convert_lat_long(river_ecoli, river_ecoli$lat, river_ecoli$long)\n",
    "# new_riverecoli %>% head()"
   ]
  },
  {
   "cell_type": "code",
   "execution_count": null,
   "id": "10c88886",
   "metadata": {},
   "outputs": [],
   "source": [
    "## Takes the river_nitrogen, and converts the provided latitudes and longitudes to add new columns containing the \n",
    "## address of the river sites. Then displays the first six rows.\n",
    "# new_rivernitrogen <- convert_lat_long(river_nitrogen, river_nitrogen$lat, river_nitrogen$long)\n",
    "# new_rivernitrogen %>% head()"
   ]
  },
  {
   "cell_type": "code",
   "execution_count": null,
   "id": "d73154e6",
   "metadata": {},
   "outputs": [],
   "source": [
    "## Write the new dataset as CSVs for use.\n",
    "# write_csv(new_riverecoli, \"new_river_ecoli.csv\")\n",
    "# write_csv(new_rivernitrogen, \"new_river_nitrogen.csv\")"
   ]
  },
  {
   "cell_type": "markdown",
   "id": "760e7249",
   "metadata": {},
   "source": [
    "<p style=\"text-align: justify\"> Region is one of the crucial variables in our dataset for relating datasets. Unfortunately, the river quality datasets we obtained from MfE only have the coordinates for the sites, so we decided to create a helper function using the `reverse_geocode` from `tidygeocoder` that takes latitude and longitude to find locations using geocoding methods. We then created new datasets containing the areas acquired from the conversion. We commented out the conversion and writing of new datasets, as the conversion process takes a lot of time, and we decided to use the links of the datasets we uploaded on GitHub. </p>"
   ]
  },
  {
   "cell_type": "markdown",
   "id": "fe294346",
   "metadata": {},
   "source": [
    "<h2>Groundwater Quality</h2>"
   ]
  },
  {
   "cell_type": "code",
   "execution_count": null,
   "id": "30b09d76",
   "metadata": {
    "scrolled": true
   },
   "outputs": [],
   "source": [
    "# Gives an overview of groundwq such as columns, data types, the possible values, number of rows and columns.\n",
    "groundwq %>% \n",
    "  glimpse()"
   ]
  },
  {
   "cell_type": "code",
   "execution_count": null,
   "id": "112e65f0",
   "metadata": {},
   "outputs": [],
   "source": [
    "# Takes the groundwq modify the values and rename some columns, select the relevant columns \n",
    "# and rows to create a clean version of groundwq.\n",
    "new_groundwq <- groundwq %>% \n",
    "  mutate(CensoredValue = ifelse(is.na(CensoredValue), NA_integer_, CensoredValue),\n",
    "         Year = year(Date),\n",
    "         Indicator = case_when(Indicator == \"E.coli\" ~ \"E.coli cfu/100ml\", TRUE ~ \"Nitrate nitrogen g/m3\"),\n",
    "         Region = case_when(Region == \"Hawkes Bay\" ~ \"Hawke's Bay\",\n",
    "                            Region == \"Manawatu-Whanganui\" ~ \"Manawat??-Whanganui\", TRUE ~ Region),\n",
    "         WellName = LAWAWellName) %>% \n",
    "  select(Region, WellName, Latitude, Longitude, Indicator, Year, CensoredValue) %>% \n",
    "  filter(Indicator %in% c(\"E.coli cfu/100ml\", \"Nitrate nitrogen g/m3\"), Year >= 2002, Year <= 2019)"
   ]
  },
  {
   "cell_type": "code",
   "execution_count": null,
   "id": "90c4b171",
   "metadata": {},
   "outputs": [],
   "source": [
    "# Takes the new_groundwq, select the relevant columns about the quality if the sites, and then group by Region, Year,\n",
    "# WellName, and Indicator to get the mean value of the measurements for both indicator of each well from \n",
    "# 2002 to 2019 across NZ. Then display the first 6 rows of the grouped data frame.\n",
    "sites_quality <- new_groundwq %>% \n",
    "  select(Region, Year, WellName, CensoredValue, Indicator) %>% \n",
    "  group_by(Region, Year, WellName, Indicator) %>% \n",
    "  summarise(MeanVal = mean(CensoredValue))\n",
    "sites_quality %>% \n",
    "    head()"
   ]
  },
  {
   "cell_type": "code",
   "execution_count": null,
   "id": "fd2fa919",
   "metadata": {},
   "outputs": [],
   "source": [
    "# Converts the sites_quality to wide format to identify wells in specific years that are not assessed.\n",
    "sites_quality_wide <- sites_quality %>% \n",
    "  spread(key = Indicator,\n",
    "         value = MeanVal)\n",
    "sites_quality_wide %>% \n",
    "    head()"
   ]
  },
  {
   "cell_type": "code",
   "execution_count": null,
   "id": "6375bb1c",
   "metadata": {
    "scrolled": true
   },
   "outputs": [],
   "source": [
    "# Takes the new_groundwq, select the relevant columns for about sites coordinates, and then get the unique \n",
    "# entries of the wells across NZ.\n",
    "sites <- new_groundwq %>% \n",
    "  select(Region, WellName, Latitude, Longitude) %>% \n",
    "  distinct()\n",
    "sites %>% \n",
    "    head()"
   ]
  },
  {
   "cell_type": "code",
   "execution_count": null,
   "id": "694cbe9f",
   "metadata": {},
   "outputs": [],
   "source": [
    "# Takes the wide format of sites_quality, removes the missing values, group rows by Year, and summarise the mean for \n",
    "# each indicator from 2004 to 2019.\n",
    "gwq_overall_change <- sites_quality_wide %>%\n",
    "  na.omit() %>% \n",
    "  group_by(Year) %>% \n",
    "  summarise(MeanEcoli = mean(`E.coli cfu/100ml`), MeanNitrogen = mean(`Nitrate nitrogen g/m3`))\n",
    "gwq_overall_change"
   ]
  },
  {
   "cell_type": "code",
   "execution_count": 7,
   "id": "e7fe2171",
   "metadata": {},
   "outputs": [
    {
     "ename": "ERROR",
     "evalue": "Error in hc_title(., text = \"Average E. coli Count and Nitrate Nitrogen Amount in NZ (2004 - 2019)\"): could not find function \"hc_title\"\n",
     "output_type": "error",
     "traceback": [
      "Error in hc_title(., text = \"Average E. coli Count and Nitrate Nitrogen Amount in NZ (2004 - 2019)\"): could not find function \"hc_title\"\nTraceback:\n",
      "1. highchart() %>% hc_yAxis_multiples(list(lineWidth = 3, lineColor = \"blue\", \n .     title = list(text = \"E.coli cfu/100ml\")), list(lineWidth = 3, \n .     lineColor = \"green\", title = list(text = \"Nitrate nitrogen g/m3\"))) %>% \n .     hc_add_series(data = gwq_overall_change$MeanEcoli, color = \"blue\", \n .         name = \"E.coli\") %>% hc_add_series(data = gwq_overall_change$MeanNitrogen, \n .     color = \"green\", name = \"Nitrate nitrogen\", yAxis = 1) %>% \n .     hc_xAxis(categories = gwq_overall_change$Year, title = list(text = \"Year\")) %>% \n .     hc_title(text = \"Average E. coli Count and Nitrate Nitrogen Amount in NZ (2004 - 2019)\")"
     ]
    }
   ],
   "source": [
    "# Creates a graph \n",
    "overall_gwq <- highchart() %>% \n",
    "  hc_yAxis_multiples(\n",
    "    list(lineWidth = 3, lineColor='blue', title=list(text=\"E.coli cfu/100ml\")),\n",
    "    list(lineWidth = 3, lineColor=\"green\", title=list(text=\"Nitrate nitrogen g/m3\"))\n",
    "  ) %>% \n",
    "  hc_add_series(data = gwq_overall_change$MeanEcoli, color='blue', name = \"E.coli\") %>% \n",
    "  hc_add_series(data = gwq_overall_change$MeanNitrogen, color='green', name = \"Nitrate nitrogen\", yAxis = 1) %>%\n",
    "  hc_xAxis(categories = gwq_overall_change$Year, title = list(text = \"Year\")) %>% \n",
    "  hc_title(text = \"Average E. coli Count and Nitrate Nitrogen Amount in NZ (2004 - 2019)\")\n",
    "overall_gwq"
   ]
  },
  {
   "cell_type": "markdown",
   "id": "4fda3d48",
   "metadata": {},
   "source": [
    "<h2>River Quality (E. coli & Nitrogen)</h2>"
   ]
  },
  {
   "cell_type": "code",
   "execution_count": null,
   "id": "dc2ee6c0",
   "metadata": {},
   "outputs": [],
   "source": [
    "# Gives an overview of river_ecoli such as columns, data types, the possible values, number of rows and columns.\n",
    "river_ecoli %>% \n",
    "    glimpse()"
   ]
  },
  {
   "cell_type": "code",
   "execution_count": null,
   "id": "5eaa556f",
   "metadata": {},
   "outputs": [],
   "source": [
    "# Reads the entirety of river_ecoli and creates a plot to check if it contains missing data (NA).\n",
    "river_ecoli %>% \n",
    "  vis_miss()"
   ]
  },
  {
   "cell_type": "code",
   "execution_count": null,
   "id": "c2f5b6e4",
   "metadata": {},
   "outputs": [],
   "source": [
    "# Takes the river_ecoli rename the columns, standardise the indicators, select the relevant columns and rows. \n",
    "new_river_ecoli <- river_ecoli %>% \n",
    "  rename(Region = state, Year = end_year, Indicator = measure, Median = median, Units = units, S_ID = s_id,\n",
    "         Latitude = lat, Longitude = long) %>% \n",
    "  mutate(Indicator = \"E.coli cfu/100ml\") %>% \n",
    "  select(Region, Year, S_ID, Median, Indicator, Latitude, Longitude) %>% \n",
    "  filter(Year >= 2002, Year <= 2019)\n",
    "new_river_ecoli %>% \n",
    "    head()"
   ]
  },
  {
   "cell_type": "code",
   "execution_count": null,
   "id": "ebf20e21",
   "metadata": {},
   "outputs": [],
   "source": [
    "# Check for missing data again (NA)\n",
    "new_river_ecoli %>% \n",
    "  vis_miss()"
   ]
  },
  {
   "cell_type": "code",
   "execution_count": null,
   "id": "78c02d68",
   "metadata": {},
   "outputs": [],
   "source": [
    "# Takes the new_river_ecoli select the relevant columns, group the rows by Region, Year, Site ID, and Indicator,\n",
    "# summarise the mean for each site across NZ in specific year.\n",
    "river_src_quality_ecoli <- new_river_ecoli %>% \n",
    "  select(Region, Year, S_ID, Median, Indicator) %>% \n",
    "  group_by(Region, Year, S_ID, Indicator) %>% \n",
    "  summarise(MeanVal = mean(Median))\n",
    "river_src_quality_ecoli %>% \n",
    "    head()"
   ]
  },
  {
   "cell_type": "code",
   "execution_count": null,
   "id": "5255c56c",
   "metadata": {},
   "outputs": [],
   "source": [
    "# Takes the new_river_ecoli select the relevant columns about sites' coordinates, and then get the unique \n",
    "# entries of the river sites across NZ.\n",
    "river_src_ecoli <- new_river_ecoli %>% \n",
    "  select(Region, S_ID, Latitude, Longitude) %>% \n",
    "  distinct()\n",
    "river_src_ecoli %>% \n",
    "    head()"
   ]
  },
  {
   "cell_type": "code",
   "execution_count": null,
   "id": "a14aa149",
   "metadata": {},
   "outputs": [],
   "source": [
    "# Gives an overview of river_nitrogen such as columns, data types, the possible values, number of rows and columns.\n",
    "# This allow us to select which relevant columns to select.\n",
    "river_nitrogen %>% \n",
    "  glimpse()"
   ]
  },
  {
   "cell_type": "code",
   "execution_count": null,
   "id": "f01c5b8f",
   "metadata": {},
   "outputs": [],
   "source": [
    "# Takes river_nitrogen rename the columns, get the rows from 2002 to 2009 with ammoniacal nitrogen and nitrate(-nitrite) nitrogen\n",
    "# as indicators, standardise the indicators, and select the necessary columns.\n",
    "new_river_nitrogen <- river_nitrogen %>% \n",
    "  rename(Region = state, Year = end_year, Indicator = measure, Median = median, Units = units, S_ID = s_id,\n",
    "         Latitude = lat, Longitude = long) %>% \n",
    "  filter(Year >= 2002, Year <= 2019, Indicator %in% c(\"Ammoniacal nitrogen\", \"Nitrate-nitrite nitrogen\")) %>%\n",
    "  mutate(Indicator = case_when(Indicator == \"Ammoniacal nitrogen\" ~ \"Ammoniacal nitrogen g/m3\",\n",
    "                               TRUE ~ \"Nitrate-nitrite nitrogen g/m3\")) %>%\n",
    "  select(Region, Year, S_ID, Median, Indicator, Latitude, Longitude)"
   ]
  },
  {
   "cell_type": "code",
   "execution_count": null,
   "id": "3d879890",
   "metadata": {},
   "outputs": [],
   "source": [
    "# Reads the entirety of river_nitrogen and creates a plot to check if it contains missing data (NA). \n",
    "river_nitrogen %>% \n",
    "  vis_miss()"
   ]
  },
  {
   "cell_type": "code",
   "execution_count": null,
   "id": "3ad5bab0",
   "metadata": {},
   "outputs": [],
   "source": [
    "# Takes the river_nitrogen data frame then rename the columns, select the necessary rows, group them\n",
    "# by Region, Indicator, and Year. Lastly, summarise them by getting the sum of the median values rounded\n",
    "# off by 2 s.f.\n",
    "new_rivernitrogen <- river_nitrogen %>% \n",
    "  rename(Region = state, Indicator = measure, Units = units, Med_Value = median,\n",
    "         Year = end_year) %>% \n",
    "  filter(Indicator %in% c(\"Ammoniacal nitrogen\", \"Nitrate-nitrite nitrogen\"),\n",
    "         Year >= 2002, Year <= 2019) %>% \n",
    "  group_by(Region, Indicator, Year) %>% \n",
    "  summarise(Total_MedVal = round(sum(Med_Value), 2)) %>% \n",
    "  distinct()"
   ]
  },
  {
   "cell_type": "code",
   "execution_count": null,
   "id": "1a2a1933",
   "metadata": {},
   "outputs": [],
   "source": [
    "# Takes the new_rivernitrogen then convert it to wide format.\n",
    "rivernitrogen_wide <- new_rivernitrogen %>% \n",
    "  spread(key = Indicator,\n",
    "         value = Total_MedVal) %>% \n",
    "  mutate(`Ammoniacal nitrogen (g/m3)` = `Ammoniacal nitrogen`,\n",
    "         `Nitrate-nitrite nitrogen (g/m3)` = `Nitrate-nitrite nitrogen`) %>% \n",
    "  select(-c(`Ammoniacal nitrogen`, `Nitrate-nitrite nitrogen`))\n",
    "rivernitrogen_wide"
   ]
  },
  {
   "cell_type": "markdown",
   "id": "9c6c1044",
   "metadata": {},
   "source": [
    "<h2>Adding New Columns and Joining Dataframes</h2>"
   ]
  },
  {
   "cell_type": "code",
   "execution_count": null,
   "id": "39709327",
   "metadata": {},
   "outputs": [],
   "source": [
    "# Join rivernitrogen_wide and riverecoli_wide to create river_quality dataframe.\n",
    "river_quality <- rivernitrogen_wide %>% \n",
    "  full_join(riverecoli_wide)"
   ]
  },
  {
   "cell_type": "code",
   "execution_count": null,
   "id": "5d1bf9fa",
   "metadata": {},
   "outputs": [],
   "source": [
    "# Merge the tibble of categories with the existing groundwq and river_quality dataframes.\n",
    "groundwq_categ <- tibble(Water_Categ = rep(c(\"Groundwater Quality\"), each = nrow(new_groundwq)))\n",
    "river_categ <- tibble(Water_Categ = rep(c(\"River Quality\"), each = nrow(river_quality)))\n",
    "\n",
    "groundwq <- cbind(new_groundwq, groundwq_categ)\n",
    "river_quality <- cbind(river_quality, river_categ)"
   ]
  },
  {
   "cell_type": "code",
   "execution_count": null,
   "id": "fe59934e",
   "metadata": {},
   "outputs": [],
   "source": [
    "# Join the groundwq and river_quality to create water quality dataframe.\n",
    "# Normalise the indicator for all E.coli observation.\n",
    "water_quality <- groundwq %>% \n",
    "  full_join(river_quality) %>% \n",
    "  mutate(Indicator = case_when(Indicator == \"E. coli\" ~ \"E.coli\", TRUE ~ Indicator))"
   ]
  }
 ],
 "metadata": {
  "kernelspec": {
   "display_name": "R",
   "language": "R",
   "name": "ir"
  },
  "language_info": {
   "codemirror_mode": "r",
   "file_extension": ".r",
   "mimetype": "text/x-r-source",
   "name": "R",
   "pygments_lexer": "r",
   "version": "4.2.1"
  }
 },
 "nbformat": 4,
 "nbformat_minor": 5
}
