{
 "cells": [
  {
   "cell_type": "markdown",
   "id": "c06bb010",
   "metadata": {},
   "source": [
    "<h1><center>Water Quality</center></h1>"
   ]
  },
  {
   "cell_type": "markdown",
   "id": "e2294c7f",
   "metadata": {},
   "source": [
    "<h2>Packages</h2>"
   ]
  },
  {
   "cell_type": "code",
   "execution_count": 1,
   "id": "7c1522e4",
   "metadata": {},
   "outputs": [
    {
     "name": "stderr",
     "output_type": "stream",
     "text": [
      "-- \u001b[1mAttaching packages\u001b[22m --------------------------------------------------------------------------------------- tidyverse 1.3.2 --\n",
      "\u001b[32mv\u001b[39m \u001b[34mggplot2\u001b[39m 3.3.6     \u001b[32mv\u001b[39m \u001b[34mpurrr  \u001b[39m 0.3.4\n",
      "\u001b[32mv\u001b[39m \u001b[34mtibble \u001b[39m 3.1.8     \u001b[32mv\u001b[39m \u001b[34mdplyr  \u001b[39m 1.0.9\n",
      "\u001b[32mv\u001b[39m \u001b[34mtidyr  \u001b[39m 1.2.0     \u001b[32mv\u001b[39m \u001b[34mstringr\u001b[39m 1.4.0\n",
      "\u001b[32mv\u001b[39m \u001b[34mreadr  \u001b[39m 2.1.2     \u001b[32mv\u001b[39m \u001b[34mforcats\u001b[39m 0.5.1\n",
      "-- \u001b[1mConflicts\u001b[22m ------------------------------------------------------------------------------------------ tidyverse_conflicts() --\n",
      "\u001b[31mx\u001b[39m \u001b[34mdplyr\u001b[39m::\u001b[32mfilter()\u001b[39m masks \u001b[34mstats\u001b[39m::filter()\n",
      "\u001b[31mx\u001b[39m \u001b[34mdplyr\u001b[39m::\u001b[32mlag()\u001b[39m    masks \u001b[34mstats\u001b[39m::lag()\n"
     ]
    }
   ],
   "source": [
    "# Load packages such as ggplot2, dplyr, tidyr, and readr to be able to use specialised functions for creating\n",
    "# visualisations, reading, writing, and manipulating data.\n",
    "library(tidyverse)"
   ]
  },
  {
   "cell_type": "code",
   "execution_count": 2,
   "id": "75c3d44f",
   "metadata": {},
   "outputs": [],
   "source": [
    "# Load the tidygeocoder package to be able to use a function to convert the given latitude and longitude\n",
    "# to address.\n",
    "library(tidygeocoder)"
   ]
  },
  {
   "cell_type": "code",
   "execution_count": 4,
   "id": "ab114982",
   "metadata": {},
   "outputs": [],
   "source": [
    "# Load skimr package to be able to use a function to understand the structure of the dataframe we will analyse\n",
    "library(skimr)"
   ]
  },
  {
   "cell_type": "code",
   "execution_count": 5,
   "id": "f97f4dc9",
   "metadata": {},
   "outputs": [],
   "source": [
    "# Load the knitr package to be able to use a function for presenting information in a tidy format.\n",
    "library(knitr)"
   ]
  },
  {
   "cell_type": "code",
   "execution_count": 6,
   "id": "ece21a17",
   "metadata": {},
   "outputs": [],
   "source": [
    "# Load the visdat package to be able to use a function for visualisation of the data. \n",
    "library(visdat)"
   ]
  },
  {
   "cell_type": "code",
   "execution_count": 7,
   "id": "7cf37fc4",
   "metadata": {
    "scrolled": true
   },
   "outputs": [
    {
     "name": "stderr",
     "output_type": "stream",
     "text": [
      "\n",
      "Attaching package: 'lubridate'\n",
      "\n",
      "\n",
      "The following objects are masked from 'package:base':\n",
      "\n",
      "    date, intersect, setdiff, union\n",
      "\n",
      "\n"
     ]
    }
   ],
   "source": [
    "# Load the lubridate package to be able to use function(s) for manipulating datetime data type.\n",
    "library(lubridate)"
   ]
  },
  {
   "cell_type": "code",
   "execution_count": 8,
   "id": "b7ff9b03",
   "metadata": {
    "scrolled": true
   },
   "outputs": [
    {
     "name": "stderr",
     "output_type": "stream",
     "text": [
      "Registered S3 method overwritten by 'quantmod':\n",
      "  method            from\n",
      "  as.zoo.data.frame zoo \n",
      "\n"
     ]
    }
   ],
   "source": [
    "# Load the highcharter package to be able to use interactive charting/graphing functions.\n",
    "library(highcharter)"
   ]
  },
  {
   "cell_type": "code",
   "execution_count": 9,
   "id": "81e1942d",
   "metadata": {},
   "outputs": [
    {
     "name": "stderr",
     "output_type": "stream",
     "text": [
      "\n",
      "Attaching package: 'jsonlite'\n",
      "\n",
      "\n",
      "The following object is masked from 'package:purrr':\n",
      "\n",
      "    flatten\n",
      "\n",
      "\n"
     ]
    }
   ],
   "source": [
    "library(jsonlite)\n",
    "library(XML)\n",
    "library(xml2)\n",
    "library(glue)\n",
    "library(httr)"
   ]
  },
  {
   "cell_type": "markdown",
   "id": "b6498b40",
   "metadata": {},
   "source": [
    "<h2>Accessing and Importing Datasets</h2>"
   ]
  },
  {
   "cell_type": "code",
   "execution_count": 10,
   "id": "3a2bef34",
   "metadata": {},
   "outputs": [],
   "source": [
    "# A function to get data from the Ministry for the Environment database API\n",
    "\n",
    "get_data_from_mfe <- function(api_key, data_id){\n",
    "    \n",
    "    query <- glue('https://data.mfe.govt.nz/services;key={api_key}/wfs?service=WFS&version=2.0.0&request=GetFeature&typeNames={data_id}') # creates a query url using inputs of api key and data-id number available on MfE website\n",
    "    \n",
    "    api_response <- GET(query) #gets the API response from the query\n",
    "    \n",
    "    data_xml <- read_xml(api_response) #reads the xml data from the api response\n",
    "    \n",
    "    data_parsed <- xmlParse(data_xml) #parses the data into an xml format that is readable in R\n",
    "    \n",
    "    data_df <- glue('//data.mfe.govt.nz:{data_id}') %>%  # creating a node name to look for\n",
    "    getNodeSet(data_parsed, .)  %>%  # looking at nodes with the name\n",
    "    xmlToDataFrame(nodes = .) #turns the data within the given node into a data frame\n",
    "    \n",
    "    return(data_df) #returns the data frame\n",
    "}"
   ]
  },
  {
   "cell_type": "code",
   "execution_count": 11,
   "id": "726439f9",
   "metadata": {
    "scrolled": true
   },
   "outputs": [
    {
     "data": {
      "text/html": [
       "<table class=\"dataframe\">\n",
       "<caption>A data.frame: 6 × 33</caption>\n",
       "<thead>\n",
       "\t<tr><th></th><th scope=col>field_1</th><th scope=col>measure_ab</th><th scope=col>measure</th><th scope=col>units</th><th scope=col>sof</th><th scope=col>nzsegment</th><th scope=col>lat</th><th scope=col>long</th><th scope=col>s_id</th><th scope=col>n_obs</th><th scope=col>...</th><th scope=col>sen_lci</th><th scope=col>sen_uci</th><th scope=col>analysis_note</th><th scope=col>percent_annual_change</th><th scope=col>trend_direction</th><th scope=col>seasonal</th><th scope=col>freq</th><th scope=col>period</th><th scope=col>end_year</th><th scope=col>trend_confidence</th></tr>\n",
       "\t<tr><th></th><th scope=col>&lt;chr&gt;</th><th scope=col>&lt;chr&gt;</th><th scope=col>&lt;chr&gt;</th><th scope=col>&lt;chr&gt;</th><th scope=col>&lt;chr&gt;</th><th scope=col>&lt;chr&gt;</th><th scope=col>&lt;chr&gt;</th><th scope=col>&lt;chr&gt;</th><th scope=col>&lt;chr&gt;</th><th scope=col>&lt;chr&gt;</th><th scope=col>...</th><th scope=col>&lt;chr&gt;</th><th scope=col>&lt;chr&gt;</th><th scope=col>&lt;chr&gt;</th><th scope=col>&lt;chr&gt;</th><th scope=col>&lt;chr&gt;</th><th scope=col>&lt;chr&gt;</th><th scope=col>&lt;chr&gt;</th><th scope=col>&lt;chr&gt;</th><th scope=col>&lt;chr&gt;</th><th scope=col>&lt;chr&gt;</th></tr>\n",
       "</thead>\n",
       "<tbody>\n",
       "\t<tr><th scope=row>1</th><td>1</td><td>ECOLI</td><td>E. coli</td><td>cfu/100ml</td><td>WWL </td><td>5122005</td><td>-38.4616</td><td>177.8767</td><td>GDC-00027 </td><td>54</td><td>...</td><td>-70.66574688</td><td>4.753992744</td><td>ok                                                  </td><td>-5.500677702</td><td>Improving    </td><td>FALSE</td><td>BiMonth</td><td>NA</td><td>2000</td><td>Very likely improving</td></tr>\n",
       "\t<tr><th scope=row>2</th><td>2</td><td>ECOLI</td><td>E. coli</td><td>cfu/100ml</td><td>CWH </td><td>4084132</td><td>-38.0824</td><td>176.2122</td><td>EBOP-00010</td><td>38</td><td>...</td><td>6.241040718 </td><td>38.83610442</td><td>ok                                                  </td><td>9.98312095  </td><td>Worsening    </td><td>FALSE</td><td>Qtr    </td><td>NA</td><td>2000</td><td>Very likely worsening</td></tr>\n",
       "\t<tr><th scope=row>3</th><td>3</td><td>ECOLI</td><td>E. coli</td><td>cfu/100ml</td><td>WWL </td><td>4085815</td><td>-38.0795</td><td>177.1362</td><td>EBOP-00011</td><td>38</td><td>...</td><td>-23.56314936</td><td>90.18457384</td><td>ok                                                  </td><td>2.746276512 </td><td>Worsening    </td><td>TRUE </td><td>Qtr    </td><td>NA</td><td>2000</td><td>Likely worsening     </td></tr>\n",
       "\t<tr><th scope=row>4</th><td>4</td><td>ECOLI</td><td>E. coli</td><td>cfu/100ml</td><td>CWLk</td><td>4081484</td><td>-38.044 </td><td>176.3308</td><td>EBOP-00012</td><td>38</td><td>...</td><td>0           </td><td>0.809965979</td><td>ok                                                  </td><td>6.646951774 </td><td>Worsening    </td><td>TRUE </td><td>Qtr    </td><td>NA</td><td>2000</td><td>Very likely worsening</td></tr>\n",
       "\t<tr><th scope=row>5</th><td>5</td><td>ECOLI</td><td>E. coli</td><td>cfu/100ml</td><td>CWH </td><td>4083343</td><td>-38.0465</td><td>176.988 </td><td>EBOP-00042</td><td>38</td><td>...</td><td>0.587990625 </td><td>10.7212543 </td><td>ok                                                  </td><td>10.00919766 </td><td>Worsening    </td><td>TRUE </td><td>Qtr    </td><td>NA</td><td>2000</td><td>Very likely worsening</td></tr>\n",
       "\t<tr><th scope=row>6</th><td>6</td><td>ECOLI</td><td>E. coli</td><td>cfu/100ml</td><td>WXL </td><td>5063036</td><td>-37.6746</td><td>178.3481</td><td>GDC-00002 </td><td>36</td><td>...</td><td>-7.598926487</td><td>6.825007124</td><td>WARNING: Sen slope based on tied non-censored values</td><td>0           </td><td>Indeterminate</td><td>FALSE</td><td>Qtr    </td><td>NA</td><td>2000</td><td>Indeterminate        </td></tr>\n",
       "</tbody>\n",
       "</table>\n"
      ],
      "text/latex": [
       "A data.frame: 6 × 33\n",
       "\\begin{tabular}{r|lllllllllllllllllllll}\n",
       "  & field\\_1 & measure\\_ab & measure & units & sof & nzsegment & lat & long & s\\_id & n\\_obs & ... & sen\\_lci & sen\\_uci & analysis\\_note & percent\\_annual\\_change & trend\\_direction & seasonal & freq & period & end\\_year & trend\\_confidence\\\\\n",
       "  & <chr> & <chr> & <chr> & <chr> & <chr> & <chr> & <chr> & <chr> & <chr> & <chr> & ... & <chr> & <chr> & <chr> & <chr> & <chr> & <chr> & <chr> & <chr> & <chr> & <chr>\\\\\n",
       "\\hline\n",
       "\t1 & 1 & ECOLI & E. coli & cfu/100ml & WWL  & 5122005 & -38.4616 & 177.8767 & GDC-00027  & 54 & ... & -70.66574688 & 4.753992744 & ok                                                   & -5.500677702 & Improving     & FALSE & BiMonth & NA & 2000 & Very likely improving\\\\\n",
       "\t2 & 2 & ECOLI & E. coli & cfu/100ml & CWH  & 4084132 & -38.0824 & 176.2122 & EBOP-00010 & 38 & ... & 6.241040718  & 38.83610442 & ok                                                   & 9.98312095   & Worsening     & FALSE & Qtr     & NA & 2000 & Very likely worsening\\\\\n",
       "\t3 & 3 & ECOLI & E. coli & cfu/100ml & WWL  & 4085815 & -38.0795 & 177.1362 & EBOP-00011 & 38 & ... & -23.56314936 & 90.18457384 & ok                                                   & 2.746276512  & Worsening     & TRUE  & Qtr     & NA & 2000 & Likely worsening     \\\\\n",
       "\t4 & 4 & ECOLI & E. coli & cfu/100ml & CWLk & 4081484 & -38.044  & 176.3308 & EBOP-00012 & 38 & ... & 0            & 0.809965979 & ok                                                   & 6.646951774  & Worsening     & TRUE  & Qtr     & NA & 2000 & Very likely worsening\\\\\n",
       "\t5 & 5 & ECOLI & E. coli & cfu/100ml & CWH  & 4083343 & -38.0465 & 176.988  & EBOP-00042 & 38 & ... & 0.587990625  & 10.7212543  & ok                                                   & 10.00919766  & Worsening     & TRUE  & Qtr     & NA & 2000 & Very likely worsening\\\\\n",
       "\t6 & 6 & ECOLI & E. coli & cfu/100ml & WXL  & 5063036 & -37.6746 & 178.3481 & GDC-00002  & 36 & ... & -7.598926487 & 6.825007124 & WARNING: Sen slope based on tied non-censored values & 0            & Indeterminate & FALSE & Qtr     & NA & 2000 & Indeterminate        \\\\\n",
       "\\end{tabular}\n"
      ],
      "text/markdown": [
       "\n",
       "A data.frame: 6 × 33\n",
       "\n",
       "| <!--/--> | field_1 &lt;chr&gt; | measure_ab &lt;chr&gt; | measure &lt;chr&gt; | units &lt;chr&gt; | sof &lt;chr&gt; | nzsegment &lt;chr&gt; | lat &lt;chr&gt; | long &lt;chr&gt; | s_id &lt;chr&gt; | n_obs &lt;chr&gt; | ... ... | sen_lci &lt;chr&gt; | sen_uci &lt;chr&gt; | analysis_note &lt;chr&gt; | percent_annual_change &lt;chr&gt; | trend_direction &lt;chr&gt; | seasonal &lt;chr&gt; | freq &lt;chr&gt; | period &lt;chr&gt; | end_year &lt;chr&gt; | trend_confidence &lt;chr&gt; |\n",
       "|---|---|---|---|---|---|---|---|---|---|---|---|---|---|---|---|---|---|---|---|---|---|\n",
       "| 1 | 1 | ECOLI | E. coli | cfu/100ml | WWL  | 5122005 | -38.4616 | 177.8767 | GDC-00027  | 54 | ... | -70.66574688 | 4.753992744 | ok                                                   | -5.500677702 | Improving     | FALSE | BiMonth | NA | 2000 | Very likely improving |\n",
       "| 2 | 2 | ECOLI | E. coli | cfu/100ml | CWH  | 4084132 | -38.0824 | 176.2122 | EBOP-00010 | 38 | ... | 6.241040718  | 38.83610442 | ok                                                   | 9.98312095   | Worsening     | FALSE | Qtr     | NA | 2000 | Very likely worsening |\n",
       "| 3 | 3 | ECOLI | E. coli | cfu/100ml | WWL  | 4085815 | -38.0795 | 177.1362 | EBOP-00011 | 38 | ... | -23.56314936 | 90.18457384 | ok                                                   | 2.746276512  | Worsening     | TRUE  | Qtr     | NA | 2000 | Likely worsening      |\n",
       "| 4 | 4 | ECOLI | E. coli | cfu/100ml | CWLk | 4081484 | -38.044  | 176.3308 | EBOP-00012 | 38 | ... | 0            | 0.809965979 | ok                                                   | 6.646951774  | Worsening     | TRUE  | Qtr     | NA | 2000 | Very likely worsening |\n",
       "| 5 | 5 | ECOLI | E. coli | cfu/100ml | CWH  | 4083343 | -38.0465 | 176.988  | EBOP-00042 | 38 | ... | 0.587990625  | 10.7212543  | ok                                                   | 10.00919766  | Worsening     | TRUE  | Qtr     | NA | 2000 | Very likely worsening |\n",
       "| 6 | 6 | ECOLI | E. coli | cfu/100ml | WXL  | 5063036 | -37.6746 | 178.3481 | GDC-00002  | 36 | ... | -7.598926487 | 6.825007124 | WARNING: Sen slope based on tied non-censored values | 0            | Indeterminate | FALSE | Qtr     | NA | 2000 | Indeterminate         |\n",
       "\n"
      ],
      "text/plain": [
       "  field_1 measure_ab measure units     sof  nzsegment lat      long    \n",
       "1 1       ECOLI      E. coli cfu/100ml WWL  5122005   -38.4616 177.8767\n",
       "2 2       ECOLI      E. coli cfu/100ml CWH  4084132   -38.0824 176.2122\n",
       "3 3       ECOLI      E. coli cfu/100ml WWL  4085815   -38.0795 177.1362\n",
       "4 4       ECOLI      E. coli cfu/100ml CWLk 4081484   -38.044  176.3308\n",
       "5 5       ECOLI      E. coli cfu/100ml CWH  4083343   -38.0465 176.988 \n",
       "6 6       ECOLI      E. coli cfu/100ml WXL  5063036   -37.6746 178.3481\n",
       "  s_id       n_obs ... sen_lci      sen_uci    \n",
       "1 GDC-00027  54    ... -70.66574688 4.753992744\n",
       "2 EBOP-00010 38    ... 6.241040718  38.83610442\n",
       "3 EBOP-00011 38    ... -23.56314936 90.18457384\n",
       "4 EBOP-00012 38    ... 0            0.809965979\n",
       "5 EBOP-00042 38    ... 0.587990625  10.7212543 \n",
       "6 GDC-00002  36    ... -7.598926487 6.825007124\n",
       "  analysis_note                                        percent_annual_change\n",
       "1 ok                                                   -5.500677702         \n",
       "2 ok                                                   9.98312095           \n",
       "3 ok                                                   2.746276512          \n",
       "4 ok                                                   6.646951774          \n",
       "5 ok                                                   10.00919766          \n",
       "6 WARNING: Sen slope based on tied non-censored values 0                    \n",
       "  trend_direction seasonal freq    period end_year trend_confidence     \n",
       "1 Improving       FALSE    BiMonth NA     2000     Very likely improving\n",
       "2 Worsening       FALSE    Qtr     NA     2000     Very likely worsening\n",
       "3 Worsening       TRUE     Qtr     NA     2000     Likely worsening     \n",
       "4 Worsening       TRUE     Qtr     NA     2000     Very likely worsening\n",
       "5 Worsening       TRUE     Qtr     NA     2000     Very likely worsening\n",
       "6 Indeterminate   FALSE    Qtr     NA     2000     Indeterminate        "
      ]
     },
     "metadata": {},
     "output_type": "display_data"
    }
   ],
   "source": [
    "# Get the river quality E. coli dataset from MfE using their API service.\n",
    "# Then display the first six rows.\n",
    "river_ecoli <- get_data_from_mfe(\"e046a540d83e49248cbda9cce3f23c2e\", \"table-109662\")\n",
    "river_ecoli %>% \n",
    "    head()"
   ]
  },
  {
   "cell_type": "code",
   "execution_count": 12,
   "id": "4568382e",
   "metadata": {
    "scrolled": true
   },
   "outputs": [
    {
     "data": {
      "text/html": [
       "<table class=\"dataframe\">\n",
       "<caption>A data.frame: 6 × 33</caption>\n",
       "<thead>\n",
       "\t<tr><th></th><th scope=col>field_1</th><th scope=col>measure_ab</th><th scope=col>measure</th><th scope=col>units</th><th scope=col>sof</th><th scope=col>nzsegment</th><th scope=col>lat</th><th scope=col>long</th><th scope=col>s_id</th><th scope=col>n_obs</th><th scope=col>...</th><th scope=col>sen_lci</th><th scope=col>sen_uci</th><th scope=col>analysis_note</th><th scope=col>percent_annual_change</th><th scope=col>trend_direction</th><th scope=col>seasonal</th><th scope=col>freq</th><th scope=col>period</th><th scope=col>end_year</th><th scope=col>trend_confidence</th></tr>\n",
       "\t<tr><th></th><th scope=col>&lt;chr&gt;</th><th scope=col>&lt;chr&gt;</th><th scope=col>&lt;chr&gt;</th><th scope=col>&lt;chr&gt;</th><th scope=col>&lt;chr&gt;</th><th scope=col>&lt;chr&gt;</th><th scope=col>&lt;chr&gt;</th><th scope=col>&lt;chr&gt;</th><th scope=col>&lt;chr&gt;</th><th scope=col>&lt;chr&gt;</th><th scope=col>...</th><th scope=col>&lt;chr&gt;</th><th scope=col>&lt;chr&gt;</th><th scope=col>&lt;chr&gt;</th><th scope=col>&lt;chr&gt;</th><th scope=col>&lt;chr&gt;</th><th scope=col>&lt;chr&gt;</th><th scope=col>&lt;chr&gt;</th><th scope=col>&lt;chr&gt;</th><th scope=col>&lt;chr&gt;</th><th scope=col>&lt;chr&gt;</th></tr>\n",
       "</thead>\n",
       "<tbody>\n",
       "\t<tr><th scope=row>1</th><td>1</td><td>NH4N</td><td>Ammoniacal nitrogen</td><td>g/m3</td><td>WWL</td><td>2038450</td><td>-36.8889</td><td>174.5221</td><td>ARC-00001</td><td>116</td><td>...</td><td>-0.000364871</td><td>0           </td><td>WARNING: Sen slope influenced by censored values    </td><td>0           </td><td>Improving    </td><td>FALSE</td><td>Month</td><td>NA</td><td>2000</td><td>Very likely improving</td></tr>\n",
       "\t<tr><th scope=row>2</th><td>2</td><td>NH4N</td><td>Ammoniacal nitrogen</td><td>g/m3</td><td>WWL</td><td>2031444</td><td>-36.345 </td><td>174.7118</td><td>ARC-00008</td><td>115</td><td>...</td><td>0           </td><td>0.00079865  </td><td>WARNING: Sen slope influenced by censored values    </td><td>0           </td><td>Worsening    </td><td>FALSE</td><td>Month</td><td>NA</td><td>2000</td><td>Likely worsening     </td></tr>\n",
       "\t<tr><th scope=row>3</th><td>3</td><td>NH4N</td><td>Ammoniacal nitrogen</td><td>g/m3</td><td>WWL</td><td>2038644</td><td>-36.8949</td><td>174.5947</td><td>ARC-00013</td><td>118</td><td>...</td><td>0           </td><td>0.001269986 </td><td>ok                                                  </td><td>2.325248281 </td><td>Worsening    </td><td>FALSE</td><td>Month</td><td>NA</td><td>2000</td><td>Very likely worsening</td></tr>\n",
       "\t<tr><th scope=row>4</th><td>4</td><td>NH4N</td><td>Ammoniacal nitrogen</td><td>g/m3</td><td>WDL</td><td>2040105</td><td>-36.9623</td><td>174.88  </td><td>ARC-00015</td><td>108</td><td>...</td><td>-0.002164356</td><td>0.00166666  </td><td>WARNING: Sen slope based on tied non-censored values</td><td>0           </td><td>Indeterminate</td><td>FALSE</td><td>Month</td><td>NA</td><td>2000</td><td>Indeterminate        </td></tr>\n",
       "\t<tr><th scope=row>5</th><td>5</td><td>NH4N</td><td>Ammoniacal nitrogen</td><td>g/m3</td><td>WDL</td><td>2035880</td><td>-36.732 </td><td>174.6947</td><td>ARC-00017</td><td>118</td><td>...</td><td>-0.009313005</td><td>-0.002790694</td><td>ok                                                  </td><td>-9.604112969</td><td>Improving    </td><td>FALSE</td><td>Month</td><td>NA</td><td>2000</td><td>Very likely improving</td></tr>\n",
       "\t<tr><th scope=row>6</th><td>6</td><td>NH4N</td><td>Ammoniacal nitrogen</td><td>g/m3</td><td>WWL</td><td>2033563</td><td>-36.551 </td><td>174.6605</td><td>ARC-00026</td><td>117</td><td>...</td><td>-0.000242512</td><td>0.00157275  </td><td>ok                                                  </td><td>1.727222315 </td><td>Worsening    </td><td>FALSE</td><td>Month</td><td>NA</td><td>2000</td><td>Likely worsening     </td></tr>\n",
       "</tbody>\n",
       "</table>\n"
      ],
      "text/latex": [
       "A data.frame: 6 × 33\n",
       "\\begin{tabular}{r|lllllllllllllllllllll}\n",
       "  & field\\_1 & measure\\_ab & measure & units & sof & nzsegment & lat & long & s\\_id & n\\_obs & ... & sen\\_lci & sen\\_uci & analysis\\_note & percent\\_annual\\_change & trend\\_direction & seasonal & freq & period & end\\_year & trend\\_confidence\\\\\n",
       "  & <chr> & <chr> & <chr> & <chr> & <chr> & <chr> & <chr> & <chr> & <chr> & <chr> & ... & <chr> & <chr> & <chr> & <chr> & <chr> & <chr> & <chr> & <chr> & <chr> & <chr>\\\\\n",
       "\\hline\n",
       "\t1 & 1 & NH4N & Ammoniacal nitrogen & g/m3 & WWL & 2038450 & -36.8889 & 174.5221 & ARC-00001 & 116 & ... & -0.000364871 & 0            & WARNING: Sen slope influenced by censored values     & 0            & Improving     & FALSE & Month & NA & 2000 & Very likely improving\\\\\n",
       "\t2 & 2 & NH4N & Ammoniacal nitrogen & g/m3 & WWL & 2031444 & -36.345  & 174.7118 & ARC-00008 & 115 & ... & 0            & 0.00079865   & WARNING: Sen slope influenced by censored values     & 0            & Worsening     & FALSE & Month & NA & 2000 & Likely worsening     \\\\\n",
       "\t3 & 3 & NH4N & Ammoniacal nitrogen & g/m3 & WWL & 2038644 & -36.8949 & 174.5947 & ARC-00013 & 118 & ... & 0            & 0.001269986  & ok                                                   & 2.325248281  & Worsening     & FALSE & Month & NA & 2000 & Very likely worsening\\\\\n",
       "\t4 & 4 & NH4N & Ammoniacal nitrogen & g/m3 & WDL & 2040105 & -36.9623 & 174.88   & ARC-00015 & 108 & ... & -0.002164356 & 0.00166666   & WARNING: Sen slope based on tied non-censored values & 0            & Indeterminate & FALSE & Month & NA & 2000 & Indeterminate        \\\\\n",
       "\t5 & 5 & NH4N & Ammoniacal nitrogen & g/m3 & WDL & 2035880 & -36.732  & 174.6947 & ARC-00017 & 118 & ... & -0.009313005 & -0.002790694 & ok                                                   & -9.604112969 & Improving     & FALSE & Month & NA & 2000 & Very likely improving\\\\\n",
       "\t6 & 6 & NH4N & Ammoniacal nitrogen & g/m3 & WWL & 2033563 & -36.551  & 174.6605 & ARC-00026 & 117 & ... & -0.000242512 & 0.00157275   & ok                                                   & 1.727222315  & Worsening     & FALSE & Month & NA & 2000 & Likely worsening     \\\\\n",
       "\\end{tabular}\n"
      ],
      "text/markdown": [
       "\n",
       "A data.frame: 6 × 33\n",
       "\n",
       "| <!--/--> | field_1 &lt;chr&gt; | measure_ab &lt;chr&gt; | measure &lt;chr&gt; | units &lt;chr&gt; | sof &lt;chr&gt; | nzsegment &lt;chr&gt; | lat &lt;chr&gt; | long &lt;chr&gt; | s_id &lt;chr&gt; | n_obs &lt;chr&gt; | ... ... | sen_lci &lt;chr&gt; | sen_uci &lt;chr&gt; | analysis_note &lt;chr&gt; | percent_annual_change &lt;chr&gt; | trend_direction &lt;chr&gt; | seasonal &lt;chr&gt; | freq &lt;chr&gt; | period &lt;chr&gt; | end_year &lt;chr&gt; | trend_confidence &lt;chr&gt; |\n",
       "|---|---|---|---|---|---|---|---|---|---|---|---|---|---|---|---|---|---|---|---|---|---|\n",
       "| 1 | 1 | NH4N | Ammoniacal nitrogen | g/m3 | WWL | 2038450 | -36.8889 | 174.5221 | ARC-00001 | 116 | ... | -0.000364871 | 0            | WARNING: Sen slope influenced by censored values     | 0            | Improving     | FALSE | Month | NA | 2000 | Very likely improving |\n",
       "| 2 | 2 | NH4N | Ammoniacal nitrogen | g/m3 | WWL | 2031444 | -36.345  | 174.7118 | ARC-00008 | 115 | ... | 0            | 0.00079865   | WARNING: Sen slope influenced by censored values     | 0            | Worsening     | FALSE | Month | NA | 2000 | Likely worsening      |\n",
       "| 3 | 3 | NH4N | Ammoniacal nitrogen | g/m3 | WWL | 2038644 | -36.8949 | 174.5947 | ARC-00013 | 118 | ... | 0            | 0.001269986  | ok                                                   | 2.325248281  | Worsening     | FALSE | Month | NA | 2000 | Very likely worsening |\n",
       "| 4 | 4 | NH4N | Ammoniacal nitrogen | g/m3 | WDL | 2040105 | -36.9623 | 174.88   | ARC-00015 | 108 | ... | -0.002164356 | 0.00166666   | WARNING: Sen slope based on tied non-censored values | 0            | Indeterminate | FALSE | Month | NA | 2000 | Indeterminate         |\n",
       "| 5 | 5 | NH4N | Ammoniacal nitrogen | g/m3 | WDL | 2035880 | -36.732  | 174.6947 | ARC-00017 | 118 | ... | -0.009313005 | -0.002790694 | ok                                                   | -9.604112969 | Improving     | FALSE | Month | NA | 2000 | Very likely improving |\n",
       "| 6 | 6 | NH4N | Ammoniacal nitrogen | g/m3 | WWL | 2033563 | -36.551  | 174.6605 | ARC-00026 | 117 | ... | -0.000242512 | 0.00157275   | ok                                                   | 1.727222315  | Worsening     | FALSE | Month | NA | 2000 | Likely worsening      |\n",
       "\n"
      ],
      "text/plain": [
       "  field_1 measure_ab measure             units sof nzsegment lat      long    \n",
       "1 1       NH4N       Ammoniacal nitrogen g/m3  WWL 2038450   -36.8889 174.5221\n",
       "2 2       NH4N       Ammoniacal nitrogen g/m3  WWL 2031444   -36.345  174.7118\n",
       "3 3       NH4N       Ammoniacal nitrogen g/m3  WWL 2038644   -36.8949 174.5947\n",
       "4 4       NH4N       Ammoniacal nitrogen g/m3  WDL 2040105   -36.9623 174.88  \n",
       "5 5       NH4N       Ammoniacal nitrogen g/m3  WDL 2035880   -36.732  174.6947\n",
       "6 6       NH4N       Ammoniacal nitrogen g/m3  WWL 2033563   -36.551  174.6605\n",
       "  s_id      n_obs ... sen_lci      sen_uci     \n",
       "1 ARC-00001 116   ... -0.000364871 0           \n",
       "2 ARC-00008 115   ... 0            0.00079865  \n",
       "3 ARC-00013 118   ... 0            0.001269986 \n",
       "4 ARC-00015 108   ... -0.002164356 0.00166666  \n",
       "5 ARC-00017 118   ... -0.009313005 -0.002790694\n",
       "6 ARC-00026 117   ... -0.000242512 0.00157275  \n",
       "  analysis_note                                        percent_annual_change\n",
       "1 WARNING: Sen slope influenced by censored values     0                    \n",
       "2 WARNING: Sen slope influenced by censored values     0                    \n",
       "3 ok                                                   2.325248281          \n",
       "4 WARNING: Sen slope based on tied non-censored values 0                    \n",
       "5 ok                                                   -9.604112969         \n",
       "6 ok                                                   1.727222315          \n",
       "  trend_direction seasonal freq  period end_year trend_confidence     \n",
       "1 Improving       FALSE    Month NA     2000     Very likely improving\n",
       "2 Worsening       FALSE    Month NA     2000     Likely worsening     \n",
       "3 Worsening       FALSE    Month NA     2000     Very likely worsening\n",
       "4 Indeterminate   FALSE    Month NA     2000     Indeterminate        \n",
       "5 Improving       FALSE    Month NA     2000     Very likely improving\n",
       "6 Worsening       FALSE    Month NA     2000     Likely worsening     "
      ]
     },
     "metadata": {},
     "output_type": "display_data"
    }
   ],
   "source": [
    "# Get the river quality nitrogen dataset from MfE using their API service.\n",
    "# Then display the first six rows.\n",
    "river_nitrogen <- get_data_from_mfe(\"e046a540d83e49248cbda9cce3f23c2e\", \"table-109659\")\n",
    "river_nitrogen %>% \n",
    "    head()"
   ]
  },
  {
   "cell_type": "code",
   "execution_count": 52,
   "id": "c4750e12",
   "metadata": {},
   "outputs": [
    {
     "name": "stderr",
     "output_type": "stream",
     "text": [
      "\u001b[1mRows: \u001b[22m\u001b[34m148645\u001b[39m \u001b[1mColumns: \u001b[22m\u001b[34m12\u001b[39m\n",
      "\u001b[36m--\u001b[39m \u001b[1mColumn specification\u001b[22m \u001b[36m--------------------------------------------------------------------------------------------------------\u001b[39m\n",
      "\u001b[1mDelimiter:\u001b[22m \",\"\n",
      "\u001b[31mchr\u001b[39m  (8): Region, Agency, LAWASiteID, LAWAWellName, Indicator, Units, RawVal...\n",
      "\u001b[32mdbl\u001b[39m  (3): Latitude, Longitude, CensoredValue\n",
      "\u001b[34mdttm\u001b[39m (1): Date\n",
      "\n",
      "\u001b[36mi\u001b[39m Use `spec()` to retrieve the full column specification for this data.\n",
      "\u001b[36mi\u001b[39m Specify the column types or set `show_col_types = FALSE` to quiet this message.\n"
     ]
    },
    {
     "data": {
      "text/html": [
       "<table class=\"dataframe\">\n",
       "<caption>A tibble: 6 × 12</caption>\n",
       "<thead>\n",
       "\t<tr><th scope=col>Region</th><th scope=col>Agency</th><th scope=col>LAWASiteID</th><th scope=col>LAWAWellName</th><th scope=col>Latitude</th><th scope=col>Longitude</th><th scope=col>Indicator</th><th scope=col>Units</th><th scope=col>Date</th><th scope=col>RawValue</th><th scope=col>CenType</th><th scope=col>CensoredValue</th></tr>\n",
       "\t<tr><th scope=col>&lt;chr&gt;</th><th scope=col>&lt;chr&gt;</th><th scope=col>&lt;chr&gt;</th><th scope=col>&lt;chr&gt;</th><th scope=col>&lt;dbl&gt;</th><th scope=col>&lt;dbl&gt;</th><th scope=col>&lt;chr&gt;</th><th scope=col>&lt;chr&gt;</th><th scope=col>&lt;dttm&gt;</th><th scope=col>&lt;chr&gt;</th><th scope=col>&lt;chr&gt;</th><th scope=col>&lt;dbl&gt;</th></tr>\n",
       "</thead>\n",
       "<tbody>\n",
       "\t<tr><td>Auckland</td><td>Auckland Council</td><td>LAWA-101648</td><td>Patumahoe Springs</td><td>-37.20052</td><td>174.8477</td><td>Chloride</td><td>g/m&lt;U+00B3&gt;</td><td>2012-05-01 08:48:00</td><td>28</td><td>not</td><td>28</td></tr>\n",
       "\t<tr><td>Auckland</td><td>Auckland Council</td><td>LAWA-101648</td><td>Patumahoe Springs</td><td>-37.20052</td><td>174.8477</td><td>Chloride</td><td>g/m&lt;U+00B3&gt;</td><td>2012-07-20 11:07:00</td><td>27</td><td>not</td><td>27</td></tr>\n",
       "\t<tr><td>Auckland</td><td>Auckland Council</td><td>LAWA-101648</td><td>Patumahoe Springs</td><td>-37.20052</td><td>174.8477</td><td>Chloride</td><td>g/m&lt;U+00B3&gt;</td><td>2012-10-09 11:56:00</td><td>27</td><td>not</td><td>27</td></tr>\n",
       "\t<tr><td>Auckland</td><td>Auckland Council</td><td>LAWA-101648</td><td>Patumahoe Springs</td><td>-37.20052</td><td>174.8477</td><td>Chloride</td><td>g/m&lt;U+00B3&gt;</td><td>2013-01-09 10:55:00</td><td>27</td><td>not</td><td>27</td></tr>\n",
       "\t<tr><td>Auckland</td><td>Auckland Council</td><td>LAWA-101648</td><td>Patumahoe Springs</td><td>-37.20052</td><td>174.8477</td><td>Chloride</td><td>g/m&lt;U+00B3&gt;</td><td>2013-04-16 12:02:00</td><td>29</td><td>not</td><td>29</td></tr>\n",
       "\t<tr><td>Auckland</td><td>Auckland Council</td><td>LAWA-101648</td><td>Patumahoe Springs</td><td>-37.20052</td><td>174.8477</td><td>Chloride</td><td>g/m&lt;U+00B3&gt;</td><td>2014-04-24 11:35:00</td><td>27</td><td>not</td><td>27</td></tr>\n",
       "</tbody>\n",
       "</table>\n"
      ],
      "text/latex": [
       "A tibble: 6 × 12\n",
       "\\begin{tabular}{llllllllllll}\n",
       " Region & Agency & LAWASiteID & LAWAWellName & Latitude & Longitude & Indicator & Units & Date & RawValue & CenType & CensoredValue\\\\\n",
       " <chr> & <chr> & <chr> & <chr> & <dbl> & <dbl> & <chr> & <chr> & <dttm> & <chr> & <chr> & <dbl>\\\\\n",
       "\\hline\n",
       "\t Auckland & Auckland Council & LAWA-101648 & Patumahoe Springs & -37.20052 & 174.8477 & Chloride & g/m<U+00B3> & 2012-05-01 08:48:00 & 28 & not & 28\\\\\n",
       "\t Auckland & Auckland Council & LAWA-101648 & Patumahoe Springs & -37.20052 & 174.8477 & Chloride & g/m<U+00B3> & 2012-07-20 11:07:00 & 27 & not & 27\\\\\n",
       "\t Auckland & Auckland Council & LAWA-101648 & Patumahoe Springs & -37.20052 & 174.8477 & Chloride & g/m<U+00B3> & 2012-10-09 11:56:00 & 27 & not & 27\\\\\n",
       "\t Auckland & Auckland Council & LAWA-101648 & Patumahoe Springs & -37.20052 & 174.8477 & Chloride & g/m<U+00B3> & 2013-01-09 10:55:00 & 27 & not & 27\\\\\n",
       "\t Auckland & Auckland Council & LAWA-101648 & Patumahoe Springs & -37.20052 & 174.8477 & Chloride & g/m<U+00B3> & 2013-04-16 12:02:00 & 29 & not & 29\\\\\n",
       "\t Auckland & Auckland Council & LAWA-101648 & Patumahoe Springs & -37.20052 & 174.8477 & Chloride & g/m<U+00B3> & 2014-04-24 11:35:00 & 27 & not & 27\\\\\n",
       "\\end{tabular}\n"
      ],
      "text/markdown": [
       "\n",
       "A tibble: 6 × 12\n",
       "\n",
       "| Region &lt;chr&gt; | Agency &lt;chr&gt; | LAWASiteID &lt;chr&gt; | LAWAWellName &lt;chr&gt; | Latitude &lt;dbl&gt; | Longitude &lt;dbl&gt; | Indicator &lt;chr&gt; | Units &lt;chr&gt; | Date &lt;dttm&gt; | RawValue &lt;chr&gt; | CenType &lt;chr&gt; | CensoredValue &lt;dbl&gt; |\n",
       "|---|---|---|---|---|---|---|---|---|---|---|---|\n",
       "| Auckland | Auckland Council | LAWA-101648 | Patumahoe Springs | -37.20052 | 174.8477 | Chloride | g/m&lt;U+00B3&gt; | 2012-05-01 08:48:00 | 28 | not | 28 |\n",
       "| Auckland | Auckland Council | LAWA-101648 | Patumahoe Springs | -37.20052 | 174.8477 | Chloride | g/m&lt;U+00B3&gt; | 2012-07-20 11:07:00 | 27 | not | 27 |\n",
       "| Auckland | Auckland Council | LAWA-101648 | Patumahoe Springs | -37.20052 | 174.8477 | Chloride | g/m&lt;U+00B3&gt; | 2012-10-09 11:56:00 | 27 | not | 27 |\n",
       "| Auckland | Auckland Council | LAWA-101648 | Patumahoe Springs | -37.20052 | 174.8477 | Chloride | g/m&lt;U+00B3&gt; | 2013-01-09 10:55:00 | 27 | not | 27 |\n",
       "| Auckland | Auckland Council | LAWA-101648 | Patumahoe Springs | -37.20052 | 174.8477 | Chloride | g/m&lt;U+00B3&gt; | 2013-04-16 12:02:00 | 29 | not | 29 |\n",
       "| Auckland | Auckland Council | LAWA-101648 | Patumahoe Springs | -37.20052 | 174.8477 | Chloride | g/m&lt;U+00B3&gt; | 2014-04-24 11:35:00 | 27 | not | 27 |\n",
       "\n"
      ],
      "text/plain": [
       "  Region   Agency           LAWASiteID  LAWAWellName      Latitude  Longitude\n",
       "1 Auckland Auckland Council LAWA-101648 Patumahoe Springs -37.20052 174.8477 \n",
       "2 Auckland Auckland Council LAWA-101648 Patumahoe Springs -37.20052 174.8477 \n",
       "3 Auckland Auckland Council LAWA-101648 Patumahoe Springs -37.20052 174.8477 \n",
       "4 Auckland Auckland Council LAWA-101648 Patumahoe Springs -37.20052 174.8477 \n",
       "5 Auckland Auckland Council LAWA-101648 Patumahoe Springs -37.20052 174.8477 \n",
       "6 Auckland Auckland Council LAWA-101648 Patumahoe Springs -37.20052 174.8477 \n",
       "  Indicator Units       Date                RawValue CenType CensoredValue\n",
       "1 Chloride  g/m<U+00B3> 2012-05-01 08:48:00 28       not     28           \n",
       "2 Chloride  g/m<U+00B3> 2012-07-20 11:07:00 27       not     27           \n",
       "3 Chloride  g/m<U+00B3> 2012-10-09 11:56:00 27       not     27           \n",
       "4 Chloride  g/m<U+00B3> 2013-01-09 10:55:00 27       not     27           \n",
       "5 Chloride  g/m<U+00B3> 2013-04-16 12:02:00 29       not     29           \n",
       "6 Chloride  g/m<U+00B3> 2014-04-24 11:35:00 27       not     27           "
      ]
     },
     "metadata": {},
     "output_type": "display_data"
    }
   ],
   "source": [
    "# Read the groundwq.csv uploaded in GitHub and store it as groundwq for analysis.\n",
    "groundwq <- \"https://raw.githubusercontent.com/beuri97/data201_gp/waterq/water_quality/data/groundwq.csv\" %>% \n",
    "  read_csv()\n",
    "groundwq %>% \n",
    "    head()"
   ]
  },
  {
   "cell_type": "markdown",
   "id": "5fc40c5e",
   "metadata": {},
   "source": [
    "<p style=\"text-align: justify\"> We used the web and API services of the Ministry for the Environment to get the river quality datasets available in their database. However, the groundwater dataset in their database is incomplete. So instead, we downloaded the dataset available on the LAWA website and uploaded it on GitHub, then copied the link and used it to read the dataset in R. </p>"
   ]
  },
  {
   "cell_type": "markdown",
   "id": "632e8d4c",
   "metadata": {},
   "source": [
    "<h2>Conversion and Saving Data to CSV File</h2>"
   ]
  },
  {
   "cell_type": "code",
   "execution_count": 13,
   "id": "053456ab",
   "metadata": {},
   "outputs": [],
   "source": [
    "# Takes the available latitude and longitude information from the dataset then convert it to full address.\n",
    "convert_lat_long <- function(df, lat, long){\n",
    "    converted_df <- df %>%\n",
    "    reverse_geocode(lat = lat, long = long, \n",
    "                    method = \"osm\", full_results = TRUE)\n",
    "    return(converted_df)\n",
    "}"
   ]
  },
  {
   "cell_type": "code",
   "execution_count": 14,
   "id": "d9f79ce1",
   "metadata": {},
   "outputs": [
    {
     "name": "stderr",
     "output_type": "stream",
     "text": [
      "Passing 931 coordinates to the Nominatim single coordinate geocoder\n",
      "\n",
      "Query completed in: 932.9 seconds\n",
      "\n"
     ]
    },
    {
     "data": {
      "text/html": [
       "<table class=\"dataframe\">\n",
       "<caption>A tibble: 6 × 69</caption>\n",
       "<thead>\n",
       "\t<tr><th scope=col>field_1</th><th scope=col>measure_ab</th><th scope=col>measure</th><th scope=col>units</th><th scope=col>sof</th><th scope=col>nzsegment</th><th scope=col>lat</th><th scope=col>long</th><th scope=col>s_id</th><th scope=col>n_obs</th><th scope=col>...</th><th scope=col>amenity</th><th scope=col>railway</th><th scope=col>neighbourhood</th><th scope=col>leisure</th><th scope=col>city_district</th><th scope=col>craft</th><th scope=col>historic</th><th scope=col>quarter</th><th scope=col>farm</th><th scope=col>shop</th></tr>\n",
       "\t<tr><th scope=col>&lt;chr&gt;</th><th scope=col>&lt;chr&gt;</th><th scope=col>&lt;chr&gt;</th><th scope=col>&lt;chr&gt;</th><th scope=col>&lt;chr&gt;</th><th scope=col>&lt;chr&gt;</th><th scope=col>&lt;chr&gt;</th><th scope=col>&lt;chr&gt;</th><th scope=col>&lt;chr&gt;</th><th scope=col>&lt;chr&gt;</th><th scope=col>...</th><th scope=col>&lt;chr&gt;</th><th scope=col>&lt;chr&gt;</th><th scope=col>&lt;chr&gt;</th><th scope=col>&lt;chr&gt;</th><th scope=col>&lt;chr&gt;</th><th scope=col>&lt;chr&gt;</th><th scope=col>&lt;chr&gt;</th><th scope=col>&lt;chr&gt;</th><th scope=col>&lt;chr&gt;</th><th scope=col>&lt;chr&gt;</th></tr>\n",
       "</thead>\n",
       "<tbody>\n",
       "\t<tr><td>1</td><td>ECOLI</td><td>E. coli</td><td>cfu/100ml</td><td>WWL </td><td>5122005</td><td>-38.4616</td><td>177.8767</td><td>GDC-00027 </td><td>54</td><td>...</td><td>NA</td><td>NA</td><td>NA</td><td>NA</td><td>NA</td><td>NA</td><td>NA</td><td>NA</td><td>NA</td><td>NA</td></tr>\n",
       "\t<tr><td>2</td><td>ECOLI</td><td>E. coli</td><td>cfu/100ml</td><td>CWH </td><td>4084132</td><td>-38.0824</td><td>176.2122</td><td>EBOP-00010</td><td>38</td><td>...</td><td>NA</td><td>NA</td><td>NA</td><td>NA</td><td>NA</td><td>NA</td><td>NA</td><td>NA</td><td>NA</td><td>NA</td></tr>\n",
       "\t<tr><td>3</td><td>ECOLI</td><td>E. coli</td><td>cfu/100ml</td><td>WWL </td><td>4085815</td><td>-38.0795</td><td>177.1362</td><td>EBOP-00011</td><td>38</td><td>...</td><td>NA</td><td>NA</td><td>NA</td><td>NA</td><td>NA</td><td>NA</td><td>NA</td><td>NA</td><td>NA</td><td>NA</td></tr>\n",
       "\t<tr><td>4</td><td>ECOLI</td><td>E. coli</td><td>cfu/100ml</td><td>CWLk</td><td>4081484</td><td>-38.044 </td><td>176.3308</td><td>EBOP-00012</td><td>38</td><td>...</td><td>NA</td><td>NA</td><td>NA</td><td>NA</td><td>NA</td><td>NA</td><td>NA</td><td>NA</td><td>NA</td><td>NA</td></tr>\n",
       "\t<tr><td>5</td><td>ECOLI</td><td>E. coli</td><td>cfu/100ml</td><td>CWH </td><td>4083343</td><td>-38.0465</td><td>176.988 </td><td>EBOP-00042</td><td>38</td><td>...</td><td>NA</td><td>NA</td><td>NA</td><td>NA</td><td>NA</td><td>NA</td><td>NA</td><td>NA</td><td>NA</td><td>NA</td></tr>\n",
       "\t<tr><td>6</td><td>ECOLI</td><td>E. coli</td><td>cfu/100ml</td><td>WXL </td><td>5063036</td><td>-37.6746</td><td>178.3481</td><td>GDC-00002 </td><td>36</td><td>...</td><td>NA</td><td>NA</td><td>NA</td><td>NA</td><td>NA</td><td>NA</td><td>NA</td><td>NA</td><td>NA</td><td>NA</td></tr>\n",
       "</tbody>\n",
       "</table>\n"
      ],
      "text/latex": [
       "A tibble: 6 × 69\n",
       "\\begin{tabular}{lllllllllllllllllllll}\n",
       " field\\_1 & measure\\_ab & measure & units & sof & nzsegment & lat & long & s\\_id & n\\_obs & ... & amenity & railway & neighbourhood & leisure & city\\_district & craft & historic & quarter & farm & shop\\\\\n",
       " <chr> & <chr> & <chr> & <chr> & <chr> & <chr> & <chr> & <chr> & <chr> & <chr> & ... & <chr> & <chr> & <chr> & <chr> & <chr> & <chr> & <chr> & <chr> & <chr> & <chr>\\\\\n",
       "\\hline\n",
       "\t 1 & ECOLI & E. coli & cfu/100ml & WWL  & 5122005 & -38.4616 & 177.8767 & GDC-00027  & 54 & ... & NA & NA & NA & NA & NA & NA & NA & NA & NA & NA\\\\\n",
       "\t 2 & ECOLI & E. coli & cfu/100ml & CWH  & 4084132 & -38.0824 & 176.2122 & EBOP-00010 & 38 & ... & NA & NA & NA & NA & NA & NA & NA & NA & NA & NA\\\\\n",
       "\t 3 & ECOLI & E. coli & cfu/100ml & WWL  & 4085815 & -38.0795 & 177.1362 & EBOP-00011 & 38 & ... & NA & NA & NA & NA & NA & NA & NA & NA & NA & NA\\\\\n",
       "\t 4 & ECOLI & E. coli & cfu/100ml & CWLk & 4081484 & -38.044  & 176.3308 & EBOP-00012 & 38 & ... & NA & NA & NA & NA & NA & NA & NA & NA & NA & NA\\\\\n",
       "\t 5 & ECOLI & E. coli & cfu/100ml & CWH  & 4083343 & -38.0465 & 176.988  & EBOP-00042 & 38 & ... & NA & NA & NA & NA & NA & NA & NA & NA & NA & NA\\\\\n",
       "\t 6 & ECOLI & E. coli & cfu/100ml & WXL  & 5063036 & -37.6746 & 178.3481 & GDC-00002  & 36 & ... & NA & NA & NA & NA & NA & NA & NA & NA & NA & NA\\\\\n",
       "\\end{tabular}\n"
      ],
      "text/markdown": [
       "\n",
       "A tibble: 6 × 69\n",
       "\n",
       "| field_1 &lt;chr&gt; | measure_ab &lt;chr&gt; | measure &lt;chr&gt; | units &lt;chr&gt; | sof &lt;chr&gt; | nzsegment &lt;chr&gt; | lat &lt;chr&gt; | long &lt;chr&gt; | s_id &lt;chr&gt; | n_obs &lt;chr&gt; | ... ... | amenity &lt;chr&gt; | railway &lt;chr&gt; | neighbourhood &lt;chr&gt; | leisure &lt;chr&gt; | city_district &lt;chr&gt; | craft &lt;chr&gt; | historic &lt;chr&gt; | quarter &lt;chr&gt; | farm &lt;chr&gt; | shop &lt;chr&gt; |\n",
       "|---|---|---|---|---|---|---|---|---|---|---|---|---|---|---|---|---|---|---|---|---|\n",
       "| 1 | ECOLI | E. coli | cfu/100ml | WWL  | 5122005 | -38.4616 | 177.8767 | GDC-00027  | 54 | ... | NA | NA | NA | NA | NA | NA | NA | NA | NA | NA |\n",
       "| 2 | ECOLI | E. coli | cfu/100ml | CWH  | 4084132 | -38.0824 | 176.2122 | EBOP-00010 | 38 | ... | NA | NA | NA | NA | NA | NA | NA | NA | NA | NA |\n",
       "| 3 | ECOLI | E. coli | cfu/100ml | WWL  | 4085815 | -38.0795 | 177.1362 | EBOP-00011 | 38 | ... | NA | NA | NA | NA | NA | NA | NA | NA | NA | NA |\n",
       "| 4 | ECOLI | E. coli | cfu/100ml | CWLk | 4081484 | -38.044  | 176.3308 | EBOP-00012 | 38 | ... | NA | NA | NA | NA | NA | NA | NA | NA | NA | NA |\n",
       "| 5 | ECOLI | E. coli | cfu/100ml | CWH  | 4083343 | -38.0465 | 176.988  | EBOP-00042 | 38 | ... | NA | NA | NA | NA | NA | NA | NA | NA | NA | NA |\n",
       "| 6 | ECOLI | E. coli | cfu/100ml | WXL  | 5063036 | -37.6746 | 178.3481 | GDC-00002  | 36 | ... | NA | NA | NA | NA | NA | NA | NA | NA | NA | NA |\n",
       "\n"
      ],
      "text/plain": [
       "  field_1 measure_ab measure units     sof  nzsegment lat      long    \n",
       "1 1       ECOLI      E. coli cfu/100ml WWL  5122005   -38.4616 177.8767\n",
       "2 2       ECOLI      E. coli cfu/100ml CWH  4084132   -38.0824 176.2122\n",
       "3 3       ECOLI      E. coli cfu/100ml WWL  4085815   -38.0795 177.1362\n",
       "4 4       ECOLI      E. coli cfu/100ml CWLk 4081484   -38.044  176.3308\n",
       "5 5       ECOLI      E. coli cfu/100ml CWH  4083343   -38.0465 176.988 \n",
       "6 6       ECOLI      E. coli cfu/100ml WXL  5063036   -37.6746 178.3481\n",
       "  s_id       n_obs ... amenity railway neighbourhood leisure city_district\n",
       "1 GDC-00027  54    ... NA      NA      NA            NA      NA           \n",
       "2 EBOP-00010 38    ... NA      NA      NA            NA      NA           \n",
       "3 EBOP-00011 38    ... NA      NA      NA            NA      NA           \n",
       "4 EBOP-00012 38    ... NA      NA      NA            NA      NA           \n",
       "5 EBOP-00042 38    ... NA      NA      NA            NA      NA           \n",
       "6 GDC-00002  36    ... NA      NA      NA            NA      NA           \n",
       "  craft historic quarter farm shop\n",
       "1 NA    NA       NA      NA   NA  \n",
       "2 NA    NA       NA      NA   NA  \n",
       "3 NA    NA       NA      NA   NA  \n",
       "4 NA    NA       NA      NA   NA  \n",
       "5 NA    NA       NA      NA   NA  \n",
       "6 NA    NA       NA      NA   NA  "
      ]
     },
     "metadata": {},
     "output_type": "display_data"
    }
   ],
   "source": [
    "## Takes the river_ecoli, and converts the provided latitudes and longitudes to add new columns containing the \n",
    "## address of the river sites. Then displays the first six rows.\n",
    "# new_riverecoli <- convert_lat_long(river_ecoli, river_ecoli$lat, river_ecoli$long)\n",
    "# new_riverecoli %>% head()"
   ]
  },
  {
   "cell_type": "code",
   "execution_count": 15,
   "id": "fdc125ef",
   "metadata": {},
   "outputs": [
    {
     "name": "stderr",
     "output_type": "stream",
     "text": [
      "Warning message in (function (lat, long, method = \"osm\", address = \"address\", limit = 1, :\n",
      "\"NAs introduced by coercion\"\n",
      "Warning message in (function (lat, long, method = \"osm\", address = \"address\", limit = 1, :\n",
      "\"NAs introduced by coercion\"\n",
      "Passing 944 coordinates to the Nominatim single coordinate geocoder\n",
      "\n",
      "Query completed in: 946.1 seconds\n",
      "\n"
     ]
    },
    {
     "data": {
      "text/html": [
       "<table class=\"dataframe\">\n",
       "<caption>A tibble: 6 × 69</caption>\n",
       "<thead>\n",
       "\t<tr><th scope=col>field_1</th><th scope=col>measure_ab</th><th scope=col>measure</th><th scope=col>units</th><th scope=col>sof</th><th scope=col>nzsegment</th><th scope=col>lat</th><th scope=col>long</th><th scope=col>s_id</th><th scope=col>n_obs</th><th scope=col>...</th><th scope=col>neighbourhood</th><th scope=col>shop</th><th scope=col>building</th><th scope=col>farm</th><th scope=col>highway</th><th scope=col>railway</th><th scope=col>city_district</th><th scope=col>craft</th><th scope=col>quarter</th><th scope=col>historic</th></tr>\n",
       "\t<tr><th scope=col>&lt;chr&gt;</th><th scope=col>&lt;chr&gt;</th><th scope=col>&lt;chr&gt;</th><th scope=col>&lt;chr&gt;</th><th scope=col>&lt;chr&gt;</th><th scope=col>&lt;chr&gt;</th><th scope=col>&lt;chr&gt;</th><th scope=col>&lt;chr&gt;</th><th scope=col>&lt;chr&gt;</th><th scope=col>&lt;chr&gt;</th><th scope=col>...</th><th scope=col>&lt;chr&gt;</th><th scope=col>&lt;chr&gt;</th><th scope=col>&lt;chr&gt;</th><th scope=col>&lt;chr&gt;</th><th scope=col>&lt;chr&gt;</th><th scope=col>&lt;chr&gt;</th><th scope=col>&lt;chr&gt;</th><th scope=col>&lt;chr&gt;</th><th scope=col>&lt;chr&gt;</th><th scope=col>&lt;chr&gt;</th></tr>\n",
       "</thead>\n",
       "<tbody>\n",
       "\t<tr><td>1</td><td>NH4N</td><td>Ammoniacal nitrogen</td><td>g/m3</td><td>WWL</td><td>2038450</td><td>-36.8889</td><td>174.5221</td><td>ARC-00001</td><td>116</td><td>...</td><td>NA</td><td>NA</td><td>NA</td><td>NA</td><td>NA</td><td>NA</td><td>NA</td><td>NA</td><td>NA</td><td>NA</td></tr>\n",
       "\t<tr><td>2</td><td>NH4N</td><td>Ammoniacal nitrogen</td><td>g/m3</td><td>WWL</td><td>2031444</td><td>-36.345 </td><td>174.7118</td><td>ARC-00008</td><td>115</td><td>...</td><td>NA</td><td>NA</td><td>NA</td><td>NA</td><td>NA</td><td>NA</td><td>NA</td><td>NA</td><td>NA</td><td>NA</td></tr>\n",
       "\t<tr><td>3</td><td>NH4N</td><td>Ammoniacal nitrogen</td><td>g/m3</td><td>WWL</td><td>2038644</td><td>-36.8949</td><td>174.5947</td><td>ARC-00013</td><td>118</td><td>...</td><td>NA</td><td>NA</td><td>NA</td><td>NA</td><td>NA</td><td>NA</td><td>NA</td><td>NA</td><td>NA</td><td>NA</td></tr>\n",
       "\t<tr><td>4</td><td>NH4N</td><td>Ammoniacal nitrogen</td><td>g/m3</td><td>WDL</td><td>2040105</td><td>-36.9623</td><td>174.88  </td><td>ARC-00015</td><td>108</td><td>...</td><td>NA</td><td>NA</td><td>NA</td><td>NA</td><td>NA</td><td>NA</td><td>NA</td><td>NA</td><td>NA</td><td>NA</td></tr>\n",
       "\t<tr><td>5</td><td>NH4N</td><td>Ammoniacal nitrogen</td><td>g/m3</td><td>WDL</td><td>2035880</td><td>-36.732 </td><td>174.6947</td><td>ARC-00017</td><td>118</td><td>...</td><td>NA</td><td>NA</td><td>NA</td><td>NA</td><td>NA</td><td>NA</td><td>NA</td><td>NA</td><td>NA</td><td>NA</td></tr>\n",
       "\t<tr><td>6</td><td>NH4N</td><td>Ammoniacal nitrogen</td><td>g/m3</td><td>WWL</td><td>2033563</td><td>-36.551 </td><td>174.6605</td><td>ARC-00026</td><td>117</td><td>...</td><td>NA</td><td>NA</td><td>NA</td><td>NA</td><td>NA</td><td>NA</td><td>NA</td><td>NA</td><td>NA</td><td>NA</td></tr>\n",
       "</tbody>\n",
       "</table>\n"
      ],
      "text/latex": [
       "A tibble: 6 × 69\n",
       "\\begin{tabular}{lllllllllllllllllllll}\n",
       " field\\_1 & measure\\_ab & measure & units & sof & nzsegment & lat & long & s\\_id & n\\_obs & ... & neighbourhood & shop & building & farm & highway & railway & city\\_district & craft & quarter & historic\\\\\n",
       " <chr> & <chr> & <chr> & <chr> & <chr> & <chr> & <chr> & <chr> & <chr> & <chr> & ... & <chr> & <chr> & <chr> & <chr> & <chr> & <chr> & <chr> & <chr> & <chr> & <chr>\\\\\n",
       "\\hline\n",
       "\t 1 & NH4N & Ammoniacal nitrogen & g/m3 & WWL & 2038450 & -36.8889 & 174.5221 & ARC-00001 & 116 & ... & NA & NA & NA & NA & NA & NA & NA & NA & NA & NA\\\\\n",
       "\t 2 & NH4N & Ammoniacal nitrogen & g/m3 & WWL & 2031444 & -36.345  & 174.7118 & ARC-00008 & 115 & ... & NA & NA & NA & NA & NA & NA & NA & NA & NA & NA\\\\\n",
       "\t 3 & NH4N & Ammoniacal nitrogen & g/m3 & WWL & 2038644 & -36.8949 & 174.5947 & ARC-00013 & 118 & ... & NA & NA & NA & NA & NA & NA & NA & NA & NA & NA\\\\\n",
       "\t 4 & NH4N & Ammoniacal nitrogen & g/m3 & WDL & 2040105 & -36.9623 & 174.88   & ARC-00015 & 108 & ... & NA & NA & NA & NA & NA & NA & NA & NA & NA & NA\\\\\n",
       "\t 5 & NH4N & Ammoniacal nitrogen & g/m3 & WDL & 2035880 & -36.732  & 174.6947 & ARC-00017 & 118 & ... & NA & NA & NA & NA & NA & NA & NA & NA & NA & NA\\\\\n",
       "\t 6 & NH4N & Ammoniacal nitrogen & g/m3 & WWL & 2033563 & -36.551  & 174.6605 & ARC-00026 & 117 & ... & NA & NA & NA & NA & NA & NA & NA & NA & NA & NA\\\\\n",
       "\\end{tabular}\n"
      ],
      "text/markdown": [
       "\n",
       "A tibble: 6 × 69\n",
       "\n",
       "| field_1 &lt;chr&gt; | measure_ab &lt;chr&gt; | measure &lt;chr&gt; | units &lt;chr&gt; | sof &lt;chr&gt; | nzsegment &lt;chr&gt; | lat &lt;chr&gt; | long &lt;chr&gt; | s_id &lt;chr&gt; | n_obs &lt;chr&gt; | ... ... | neighbourhood &lt;chr&gt; | shop &lt;chr&gt; | building &lt;chr&gt; | farm &lt;chr&gt; | highway &lt;chr&gt; | railway &lt;chr&gt; | city_district &lt;chr&gt; | craft &lt;chr&gt; | quarter &lt;chr&gt; | historic &lt;chr&gt; |\n",
       "|---|---|---|---|---|---|---|---|---|---|---|---|---|---|---|---|---|---|---|---|---|\n",
       "| 1 | NH4N | Ammoniacal nitrogen | g/m3 | WWL | 2038450 | -36.8889 | 174.5221 | ARC-00001 | 116 | ... | NA | NA | NA | NA | NA | NA | NA | NA | NA | NA |\n",
       "| 2 | NH4N | Ammoniacal nitrogen | g/m3 | WWL | 2031444 | -36.345  | 174.7118 | ARC-00008 | 115 | ... | NA | NA | NA | NA | NA | NA | NA | NA | NA | NA |\n",
       "| 3 | NH4N | Ammoniacal nitrogen | g/m3 | WWL | 2038644 | -36.8949 | 174.5947 | ARC-00013 | 118 | ... | NA | NA | NA | NA | NA | NA | NA | NA | NA | NA |\n",
       "| 4 | NH4N | Ammoniacal nitrogen | g/m3 | WDL | 2040105 | -36.9623 | 174.88   | ARC-00015 | 108 | ... | NA | NA | NA | NA | NA | NA | NA | NA | NA | NA |\n",
       "| 5 | NH4N | Ammoniacal nitrogen | g/m3 | WDL | 2035880 | -36.732  | 174.6947 | ARC-00017 | 118 | ... | NA | NA | NA | NA | NA | NA | NA | NA | NA | NA |\n",
       "| 6 | NH4N | Ammoniacal nitrogen | g/m3 | WWL | 2033563 | -36.551  | 174.6605 | ARC-00026 | 117 | ... | NA | NA | NA | NA | NA | NA | NA | NA | NA | NA |\n",
       "\n"
      ],
      "text/plain": [
       "  field_1 measure_ab measure             units sof nzsegment lat      long    \n",
       "1 1       NH4N       Ammoniacal nitrogen g/m3  WWL 2038450   -36.8889 174.5221\n",
       "2 2       NH4N       Ammoniacal nitrogen g/m3  WWL 2031444   -36.345  174.7118\n",
       "3 3       NH4N       Ammoniacal nitrogen g/m3  WWL 2038644   -36.8949 174.5947\n",
       "4 4       NH4N       Ammoniacal nitrogen g/m3  WDL 2040105   -36.9623 174.88  \n",
       "5 5       NH4N       Ammoniacal nitrogen g/m3  WDL 2035880   -36.732  174.6947\n",
       "6 6       NH4N       Ammoniacal nitrogen g/m3  WWL 2033563   -36.551  174.6605\n",
       "  s_id      n_obs ... neighbourhood shop building farm highway railway\n",
       "1 ARC-00001 116   ... NA            NA   NA       NA   NA      NA     \n",
       "2 ARC-00008 115   ... NA            NA   NA       NA   NA      NA     \n",
       "3 ARC-00013 118   ... NA            NA   NA       NA   NA      NA     \n",
       "4 ARC-00015 108   ... NA            NA   NA       NA   NA      NA     \n",
       "5 ARC-00017 118   ... NA            NA   NA       NA   NA      NA     \n",
       "6 ARC-00026 117   ... NA            NA   NA       NA   NA      NA     \n",
       "  city_district craft quarter historic\n",
       "1 NA            NA    NA      NA      \n",
       "2 NA            NA    NA      NA      \n",
       "3 NA            NA    NA      NA      \n",
       "4 NA            NA    NA      NA      \n",
       "5 NA            NA    NA      NA      \n",
       "6 NA            NA    NA      NA      "
      ]
     },
     "metadata": {},
     "output_type": "display_data"
    }
   ],
   "source": [
    "## Takes the river_nitrogen, and converts the provided latitudes and longitudes to add new columns containing the \n",
    "## address of the river sites. Then displays the first six rows.\n",
    "# new_rivernitrogen <- convert_lat_long(river_nitrogen, river_nitrogen$lat, river_nitrogen$long)\n",
    "# new_rivernitrogen %>% head()"
   ]
  },
  {
   "cell_type": "code",
   "execution_count": 18,
   "id": "d73154e6",
   "metadata": {},
   "outputs": [],
   "source": [
    "## Write the new dataset as CSVs for use.\n",
    "# write_csv(new_riverecoli, \"new_river_ecoli.csv\")\n",
    "# write_csv(new_rivernitrogen, \"new_river_nitrogen.csv\")"
   ]
  },
  {
   "cell_type": "markdown",
   "id": "ee811094",
   "metadata": {},
   "source": [
    "<p style=\"text-align: justify\"> Region is one of the crucial variables in our dataset for relating datasets. Unfortunately, the river quality datasets we obtained from MfE only have the coordinates for the sites, so we decided to create a helper function using the `reverse_geocode` from `tidygeocoder` that takes latitude and longitude to find locations using geocoding methods. We then created new datasets containing the areas acquired from the conversion. We commented out the conversion and writing of new datasets, as the conversion process takes a lot of time, and we decided to use the links of the datasets we uploaded on GitHub. </p>"
   ]
  },
  {
   "cell_type": "markdown",
   "id": "fe294346",
   "metadata": {},
   "source": [
    "<h2>Groundwater Quality</h2>"
   ]
  },
  {
   "cell_type": "code",
   "execution_count": 53,
   "id": "30b09d76",
   "metadata": {
    "scrolled": true
   },
   "outputs": [
    {
     "name": "stdout",
     "output_type": "stream",
     "text": [
      "Rows: 148,645\n",
      "Columns: 12\n",
      "$ Region        \u001b[3m\u001b[90m<chr>\u001b[39m\u001b[23m \"Auckland\", \"Auckland\", \"Auckland\", \"Auckland\", \"Aucklan~\n",
      "$ Agency        \u001b[3m\u001b[90m<chr>\u001b[39m\u001b[23m \"Auckland Council\", \"Auckland Council\", \"Auckland Counci~\n",
      "$ LAWASiteID    \u001b[3m\u001b[90m<chr>\u001b[39m\u001b[23m \"LAWA-101648\", \"LAWA-101648\", \"LAWA-101648\", \"LAWA-10164~\n",
      "$ LAWAWellName  \u001b[3m\u001b[90m<chr>\u001b[39m\u001b[23m \"Patumahoe Springs\", \"Patumahoe Springs\", \"Patumahoe Spr~\n",
      "$ Latitude      \u001b[3m\u001b[90m<dbl>\u001b[39m\u001b[23m -37.20052, -37.20052, -37.20052, -37.20052, -37.20052, -~\n",
      "$ Longitude     \u001b[3m\u001b[90m<dbl>\u001b[39m\u001b[23m 174.8477, 174.8477, 174.8477, 174.8477, 174.8477, 174.84~\n",
      "$ Indicator     \u001b[3m\u001b[90m<chr>\u001b[39m\u001b[23m \"Chloride\", \"Chloride\", \"Chloride\", \"Chloride\", \"Chlorid~\n",
      "$ Units         \u001b[3m\u001b[90m<chr>\u001b[39m\u001b[23m \"g/m<U+00B3>\", \"g/m<U+00B3>\", \"g/m<U+00B3>\", \"g/m<U+00B3~\n",
      "$ Date          \u001b[3m\u001b[90m<dttm>\u001b[39m\u001b[23m 2012-05-01 08:48:00, 2012-07-20 11:07:00, 2012-10-09 11~\n",
      "$ RawValue      \u001b[3m\u001b[90m<chr>\u001b[39m\u001b[23m \"28\", \"27\", \"27\", \"27\", \"29\", \"27\", \"28\", \"28\", \"28\", \"2~\n",
      "$ CenType       \u001b[3m\u001b[90m<chr>\u001b[39m\u001b[23m \"not\", \"not\", \"not\", \"not\", \"not\", \"not\", \"not\", \"not\", ~\n",
      "$ CensoredValue \u001b[3m\u001b[90m<dbl>\u001b[39m\u001b[23m 28, 27, 27, 27, 29, 27, 28, 28, 28, 28, 28, 27, 29, 28, ~\n"
     ]
    }
   ],
   "source": [
    "# Gives an overview of groundwq such as columns, data types, the possible values, number of rows and columns.\n",
    "groundwq %>% \n",
    "  glimpse()"
   ]
  },
  {
   "cell_type": "code",
   "execution_count": 58,
   "id": "112e65f0",
   "metadata": {},
   "outputs": [],
   "source": [
    "# Takes the groundwq modify the values and rename some columns, select the relevant columns \n",
    "# and rows to create a clean version of groundwq.\n",
    "new_groundwq <- groundwq %>% \n",
    "  mutate(CensoredValue = ifelse(is.na(CensoredValue), NA_integer_, CensoredValue),\n",
    "         Year = year(Date),\n",
    "         Indicator = case_when(Indicator == \"E.coli\" ~ \"E.coli cfu/100ml\", TRUE ~ \"Nitrate nitrogen g/m3\"),\n",
    "         Region = case_when(Region == \"Hawkes Bay\" ~ \"Hawke's Bay\",\n",
    "                            Region == \"Manawatu-Whanganui\" ~ \"Manawat??-Whanganui\", TRUE ~ Region),\n",
    "         WellName = LAWAWellName) %>% \n",
    "  select(Region, WellName, Latitude, Longitude, Indicator, Year, CensoredValue) %>% \n",
    "  filter(Indicator %in% c(\"E.coli cfu/100ml\", \"Nitrate nitrogen g/m3\"), Year >= 2002, Year <= 2019)"
   ]
  },
  {
   "cell_type": "code",
   "execution_count": 63,
   "id": "9e3004e4",
   "metadata": {},
   "outputs": [
    {
     "name": "stderr",
     "output_type": "stream",
     "text": [
      "\u001b[1m\u001b[22m`summarise()` has grouped output by 'Region', 'Year', 'WellName'. You can override using the `.groups` argument.\n"
     ]
    },
    {
     "ename": "ERROR",
     "evalue": "\u001b[1m\u001b[33mError\u001b[39m in \u001b[1m\u001b[1m`filter()`:\u001b[22m\n\u001b[1m\u001b[22m\u001b[33m!\u001b[39m Problem while computing `..1 = contains(Region, \"Whanganui\")`.\n\u001b[36mi\u001b[39m The error occurred in group 1: Region = \"Auckland\", Year = 2004, WellName = \"BP Bombay\".\n\u001b[1mCaused by error:\u001b[22m\n\u001b[33m!\u001b[39m `contains()` must be used within a *selecting* function.\n\u001b[34mi\u001b[39m See <https://tidyselect.r-lib.org/reference/faq-selection-context.html>.\n",
     "output_type": "error",
     "traceback": [
      "\u001b[1m\u001b[33mError\u001b[39m in \u001b[1m\u001b[1m`filter()`:\u001b[22m\n\u001b[1m\u001b[22m\u001b[33m!\u001b[39m Problem while computing `..1 = contains(Region, \"Whanganui\")`.\n\u001b[36mi\u001b[39m The error occurred in group 1: Region = \"Auckland\", Year = 2004, WellName = \"BP Bombay\".\n\u001b[1mCaused by error:\u001b[22m\n\u001b[33m!\u001b[39m `contains()` must be used within a *selecting* function.\n\u001b[34mi\u001b[39m See <https://tidyselect.r-lib.org/reference/faq-selection-context.html>.\nTraceback:\n",
      "1. new_groundwq %>% select(Region, Year, WellName, CensoredValue, \n .     Indicator) %>% group_by(Region, Year, WellName, Indicator) %>% \n .     summarise(MeanVal = mean(CensoredValue)) %>% filter(contains(Region, \n .     \"Whanganui\"))",
      "2. filter(., contains(Region, \"Whanganui\"))",
      "3. filter.data.frame(., contains(Region, \"Whanganui\"))",
      "4. filter_rows(.data, ..., caller_env = caller_env())",
      "5. filter_eval(dots, mask = mask, error_call = error_call)",
      "6. withCallingHandlers({\n .     mask$eval_all_filter(dots, env_filter)\n . }, error = function(e) {\n .     local_error_context(dots = dots, .index = env_filter$current_expression, \n .         mask = mask)\n .     bullets <- c(cnd_bullet_header(\"computing\"), filter_bullets(e))\n .     abort(bullets, call = error_call, parent = skip_internal_condition(e))\n . })",
      "7. mask$eval_all_filter(dots, env_filter)",
      "8. contains(Region, \"Whanganui\")",
      "9. vars %||% peek_vars(fn = \"contains\")",
      "10. peek_vars(fn = \"contains\")",
      "11. abort(msg, call = NULL)",
      "12. signal_abort(cnd, .file)",
      "13. signalCondition(cnd)",
      "14. (function (e) \n  . {\n  .     local_error_context(dots = dots, .index = env_filter$current_expression, \n  .         mask = mask)\n  .     bullets <- c(cnd_bullet_header(\"computing\"), filter_bullets(e))\n  .     abort(bullets, call = error_call, parent = skip_internal_condition(e))\n  . })(structure(list(message = \"`contains()` must be used within a *selecting* function.\\n\\033[34mi\\033[39m See <https://tidyselect.r-lib.org/reference/faq-selection-context.html>.\", \n  .     trace = structure(list(call = list(IRkernel::main(), kernel$run(), \n  .         handle_shell(), executor$execute(msg), tryCatch(evaluate(request$content$code, \n  .             envir = .GlobalEnv, output_handler = oh, stop_on_error = 1L), \n  .             interrupt = function(cond) {\n  .                 log_debug(\"Interrupt during execution\")\n  .                 interrupted <<- TRUE\n  .             }, error = .self$handle_error), tryCatchList(expr, \n  .             classes, parentenv, handlers), tryCatchOne(tryCatchList(expr, \n  .             names[-nh], parentenv, handlers[-nh]), names[nh], \n  .             parentenv, handlers[[nh]]), doTryCatch(return(expr), \n  .             name, parentenv, handler), tryCatchList(expr, names[-nh], \n  .             parentenv, handlers[-nh]), tryCatchOne(expr, names, \n  .             parentenv, handlers[[1L]]), doTryCatch(return(expr), \n  .             name, parentenv, handler), evaluate(request$content$code, \n  .             envir = .GlobalEnv, output_handler = oh, stop_on_error = 1L), \n  .         evaluate_call(expr, parsed$src[[i]], envir = envir, enclos = enclos, \n  .             debug = debug, last = i == length(out), use_try = stop_on_error != \n  .                 2L, keep_warning = keep_warning, keep_message = keep_message, \n  .             output_handler = output_handler, include_timing = include_timing), \n  .         timing_fn(handle(ev <- withCallingHandlers(withVisible(eval_with_user_handlers(expr, \n  .             envir, enclos, user_handlers)), warning = wHandler, \n  .             error = eHandler, message = mHandler))), handle(ev <- withCallingHandlers(withVisible(eval_with_user_handlers(expr, \n  .             envir, enclos, user_handlers)), warning = wHandler, \n  .             error = eHandler, message = mHandler)), try(f, silent = TRUE), \n  .         tryCatch(expr, error = function(e) {\n  .             call <- conditionCall(e)\n  .             if (!is.null(call)) {\n  .                 if (identical(call[[1L]], quote(doTryCatch))) \n  .                   call <- sys.call(-4L)\n  .                 dcall <- deparse(call, nlines = 1L)\n  .                 prefix <- paste(\"Error in\", dcall, \": \")\n  .                 LONG <- 75L\n  .                 sm <- strsplit(conditionMessage(e), \"\\n\")[[1L]]\n  .                 w <- 14L + nchar(dcall, type = \"w\") + nchar(sm[1L], \n  .                   type = \"w\")\n  .                 if (is.na(w)) \n  .                   w <- 14L + nchar(dcall, type = \"b\") + nchar(sm[1L], \n  .                     type = \"b\")\n  .                 if (w > LONG) \n  .                   prefix <- paste0(prefix, \"\\n  \")\n  .             }\n  .             else prefix <- \"Error : \"\n  .             msg <- paste0(prefix, conditionMessage(e), \"\\n\")\n  .             .Internal(seterrmessage(msg[1L]))\n  .             if (!silent && isTRUE(getOption(\"show.error.messages\"))) {\n  .                 cat(msg, file = outFile)\n  .                 .Internal(printDeferredWarnings())\n  .             }\n  .             invisible(structure(msg, class = \"try-error\", condition = e))\n  .         }), tryCatchList(expr, classes, parentenv, handlers), \n  .         tryCatchOne(expr, names, parentenv, handlers[[1L]]), \n  .         doTryCatch(return(expr), name, parentenv, handler), withCallingHandlers(withVisible(eval_with_user_handlers(expr, \n  .             envir, enclos, user_handlers)), warning = wHandler, \n  .             error = eHandler, message = mHandler), withVisible(eval_with_user_handlers(expr, \n  .             envir, enclos, user_handlers)), eval_with_user_handlers(expr, \n  .             envir, enclos, user_handlers), eval(expr, envir, \n  .             enclos), eval(expr, envir, enclos), new_groundwq %>% \n  .             select(Region, Year, WellName, CensoredValue, Indicator) %>% \n  .             group_by(Region, Year, WellName, Indicator) %>% summarise(MeanVal = mean(CensoredValue)) %>% \n  .             filter(contains(Region, \"Whanganui\")), filter(., \n  .             contains(Region, \"Whanganui\")), filter.data.frame(., \n  .             contains(Region, \"Whanganui\")), filter_rows(.data, \n  .             ..., caller_env = caller_env()), filter_eval(dots, \n  .             mask = mask, error_call = error_call), withCallingHandlers({\n  .             mask$eval_all_filter(dots, env_filter)\n  .         }, error = function(e) {\n  .             local_error_context(dots = dots, .index = env_filter$current_expression, \n  .                 mask = mask)\n  .             bullets <- c(cnd_bullet_header(\"computing\"), filter_bullets(e))\n  .             abort(bullets, call = error_call, parent = skip_internal_condition(e))\n  .         }), mask$eval_all_filter(dots, env_filter), contains(Region, \n  .             \"Whanganui\"), vars %||% peek_vars(fn = \"contains\"), \n  .         peek_vars(fn = \"contains\"), abort(msg, call = NULL)), \n  .         parent = c(0L, 1L, 2L, 3L, 4L, 5L, 6L, 7L, 6L, 9L, 10L, \n  .         4L, 12L, 13L, 13L, 15L, 16L, 17L, 18L, 19L, 13L, 13L, \n  .         13L, 23L, 24L, 0L, 0L, 0L, 28L, 29L, 30L, 30L, 0L, 33L, \n  .         33L, 35L), visible = c(TRUE, TRUE, TRUE, TRUE, TRUE, \n  .         TRUE, TRUE, TRUE, TRUE, TRUE, TRUE, TRUE, TRUE, TRUE, \n  .         TRUE, TRUE, TRUE, TRUE, TRUE, TRUE, TRUE, TRUE, TRUE, \n  .         TRUE, TRUE, TRUE, TRUE, TRUE, TRUE, TRUE, TRUE, TRUE, \n  .         TRUE, TRUE, TRUE, FALSE), namespace = c(\"IRkernel\", NA, \n  .         \"IRkernel\", NA, \"base\", \"base\", \"base\", \"base\", \"base\", \n  .         \"base\", \"base\", \"evaluate\", \"evaluate\", \"evaluate\", \"evaluate\", \n  .         \"base\", \"base\", \"base\", \"base\", \"base\", \"base\", \"base\", \n  .         \"evaluate\", \"base\", \"base\", NA, \"dplyr\", \"dplyr\", \"dplyr\", \n  .         \"dplyr\", \"base\", NA, \"tidyselect\", NA, \"tidyselect\", \n  .         \"rlang\"), scope = c(\"::\", NA, \"local\", NA, \"::\", \"local\", \n  .         \"local\", \"local\", \"local\", \"local\", \"local\", \"::\", \":::\", \n  .         \"local\", \"local\", \"::\", \"::\", \"local\", \"local\", \"local\", \n  .         \"::\", \"::\", \":::\", \"::\", \"::\", NA, \"::\", \":::\", \":::\", \n  .         \":::\", \"::\", NA, \"::\", NA, \"::\", \"::\")), row.names = c(NA, \n  .     -36L), version = 2L, class = c(\"rlang_trace\", \"rlib_trace\", \n  .     \"tbl\", \"data.frame\")), parent = NULL, call = NULL), class = c(\"rlang_error\", \n  . \"error\", \"condition\")))",
      "15. abort(bullets, call = error_call, parent = skip_internal_condition(e))",
      "16. signal_abort(cnd, .file)"
     ]
    }
   ],
   "source": [
    "# \n",
    "sites_quality <- new_groundwq %>% \n",
    "  select(Region, Year, WellName, CensoredValue, Indicator) %>% \n",
    "  group_by(Region, Year, WellName, Indicator) %>% \n",
    "  summarise(MeanVal = mean(CensoredValue)) %>% \n",
    "  filter(contains(Region, \"Whanganui\"))\n",
    "sites_quality %>% \n",
    "    head()"
   ]
  },
  {
   "cell_type": "code",
   "execution_count": 50,
   "id": "6375bb1c",
   "metadata": {},
   "outputs": [
    {
     "ename": "ERROR",
     "evalue": "Error in spread(., key = Indicator, value = Total_MedVal): object 'new_groundwq' not found\n",
     "output_type": "error",
     "traceback": [
      "Error in spread(., key = Indicator, value = Total_MedVal): object 'new_groundwq' not found\nTraceback:\n",
      "1. new_groundwq %>% spread(key = Indicator, value = Total_MedVal) %>% \n .     mutate(`E.coli (cfu/100ml)` = E.coli, `Nitrate nitrogen (g/m3)` = `Nitrate nitrogen`) %>% \n .     select(-c(\"E.coli\", \"Nitrate nitrogen\"))",
      "2. select(., -c(\"E.coli\", \"Nitrate nitrogen\"))",
      "3. mutate(., `E.coli (cfu/100ml)` = E.coli, `Nitrate nitrogen (g/m3)` = `Nitrate nitrogen`)",
      "4. spread(., key = Indicator, value = Total_MedVal)"
     ]
    }
   ],
   "source": [
    "sites <- new_groundwq %>% \n",
    "  select(Region, WellName, Latitude, Longitude) %>% \n",
    "  distinct"
   ]
  },
  {
   "cell_type": "markdown",
   "id": "a148f0db",
   "metadata": {},
   "source": [
    "<h2>River Quality (E.coli)</h2>"
   ]
  },
  {
   "cell_type": "code",
   "execution_count": 32,
   "id": "5cd9a40f",
   "metadata": {},
   "outputs": [
    {
     "name": "stderr",
     "output_type": "stream",
     "text": [
      "Warning message:\n",
      "\"One or more parsing issues, see `problems()` for details\"\n",
      "\u001b[1mRows: \u001b[22m\u001b[34m7550\u001b[39m \u001b[1mColumns: \u001b[22m\u001b[34m69\u001b[39m\n",
      "\u001b[36m--\u001b[39m \u001b[1mColumn specification\u001b[22m \u001b[36m--------------------------------------------------------------------------------------------------------\u001b[39m\n",
      "\u001b[1mDelimiter:\u001b[22m \",\"\n",
      "\u001b[31mchr\u001b[39m (40): measure_ab, measure, units, sof, s_id, analysis_note, trend_direct...\n",
      "\u001b[32mdbl\u001b[39m (26): field_1, nzsegment, lat, long, n_obs, s, var_s, d, tau, z, p, c, c...\n",
      "\u001b[33mlgl\u001b[39m  (3): seasonal, boundingbox, historic\n",
      "\n",
      "\u001b[36mi\u001b[39m Use `spec()` to retrieve the full column specification for this data.\n",
      "\u001b[36mi\u001b[39m Specify the column types or set `show_col_types = FALSE` to quiet this message.\n"
     ]
    }
   ],
   "source": [
    "# Load 'new_river_ecoli.csv' data\n",
    "river_ecoli <- \"https://raw.githubusercontent.com/beuri97/data201_gp/waterq/water_quality/data/new_river_ecoli.csv\" %>% \n",
    "  read_csv()"
   ]
  },
  {
   "cell_type": "code",
   "execution_count": 51,
   "id": "dc2ee6c0",
   "metadata": {},
   "outputs": [
    {
     "name": "stdout",
     "output_type": "stream",
     "text": [
      "Rows: 7,550\n",
      "Columns: 69\n",
      "$ field_1               \u001b[3m\u001b[90m<dbl>\u001b[39m\u001b[23m 1, 2, 3, 4, 5, 6, 7, 8, 9, 10, 11, 12, 13, 14, 1~\n",
      "$ measure_ab            \u001b[3m\u001b[90m<chr>\u001b[39m\u001b[23m \"ECOLI\", \"ECOLI\", \"ECOLI\", \"ECOLI\", \"ECOLI\", \"EC~\n",
      "$ measure               \u001b[3m\u001b[90m<chr>\u001b[39m\u001b[23m \"E. coli\", \"E. coli\", \"E. coli\", \"E. coli\", \"E. ~\n",
      "$ units                 \u001b[3m\u001b[90m<chr>\u001b[39m\u001b[23m \"cfu/100ml\", \"cfu/100ml\", \"cfu/100ml\", \"cfu/100m~\n",
      "$ sof                   \u001b[3m\u001b[90m<chr>\u001b[39m\u001b[23m \"WWL\", \"CWH\", \"WWL\", \"CWLk\", \"CWH\", \"WXL\", \"WWL\"~\n",
      "$ nzsegment             \u001b[3m\u001b[90m<dbl>\u001b[39m\u001b[23m 5122005, 4084132, 4085815, 4081484, 4083343, 506~\n",
      "$ lat                   \u001b[3m\u001b[90m<dbl>\u001b[39m\u001b[23m -38.4616, -38.0824, -38.0795, -38.0440, -38.0465~\n",
      "$ long                  \u001b[3m\u001b[90m<dbl>\u001b[39m\u001b[23m 177.8767, 176.2122, 177.1362, 176.3308, 176.9880~\n",
      "$ s_id                  \u001b[3m\u001b[90m<chr>\u001b[39m\u001b[23m \"GDC-00027\", \"EBOP-00010\", \"EBOP-00011\", \"EBOP-0~\n",
      "$ n_obs                 \u001b[3m\u001b[90m<dbl>\u001b[39m\u001b[23m 54, 38, 38, 38, 38, 36, 36, 36, 37, 54, 55, 55, ~\n",
      "$ s                     \u001b[3m\u001b[90m<dbl>\u001b[39m\u001b[23m -177, 172, 16, 45, 46, 0, 7, 7, -20, 369, 16, -1~\n",
      "$ var_s                 \u001b[3m\u001b[90m<dbl>\u001b[39m\u001b[23m 17951.6667, 6324.0000, 434.0000, 420.3333, 432.0~\n",
      "$ d                     \u001b[3m\u001b[90m<dbl>\u001b[39m\u001b[23m 1431, 703, 162, 163, 162, 630, 145, 145, 153, 14~\n",
      "$ tau                   \u001b[3m\u001b[90m<dbl>\u001b[39m\u001b[23m -0.123689727, 0.244665718, 0.098765432, 0.276073~\n",
      "$ z                     \u001b[3m\u001b[90m<dbl>\u001b[39m\u001b[23m -1.31359135, 2.15030557, 0.72002304, 2.14612869,~\n",
      "$ p                     \u001b[3m\u001b[90m<dbl>\u001b[39m\u001b[23m 0.188983761, 0.031531052, 0.471510809, 0.0318627~\n",
      "$ c                     \u001b[3m\u001b[90m<dbl>\u001b[39m\u001b[23m 0.9055081, 0.9842345, 0.7642446, 0.9840686, 0.98~\n",
      "$ cd                    \u001b[3m\u001b[90m<dbl>\u001b[39m\u001b[23m 0.905508119, 0.015765526, 0.235755405, 0.0159313~\n",
      "$ prop_censored         \u001b[3m\u001b[90m<dbl>\u001b[39m\u001b[23m 0, 0, 0, 0, 0, 0, 0, 0, 0, 0, 0, 0, 0, 0, 0, 0, ~\n",
      "$ prop_unique           \u001b[3m\u001b[90m<dbl>\u001b[39m\u001b[23m 0.6262626, 0.7386364, 0.7439024, 0.3461538, 0.74~\n",
      "$ no_censorlevels       \u001b[3m\u001b[90m<dbl>\u001b[39m\u001b[23m 0, 0, 0, 0, 0, 0, 0, 0, 0, 0, 0, 0, 0, 0, 0, 0, ~\n",
      "$ median                \u001b[3m\u001b[90m<dbl>\u001b[39m\u001b[23m 485.0, 230.0, 670.0, 5.0, 65.0, 77.0, 231.0, 297~\n",
      "$ annual_sen_slope      \u001b[3m\u001b[90m<dbl>\u001b[39m\u001b[23m -26.6782868, 22.9611782, 18.4000526, 0.3323476, ~\n",
      "$ sen_lci               \u001b[3m\u001b[90m<dbl>\u001b[39m\u001b[23m -70.6657469, 6.2410407, -23.5631494, 0.0000000, ~\n",
      "$ sen_uci               \u001b[3m\u001b[90m<dbl>\u001b[39m\u001b[23m 4.753993, 38.836104, 90.184574, 0.809966, 10.721~\n",
      "$ analysis_note         \u001b[3m\u001b[90m<chr>\u001b[39m\u001b[23m \"ok\", \"ok\", \"ok\", \"ok\", \"ok\", \"WARNING: Sen slop~\n",
      "$ percent_annual_change \u001b[3m\u001b[90m<dbl>\u001b[39m\u001b[23m -5.5006777, 9.9831209, 2.7462765, 6.6469518, 10.~\n",
      "$ trend_direction       \u001b[3m\u001b[90m<chr>\u001b[39m\u001b[23m \"Improving\", \"Worsening\", \"Worsening\", \"Worsenin~\n",
      "$ seasonal              \u001b[3m\u001b[90m<lgl>\u001b[39m\u001b[23m FALSE, FALSE, TRUE, TRUE, TRUE, FALSE, TRUE, TRU~\n",
      "$ freq                  \u001b[3m\u001b[90m<chr>\u001b[39m\u001b[23m \"BiMonth\", \"Qtr\", \"Qtr\", \"Qtr\", \"Qtr\", \"Qtr\", \"Q~\n",
      "$ period                \u001b[3m\u001b[90m<chr>\u001b[39m\u001b[23m NA, NA, NA, NA, NA, NA, NA, NA, NA, NA, NA, NA, ~\n",
      "$ end_year              \u001b[3m\u001b[90m<dbl>\u001b[39m\u001b[23m 2000, 2000, 2000, 2000, 2000, 2000, 2000, 2000, ~\n",
      "$ trend_confidence      \u001b[3m\u001b[90m<chr>\u001b[39m\u001b[23m \"Very likely improving\", \"Very likely worsening\"~\n",
      "$ address               \u001b[3m\u001b[90m<chr>\u001b[39m\u001b[23m \"Kanakanaia Road, Te Karaka, Gisborne, New Zeala~\n",
      "$ place_id              \u001b[3m\u001b[90m<dbl>\u001b[39m\u001b[23m 264287166, 61693872, 61595231, 274747517, 614218~\n",
      "$ licence               \u001b[3m\u001b[90m<chr>\u001b[39m\u001b[23m \"Data © OpenStreetMap contributors, ODbL 1.0. ht~\n",
      "$ osm_type              \u001b[3m\u001b[90m<chr>\u001b[39m\u001b[23m \"way\", \"node\", \"node\", \"way\", \"node\", \"way\", \"wa~\n",
      "$ osm_id                \u001b[3m\u001b[90m<dbl>\u001b[39m\u001b[23m 818159012, 5618788944, 5655958798, 894453953, 56~\n",
      "$ osm_lat               \u001b[3m\u001b[90m<dbl>\u001b[39m\u001b[23m -38.46149, -38.08231, -38.07915, -38.04419, -38.~\n",
      "$ osm_lon               \u001b[3m\u001b[90m<dbl>\u001b[39m\u001b[23m 177.8767, 176.2126, 177.1358, 176.3314, 176.9878~\n",
      "$ road                  \u001b[3m\u001b[90m<chr>\u001b[39m\u001b[23m \"Kanakanaia Road\", \"Ngongotah<U+0101> Road\", \"State Hig~\n",
      "$ village               \u001b[3m\u001b[90m<chr>\u001b[39m\u001b[23m \"Te Karaka\", NA, NA, \"Mourea\", NA, NA, NA, NA, N~\n",
      "$ state                 \u001b[3m\u001b[90m<chr>\u001b[39m\u001b[23m \"Gisborne\", \"Bay of Plenty\", \"Bay of Plenty\", \"B~\n",
      "$ `ISO3166-2-lvl4`      \u001b[3m\u001b[90m<chr>\u001b[39m\u001b[23m \"NZ-GIS\", \"NZ-BOP\", \"NZ-BOP\", \"NZ-BOP\", \"NZ-BOP\"~\n",
      "$ country               \u001b[3m\u001b[90m<chr>\u001b[39m\u001b[23m \"New Zealand / Aotearoa\", \"New Zealand / Aotearo~\n",
      "$ country_code          \u001b[3m\u001b[90m<chr>\u001b[39m\u001b[23m \"nz\", \"nz\", \"nz\", \"nz\", \"nz\", \"nz\", \"nz\", \"nz\", ~\n",
      "$ boundingbox           \u001b[3m\u001b[90m<lgl>\u001b[39m\u001b[23m NA, NA, NA, NA, NA, NA, NA, NA, NA, NA, NA, NA, ~\n",
      "$ house_number          \u001b[3m\u001b[90m<chr>\u001b[39m\u001b[23m NA, \"266\", \"2234A\", NA, \"1085A\", NA, NA, NA, NA,~\n",
      "$ town                  \u001b[3m\u001b[90m<chr>\u001b[39m\u001b[23m NA, \"Ngongotah<U+0101>\", NA, NA, NA, NA, NA, NA, NA, \"N~\n",
      "$ county                \u001b[3m\u001b[90m<chr>\u001b[39m\u001b[23m NA, \"Rotorua Lakes District\", \"Whakat<U+0101>ne Distric~\n",
      "$ postcode              \u001b[3m\u001b[90m<chr>\u001b[39m\u001b[23m NA, \"3015\", NA, NA, \"3123\", \"4087\", NA, NA, NA, ~\n",
      "$ man_made              \u001b[3m\u001b[90m<chr>\u001b[39m\u001b[23m NA, NA, NA, \"Mourea Bridge\", NA, NA, NA, NA, NA,~\n",
      "$ hamlet                \u001b[3m\u001b[90m<chr>\u001b[39m\u001b[23m NA, NA, NA, NA, NA, \"Awatere\", NA, NA, NA, NA, \"~\n",
      "$ city                  \u001b[3m\u001b[90m<chr>\u001b[39m\u001b[23m NA, NA, NA, NA, NA, NA, NA, NA, NA, NA, NA, NA, ~\n",
      "$ suburb                \u001b[3m\u001b[90m<chr>\u001b[39m\u001b[23m NA, NA, NA, NA, NA, NA, NA, NA, NA, NA, NA, NA, ~\n",
      "$ tourism               \u001b[3m\u001b[90m<chr>\u001b[39m\u001b[23m NA, NA, NA, NA, NA, NA, NA, NA, NA, NA, NA, NA, ~\n",
      "$ highway               \u001b[3m\u001b[90m<chr>\u001b[39m\u001b[23m NA, NA, NA, NA, NA, NA, NA, NA, NA, NA, NA, NA, ~\n",
      "$ locality              \u001b[3m\u001b[90m<chr>\u001b[39m\u001b[23m NA, NA, NA, NA, NA, NA, NA, NA, NA, NA, NA, NA, ~\n",
      "$ building              \u001b[3m\u001b[90m<chr>\u001b[39m\u001b[23m NA, NA, NA, NA, NA, NA, NA, NA, NA, NA, NA, NA, ~\n",
      "$ amenity               \u001b[3m\u001b[90m<chr>\u001b[39m\u001b[23m NA, NA, NA, NA, NA, NA, NA, NA, NA, NA, NA, NA, ~\n",
      "$ railway               \u001b[3m\u001b[90m<chr>\u001b[39m\u001b[23m NA, NA, NA, NA, NA, NA, NA, NA, NA, NA, NA, NA, ~\n",
      "$ neighbourhood         \u001b[3m\u001b[90m<chr>\u001b[39m\u001b[23m NA, NA, NA, NA, NA, NA, NA, NA, NA, NA, NA, NA, ~\n",
      "$ leisure               \u001b[3m\u001b[90m<chr>\u001b[39m\u001b[23m NA, NA, NA, NA, NA, NA, NA, NA, NA, NA, NA, NA, ~\n",
      "$ city_district         \u001b[3m\u001b[90m<chr>\u001b[39m\u001b[23m NA, NA, NA, NA, NA, NA, NA, NA, NA, NA, NA, NA, ~\n",
      "$ craft                 \u001b[3m\u001b[90m<chr>\u001b[39m\u001b[23m NA, NA, NA, NA, NA, NA, NA, NA, NA, NA, NA, NA, ~\n",
      "$ historic              \u001b[3m\u001b[90m<lgl>\u001b[39m\u001b[23m NA, NA, NA, NA, NA, NA, NA, NA, NA, NA, NA, NA, ~\n",
      "$ quarter               \u001b[3m\u001b[90m<chr>\u001b[39m\u001b[23m NA, NA, NA, NA, NA, NA, NA, NA, NA, NA, NA, NA, ~\n",
      "$ farm                  \u001b[3m\u001b[90m<chr>\u001b[39m\u001b[23m NA, NA, NA, NA, NA, NA, NA, NA, NA, NA, NA, NA, ~\n",
      "$ shop                  \u001b[3m\u001b[90m<chr>\u001b[39m\u001b[23m NA, NA, NA, NA, NA, NA, NA, NA, NA, NA, NA, NA, ~\n"
     ]
    }
   ],
   "source": [
    "# Gives an overview of river_ecoli such as columns, data types, the possible values, number of rows and columns.\n",
    "river_ecoli %>% \n",
    "    glimpse()"
   ]
  },
  {
   "cell_type": "code",
   "execution_count": 34,
   "id": "5eaa556f",
   "metadata": {},
   "outputs": [
    {
     "data": {
      "image/png": "[encoded data removed]",
      "text/plain": [
       "plot without title"
      ]
     },
     "metadata": {
      "image/png": {
       "height": 420,
       "width": 420
      }
     },
     "output_type": "display_data"
    }
   ],
   "source": [
    "# Reads the entirety of river_ecoli and creates a plot to check if it contains missing data (NA).\n",
    "river_ecoli %>% \n",
    "  vis_miss()"
   ]
  },
  {
   "cell_type": "code",
   "execution_count": null,
   "id": "a65c129c",
   "metadata": {},
   "outputs": [],
   "source": [
    "# Select and rename the columns we need.\n",
    "river_ecoli <- river_ecoli %>% \n",
    "  rename(Region = state, Year = end_year, Indicator = measure, Median = median, \n",
    "         Units = units) %>% \n",
    "  select(Region, Year, Indicator, Median, Units)"
   ]
  },
  {
   "cell_type": "code",
   "execution_count": null,
   "id": "0faaadc2",
   "metadata": {},
   "outputs": [],
   "source": [
    "# Check for missing data again (NA)\n",
    "river_ecoli %>% \n",
    "  vis_miss()"
   ]
  },
  {
   "cell_type": "code",
   "execution_count": null,
   "id": "c2f5b6e4",
   "metadata": {},
   "outputs": [],
   "source": [
    "# Takes the river_ecoli group the rows by Region, Indicator, and Year then create an new data frame containing the \n",
    "# sum of the Median rounded off to 2.\n",
    "new_riverecoli <- river_ecoli %>%\n",
    "  filter(Year >= 2002, Year <= 2019) %>% \n",
    "  group_by(Region, Year, Indicator) %>% \n",
    "  summarise(Total_MedVal = round(sum(Median), 2)) %>% \n",
    "  unique()\n"
   ]
  },
  {
   "cell_type": "code",
   "execution_count": null,
   "id": "78c02d68",
   "metadata": {},
   "outputs": [],
   "source": [
    "# Wide format data set spread by Indicator\n",
    "riverecoli_wide <- new_riverecoli %>% \n",
    "  spread(key = Indicator,\n",
    "         value = Total_MedVal) %>% \n",
    "  mutate(`E.coli (cfu/100ml)` = `E. coli`) %>% \n",
    "  select(-\"E. coli\")"
   ]
  },
  {
   "cell_type": "markdown",
   "id": "25d8d434",
   "metadata": {},
   "source": [
    "<h2>River Quality (Nitrogen)</h2>"
   ]
  },
  {
   "cell_type": "code",
   "execution_count": null,
   "id": "1c4d7ab7",
   "metadata": {},
   "outputs": [],
   "source": [
    "# Read the new_river_nitrogen.csv and store it as river_nitrogen for analysis.\n",
    "river_nitrogen <- \"new_river_nitrogen.csv\" %>% \n",
    "  read_csv()"
   ]
  },
  {
   "cell_type": "code",
   "execution_count": null,
   "id": "a14aa149",
   "metadata": {},
   "outputs": [],
   "source": [
    "# Gives an overview of river_nitrogen such as columns, data types, the possible values, number of rows and columns.\n",
    "# This allow us to select which relevant columns to select.\n",
    "river_nitrogen %>% \n",
    "  glimpse()"
   ]
  },
  {
   "cell_type": "code",
   "execution_count": null,
   "id": "f01c5b8f",
   "metadata": {},
   "outputs": [],
   "source": [
    "# Select the relevant columns for analysis.\n",
    "river_nitrogen <- river_nitrogen %>% \n",
    "  select(measure, units, median, end_year, state)"
   ]
  },
  {
   "cell_type": "code",
   "execution_count": null,
   "id": "3d879890",
   "metadata": {},
   "outputs": [],
   "source": [
    "# Reads the entirety of river_nitrogen and creates a plot to check if it contains missing data (NA). \n",
    "river_nitrogen %>% \n",
    "  vis_miss()"
   ]
  },
  {
   "cell_type": "code",
   "execution_count": null,
   "id": "3ad5bab0",
   "metadata": {},
   "outputs": [],
   "source": [
    "# Takes the river_nitrogen data frame then rename the columns, select the necessary rows, group them\n",
    "# by Region, Indicator, and Year. Lastly, summarise them by getting the sum of the median values rounded\n",
    "# off by 2 s.f.\n",
    "new_rivernitrogen <- river_nitrogen %>% \n",
    "  rename(Region = state, Indicator = measure, Units = units, Med_Value = median,\n",
    "         Year = end_year) %>% \n",
    "  filter(Indicator %in% c(\"Ammoniacal nitrogen\", \"Nitrate-nitrite nitrogen\"),\n",
    "         Year >= 2002, Year <= 2019) %>% \n",
    "  group_by(Region, Indicator, Year) %>% \n",
    "  summarise(Total_MedVal = round(sum(Med_Value), 2)) %>% \n",
    "  distinct()"
   ]
  },
  {
   "cell_type": "code",
   "execution_count": null,
   "id": "1a2a1933",
   "metadata": {},
   "outputs": [],
   "source": [
    "# Takes the new_rivernitrogen then convert it to wide format.\n",
    "rivernitrogen_wide <- new_rivernitrogen %>% \n",
    "  spread(key = Indicator,\n",
    "         value = Total_MedVal) %>% \n",
    "  mutate(`Ammoniacal nitrogen (g/m3)` = `Ammoniacal nitrogen`,\n",
    "         `Nitrate-nitrite nitrogen (g/m3)` = `Nitrate-nitrite nitrogen`) %>% \n",
    "  select(-c(`Ammoniacal nitrogen`, `Nitrate-nitrite nitrogen`))\n",
    "rivernitrogen_wide"
   ]
  },
  {
   "cell_type": "markdown",
   "id": "9c6c1044",
   "metadata": {},
   "source": [
    "<h2>Adding New Columns and Joining Dataframes</h2>"
   ]
  },
  {
   "cell_type": "code",
   "execution_count": null,
   "id": "39709327",
   "metadata": {},
   "outputs": [],
   "source": [
    "# Join rivernitrogen_wide and riverecoli_wide to create river_quality dataframe.\n",
    "river_quality <- rivernitrogen_wide %>% \n",
    "  full_join(riverecoli_wide)"
   ]
  },
  {
   "cell_type": "code",
   "execution_count": null,
   "id": "5d1bf9fa",
   "metadata": {},
   "outputs": [],
   "source": [
    "# Merge the tibble of categories with the existing groundwq and river_quality dataframes.\n",
    "groundwq_categ <- tibble(Water_Categ = rep(c(\"Groundwater Quality\"), each = nrow(new_groundwq)))\n",
    "river_categ <- tibble(Water_Categ = rep(c(\"River Quality\"), each = nrow(river_quality)))\n",
    "\n",
    "groundwq <- cbind(new_groundwq, groundwq_categ)\n",
    "river_quality <- cbind(river_quality, river_categ)"
   ]
  },
  {
   "cell_type": "code",
   "execution_count": null,
   "id": "fe59934e",
   "metadata": {},
   "outputs": [],
   "source": [
    "# Join the groundwq and river_quality to create water quality dataframe.\n",
    "# Normalise the indicator for all E.coli observation.\n",
    "water_quality <- groundwq %>% \n",
    "  full_join(river_quality) %>% \n",
    "  mutate(Indicator = case_when(Indicator == \"E. coli\" ~ \"E.coli\", TRUE ~ Indicator))"
   ]
  }
 ],
 "metadata": {
  "kernelspec": {
   "display_name": "R",
   "language": "R",
   "name": "ir"
  },
  "language_info": {
   "codemirror_mode": "r",
   "file_extension": ".r",
   "mimetype": "text/x-r-source",
   "name": "R",
   "pygments_lexer": "r",
   "version": "4.2.1"
  }
 },
 "nbformat": 4,
 "nbformat_minor": 5
}
